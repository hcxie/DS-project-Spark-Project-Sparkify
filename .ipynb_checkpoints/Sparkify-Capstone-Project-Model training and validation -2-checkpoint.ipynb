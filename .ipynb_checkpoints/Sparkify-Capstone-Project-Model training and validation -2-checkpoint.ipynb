{
 "cells": [
  {
   "cell_type": "code",
   "execution_count": 1,
   "metadata": {},
   "outputs": [],
   "source": [
    "from pyspark import SparkConf\n",
    "from pyspark.sql import SparkSession\n",
    "from pyspark.sql.functions import avg, col, concat, desc, explode, lit, min, max, split, udf, isnull\n",
    "from pyspark.ml.feature import OneHotEncoderEstimator\n",
    "from pyspark.ml.feature import CountVectorizer, IDF, Normalizer, PCA, RegexTokenizer, StandardScaler, StopWordsRemover, StringIndexer, VectorAssembler\n",
    "import datetime\n",
    "import seaborn as sns\n",
    "import pandas as pd\n",
    "import numpy as np\n",
    "import matplotlib.pyplot as plt\n",
    "from pyspark.ml.classification import LogisticRegression, RandomForestClassifier, GBTClassifier, DecisionTreeClassifier, NaiveBayes\n",
    "from pyspark.ml.evaluation import MulticlassClassificationEvaluator\n",
    "from pyspark.mllib.evaluation import MulticlassMetrics\n",
    "from pyspark.ml.tuning import CrossValidator, ParamGridBuilder"
   ]
  },
  {
   "cell_type": "code",
   "execution_count": 2,
   "metadata": {},
   "outputs": [],
   "source": [
    "spark = SparkSession \\\n",
    "    .builder \\\n",
    "    .appName(\"Sparkify\") \\\n",
    "    .getOrCreate()"
   ]
  },
  {
   "cell_type": "code",
   "execution_count": 3,
   "metadata": {},
   "outputs": [],
   "source": [
    "df= spark.read.csv('feature_df.csv', header=True)"
   ]
  },
  {
   "cell_type": "markdown",
   "metadata": {},
   "source": [
    "# Modeling"
   ]
  },
  {
   "cell_type": "markdown",
   "metadata": {},
   "source": [
    "### Cat featuring encoding"
   ]
  },
  {
   "cell_type": "code",
   "execution_count": 4,
   "metadata": {},
   "outputs": [],
   "source": [
    "# convert gender feature to index\n",
    "stringIndexer1 = StringIndexer(inputCol=\"cat_gender\", outputCol=\"gender_index\")\n",
    "model1 = stringIndexer1.fit(df)\n",
    "df = model1.transform(df)\n",
    "# convert level feature to index\n",
    "stringIndexer2 = StringIndexer(inputCol=\"cat_level\", outputCol=\"level_index\")\n",
    "model2 = stringIndexer2.fit(df)\n",
    "df = model2.transform(df)\n",
    "# convert method feature to index\n",
    "stringIndexer3 = StringIndexer(inputCol=\"cat_method\", outputCol=\"method_index\")\n",
    "model3 = stringIndexer3.fit(df)\n",
    "df = model3.transform(df)\n",
    "\n",
    "\n",
    "# convert location feature to index\n",
    "stringIndexer4 = StringIndexer(inputCol=\"cat_location_state\", outputCol=\"location_state_index\")\n",
    "model4 = stringIndexer4.fit(df)\n",
    "df = model4.transform(df)\n",
    "# convert user agent feature to index\n",
    "stringIndexer5 = StringIndexer(inputCol=\"cat_user_agent\", outputCol=\"user_agent_index\")\n",
    "model5 = stringIndexer5.fit(df)\n",
    "df = model5.transform(df)\n",
    "# convert all cat feature to index\n",
    "encoder = OneHotEncoderEstimator(inputCols=[\"gender_index\",\"level_index\",\"method_index\",\"location_state_index\",\"user_agent_index\"],\n",
    "                                outputCols=[\"gender_var\",\"level_var\",\"method_var\",\"location_state_var\",\"user_agent_var\"])\n",
    "model = encoder.fit(df)\n",
    "df = model.transform(df)\n",
    "df=df.drop(\"cat_gender\",\"cat_level\",\"cat_method\",\"cat_location_state\",\"cat_user_agent\",\"gender_index\",\"level_index\",\"method_index\",\"location_state_index\",\"user_agent_index\")"
   ]
  },
  {
   "cell_type": "markdown",
   "metadata": {},
   "source": [
    "### Numerical features encoding"
   ]
  },
  {
   "cell_type": "code",
   "execution_count": 5,
   "metadata": {},
   "outputs": [],
   "source": [
    "# convert all string type numerical values to float\n",
    "num_features_list = df.columns[1:-5]\n",
    "for f in num_features_list:\n",
    "    f_name = f + \"_Num\"\n",
    "    df = df.withColumn(f_name, df[f].cast(\"float\"))\n",
    "    df = df.drop(f)"
   ]
  },
  {
   "cell_type": "markdown",
   "metadata": {},
   "source": [
    "### Vector Assembler"
   ]
  },
  {
   "cell_type": "code",
   "execution_count": 6,
   "metadata": {},
   "outputs": [],
   "source": [
    "assembler = VectorAssembler(inputCols=df.columns[1:-2], outputCol=\"Features\")\n",
    "data = assembler.transform(df)"
   ]
  },
  {
   "cell_type": "markdown",
   "metadata": {},
   "source": [
    "### Split the data"
   ]
  },
  {
   "cell_type": "code",
   "execution_count": 7,
   "metadata": {},
   "outputs": [],
   "source": [
    "train, validation = data.randomSplit([0.8, 0.2], seed=110)"
   ]
  },
  {
   "cell_type": "markdown",
   "metadata": {},
   "source": [
    "### Standard scaler"
   ]
  },
  {
   "cell_type": "code",
   "execution_count": 8,
   "metadata": {},
   "outputs": [],
   "source": [
    "scaler = StandardScaler(inputCol=\"Features\", outputCol=\"StdFeatures\", withStd=True)\n",
    "scalerModel = scaler.fit(train)\n",
    "train_data = scalerModel.transform(train)\n",
    "validation_data = scalerModel.transform(validation)"
   ]
  },
  {
   "cell_type": "markdown",
   "metadata": {},
   "source": [
    "### PCA"
   ]
  },
  {
   "cell_type": "code",
   "execution_count": 9,
   "metadata": {},
   "outputs": [
    {
     "data": {
      "text/plain": [
       "[<matplotlib.lines.Line2D at 0x29add0e7d30>]"
      ]
     },
     "execution_count": 9,
     "metadata": {},
     "output_type": "execute_result"
    },
    {
     "data": {
      "image/png": "[encoded data removed]",
      "text/plain": [
       "<Figure size 720x432 with 1 Axes>"
      ]
     },
     "metadata": {
      "needs_background": "light"
     },
     "output_type": "display_data"
    }
   ],
   "source": [
    "# apply PCA to data\n",
    "pca = PCA(k=100, inputCol=\"StdFeatures\", outputCol=\"pcaFeatures\")\n",
    "model = pca.fit(train_data)\n",
    "# plot the explained variance of first 100 components\n",
    "ind=np.arange(100)\n",
    "val=np.array(model.explainedVariance)\n",
    "cumvals=np.cumsum(val)\n",
    "plt.figure(figsize=(10, 6))\n",
    "ax = plt.subplot(111)\n",
    "ax.bar(ind, val)\n",
    "ax.plot(ind,cumvals)"
   ]
  },
  {
   "cell_type": "code",
   "execution_count": 10,
   "metadata": {},
   "outputs": [
    {
     "name": "stdout",
     "output_type": "stream",
     "text": [
      "20\n"
     ]
    }
   ],
   "source": [
    "# figure out how many compoents explained at least 1% of variance\n",
    "k=len(val[val>0.01])\n",
    "print(k)"
   ]
  },
  {
   "cell_type": "code",
   "execution_count": 11,
   "metadata": {},
   "outputs": [
    {
     "name": "stdout",
     "output_type": "stream",
     "text": [
      "74\n"
     ]
    }
   ],
   "source": [
    "# figure out how many compoents explained at least 0.5% of variance\n",
    "k=len(val[val>0.005])\n",
    "print(k)"
   ]
  },
  {
   "cell_type": "code",
   "execution_count": 12,
   "metadata": {},
   "outputs": [],
   "source": [
    "# apply pca to data\n",
    "pca17 = PCA(k=20, inputCol=\"StdFeatures\", outputCol=\"pcaFeatures\")\n",
    "model17 = pca17.fit(train_data)\n",
    "train_data17 = model17.transform(train_data)\n",
    "validation_data17 = model17.transform(validation_data)"
   ]
  },
  {
   "cell_type": "code",
   "execution_count": 13,
   "metadata": {},
   "outputs": [],
   "source": [
    "# apply pca to data\n",
    "pca76 = PCA(k=74, inputCol=\"StdFeatures\", outputCol=\"pcaFeatures\")\n",
    "model76 = pca76.fit(train_data)\n",
    "train_data76 = model76.transform(train_data)\n",
    "validation_data76 = model76.transform(validation_data)"
   ]
  },
  {
   "cell_type": "markdown",
   "metadata": {},
   "source": [
    "## PCA 20 components"
   ]
  },
  {
   "cell_type": "code",
   "execution_count": 14,
   "metadata": {},
   "outputs": [],
   "source": [
    "# the data is imbalanced\n",
    "train_data17_churn = train_data17.select(train_data17.Churn_Num.alias(\"label\"), train_data17.pcaFeatures.alias(\"features\"))\n",
    "validation_data17_churn = validation_data17.select(validation_data17.Churn_Num.alias(\"label\"), validation_data17.pcaFeatures.alias(\"features\"))"
   ]
  },
  {
   "cell_type": "markdown",
   "metadata": {},
   "source": [
    "###  handle unbalanced data"
   ]
  },
  {
   "cell_type": "code",
   "execution_count": 15,
   "metadata": {},
   "outputs": [
    {
     "name": "stdout",
     "output_type": "stream",
     "text": [
      "+-----+-----+\n",
      "|label|count|\n",
      "+-----+-----+\n",
      "|  1.0|  194|\n",
      "|  0.0|  522|\n",
      "+-----+-----+\n",
      "\n",
      "+-----+-----+\n",
      "|label|count|\n",
      "+-----+-----+\n",
      "|  1.0|   84|\n",
      "|  0.0|   80|\n",
      "+-----+-----+\n",
      "\n",
      "+-----+-----+\n",
      "|label|count|\n",
      "+-----+-----+\n",
      "|  1.0|  194|\n",
      "|  0.0|  172|\n",
      "+-----+-----+\n",
      "\n"
     ]
    }
   ],
   "source": [
    "# method 1, Augmentation\n",
    "oversampled_train=train_data17_churn.sample(True, 2.0, 110)\n",
    "oversampled_train.select('label').groupby('label').count().show()\n",
    "# method 2, under sample the popular class\n",
    "stratified_train = train_data17_churn.sampleBy('label', fractions={0: 0.3, 1: 1.0}).cache()\n",
    "stratified_train.select('label').groupby('label').count().show()\n",
    "# method 3,Augmentation then under sample the popular class\n",
    "stratified_train2 = oversampled_train.sampleBy('label', fractions={0: 0.3, 1: 1.0}).cache()\n",
    "stratified_train2.select('label').groupby('label').count().show()"
   ]
  },
  {
   "cell_type": "markdown",
   "metadata": {},
   "source": [
    "### Model training and cross validation"
   ]
  },
  {
   "cell_type": "code",
   "execution_count": 16,
   "metadata": {},
   "outputs": [],
   "source": [
    "# define the evaluation metrics\n",
    "def evaluate_result(results,model_name):\n",
    "    \"\"\"\n",
    "    This function print out the f1 score, accuracy, recall and precision from prediction result \n",
    "    input: results - a pyspark data frame containing the predicted result\n",
    "           model_name - a string that contains the model's name\n",
    "    output: None\n",
    "    \"\"\"\n",
    "    print(model_name,\" f1 score: \", MulticlassClassificationEvaluator(metricName=\"f1\").evaluate(results))\n",
    "    print(model_name,\" accuracy: \", MulticlassClassificationEvaluator(metricName=\"accuracy\").evaluate(results))\n",
    "    rdd=results.select('label','prediction').rdd.map(lambda line: (line[1], line[0]))\n",
    "    metrics = MulticlassMetrics(rdd)\n",
    "    print(\"label 1 recall: \", metrics.recall(1),\", precision: \",metrics.precision(1))\n",
    "    print(\"label 0 recall: \", metrics.recall(0),\", precision: \",metrics.precision(0))\n",
    "    pass"
   ]
  },
  {
   "cell_type": "code",
   "execution_count": 17,
   "metadata": {},
   "outputs": [],
   "source": [
    "def three_modelcomparison(train,validation):\n",
    "    \"\"\"\n",
    "    This function will trained a logistic regreession,a  random forest and a gradient boost tree using training data and evaluate model's performance using validation data.\n",
    "    input: train - training data set\n",
    "           validation - validation dataset\n",
    "    output: cvModel_lr - best trained logistic regression model\n",
    "            cvModel_rf - best trained random forest model\n",
    "            cvModel_gbts - best trained gradient boost tree model\n",
    "    \n",
    "    \"\"\"\n",
    "    lr =  LogisticRegression(featuresCol = 'features', labelCol = 'label')\n",
    "    paramGrid = ParamGridBuilder() \\\n",
    "        .addGrid(lr.elasticNetParam,[0.0, 0.1, 0.2]) \\\n",
    "        .addGrid(lr.regParam,[0.0, 0.1, 0.2, 0.3]) \\\n",
    "        .addGrid(lr.maxIter,[5, 10, 15, 20, 25]) \\\n",
    "        .build()\n",
    "\n",
    "    crossval_lr = CrossValidator(estimator=lr,\n",
    "                              estimatorParamMaps=paramGrid,\n",
    "                              evaluator=MulticlassClassificationEvaluator(metricName=\"f1\"),\n",
    "                              numFolds=10)\n",
    "    cvModel_lr = crossval_lr.fit(train)\n",
    "    lr_avgMetrics=cvModel_lr.avgMetrics\n",
    "    results_lr = cvModel_lr.transform(validation)\n",
    "    evaluate_result(results_lr,\"logistic regression\")\n",
    "    #--------------------------------------------------------\n",
    "    rf = RandomForestClassifier(featuresCol = 'features', labelCol = 'label',)\n",
    "    paramGrid = ParamGridBuilder() \\\n",
    "        .addGrid(rf.impurity,['entropy','gini']) \\\n",
    "        .addGrid(rf.maxDepth,[10, 15, 20, 25]) \\\n",
    "        .addGrid(rf.numTrees,[20, 30, 40]) \\\n",
    "        .build()\n",
    "    crossval_rf = CrossValidator(estimator=rf,\n",
    "                              estimatorParamMaps=paramGrid,\n",
    "                              evaluator=MulticlassClassificationEvaluator(metricName=\"f1\"),\n",
    "                              numFolds=10)\n",
    "    cvModel_rf= crossval_rf.fit(train)\n",
    "    rf_avgMetrics = cvModel_rf.avgMetrics\n",
    "    results_rf = cvModel_rf.transform(validation)\n",
    "    evaluate_result(results_rf,\"random forest\")\n",
    "    #-----------------------------------------------------------\n",
    "    gbts = GBTClassifier()\n",
    "    paramGrid = ParamGridBuilder() \\\n",
    "        .addGrid(gbts.maxIter,[20, 30, 40]) \\\n",
    "        .addGrid(gbts.maxDepth,[2, 4, 6, 8]) \\\n",
    "        .build()\n",
    "    crossval_gbts = CrossValidator(estimator=gbts,\n",
    "                              estimatorParamMaps=paramGrid,\n",
    "                              evaluator=MulticlassClassificationEvaluator(metricName=\"f1\"),\n",
    "                              numFolds=10)\n",
    "    cvModel_gbts = crossval_gbts.fit(train)\n",
    "    gbts_avgMetrics = cvModel_gbts.avgMetrics\n",
    "    results_gbts = cvModel_gbts.transform(validation)\n",
    "    evaluate_result(results_gbts,\"GBT\")\n",
    "    return cvModel_lr,cvModel_rf,cvModel_gbts"
   ]
  },
  {
   "cell_type": "code",
   "execution_count": 18,
   "metadata": {},
   "outputs": [
    {
     "name": "stdout",
     "output_type": "stream",
     "text": [
      "logistic regression  f1 score:  0.8519043396633633\n",
      "logistic regression  accuracy:  0.8539325842696629\n",
      "label 1 recall:  0.5333333333333333 , precision:  0.5714285714285714\n",
      "label 0 recall:  0.918918918918919 , precision:  0.9066666666666666\n",
      "random forest  f1 score:  0.7842349937753126\n",
      "random forest  accuracy:  0.8089887640449438\n",
      "label 1 recall:  0.2 , precision:  0.375\n",
      "label 0 recall:  0.9324324324324325 , precision:  0.8518518518518519\n",
      "GBT  f1 score:  0.8114198923498359\n",
      "GBT  accuracy:  0.8089887640449438\n",
      "label 1 recall:  0.4666666666666667 , precision:  0.4375\n",
      "label 0 recall:  0.8783783783783784 , precision:  0.8904109589041096\n"
     ]
    }
   ],
   "source": [
    "lr_model1,rf_model1,gbts_model1=three_modelcomparison(oversampled_train,validation_data17_churn)"
   ]
  },
  {
   "cell_type": "code",
   "execution_count": 19,
   "metadata": {},
   "outputs": [
    {
     "name": "stdout",
     "output_type": "stream",
     "text": [
      "logistic regression  f1 score:  0.7974695496175997\n",
      "logistic regression  accuracy:  0.7752808988764045\n",
      "label 1 recall:  0.7333333333333333 , precision:  0.4074074074074074\n",
      "label 0 recall:  0.7837837837837838 , precision:  0.9354838709677419\n",
      "random forest  f1 score:  0.7516757212490397\n",
      "random forest  accuracy:  0.7191011235955056\n",
      "label 1 recall:  0.7333333333333333 , precision:  0.34375\n",
      "label 0 recall:  0.7162162162162162 , precision:  0.9298245614035088\n",
      "GBT  f1 score:  0.7143028139327925\n",
      "GBT  accuracy:  0.6741573033707865\n",
      "label 1 recall:  0.7333333333333333 , precision:  0.3055555555555556\n",
      "label 0 recall:  0.6621621621621622 , precision:  0.9245283018867925\n"
     ]
    }
   ],
   "source": [
    "lr_model2,rf_model2,gbts_model2=three_modelcomparison(stratified_train,validation_data17_churn)"
   ]
  },
  {
   "cell_type": "code",
   "execution_count": 20,
   "metadata": {},
   "outputs": [
    {
     "name": "stdout",
     "output_type": "stream",
     "text": [
      "logistic regression  f1 score:  0.7237359550561798\n",
      "logistic regression  accuracy:  0.6853932584269663\n",
      "label 1 recall:  0.7333333333333333 , precision:  0.3142857142857143\n",
      "label 0 recall:  0.6756756756756757 , precision:  0.9259259259259259\n",
      "random forest  f1 score:  0.7591511289314408\n",
      "random forest  accuracy:  0.7303370786516854\n",
      "label 1 recall:  0.6666666666666666 , precision:  0.3448275862068966\n",
      "label 0 recall:  0.7432432432432432 , precision:  0.9166666666666666\n",
      "GBT  f1 score:  0.800743142218472\n",
      "GBT  accuracy:  0.7752808988764045\n",
      "label 1 recall:  0.8666666666666667 , precision:  0.41935483870967744\n",
      "label 0 recall:  0.7567567567567568 , precision:  0.9655172413793104\n"
     ]
    }
   ],
   "source": [
    "lr_model3,rf_model3,gbts_model3=three_modelcomparison(stratified_train2,validation_data17_churn)"
   ]
  },
  {
   "cell_type": "markdown",
   "metadata": {},
   "source": [
    "## PCA 76 components"
   ]
  },
  {
   "cell_type": "code",
   "execution_count": 21,
   "metadata": {},
   "outputs": [
    {
     "name": "stdout",
     "output_type": "stream",
     "text": [
      "+-----+-----+\n",
      "|label|count|\n",
      "+-----+-----+\n",
      "|  1.0|  194|\n",
      "|  0.0|  522|\n",
      "+-----+-----+\n",
      "\n",
      "+-----+-----+\n",
      "|label|count|\n",
      "+-----+-----+\n",
      "|  1.0|   84|\n",
      "|  0.0|   78|\n",
      "+-----+-----+\n",
      "\n",
      "+-----+-----+\n",
      "|label|count|\n",
      "+-----+-----+\n",
      "|  1.0|  194|\n",
      "|  0.0|  156|\n",
      "+-----+-----+\n",
      "\n"
     ]
    }
   ],
   "source": [
    "train_data76_churn = train_data76.select(train_data76.Churn_Num.alias(\"label\"), train_data76.pcaFeatures.alias(\"features\"))\n",
    "validation_data76_churn = validation_data76.select(validation_data76.Churn_Num.alias(\"label\"), validation_data76.pcaFeatures.alias(\"features\"))\n",
    "\n",
    "\n",
    "# method 1, Augmentation\n",
    "oversampled_train=train_data76_churn.sample(True, 2.0, 110)\n",
    "oversampled_train.select('label').groupby('label').count().show()\n",
    "# method 2, under sample the popular class\n",
    "stratified_train = train_data76_churn.sampleBy('label', fractions={0: 0.3, 1: 1.0}).cache()\n",
    "stratified_train.select('label').groupby('label').count().show()\n",
    "# method 3,Augmentation then under sample the popular class\n",
    "stratified_train2 = oversampled_train.sampleBy('label', fractions={0: 0.3, 1: 1.0}).cache()\n",
    "stratified_train2.select('label').groupby('label').count().show()"
   ]
  },
  {
   "cell_type": "code",
   "execution_count": 22,
   "metadata": {},
   "outputs": [
    {
     "name": "stdout",
     "output_type": "stream",
     "text": [
      "logistic regression  f1 score:  0.8465349392027091\n",
      "logistic regression  accuracy:  0.8426966292134831\n",
      "label 1 recall:  0.6 , precision:  0.5294117647058824\n",
      "label 0 recall:  0.8918918918918919 , precision:  0.9166666666666666\n",
      "random forest  f1 score:  0.8173606521260188\n",
      "random forest  accuracy:  0.8314606741573034\n",
      "label 1 recall:  0.3333333333333333 , precision:  0.5\n",
      "label 0 recall:  0.9324324324324325 , precision:  0.8734177215189873\n",
      "GBT  f1 score:  0.8156951146490085\n",
      "GBT  accuracy:  0.8089887640449438\n",
      "label 1 recall:  0.5333333333333333 , precision:  0.4444444444444444\n",
      "label 0 recall:  0.8648648648648649 , precision:  0.9014084507042254\n"
     ]
    }
   ],
   "source": [
    "lr76_model1,rf76_model1,gbts76_model1=three_modelcomparison(oversampled_train,validation_data76_churn)"
   ]
  },
  {
   "cell_type": "code",
   "execution_count": 23,
   "metadata": {},
   "outputs": [
    {
     "name": "stdout",
     "output_type": "stream",
     "text": [
      "logistic regression  f1 score:  0.7318097789489627\n",
      "logistic regression  accuracy:  0.6966292134831461\n",
      "label 1 recall:  0.6666666666666666 , precision:  0.3125\n",
      "label 0 recall:  0.7027027027027027 , precision:  0.9122807017543859\n",
      "random forest  f1 score:  0.6659014941001169\n",
      "random forest  accuracy:  0.6179775280898876\n",
      "label 1 recall:  0.6666666666666666 , precision:  0.2564102564102564\n",
      "label 0 recall:  0.6081081081081081 , precision:  0.9\n",
      "GBT  f1 score:  0.6426301005322295\n",
      "GBT  accuracy:  0.5955056179775281\n",
      "label 1 recall:  0.9333333333333333 , precision:  0.2857142857142857\n",
      "label 0 recall:  0.527027027027027 , precision:  0.975\n"
     ]
    }
   ],
   "source": [
    "lr76_model2,rf76_model2,gbts76_model2=three_modelcomparison(stratified_train,validation_data76_churn)"
   ]
  },
  {
   "cell_type": "code",
   "execution_count": 24,
   "metadata": {},
   "outputs": [
    {
     "name": "stdout",
     "output_type": "stream",
     "text": [
      "logistic regression  f1 score:  0.7608917706621663\n",
      "logistic regression  accuracy:  0.7303370786516854\n",
      "label 1 recall:  0.7333333333333333 , precision:  0.3548387096774194\n",
      "label 0 recall:  0.7297297297297297 , precision:  0.9310344827586207\n",
      "random forest  f1 score:  0.8340119962828421\n",
      "random forest  accuracy:  0.8202247191011236\n",
      "label 1 recall:  0.7333333333333333 , precision:  0.4782608695652174\n",
      "label 0 recall:  0.8378378378378378 , precision:  0.9393939393939394\n",
      "GBT  f1 score:  0.6722119520487324\n",
      "GBT  accuracy:  0.6292134831460674\n",
      "label 1 recall:  0.4666666666666667 , precision:  0.21875\n",
      "label 0 recall:  0.6621621621621622 , precision:  0.8596491228070176\n"
     ]
    }
   ],
   "source": [
    "lr76_model3,rf76_model3,gbts76_model3=three_modelcomparison(stratified_train2,validation_data76_churn)"
   ]
  },
  {
   "cell_type": "code",
   "execution_count": null,
   "metadata": {},
   "outputs": [],
   "source": []
  }
 ],
 "metadata": {
  "kernelspec": {
   "display_name": "Python 3",
   "language": "python",
   "name": "python3"
  },
  "language_info": {
   "codemirror_mode": {
    "name": "ipython",
    "version": 3
   },
   "file_extension": ".py",
   "mimetype": "text/x-python",
   "name": "python",
   "nbconvert_exporter": "python",
   "pygments_lexer": "ipython3",
   "version": "3.7.0"
  }
 },
 "nbformat": 4,
 "nbformat_minor": 2
}
