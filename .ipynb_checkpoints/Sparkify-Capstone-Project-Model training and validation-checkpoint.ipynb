{
 "cells": [
  {
   "cell_type": "code",
   "execution_count": 1,
   "metadata": {},
   "outputs": [],
   "source": [
    "from pyspark import SparkConf\n",
    "from pyspark.sql import SparkSession\n",
    "from pyspark.sql.functions import avg, col, concat, desc, explode, lit, min, max, split, udf, isnull\n",
    "from pyspark.ml.feature import OneHotEncoderEstimator\n",
    "from pyspark.ml.feature import CountVectorizer, IDF, Normalizer, PCA, RegexTokenizer, StandardScaler, StopWordsRemover, StringIndexer, VectorAssembler\n",
    "import datetime\n",
    "import seaborn as sns\n",
    "import pandas as pd\n",
    "import numpy as np\n",
    "import matplotlib.pyplot as plt\n",
    "from pyspark.ml.classification import LogisticRegression, RandomForestClassifier, GBTClassifier, DecisionTreeClassifier, NaiveBayes\n",
    "from pyspark.ml.evaluation import MulticlassClassificationEvaluator\n",
    "from pyspark.mllib.evaluation import MulticlassMetrics\n",
    "from pyspark.ml.tuning import CrossValidator, ParamGridBuilder"
   ]
  },
  {
   "cell_type": "code",
   "execution_count": 2,
   "metadata": {},
   "outputs": [],
   "source": [
    "spark = SparkSession \\\n",
    "    .builder \\\n",
    "    .appName(\"Sparkify\") \\\n",
    "    .getOrCreate()"
   ]
  },
  {
   "cell_type": "code",
   "execution_count": 19,
   "metadata": {},
   "outputs": [],
   "source": [
    "df= spark.read.csv('feature_df.csv', header=True)"
   ]
  },
  {
   "cell_type": "markdown",
   "metadata": {},
   "source": [
    "# Modeling"
   ]
  },
  {
   "cell_type": "markdown",
   "metadata": {},
   "source": [
    "### Cat featuring encoding"
   ]
  },
  {
   "cell_type": "code",
   "execution_count": 20,
   "metadata": {},
   "outputs": [],
   "source": [
    "# convert gender feature to index\n",
    "stringIndexer1 = StringIndexer(inputCol=\"cat_gender\", outputCol=\"gender_index\")\n",
    "model1 = stringIndexer1.fit(df)\n",
    "df = model1.transform(df)\n",
    "# convert level feature to index\n",
    "stringIndexer2 = StringIndexer(inputCol=\"cat_level\", outputCol=\"level_index\")\n",
    "model2 = stringIndexer2.fit(df)\n",
    "df = model2.transform(df)\n",
    "# convert method feature to index\n",
    "stringIndexer3 = StringIndexer(inputCol=\"cat_method\", outputCol=\"method_index\")\n",
    "model3 = stringIndexer3.fit(df)\n",
    "df = model3.transform(df)\n",
    "\n",
    "\n",
    "# convert location feature to index\n",
    "stringIndexer4 = StringIndexer(inputCol=\"cat_location_state\", outputCol=\"location_state_index\")\n",
    "model4 = stringIndexer4.fit(df)\n",
    "df = model4.transform(df)\n",
    "# convert user agent feature to index\n",
    "stringIndexer5 = StringIndexer(inputCol=\"cat_user_agent\", outputCol=\"user_agent_index\")\n",
    "model5 = stringIndexer5.fit(df)\n",
    "df = model5.transform(df)\n",
    "# convert all cat feature to index\n",
    "encoder = OneHotEncoderEstimator(inputCols=[\"gender_index\",\"level_index\",\"method_index\",\"location_state_index\",\"user_agent_index\"],\n",
    "                                outputCols=[\"gender_var\",\"level_var\",\"method_var\",\"location_state_var\",\"user_agent_var\"])\n",
    "model = encoder.fit(df)\n",
    "df = model.transform(df)\n",
    "df=df.drop(\"cat_gender\",\"cat_level\",\"cat_method\",\"cat_location_state\",\"cat_user_agent\",\"gender_index\",\"level_index\",\"method_index\",\"location_state_index\",\"user_agent_index\")"
   ]
  },
  {
   "cell_type": "markdown",
   "metadata": {},
   "source": [
    "### Numerical features encoding"
   ]
  },
  {
   "cell_type": "code",
   "execution_count": 22,
   "metadata": {},
   "outputs": [],
   "source": [
    "# convert all string type numerical values to float\n",
    "num_features_list = df.columns[1:-5]\n",
    "for f in num_features_list:\n",
    "    f_name = f + \"_Num\"\n",
    "    df = df.withColumn(f_name, df[f].cast(\"float\"))\n",
    "    df = df.drop(f)"
   ]
  },
  {
   "cell_type": "markdown",
   "metadata": {},
   "source": [
    "### Vector Assembler"
   ]
  },
  {
   "cell_type": "code",
   "execution_count": 24,
   "metadata": {},
   "outputs": [],
   "source": [
    "assembler = VectorAssembler(inputCols=df.columns[1:-2], outputCol=\"Features\")\n",
    "data = assembler.transform(df)"
   ]
  },
  {
   "cell_type": "markdown",
   "metadata": {},
   "source": [
    "### Standard scaler"
   ]
  },
  {
   "cell_type": "code",
   "execution_count": 25,
   "metadata": {},
   "outputs": [],
   "source": [
    "scaler = StandardScaler(inputCol=\"Features\", outputCol=\"StdFeatures\", withStd=True)\n",
    "scalerModel = scaler.fit(data)\n",
    "data = scalerModel.transform(data)"
   ]
  },
  {
   "cell_type": "markdown",
   "metadata": {},
   "source": [
    "### PCA"
   ]
  },
  {
   "cell_type": "code",
   "execution_count": 26,
   "metadata": {},
   "outputs": [
    {
     "data": {
      "text/plain": [
       "[<matplotlib.lines.Line2D at 0x27258505780>]"
      ]
     },
     "execution_count": 26,
     "metadata": {},
     "output_type": "execute_result"
    },
    {
     "data": {
      "image/png": "[encoded data removed]",
      "text/plain": [
       "<Figure size 720x432 with 1 Axes>"
      ]
     },
     "metadata": {
      "needs_background": "light"
     },
     "output_type": "display_data"
    }
   ],
   "source": [
    "pca = PCA(k=100, inputCol=\"StdFeatures\", outputCol=\"pcaFeatures\")\n",
    "model = pca.fit(data)\n",
    "\n",
    "ind=np.arange(100)\n",
    "val=np.array(model.explainedVariance)\n",
    "cumvals=np.cumsum(val)\n",
    "plt.figure(figsize=(10, 6))\n",
    "ax = plt.subplot(111)\n",
    "ax.bar(ind, val)\n",
    "ax.plot(ind,cumvals)"
   ]
  },
  {
   "cell_type": "code",
   "execution_count": 27,
   "metadata": {},
   "outputs": [
    {
     "name": "stdout",
     "output_type": "stream",
     "text": [
      "17\n"
     ]
    }
   ],
   "source": [
    "k=len(val[val>0.01])\n",
    "print(k)"
   ]
  },
  {
   "cell_type": "code",
   "execution_count": 28,
   "metadata": {},
   "outputs": [
    {
     "name": "stdout",
     "output_type": "stream",
     "text": [
      "76\n"
     ]
    }
   ],
   "source": [
    "k=len(val[val>0.005])\n",
    "print(k)"
   ]
  },
  {
   "cell_type": "code",
   "execution_count": 29,
   "metadata": {},
   "outputs": [],
   "source": [
    "pca17 = PCA(k=17, inputCol=\"StdFeatures\", outputCol=\"pcaFeatures\")\n",
    "model17 = pca17.fit(data)\n",
    "data17 = model17.transform(data)"
   ]
  },
  {
   "cell_type": "code",
   "execution_count": 30,
   "metadata": {},
   "outputs": [],
   "source": [
    "pca76 = PCA(k=76, inputCol=\"StdFeatures\", outputCol=\"pcaFeatures\")\n",
    "model76 = pca76.fit(data)\n",
    "data76 = model76.transform(data)"
   ]
  },
  {
   "cell_type": "markdown",
   "metadata": {},
   "source": [
    "## PCA 17 components"
   ]
  },
  {
   "cell_type": "markdown",
   "metadata": {},
   "source": [
    "### split the data"
   ]
  },
  {
   "cell_type": "code",
   "execution_count": 36,
   "metadata": {},
   "outputs": [
    {
     "name": "stdout",
     "output_type": "stream",
     "text": [
      "+-----+-----+\n",
      "|label|count|\n",
      "+-----+-----+\n",
      "|  1.0|   99|\n",
      "|  0.0|  349|\n",
      "+-----+-----+\n",
      "\n"
     ]
    }
   ],
   "source": [
    "data_churn = data17.select(data17.Churn_Num.alias(\"label\"), data17.pcaFeatures.alias(\"features\"))\n",
    "data_churn.select('label').groupby('label').count().show()"
   ]
  },
  {
   "cell_type": "code",
   "execution_count": 37,
   "metadata": {},
   "outputs": [],
   "source": [
    "train, validation = data_churn.randomSplit([0.8, 0.2], seed=110)"
   ]
  },
  {
   "cell_type": "markdown",
   "metadata": {},
   "source": [
    "###  handle unbalanced data"
   ]
  },
  {
   "cell_type": "code",
   "execution_count": 38,
   "metadata": {},
   "outputs": [
    {
     "name": "stdout",
     "output_type": "stream",
     "text": [
      "+-----+-----+\n",
      "|label|count|\n",
      "+-----+-----+\n",
      "|  1.0|  150|\n",
      "|  0.0|  566|\n",
      "+-----+-----+\n",
      "\n",
      "+-----+-----+\n",
      "|label|count|\n",
      "+-----+-----+\n",
      "|  1.0|   80|\n",
      "|  0.0|   88|\n",
      "+-----+-----+\n",
      "\n",
      "+-----+-----+\n",
      "|label|count|\n",
      "+-----+-----+\n",
      "|  1.0|  150|\n",
      "|  0.0|  177|\n",
      "+-----+-----+\n",
      "\n"
     ]
    }
   ],
   "source": [
    "# method 1, Augmentation\n",
    "oversampled_train=train.sample(True, 2.0, 110)\n",
    "oversampled_train.select('label').groupby('label').count().show()\n",
    "# method 2, under sample the popular class\n",
    "stratified_train = train.sampleBy('label', fractions={0: 0.3, 1: 1.0}).cache()\n",
    "stratified_train.select('label').groupby('label').count().show()\n",
    "# method 3,Augmentation then under sample the popular class\n",
    "stratified_train2 = oversampled_train.sampleBy('label', fractions={0: 0.3, 1: 1.0}).cache()\n",
    "stratified_train2.select('label').groupby('label').count().show()"
   ]
  },
  {
   "cell_type": "markdown",
   "metadata": {},
   "source": [
    "### Model training and cross validation"
   ]
  },
  {
   "cell_type": "code",
   "execution_count": 39,
   "metadata": {},
   "outputs": [],
   "source": [
    "# define the evaluation metrics\n",
    "def evaluate_result(results,model_name):\n",
    "    print(model_name,\" f1 score: \", MulticlassClassificationEvaluator(metricName=\"f1\").evaluate(results))\n",
    "    print(model_name,\" accuracy: \", MulticlassClassificationEvaluator(metricName=\"accuracy\").evaluate(results))\n",
    "    rdd=results.select('label','prediction').rdd.map(lambda line: (line[1], line[0]))\n",
    "    metrics = MulticlassMetrics(rdd)\n",
    "    print(\"label 1 recall: \", metrics.recall(1),\", precision: \",metrics.precision(1))\n",
    "    print(\"label 0 recall: \", metrics.recall(0),\", precision: \",metrics.precision(0))\n",
    "    pass"
   ]
  },
  {
   "cell_type": "code",
   "execution_count": 40,
   "metadata": {},
   "outputs": [],
   "source": [
    "def three_modelcomparison(train,validation):\n",
    "    lr =  LogisticRegression(featuresCol = 'features', labelCol = 'label')\n",
    "    paramGrid = ParamGridBuilder() \\\n",
    "        .addGrid(lr.elasticNetParam,[0.0, 0.1, 0.2]) \\\n",
    "        .addGrid(lr.regParam,[0.0, 0.1, 0.2, 0.3]) \\\n",
    "        .addGrid(lr.maxIter,[5, 10, 15, 20, 25]) \\\n",
    "        .build()\n",
    "\n",
    "    crossval_lr = CrossValidator(estimator=lr,\n",
    "                              estimatorParamMaps=paramGrid,\n",
    "                              evaluator=MulticlassClassificationEvaluator(metricName=\"f1\"),\n",
    "                              numFolds=10)\n",
    "    cvModel_lr = crossval_lr.fit(train)\n",
    "    lr_avgMetrics=cvModel_lr.avgMetrics\n",
    "    results_lr = cvModel_lr.transform(validation)\n",
    "    evaluate_result(results_lr,\"logistic regression\")\n",
    "    #--------------------------------------------------------\n",
    "    rf = RandomForestClassifier(featuresCol = 'features', labelCol = 'label',)\n",
    "    paramGrid = ParamGridBuilder() \\\n",
    "        .addGrid(rf.impurity,['entropy','gini']) \\\n",
    "        .addGrid(rf.maxDepth,[10, 15, 20, 25]) \\\n",
    "        .addGrid(rf.numTrees,[20, 30, 40]) \\\n",
    "        .build()\n",
    "    crossval_rf = CrossValidator(estimator=rf,\n",
    "                              estimatorParamMaps=paramGrid,\n",
    "                              evaluator=MulticlassClassificationEvaluator(metricName=\"f1\"),\n",
    "                              numFolds=10)\n",
    "    cvModel_rf= crossval_rf.fit(train)\n",
    "    rf_avgMetrics = cvModel_rf.avgMetrics\n",
    "    results_rf = cvModel_rf.transform(validation)\n",
    "    evaluate_result(results_rf,\"random forest\")\n",
    "    #-----------------------------------------------------------\n",
    "    gbts = GBTClassifier()\n",
    "    paramGrid = ParamGridBuilder() \\\n",
    "        .addGrid(gbts.maxIter,[20, 30, 40]) \\\n",
    "        .addGrid(gbts.maxDepth,[2, 4, 6, 8]) \\\n",
    "        .build()\n",
    "    crossval_gbts = CrossValidator(estimator=gbts,\n",
    "                              estimatorParamMaps=paramGrid,\n",
    "                              evaluator=MulticlassClassificationEvaluator(metricName=\"f1\"),\n",
    "                              numFolds=10)\n",
    "    cvModel_gbts = crossval_gbts.fit(train)\n",
    "    gbts_avgMetrics = cvModel_gbts.avgMetrics\n",
    "    results_gbts = cvModel_gbts.transform(validation)\n",
    "    evaluate_result(results_gbts,\"GBT\")\n",
    "    return cvModel_lr,cvModel_rf,cvModel_gbts"
   ]
  },
  {
   "cell_type": "code",
   "execution_count": 41,
   "metadata": {},
   "outputs": [
    {
     "name": "stdout",
     "output_type": "stream",
     "text": [
      "logistic regression  f1 score:  0.7935591074537112\n",
      "logistic regression  accuracy:  0.797752808988764\n",
      "label 1 recall:  0.47368421052631576 , precision:  0.5294117647058824\n",
      "label 0 recall:  0.8857142857142857 , precision:  0.8611111111111112\n",
      "random forest  f1 score:  0.7762526571515337\n",
      "random forest  accuracy:  0.797752808988764\n",
      "label 1 recall:  0.3157894736842105 , precision:  0.5454545454545454\n",
      "label 0 recall:  0.9285714285714286 , precision:  0.8333333333333334\n",
      "GBT  f1 score:  0.7163012881396817\n",
      "GBT  accuracy:  0.7191011235955056\n",
      "label 1 recall:  0.3157894736842105 , precision:  0.3333333333333333\n",
      "label 0 recall:  0.8285714285714286 , precision:  0.8169014084507042\n"
     ]
    }
   ],
   "source": [
    "lr_model1,rf_model1,gbts_model1=three_modelcomparison(oversampled_train,validation)"
   ]
  },
  {
   "cell_type": "code",
   "execution_count": 42,
   "metadata": {},
   "outputs": [
    {
     "name": "stdout",
     "output_type": "stream",
     "text": [
      "logistic regression  f1 score:  0.7500561797752809\n",
      "logistic regression  accuracy:  0.7303370786516854\n",
      "label 1 recall:  0.6842105263157895 , precision:  0.41935483870967744\n",
      "label 0 recall:  0.7428571428571429 , precision:  0.896551724137931\n",
      "random forest  f1 score:  0.7528895332447344\n",
      "random forest  accuracy:  0.7303370786516854\n",
      "label 1 recall:  0.7894736842105263 , precision:  0.42857142857142855\n",
      "label 0 recall:  0.7142857142857143 , precision:  0.9259259259259259\n",
      "GBT  f1 score:  0.8092108184926945\n",
      "GBT  accuracy:  0.797752808988764\n",
      "label 1 recall:  0.7368421052631579 , precision:  0.5185185185185185\n",
      "label 0 recall:  0.8142857142857143 , precision:  0.9193548387096774\n"
     ]
    }
   ],
   "source": [
    "lr_model2,rf_model2,gbts_model2=three_modelcomparison(stratified_train,validation)"
   ]
  },
  {
   "cell_type": "code",
   "execution_count": 43,
   "metadata": {},
   "outputs": [
    {
     "name": "stdout",
     "output_type": "stream",
     "text": [
      "logistic regression  f1 score:  0.8207156192002161\n",
      "logistic regression  accuracy:  0.8089887640449438\n",
      "label 1 recall:  0.7894736842105263 , precision:  0.5357142857142857\n",
      "label 0 recall:  0.8142857142857143 , precision:  0.9344262295081968\n",
      "random forest  f1 score:  0.8234163816967921\n",
      "random forest  accuracy:  0.8202247191011236\n",
      "label 1 recall:  0.631578947368421 , precision:  0.5714285714285714\n",
      "label 0 recall:  0.8714285714285714 , precision:  0.8970588235294118\n",
      "GBT  f1 score:  0.7761876601616401\n",
      "GBT  accuracy:  0.7640449438202247\n",
      "label 1 recall:  0.631578947368421 , precision:  0.46153846153846156\n",
      "label 0 recall:  0.8 , precision:  0.8888888888888888\n"
     ]
    }
   ],
   "source": [
    "lr_model3,rf_model3,gbts_model3=three_modelcomparison(stratified_train2,validation)"
   ]
  },
  {
   "cell_type": "markdown",
   "metadata": {},
   "source": [
    "## PCA 76 components"
   ]
  },
  {
   "cell_type": "code",
   "execution_count": 44,
   "metadata": {},
   "outputs": [
    {
     "name": "stdout",
     "output_type": "stream",
     "text": [
      "+-----+-----+\n",
      "|label|count|\n",
      "+-----+-----+\n",
      "|  1.0|   99|\n",
      "|  0.0|  349|\n",
      "+-----+-----+\n",
      "\n",
      "+-----+-----+\n",
      "|label|count|\n",
      "+-----+-----+\n",
      "|  1.0|  150|\n",
      "|  0.0|  566|\n",
      "+-----+-----+\n",
      "\n",
      "+-----+-----+\n",
      "|label|count|\n",
      "+-----+-----+\n",
      "|  1.0|   80|\n",
      "|  0.0|   77|\n",
      "+-----+-----+\n",
      "\n",
      "+-----+-----+\n",
      "|label|count|\n",
      "+-----+-----+\n",
      "|  1.0|  150|\n",
      "|  0.0|  160|\n",
      "+-----+-----+\n",
      "\n"
     ]
    }
   ],
   "source": [
    "data_churn = data76.select(data76.Churn_Num.alias(\"label\"), data76.pcaFeatures.alias(\"features\"))\n",
    "data_churn.select('label').groupby('label').count().show()\n",
    "\n",
    "train, validation = data_churn.randomSplit([0.8, 0.2], seed=110)\n",
    "\n",
    "# method 1, Augmentation\n",
    "oversampled_train=train.sample(True, 2.0, 110)\n",
    "oversampled_train.select('label').groupby('label').count().show()\n",
    "# method 2, under sample the popular class\n",
    "stratified_train = train.sampleBy('label', fractions={0: 0.3, 1: 1.0}).cache()\n",
    "stratified_train.select('label').groupby('label').count().show()\n",
    "# method 3,Augmentation then under sample the popular class\n",
    "stratified_train2 = oversampled_train.sampleBy('label', fractions={0: 0.3, 1: 1.0}).cache()\n",
    "stratified_train2.select('label').groupby('label').count().show()"
   ]
  },
  {
   "cell_type": "code",
   "execution_count": 45,
   "metadata": {},
   "outputs": [
    {
     "name": "stdout",
     "output_type": "stream",
     "text": [
      "logistic regression  f1 score:  0.7662212494481511\n",
      "logistic regression  accuracy:  0.7640449438202247\n",
      "label 1 recall:  0.47368421052631576 , precision:  0.45\n",
      "label 0 recall:  0.8428571428571429 , precision:  0.855072463768116\n",
      "random forest  f1 score:  0.7272326142111981\n",
      "random forest  accuracy:  0.7865168539325843\n",
      "label 1 recall:  0.10526315789473684 , precision:  0.5\n",
      "label 0 recall:  0.9714285714285714 , precision:  0.8\n",
      "GBT  f1 score:  0.8028061825814634\n",
      "GBT  accuracy:  0.8089887640449438\n",
      "label 1 recall:  0.47368421052631576 , precision:  0.5625\n",
      "label 0 recall:  0.9 , precision:  0.863013698630137\n"
     ]
    }
   ],
   "source": [
    "lr76_model1,rf76_model1,gbts76_model1=three_modelcomparison(oversampled_train,validation)"
   ]
  },
  {
   "cell_type": "code",
   "execution_count": 46,
   "metadata": {},
   "outputs": [
    {
     "name": "stdout",
     "output_type": "stream",
     "text": [
      "logistic regression  f1 score:  0.7338886736407078\n",
      "logistic regression  accuracy:  0.7078651685393258\n",
      "label 1 recall:  0.8421052631578947 , precision:  0.41025641025641024\n",
      "label 0 recall:  0.6714285714285714 , precision:  0.94\n",
      "random forest  f1 score:  0.7035593906104128\n",
      "random forest  accuracy:  0.6741573033707865\n",
      "label 1 recall:  0.8421052631578947 , precision:  0.38095238095238093\n",
      "label 0 recall:  0.6285714285714286 , precision:  0.9361702127659575\n",
      "GBT  f1 score:  0.7917134831460675\n",
      "GBT  accuracy:  0.7752808988764045\n",
      "label 1 recall:  0.7894736842105263 , precision:  0.4838709677419355\n",
      "label 0 recall:  0.7714285714285715 , precision:  0.9310344827586207\n"
     ]
    }
   ],
   "source": [
    "lr76_model2,rf76_model2,gbts76_model2=three_modelcomparison(stratified_train,validation)"
   ]
  },
  {
   "cell_type": "code",
   "execution_count": 47,
   "metadata": {},
   "outputs": [
    {
     "name": "stdout",
     "output_type": "stream",
     "text": [
      "logistic regression  f1 score:  0.715254218729755\n",
      "logistic regression  accuracy:  0.6966292134831461\n",
      "label 1 recall:  0.5263157894736842 , precision:  0.35714285714285715\n",
      "label 0 recall:  0.7428571428571429 , precision:  0.8524590163934426\n",
      "random forest  f1 score:  0.7335567382876668\n",
      "random forest  accuracy:  0.7191011235955056\n",
      "label 1 recall:  0.5263157894736842 , precision:  0.38461538461538464\n",
      "label 0 recall:  0.7714285714285715 , precision:  0.8571428571428571\n",
      "GBT  f1 score:  0.7855716311191742\n",
      "GBT  accuracy:  0.7752808988764045\n",
      "label 1 recall:  0.631578947368421 , precision:  0.48\n",
      "label 0 recall:  0.8142857142857143 , precision:  0.890625\n"
     ]
    }
   ],
   "source": [
    "lr76_model3,rf76_model3,gbts76_model3=three_modelcomparison(stratified_train2,validation)"
   ]
  },
  {
   "cell_type": "code",
   "execution_count": null,
   "metadata": {},
   "outputs": [],
   "source": []
  }
 ],
 "metadata": {
  "kernelspec": {
   "display_name": "Python 3",
   "language": "python",
   "name": "python3"
  },
  "language_info": {
   "codemirror_mode": {
    "name": "ipython",
    "version": 3
   },
   "file_extension": ".py",
   "mimetype": "text/x-python",
   "name": "python",
   "nbconvert_exporter": "python",
   "pygments_lexer": "ipython3",
   "version": "3.7.0"
  }
 },
 "nbformat": 4,
 "nbformat_minor": 2
}
