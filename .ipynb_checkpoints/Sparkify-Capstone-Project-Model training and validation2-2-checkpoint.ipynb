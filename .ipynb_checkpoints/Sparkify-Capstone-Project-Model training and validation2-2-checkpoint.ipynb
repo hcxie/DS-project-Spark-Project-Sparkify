{
 "cells": [
  {
   "cell_type": "code",
   "execution_count": 1,
   "metadata": {},
   "outputs": [],
   "source": [
    "from pyspark import SparkConf\n",
    "from pyspark.sql import SparkSession\n",
    "from pyspark.sql.functions import avg, col, concat, desc, explode, lit, min, max, split, udf, isnull\n",
    "from pyspark.ml.feature import OneHotEncoderEstimator\n",
    "from pyspark.ml.feature import CountVectorizer, IDF, Normalizer, PCA, RegexTokenizer, StandardScaler, StopWordsRemover, StringIndexer, VectorAssembler\n",
    "import datetime\n",
    "import seaborn as sns\n",
    "import pandas as pd\n",
    "import numpy as np\n",
    "import matplotlib.pyplot as plt\n",
    "from pyspark.ml.classification import LogisticRegression, RandomForestClassifier, GBTClassifier, DecisionTreeClassifier, NaiveBayes\n",
    "from pyspark.ml.evaluation import MulticlassClassificationEvaluator\n",
    "from pyspark.mllib.evaluation import MulticlassMetrics\n",
    "from pyspark.ml.tuning import CrossValidator, ParamGridBuilder"
   ]
  },
  {
   "cell_type": "code",
   "execution_count": 2,
   "metadata": {},
   "outputs": [],
   "source": [
    "spark = SparkSession \\\n",
    "    .builder \\\n",
    "    .appName(\"Sparkify\") \\\n",
    "    .getOrCreate()"
   ]
  },
  {
   "cell_type": "code",
   "execution_count": 3,
   "metadata": {},
   "outputs": [],
   "source": [
    "df= spark.read.csv('feature_df.csv', header=True)"
   ]
  },
  {
   "cell_type": "code",
   "execution_count": 4,
   "metadata": {},
   "outputs": [],
   "source": [
    "df=df.drop('cat_gender','cat_level','cat_method','cat_location_state','cat_user_agent')"
   ]
  },
  {
   "cell_type": "markdown",
   "metadata": {},
   "source": [
    "# Modeling"
   ]
  },
  {
   "cell_type": "markdown",
   "metadata": {},
   "source": [
    "### Numerical features encoding"
   ]
  },
  {
   "cell_type": "code",
   "execution_count": 5,
   "metadata": {},
   "outputs": [],
   "source": [
    "# convert all string type numerical values to float\n",
    "num_features_list = df.columns[1:]\n",
    "for f in num_features_list:\n",
    "    f_name = f + \"_Num\"\n",
    "    df = df.withColumn(f_name, df[f].cast(\"float\"))\n",
    "    df = df.drop(f)"
   ]
  },
  {
   "cell_type": "markdown",
   "metadata": {},
   "source": [
    "### Vector Assembler"
   ]
  },
  {
   "cell_type": "code",
   "execution_count": 6,
   "metadata": {},
   "outputs": [],
   "source": [
    "assembler = VectorAssembler(inputCols=df.columns[1:-2], outputCol=\"Features\")\n",
    "data = assembler.transform(df)"
   ]
  },
  {
   "cell_type": "markdown",
   "metadata": {},
   "source": [
    "### Split the data"
   ]
  },
  {
   "cell_type": "code",
   "execution_count": 7,
   "metadata": {},
   "outputs": [],
   "source": [
    "train, validation = data.randomSplit([0.8, 0.2], seed=110)"
   ]
  },
  {
   "cell_type": "markdown",
   "metadata": {},
   "source": [
    "### Standard scaler"
   ]
  },
  {
   "cell_type": "code",
   "execution_count": 8,
   "metadata": {},
   "outputs": [],
   "source": [
    "scaler = StandardScaler(inputCol=\"Features\", outputCol=\"StdFeatures\", withStd=True)\n",
    "scalerModel = scaler.fit(train)\n",
    "train_data = scalerModel.transform(train)\n",
    "validation_data = scalerModel.transform(validation)"
   ]
  },
  {
   "cell_type": "markdown",
   "metadata": {},
   "source": [
    "### PCA"
   ]
  },
  {
   "cell_type": "code",
   "execution_count": 9,
   "metadata": {},
   "outputs": [
    {
     "data": {
      "text/plain": [
       "[<matplotlib.lines.Line2D at 0x2149044b588>]"
      ]
     },
     "execution_count": 9,
     "metadata": {},
     "output_type": "execute_result"
    },
    {
     "data": {
      "image/png": "[encoded data removed]",
      "text/plain": [
       "<Figure size 720x432 with 1 Axes>"
      ]
     },
     "metadata": {
      "needs_background": "light"
     },
     "output_type": "display_data"
    }
   ],
   "source": [
    "pca = PCA(k=70, inputCol=\"StdFeatures\", outputCol=\"pcaFeatures\")\n",
    "model = pca.fit(train_data)\n",
    "\n",
    "ind=np.arange(70)\n",
    "val=np.array(model.explainedVariance)\n",
    "cumvals=np.cumsum(val)\n",
    "plt.figure(figsize=(10, 6))\n",
    "ax = plt.subplot(111)\n",
    "ax.bar(ind, val)\n",
    "ax.plot(ind,cumvals)"
   ]
  },
  {
   "cell_type": "code",
   "execution_count": 10,
   "metadata": {},
   "outputs": [
    {
     "name": "stdout",
     "output_type": "stream",
     "text": [
      "20\n"
     ]
    }
   ],
   "source": [
    "k=len(val[val>0.01])\n",
    "print(k)"
   ]
  },
  {
   "cell_type": "code",
   "execution_count": 11,
   "metadata": {},
   "outputs": [
    {
     "name": "stdout",
     "output_type": "stream",
     "text": [
      "29\n"
     ]
    }
   ],
   "source": [
    "k=len(val[val>0.005])\n",
    "print(k)"
   ]
  },
  {
   "cell_type": "code",
   "execution_count": 17,
   "metadata": {},
   "outputs": [],
   "source": [
    "pca17 = PCA(k=20, inputCol=\"StdFeatures\", outputCol=\"pcaFeatures\")\n",
    "model17 = pca17.fit(train_data)\n",
    "train_data17 = model17.transform(train_data)\n",
    "validation_data17 = model17.transform(validation_data)"
   ]
  },
  {
   "cell_type": "code",
   "execution_count": 18,
   "metadata": {},
   "outputs": [],
   "source": [
    "pca76 = PCA(k=30, inputCol=\"StdFeatures\", outputCol=\"pcaFeatures\")\n",
    "model76 = pca76.fit(train_data)\n",
    "train_data76 = model76.transform(train_data)\n",
    "validation_data76 = model76.transform(validation_data)"
   ]
  },
  {
   "cell_type": "markdown",
   "metadata": {},
   "source": [
    "### 20 components"
   ]
  },
  {
   "cell_type": "code",
   "execution_count": 19,
   "metadata": {},
   "outputs": [],
   "source": [
    "train_data17_churn = train_data17.select(train_data17.Churn_Num.alias(\"label\"), train_data17.pcaFeatures.alias(\"features\"))\n",
    "validation_data17_churn = validation_data17.select(validation_data17.Churn_Num.alias(\"label\"), validation_data17.pcaFeatures.alias(\"features\"))"
   ]
  },
  {
   "cell_type": "markdown",
   "metadata": {},
   "source": [
    "###  handle unbalanced data"
   ]
  },
  {
   "cell_type": "code",
   "execution_count": 20,
   "metadata": {},
   "outputs": [
    {
     "name": "stdout",
     "output_type": "stream",
     "text": [
      "+-----+-----+\n",
      "|label|count|\n",
      "+-----+-----+\n",
      "|  1.0|  194|\n",
      "|  0.0|  522|\n",
      "+-----+-----+\n",
      "\n",
      "+-----+-----+\n",
      "|label|count|\n",
      "+-----+-----+\n",
      "|  1.0|   84|\n",
      "|  0.0|   73|\n",
      "+-----+-----+\n",
      "\n",
      "+-----+-----+\n",
      "|label|count|\n",
      "+-----+-----+\n",
      "|  1.0|  194|\n",
      "|  0.0|  158|\n",
      "+-----+-----+\n",
      "\n"
     ]
    }
   ],
   "source": [
    "# method 1, Augmentation\n",
    "oversampled_train=train_data17_churn.sample(True, 2.0, 110)\n",
    "oversampled_train.select('label').groupby('label').count().show()\n",
    "# method 2, under sample the popular class\n",
    "stratified_train = train_data17_churn.sampleBy('label', fractions={0: 0.3, 1: 1.0}).cache()\n",
    "stratified_train.select('label').groupby('label').count().show()\n",
    "# method 3,Augmentation then under sample the popular class\n",
    "stratified_train2 = oversampled_train.sampleBy('label', fractions={0: 0.3, 1: 1.0}).cache()\n",
    "stratified_train2.select('label').groupby('label').count().show()"
   ]
  },
  {
   "cell_type": "markdown",
   "metadata": {},
   "source": [
    "### Model training and cross validation"
   ]
  },
  {
   "cell_type": "code",
   "execution_count": 21,
   "metadata": {},
   "outputs": [],
   "source": [
    "# define the evaluation metrics\n",
    "def evaluate_result(results,model_name):\n",
    "    \"\"\"\n",
    "    This function print out the f1 score, accuracy, recall and precision from prediction result \n",
    "    input: results - a pyspark data frame containing the predicted result\n",
    "           model_name - a string that contains the model's name\n",
    "    output: None\n",
    "    \"\"\"\n",
    "    print(model_name,\" f1 score: \", MulticlassClassificationEvaluator(metricName=\"f1\").evaluate(results))\n",
    "    print(model_name,\" accuracy: \", MulticlassClassificationEvaluator(metricName=\"accuracy\").evaluate(results))\n",
    "    rdd=results.select('label','prediction').rdd.map(lambda line: (line[1], line[0]))\n",
    "    metrics = MulticlassMetrics(rdd)\n",
    "    print(\"label 1 recall: \", metrics.recall(1),\", precision: \",metrics.precision(1))\n",
    "    print(\"label 0 recall: \", metrics.recall(0),\", precision: \",metrics.precision(0))\n",
    "    pass"
   ]
  },
  {
   "cell_type": "code",
   "execution_count": 22,
   "metadata": {},
   "outputs": [],
   "source": [
    "def three_modelcomparison(train,validation):\n",
    "    \"\"\"\n",
    "    This function will trained a logistic regreession,a  random forest and a gradient boost tree using training data and evaluate model's performance using validation data.\n",
    "    input: train - training data set\n",
    "           validation - validation dataset\n",
    "    output: cvModel_lr - best trained logistic regression model\n",
    "            cvModel_rf - best trained random forest model\n",
    "            cvModel_gbts - best trained gradient boost tree model\n",
    "    \n",
    "    \"\"\"\n",
    "    lr =  LogisticRegression(featuresCol = 'features', labelCol = 'label')\n",
    "    paramGrid = ParamGridBuilder() \\\n",
    "        .addGrid(lr.elasticNetParam,[0.0, 0.1, 0.2]) \\\n",
    "        .addGrid(lr.regParam,[0.0, 0.1, 0.2, 0.3]) \\\n",
    "        .addGrid(lr.maxIter,[5, 10, 15, 20, 25]) \\\n",
    "        .build()\n",
    "\n",
    "    crossval_lr = CrossValidator(estimator=lr,\n",
    "                              estimatorParamMaps=paramGrid,\n",
    "                              evaluator=MulticlassClassificationEvaluator(metricName=\"f1\"),\n",
    "                              numFolds=10)\n",
    "    cvModel_lr = crossval_lr.fit(train)\n",
    "    lr_avgMetrics=cvModel_lr.avgMetrics\n",
    "    results_lr = cvModel_lr.transform(validation)\n",
    "    evaluate_result(results_lr,\"logistic regression\")\n",
    "    #--------------------------------------------------------\n",
    "    rf = RandomForestClassifier(featuresCol = 'features', labelCol = 'label',)\n",
    "    paramGrid = ParamGridBuilder() \\\n",
    "        .addGrid(rf.impurity,['entropy','gini']) \\\n",
    "        .addGrid(rf.maxDepth,[10, 15, 20, 25]) \\\n",
    "        .addGrid(rf.numTrees,[20, 30, 40]) \\\n",
    "        .build()\n",
    "    crossval_rf = CrossValidator(estimator=rf,\n",
    "                              estimatorParamMaps=paramGrid,\n",
    "                              evaluator=MulticlassClassificationEvaluator(metricName=\"f1\"),\n",
    "                              numFolds=10)\n",
    "    cvModel_rf= crossval_rf.fit(train)\n",
    "    rf_avgMetrics = cvModel_rf.avgMetrics\n",
    "    results_rf = cvModel_rf.transform(validation)\n",
    "    evaluate_result(results_rf,\"random forest\")\n",
    "    #-----------------------------------------------------------\n",
    "    gbts = GBTClassifier()\n",
    "    paramGrid = ParamGridBuilder() \\\n",
    "        .addGrid(gbts.maxIter,[20, 30, 40]) \\\n",
    "        .addGrid(gbts.maxDepth,[2, 4, 6, 8]) \\\n",
    "        .build()\n",
    "    crossval_gbts = CrossValidator(estimator=gbts,\n",
    "                              estimatorParamMaps=paramGrid,\n",
    "                              evaluator=MulticlassClassificationEvaluator(metricName=\"f1\"),\n",
    "                              numFolds=10)\n",
    "    cvModel_gbts = crossval_gbts.fit(train)\n",
    "    gbts_avgMetrics = cvModel_gbts.avgMetrics\n",
    "    results_gbts = cvModel_gbts.transform(validation)\n",
    "    evaluate_result(results_gbts,\"GBT\")\n",
    "    return cvModel_lr,cvModel_rf,cvModel_gbts"
   ]
  },
  {
   "cell_type": "code",
   "execution_count": 23,
   "metadata": {},
   "outputs": [
    {
     "name": "stdout",
     "output_type": "stream",
     "text": [
      "logistic regression  f1 score:  0.8712271425424103\n",
      "logistic regression  accuracy:  0.8651685393258427\n",
      "label 1 recall:  0.7333333333333333 , precision:  0.5789473684210527\n",
      "label 0 recall:  0.8918918918918919 , precision:  0.9428571428571428\n",
      "random forest  f1 score:  0.83812734082397\n",
      "random forest  accuracy:  0.8426966292134831\n",
      "label 1 recall:  0.4666666666666667 , precision:  0.5384615384615384\n",
      "label 0 recall:  0.918918918918919 , precision:  0.8947368421052632\n",
      "GBT  f1 score:  0.7681858943925726\n",
      "GBT  accuracy:  0.7528089887640449\n",
      "label 1 recall:  0.4666666666666667 , precision:  0.3333333333333333\n",
      "label 0 recall:  0.8108108108108109 , precision:  0.8823529411764706\n"
     ]
    }
   ],
   "source": [
    "lr_model1,rf_model1,gbts_model1=three_modelcomparison(oversampled_train,validation_data17_churn)"
   ]
  },
  {
   "cell_type": "code",
   "execution_count": 24,
   "metadata": {},
   "outputs": [
    {
     "name": "stdout",
     "output_type": "stream",
     "text": [
      "logistic regression  f1 score:  0.7808174564403192\n",
      "logistic regression  accuracy:  0.7528089887640449\n",
      "label 1 recall:  0.8 , precision:  0.3870967741935484\n",
      "label 0 recall:  0.7432432432432432 , precision:  0.9482758620689655\n",
      "random forest  f1 score:  0.7808174564403192\n",
      "random forest  accuracy:  0.7528089887640449\n",
      "label 1 recall:  0.8 , precision:  0.3870967741935484\n",
      "label 0 recall:  0.7432432432432432 , precision:  0.9482758620689655\n",
      "GBT  f1 score:  0.7715416635491166\n",
      "GBT  accuracy:  0.7415730337078652\n",
      "label 1 recall:  0.8 , precision:  0.375\n",
      "label 0 recall:  0.7297297297297297 , precision:  0.9473684210526315\n"
     ]
    }
   ],
   "source": [
    "lr_model2,rf_model2,gbts_model2=three_modelcomparison(stratified_train,validation_data17_churn)"
   ]
  },
  {
   "cell_type": "code",
   "execution_count": 25,
   "metadata": {},
   "outputs": [
    {
     "name": "stdout",
     "output_type": "stream",
     "text": [
      "logistic regression  f1 score:  0.773412576567387\n",
      "logistic regression  accuracy:  0.7415730337078652\n",
      "label 1 recall:  0.9333333333333333 , precision:  0.3888888888888889\n",
      "label 0 recall:  0.7027027027027027 , precision:  0.9811320754716981\n",
      "random forest  f1 score:  0.8269438882365532\n",
      "random forest  accuracy:  0.8089887640449438\n",
      "label 1 recall:  0.8 , precision:  0.46153846153846156\n",
      "label 0 recall:  0.8108108108108109 , precision:  0.9523809523809523\n",
      "GBT  f1 score:  0.7331047391519974\n",
      "GBT  accuracy:  0.6966292134831461\n",
      "label 1 recall:  0.7333333333333333 , precision:  0.3235294117647059\n",
      "label 0 recall:  0.6891891891891891 , precision:  0.9272727272727272\n"
     ]
    }
   ],
   "source": [
    "lr_model3,rf_model3,gbts_model3=three_modelcomparison(stratified_train2,validation_data17_churn)"
   ]
  },
  {
   "cell_type": "markdown",
   "metadata": {},
   "source": [
    "## PCA 29 components"
   ]
  },
  {
   "cell_type": "code",
   "execution_count": 26,
   "metadata": {},
   "outputs": [
    {
     "name": "stdout",
     "output_type": "stream",
     "text": [
      "+-----+-----+\n",
      "|label|count|\n",
      "+-----+-----+\n",
      "|  1.0|  194|\n",
      "|  0.0|  522|\n",
      "+-----+-----+\n",
      "\n",
      "+-----+-----+\n",
      "|label|count|\n",
      "+-----+-----+\n",
      "|  1.0|   84|\n",
      "|  0.0|   90|\n",
      "+-----+-----+\n",
      "\n",
      "+-----+-----+\n",
      "|label|count|\n",
      "+-----+-----+\n",
      "|  1.0|  194|\n",
      "|  0.0|  147|\n",
      "+-----+-----+\n",
      "\n"
     ]
    }
   ],
   "source": [
    "train_data76_churn = train_data76.select(train_data76.Churn_Num.alias(\"label\"), train_data76.pcaFeatures.alias(\"features\"))\n",
    "validation_data76_churn = validation_data76.select(validation_data76.Churn_Num.alias(\"label\"), validation_data76.pcaFeatures.alias(\"features\"))\n",
    "\n",
    "\n",
    "\n",
    "# method 1, Augmentation\n",
    "oversampled_train=train_data76_churn.sample(True, 2.0, 110)\n",
    "oversampled_train.select('label').groupby('label').count().show()\n",
    "# method 2, under sample the popular class\n",
    "stratified_train = train_data76_churn.sampleBy('label', fractions={0: 0.3, 1: 1.0}).cache()\n",
    "stratified_train.select('label').groupby('label').count().show()\n",
    "# method 3,Augmentation then under sample the popular class\n",
    "stratified_train2 = oversampled_train.sampleBy('label', fractions={0: 0.3, 1: 1.0}).cache()\n",
    "stratified_train2.select('label').groupby('label').count().show()"
   ]
  },
  {
   "cell_type": "code",
   "execution_count": 27,
   "metadata": {},
   "outputs": [
    {
     "name": "stdout",
     "output_type": "stream",
     "text": [
      "logistic regression  f1 score:  0.8746882874074612\n",
      "logistic regression  accuracy:  0.8764044943820225\n",
      "label 1 recall:  0.6 , precision:  0.6428571428571429\n",
      "label 0 recall:  0.9324324324324325 , precision:  0.92\n",
      "random forest  f1 score:  0.8757843280315191\n",
      "random forest  accuracy:  0.8876404494382022\n",
      "label 1 recall:  0.4666666666666667 , precision:  0.7777777777777778\n",
      "label 0 recall:  0.972972972972973 , precision:  0.9\n",
      "GBT  f1 score:  0.7925149953535523\n",
      "GBT  accuracy:  0.7752808988764045\n",
      "label 1 recall:  0.6 , precision:  0.391304347826087\n",
      "label 0 recall:  0.8108108108108109 , precision:  0.9090909090909091\n"
     ]
    }
   ],
   "source": [
    "lr76_model1,rf76_model1,gbts76_model1=three_modelcomparison(oversampled_train,validation_data76_churn)"
   ]
  },
  {
   "cell_type": "code",
   "execution_count": 28,
   "metadata": {},
   "outputs": [
    {
     "name": "stdout",
     "output_type": "stream",
     "text": [
      "logistic regression  f1 score:  0.8216724286949006\n",
      "logistic regression  accuracy:  0.797752808988764\n",
      "label 1 recall:  1.0 , precision:  0.45454545454545453\n",
      "label 0 recall:  0.7567567567567568 , precision:  1.0\n",
      "random forest  f1 score:  0.8121848164402945\n",
      "random forest  accuracy:  0.7865168539325843\n",
      "label 1 recall:  1.0 , precision:  0.4411764705882353\n",
      "label 0 recall:  0.7432432432432432 , precision:  1.0\n",
      "GBT  f1 score:  0.7516757212490397\n",
      "GBT  accuracy:  0.7191011235955056\n",
      "label 1 recall:  0.7333333333333333 , precision:  0.34375\n",
      "label 0 recall:  0.7162162162162162 , precision:  0.9298245614035088\n"
     ]
    }
   ],
   "source": [
    "lr76_model2,rf76_model2,gbts76_model2=three_modelcomparison(stratified_train,validation_data76_churn)"
   ]
  },
  {
   "cell_type": "code",
   "execution_count": 29,
   "metadata": {},
   "outputs": [
    {
     "name": "stdout",
     "output_type": "stream",
     "text": [
      "logistic regression  f1 score:  0.7924147971182202\n",
      "logistic regression  accuracy:  0.7640449438202247\n",
      "label 1 recall:  0.9333333333333333 , precision:  0.4117647058823529\n",
      "label 0 recall:  0.7297297297297297 , precision:  0.9818181818181818\n",
      "random forest  f1 score:  0.7974695496175997\n",
      "random forest  accuracy:  0.7752808988764045\n",
      "label 1 recall:  0.7333333333333333 , precision:  0.4074074074074074\n",
      "label 0 recall:  0.7837837837837838 , precision:  0.9354838709677419\n",
      "GBT  f1 score:  0.7792218681871541\n",
      "GBT  accuracy:  0.7528089887640449\n",
      "label 1 recall:  0.7333333333333333 , precision:  0.3793103448275862\n",
      "label 0 recall:  0.7567567567567568 , precision:  0.9333333333333333\n"
     ]
    }
   ],
   "source": [
    "lr76_model3,rf76_model3,gbts76_model3=three_modelcomparison(stratified_train2,validation_data76_churn)"
   ]
  },
  {
   "cell_type": "code",
   "execution_count": null,
   "metadata": {},
   "outputs": [],
   "source": []
  }
 ],
 "metadata": {
  "kernelspec": {
   "display_name": "Python 3",
   "language": "python",
   "name": "python3"
  },
  "language_info": {
   "codemirror_mode": {
    "name": "ipython",
    "version": 3
   },
   "file_extension": ".py",
   "mimetype": "text/x-python",
   "name": "python",
   "nbconvert_exporter": "python",
   "pygments_lexer": "ipython3",
   "version": "3.7.0"
  }
 },
 "nbformat": 4,
 "nbformat_minor": 2
}
