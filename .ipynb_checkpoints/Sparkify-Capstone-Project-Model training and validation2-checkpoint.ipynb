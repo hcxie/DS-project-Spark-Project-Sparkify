{
 "cells": [
  {
   "cell_type": "code",
   "execution_count": 1,
   "metadata": {},
   "outputs": [],
   "source": [
    "from pyspark import SparkConf\n",
    "from pyspark.sql import SparkSession\n",
    "from pyspark.sql.functions import avg, col, concat, desc, explode, lit, min, max, split, udf, isnull\n",
    "from pyspark.ml.feature import OneHotEncoderEstimator\n",
    "from pyspark.ml.feature import CountVectorizer, IDF, Normalizer, PCA, RegexTokenizer, StandardScaler, StopWordsRemover, StringIndexer, VectorAssembler\n",
    "import datetime\n",
    "import seaborn as sns\n",
    "import pandas as pd\n",
    "import numpy as np\n",
    "import matplotlib.pyplot as plt\n",
    "from pyspark.ml.classification import LogisticRegression, RandomForestClassifier, GBTClassifier, DecisionTreeClassifier, NaiveBayes\n",
    "from pyspark.ml.evaluation import MulticlassClassificationEvaluator\n",
    "from pyspark.mllib.evaluation import MulticlassMetrics\n",
    "from pyspark.ml.tuning import CrossValidator, ParamGridBuilder"
   ]
  },
  {
   "cell_type": "code",
   "execution_count": 2,
   "metadata": {},
   "outputs": [],
   "source": [
    "spark = SparkSession \\\n",
    "    .builder \\\n",
    "    .appName(\"Sparkify\") \\\n",
    "    .getOrCreate()"
   ]
  },
  {
   "cell_type": "code",
   "execution_count": 4,
   "metadata": {},
   "outputs": [],
   "source": [
    "df= spark.read.csv('feature_df.csv', header=True)"
   ]
  },
  {
   "cell_type": "code",
   "execution_count": 5,
   "metadata": {},
   "outputs": [],
   "source": [
    "df=df.drop('cat_gender','cat_level','cat_method','cat_location_state','cat_user_agent')"
   ]
  },
  {
   "cell_type": "code",
   "execution_count": 15,
   "metadata": {},
   "outputs": [
    {
     "data": {
      "text/plain": [
       "DataFrame[userId: string, count_per_activetime_Submit_Downgrade: string, count_per_activetime_Thumbs_Down: string, count_per_activetime_Home: string, count_per_activetime_Downgrade: string, count_per_activetime_Roll_Advert: string, count_per_activetime_Logout: string, count_per_activetime_Save_Settings: string, count_per_activetime_About: string, count_per_activetime_Settings: string, count_per_activetime_Add_to_Playlist: string, count_per_activetime_Add_Friend: string, count_per_activetime_NextSong: string, count_per_activetime_Thumbs_Up: string, count_per_activetime_Help: string, count_per_activetime_Upgrade: string, count_per_activetime_Error: string, count_per_activetime_Submit_Upgrade: string, weely_page_std_Home: string, weely_page_std_Add_to_Playlist: string, weely_page_std_NextSong: string, weely_page_std_Thumbs_Up: string, daily_page_std_Home: string, daily_page_std_Logout: string, daily_page_std_Add_to_Playlist: string, daily_page_std_NextSong: string, daily_page_std_Thumbs_Up: string, interaction_timelength_Thumbs_Down: string, interaction_timelength_Home: string, interaction_timelength_Roll_Advert: string, interaction_timelength_Logout: string, interaction_timelength_Settings: string, interaction_timelength_Add_to_Playlist: string, interaction_timelength_Add_Friend: string, interaction_timelength_NextSong: string, interaction_timelength_Thumbs_Up: string, interaction_timelength_Help: string, num_uni_songs_per_time: string, num_uni_artists_per_time: string, num_uni_sessions_per_time: string, avg(Thumbs_Down_interaction_per_session): string, avg(Home_interaction_per_session): string, avg(Roll_Advert_interaction_per_session): string, avg(Logout_interaction_per_session): string, avg(Settings_interaction_per_session): string, avg(Add_to_Playlist_interaction_per_session): string, avg(Add_Friend_interaction_per_session): string, avg(NextSong_interaction_per_session): string, avg(Thumbs_Up_interaction_per_session): string, avg(Help_interaction_per_session): string, max(Thumbs_Down_interaction_per_session): string, max(Home_interaction_per_session): string, max(Roll_Advert_interaction_per_session): string, max(Logout_interaction_per_session): string, max(Settings_interaction_per_session): string, max(Add_to_Playlist_interaction_per_session): string, max(Add_Friend_interaction_per_session): string, max(NextSong_interaction_per_session): string, max(Thumbs_Up_interaction_per_session): string, max(Help_interaction_per_session): string, min(Thumbs_Down_interaction_per_session): string, min(Home_interaction_per_session): string, min(Roll_Advert_interaction_per_session): string, min(Logout_interaction_per_session): string, min(Settings_interaction_per_session): string, min(Add_to_Playlist_interaction_per_session): string, min(Add_Friend_interaction_per_session): string, min(NextSong_interaction_per_session): string, min(Thumbs_Up_interaction_per_session): string, min(Help_interaction_per_session): string, avg(sessiontime): string, max(sessiontime): string, min(sessiontime): string, avg_unique_songs_per_session: string, max_unique_songs_per_session_x: string, max_unique_songs_per_session_y: string, Churn: string]"
      ]
     },
     "execution_count": 15,
     "metadata": {},
     "output_type": "execute_result"
    }
   ],
   "source": [
    "df"
   ]
  },
  {
   "cell_type": "markdown",
   "metadata": {},
   "source": [
    "# Modeling"
   ]
  },
  {
   "cell_type": "markdown",
   "metadata": {},
   "source": [
    "### Numerical features encoding"
   ]
  },
  {
   "cell_type": "code",
   "execution_count": 6,
   "metadata": {},
   "outputs": [],
   "source": [
    "# convert all string type numerical values to float\n",
    "num_features_list = df.columns[1:]\n",
    "for f in num_features_list:\n",
    "    f_name = f + \"_Num\"\n",
    "    df = df.withColumn(f_name, df[f].cast(\"float\"))\n",
    "    df = df.drop(f)"
   ]
  },
  {
   "cell_type": "code",
   "execution_count": 17,
   "metadata": {},
   "outputs": [
    {
     "data": {
      "text/plain": [
       "DataFrame[userId: string, count_per_activetime_Submit_Downgrade_Num: float, count_per_activetime_Thumbs_Down_Num: float, count_per_activetime_Home_Num: float, count_per_activetime_Downgrade_Num: float, count_per_activetime_Roll_Advert_Num: float, count_per_activetime_Logout_Num: float, count_per_activetime_Save_Settings_Num: float, count_per_activetime_About_Num: float, count_per_activetime_Settings_Num: float, count_per_activetime_Add_to_Playlist_Num: float, count_per_activetime_Add_Friend_Num: float, count_per_activetime_NextSong_Num: float, count_per_activetime_Thumbs_Up_Num: float, count_per_activetime_Help_Num: float, count_per_activetime_Upgrade_Num: float, count_per_activetime_Error_Num: float, count_per_activetime_Submit_Upgrade_Num: float, weely_page_std_Home_Num: float, weely_page_std_Add_to_Playlist_Num: float, weely_page_std_NextSong_Num: float, weely_page_std_Thumbs_Up_Num: float, daily_page_std_Home_Num: float, daily_page_std_Logout_Num: float, daily_page_std_Add_to_Playlist_Num: float, daily_page_std_NextSong_Num: float, daily_page_std_Thumbs_Up_Num: float, interaction_timelength_Thumbs_Down_Num: float, interaction_timelength_Home_Num: float, interaction_timelength_Roll_Advert_Num: float, interaction_timelength_Logout_Num: float, interaction_timelength_Settings_Num: float, interaction_timelength_Add_to_Playlist_Num: float, interaction_timelength_Add_Friend_Num: float, interaction_timelength_NextSong_Num: float, interaction_timelength_Thumbs_Up_Num: float, interaction_timelength_Help_Num: float, num_uni_songs_per_time_Num: float, num_uni_artists_per_time_Num: float, num_uni_sessions_per_time_Num: float, avg(Thumbs_Down_interaction_per_session)_Num: float, avg(Home_interaction_per_session)_Num: float, avg(Roll_Advert_interaction_per_session)_Num: float, avg(Logout_interaction_per_session)_Num: float, avg(Settings_interaction_per_session)_Num: float, avg(Add_to_Playlist_interaction_per_session)_Num: float, avg(Add_Friend_interaction_per_session)_Num: float, avg(NextSong_interaction_per_session)_Num: float, avg(Thumbs_Up_interaction_per_session)_Num: float, avg(Help_interaction_per_session)_Num: float, max(Thumbs_Down_interaction_per_session)_Num: float, max(Home_interaction_per_session)_Num: float, max(Roll_Advert_interaction_per_session)_Num: float, max(Logout_interaction_per_session)_Num: float, max(Settings_interaction_per_session)_Num: float, max(Add_to_Playlist_interaction_per_session)_Num: float, max(Add_Friend_interaction_per_session)_Num: float, max(NextSong_interaction_per_session)_Num: float, max(Thumbs_Up_interaction_per_session)_Num: float, max(Help_interaction_per_session)_Num: float, min(Thumbs_Down_interaction_per_session)_Num: float, min(Home_interaction_per_session)_Num: float, min(Roll_Advert_interaction_per_session)_Num: float, min(Logout_interaction_per_session)_Num: float, min(Settings_interaction_per_session)_Num: float, min(Add_to_Playlist_interaction_per_session)_Num: float, min(Add_Friend_interaction_per_session)_Num: float, min(NextSong_interaction_per_session)_Num: float, min(Thumbs_Up_interaction_per_session)_Num: float, min(Help_interaction_per_session)_Num: float, avg(sessiontime)_Num: float, max(sessiontime)_Num: float, min(sessiontime)_Num: float, avg_unique_songs_per_session_Num: float, max_unique_songs_per_session_x_Num: float, max_unique_songs_per_session_y_Num: float, Churn_Num: float]"
      ]
     },
     "execution_count": 17,
     "metadata": {},
     "output_type": "execute_result"
    }
   ],
   "source": [
    "df"
   ]
  },
  {
   "cell_type": "markdown",
   "metadata": {},
   "source": [
    "### Vector Assembler"
   ]
  },
  {
   "cell_type": "code",
   "execution_count": 7,
   "metadata": {},
   "outputs": [],
   "source": [
    "assembler = VectorAssembler(inputCols=df.columns[1:-2], outputCol=\"Features\")\n",
    "data = assembler.transform(df)"
   ]
  },
  {
   "cell_type": "markdown",
   "metadata": {},
   "source": [
    "### Standard scaler"
   ]
  },
  {
   "cell_type": "code",
   "execution_count": 8,
   "metadata": {},
   "outputs": [],
   "source": [
    "scaler = StandardScaler(inputCol=\"Features\", outputCol=\"StdFeatures\", withStd=True)\n",
    "scalerModel = scaler.fit(data)\n",
    "data = scalerModel.transform(data)"
   ]
  },
  {
   "cell_type": "markdown",
   "metadata": {},
   "source": [
    "### PCA"
   ]
  },
  {
   "cell_type": "code",
   "execution_count": 20,
   "metadata": {},
   "outputs": [
    {
     "data": {
      "text/plain": [
       "DataFrame[userId: string, count_per_activetime_Submit_Downgrade_Num: float, count_per_activetime_Thumbs_Down_Num: float, count_per_activetime_Home_Num: float, count_per_activetime_Downgrade_Num: float, count_per_activetime_Roll_Advert_Num: float, count_per_activetime_Logout_Num: float, count_per_activetime_Save_Settings_Num: float, count_per_activetime_About_Num: float, count_per_activetime_Settings_Num: float, count_per_activetime_Add_to_Playlist_Num: float, count_per_activetime_Add_Friend_Num: float, count_per_activetime_NextSong_Num: float, count_per_activetime_Thumbs_Up_Num: float, count_per_activetime_Help_Num: float, count_per_activetime_Upgrade_Num: float, count_per_activetime_Error_Num: float, count_per_activetime_Submit_Upgrade_Num: float, weely_page_std_Home_Num: float, weely_page_std_Add_to_Playlist_Num: float, weely_page_std_NextSong_Num: float, weely_page_std_Thumbs_Up_Num: float, daily_page_std_Home_Num: float, daily_page_std_Logout_Num: float, daily_page_std_Add_to_Playlist_Num: float, daily_page_std_NextSong_Num: float, daily_page_std_Thumbs_Up_Num: float, interaction_timelength_Thumbs_Down_Num: float, interaction_timelength_Home_Num: float, interaction_timelength_Roll_Advert_Num: float, interaction_timelength_Logout_Num: float, interaction_timelength_Settings_Num: float, interaction_timelength_Add_to_Playlist_Num: float, interaction_timelength_Add_Friend_Num: float, interaction_timelength_NextSong_Num: float, interaction_timelength_Thumbs_Up_Num: float, interaction_timelength_Help_Num: float, num_uni_songs_per_time_Num: float, num_uni_artists_per_time_Num: float, num_uni_sessions_per_time_Num: float, avg(Thumbs_Down_interaction_per_session)_Num: float, avg(Home_interaction_per_session)_Num: float, avg(Roll_Advert_interaction_per_session)_Num: float, avg(Logout_interaction_per_session)_Num: float, avg(Settings_interaction_per_session)_Num: float, avg(Add_to_Playlist_interaction_per_session)_Num: float, avg(Add_Friend_interaction_per_session)_Num: float, avg(NextSong_interaction_per_session)_Num: float, avg(Thumbs_Up_interaction_per_session)_Num: float, avg(Help_interaction_per_session)_Num: float, max(Thumbs_Down_interaction_per_session)_Num: float, max(Home_interaction_per_session)_Num: float, max(Roll_Advert_interaction_per_session)_Num: float, max(Logout_interaction_per_session)_Num: float, max(Settings_interaction_per_session)_Num: float, max(Add_to_Playlist_interaction_per_session)_Num: float, max(Add_Friend_interaction_per_session)_Num: float, max(NextSong_interaction_per_session)_Num: float, max(Thumbs_Up_interaction_per_session)_Num: float, max(Help_interaction_per_session)_Num: float, min(Thumbs_Down_interaction_per_session)_Num: float, min(Home_interaction_per_session)_Num: float, min(Roll_Advert_interaction_per_session)_Num: float, min(Logout_interaction_per_session)_Num: float, min(Settings_interaction_per_session)_Num: float, min(Add_to_Playlist_interaction_per_session)_Num: float, min(Add_Friend_interaction_per_session)_Num: float, min(NextSong_interaction_per_session)_Num: float, min(Thumbs_Up_interaction_per_session)_Num: float, min(Help_interaction_per_session)_Num: float, avg(sessiontime)_Num: float, max(sessiontime)_Num: float, min(sessiontime)_Num: float, avg_unique_songs_per_session_Num: float, max_unique_songs_per_session_x_Num: float, max_unique_songs_per_session_y_Num: float, Churn_Num: float, Features: vector, StdFeatures: vector]"
      ]
     },
     "execution_count": 20,
     "metadata": {},
     "output_type": "execute_result"
    }
   ],
   "source": [
    "data"
   ]
  },
  {
   "cell_type": "code",
   "execution_count": 22,
   "metadata": {},
   "outputs": [
    {
     "data": {
      "text/plain": [
       "[<matplotlib.lines.Line2D at 0x1a1d9dd6710>]"
      ]
     },
     "execution_count": 22,
     "metadata": {},
     "output_type": "execute_result"
    },
    {
     "data": {
      "image/png": "[encoded data removed]",
      "text/plain": [
       "<Figure size 720x432 with 1 Axes>"
      ]
     },
     "metadata": {
      "needs_background": "light"
     },
     "output_type": "display_data"
    }
   ],
   "source": [
    "pca = PCA(k=70, inputCol=\"StdFeatures\", outputCol=\"pcaFeatures\")\n",
    "model = pca.fit(data)\n",
    "\n",
    "ind=np.arange(70)\n",
    "val=np.array(model.explainedVariance)\n",
    "cumvals=np.cumsum(val)\n",
    "plt.figure(figsize=(10, 6))\n",
    "ax = plt.subplot(111)\n",
    "ax.bar(ind, val)\n",
    "ax.plot(ind,cumvals)"
   ]
  },
  {
   "cell_type": "code",
   "execution_count": 23,
   "metadata": {},
   "outputs": [
    {
     "name": "stdout",
     "output_type": "stream",
     "text": [
      "20\n"
     ]
    }
   ],
   "source": [
    "k=len(val[val>0.01])\n",
    "print(k)"
   ]
  },
  {
   "cell_type": "code",
   "execution_count": 24,
   "metadata": {},
   "outputs": [
    {
     "name": "stdout",
     "output_type": "stream",
     "text": [
      "30\n"
     ]
    }
   ],
   "source": [
    "k=len(val[val>0.005])\n",
    "print(k)"
   ]
  },
  {
   "cell_type": "code",
   "execution_count": 9,
   "metadata": {},
   "outputs": [],
   "source": [
    "pca17 = PCA(k=20, inputCol=\"StdFeatures\", outputCol=\"pcaFeatures\")\n",
    "model17 = pca17.fit(data)\n",
    "data17 = model17.transform(data)"
   ]
  },
  {
   "cell_type": "code",
   "execution_count": 10,
   "metadata": {},
   "outputs": [],
   "source": [
    "pca76 = PCA(k=30, inputCol=\"StdFeatures\", outputCol=\"pcaFeatures\")\n",
    "model76 = pca76.fit(data)\n",
    "data76 = model76.transform(data)"
   ]
  },
  {
   "cell_type": "markdown",
   "metadata": {},
   "source": [
    "## PCA 17 components"
   ]
  },
  {
   "cell_type": "markdown",
   "metadata": {},
   "source": [
    "### split the data"
   ]
  },
  {
   "cell_type": "code",
   "execution_count": 27,
   "metadata": {},
   "outputs": [
    {
     "name": "stdout",
     "output_type": "stream",
     "text": [
      "+-----+-----+\n",
      "|label|count|\n",
      "+-----+-----+\n",
      "|  1.0|   99|\n",
      "|  0.0|  349|\n",
      "+-----+-----+\n",
      "\n"
     ]
    }
   ],
   "source": [
    "data_churn = data17.select(data17.Churn_Num.alias(\"label\"), data17.pcaFeatures.alias(\"features\"))\n",
    "data_churn.select('label').groupby('label').count().show()"
   ]
  },
  {
   "cell_type": "code",
   "execution_count": 28,
   "metadata": {},
   "outputs": [],
   "source": [
    "train, validation = data_churn.randomSplit([0.8, 0.2], seed=110)"
   ]
  },
  {
   "cell_type": "markdown",
   "metadata": {},
   "source": [
    "###  handle unbalanced data"
   ]
  },
  {
   "cell_type": "code",
   "execution_count": 29,
   "metadata": {},
   "outputs": [
    {
     "name": "stdout",
     "output_type": "stream",
     "text": [
      "+-----+-----+\n",
      "|label|count|\n",
      "+-----+-----+\n",
      "|  1.0|  150|\n",
      "|  0.0|  566|\n",
      "+-----+-----+\n",
      "\n",
      "+-----+-----+\n",
      "|label|count|\n",
      "+-----+-----+\n",
      "|  1.0|   80|\n",
      "|  0.0|   89|\n",
      "+-----+-----+\n",
      "\n",
      "+-----+-----+\n",
      "|label|count|\n",
      "+-----+-----+\n",
      "|  1.0|  150|\n",
      "|  0.0|  173|\n",
      "+-----+-----+\n",
      "\n"
     ]
    }
   ],
   "source": [
    "# method 1, Augmentation\n",
    "oversampled_train=train.sample(True, 2.0, 110)\n",
    "oversampled_train.select('label').groupby('label').count().show()\n",
    "# method 2, under sample the popular class\n",
    "stratified_train = train.sampleBy('label', fractions={0: 0.3, 1: 1.0}).cache()\n",
    "stratified_train.select('label').groupby('label').count().show()\n",
    "# method 3,Augmentation then under sample the popular class\n",
    "stratified_train2 = oversampled_train.sampleBy('label', fractions={0: 0.3, 1: 1.0}).cache()\n",
    "stratified_train2.select('label').groupby('label').count().show()"
   ]
  },
  {
   "cell_type": "markdown",
   "metadata": {},
   "source": [
    "### Model training and cross validation"
   ]
  },
  {
   "cell_type": "code",
   "execution_count": 11,
   "metadata": {},
   "outputs": [],
   "source": [
    "# define the evaluation metrics\n",
    "def evaluate_result(results,model_name):\n",
    "    \"\"\"\n",
    "    This function print out the f1 score, accuracy, recall and precision from prediction result \n",
    "    input: results - a pyspark data frame containing the predicted result\n",
    "           model_name - a string that contains the model's name\n",
    "    output: None\n",
    "    \"\"\"\n",
    "    print(model_name,\" f1 score: \", MulticlassClassificationEvaluator(metricName=\"f1\").evaluate(results))\n",
    "    print(model_name,\" accuracy: \", MulticlassClassificationEvaluator(metricName=\"accuracy\").evaluate(results))\n",
    "    rdd=results.select('label','prediction').rdd.map(lambda line: (line[1], line[0]))\n",
    "    metrics = MulticlassMetrics(rdd)\n",
    "    print(\"label 1 recall: \", metrics.recall(1),\", precision: \",metrics.precision(1))\n",
    "    print(\"label 0 recall: \", metrics.recall(0),\", precision: \",metrics.precision(0))\n",
    "    pass"
   ]
  },
  {
   "cell_type": "code",
   "execution_count": 12,
   "metadata": {},
   "outputs": [],
   "source": [
    "def three_modelcomparison(train,validation):\n",
    "    \"\"\"\n",
    "    This function will trained a logistic regreession,a  random forest and a gradient boost tree using training data and evaluate model's performance using validation data.\n",
    "    input: train - training data set\n",
    "           validation - validation dataset\n",
    "    output: cvModel_lr - best trained logistic regression model\n",
    "            cvModel_rf - best trained random forest model\n",
    "            cvModel_gbts - best trained gradient boost tree model\n",
    "    \n",
    "    \"\"\"\n",
    "    lr =  LogisticRegression(featuresCol = 'features', labelCol = 'label')\n",
    "    paramGrid = ParamGridBuilder() \\\n",
    "        .addGrid(lr.elasticNetParam,[0.0, 0.1, 0.2]) \\\n",
    "        .addGrid(lr.regParam,[0.0, 0.1, 0.2, 0.3]) \\\n",
    "        .addGrid(lr.maxIter,[5, 10, 15, 20, 25]) \\\n",
    "        .build()\n",
    "\n",
    "    crossval_lr = CrossValidator(estimator=lr,\n",
    "                              estimatorParamMaps=paramGrid,\n",
    "                              evaluator=MulticlassClassificationEvaluator(metricName=\"f1\"),\n",
    "                              numFolds=10)\n",
    "    cvModel_lr = crossval_lr.fit(train)\n",
    "    lr_avgMetrics=cvModel_lr.avgMetrics\n",
    "    results_lr = cvModel_lr.transform(validation)\n",
    "    evaluate_result(results_lr,\"logistic regression\")\n",
    "    #--------------------------------------------------------\n",
    "    rf = RandomForestClassifier(featuresCol = 'features', labelCol = 'label',)\n",
    "    paramGrid = ParamGridBuilder() \\\n",
    "        .addGrid(rf.impurity,['entropy','gini']) \\\n",
    "        .addGrid(rf.maxDepth,[10, 15, 20, 25]) \\\n",
    "        .addGrid(rf.numTrees,[20, 30, 40]) \\\n",
    "        .build()\n",
    "    crossval_rf = CrossValidator(estimator=rf,\n",
    "                              estimatorParamMaps=paramGrid,\n",
    "                              evaluator=MulticlassClassificationEvaluator(metricName=\"f1\"),\n",
    "                              numFolds=10)\n",
    "    cvModel_rf= crossval_rf.fit(train)\n",
    "    rf_avgMetrics = cvModel_rf.avgMetrics\n",
    "    results_rf = cvModel_rf.transform(validation)\n",
    "    evaluate_result(results_rf,\"random forest\")\n",
    "    #-----------------------------------------------------------\n",
    "    gbts = GBTClassifier()\n",
    "    paramGrid = ParamGridBuilder() \\\n",
    "        .addGrid(gbts.maxIter,[20, 30, 40]) \\\n",
    "        .addGrid(gbts.maxDepth,[2, 4, 6, 8]) \\\n",
    "        .build()\n",
    "    crossval_gbts = CrossValidator(estimator=gbts,\n",
    "                              estimatorParamMaps=paramGrid,\n",
    "                              evaluator=MulticlassClassificationEvaluator(metricName=\"f1\"),\n",
    "                              numFolds=10)\n",
    "    cvModel_gbts = crossval_gbts.fit(train)\n",
    "    gbts_avgMetrics = cvModel_gbts.avgMetrics\n",
    "    results_gbts = cvModel_gbts.transform(validation)\n",
    "    evaluate_result(results_gbts,\"GBT\")\n",
    "    return cvModel_lr,cvModel_rf,cvModel_gbts"
   ]
  },
  {
   "cell_type": "code",
   "execution_count": 32,
   "metadata": {},
   "outputs": [
    {
     "name": "stdout",
     "output_type": "stream",
     "text": [
      "logistic regression  f1 score:  0.869172155495286\n",
      "logistic regression  accuracy:  0.8764044943820225\n",
      "label 1 recall:  0.5789473684210527 , precision:  0.7857142857142857\n",
      "label 0 recall:  0.9571428571428572 , precision:  0.8933333333333333\n",
      "random forest  f1 score:  0.7948006168759638\n",
      "random forest  accuracy:  0.8314606741573034\n",
      "label 1 recall:  0.2631578947368421 , precision:  0.8333333333333334\n",
      "label 0 recall:  0.9857142857142858 , precision:  0.8313253012048193\n",
      "GBT  f1 score:  0.8164969844032987\n",
      "GBT  accuracy:  0.8202247191011236\n",
      "label 1 recall:  0.5263157894736842 , precision:  0.5882352941176471\n",
      "label 0 recall:  0.9 , precision:  0.875\n"
     ]
    }
   ],
   "source": [
    "lr_model1,rf_model1,gbts_model1=three_modelcomparison(oversampled_train,validation)"
   ]
  },
  {
   "cell_type": "code",
   "execution_count": 33,
   "metadata": {},
   "outputs": [
    {
     "name": "stdout",
     "output_type": "stream",
     "text": [
      "logistic regression  f1 score:  0.8330151781772508\n",
      "logistic regression  accuracy:  0.8314606741573034\n",
      "label 1 recall:  0.631578947368421 , precision:  0.6\n",
      "label 0 recall:  0.8857142857142857 , precision:  0.8985507246376812\n",
      "random forest  f1 score:  0.8110414866032843\n",
      "random forest  accuracy:  0.797752808988764\n",
      "label 1 recall:  0.7894736842105263 , precision:  0.5172413793103449\n",
      "label 0 recall:  0.8 , precision:  0.9333333333333333\n",
      "GBT  f1 score:  0.762637269450922\n",
      "GBT  accuracy:  0.7415730337078652\n",
      "label 1 recall:  0.7894736842105263 , precision:  0.4411764705882353\n",
      "label 0 recall:  0.7285714285714285 , precision:  0.9272727272727272\n"
     ]
    }
   ],
   "source": [
    "lr_model2,rf_model2,gbts_model2=three_modelcomparison(stratified_train,validation)"
   ]
  },
  {
   "cell_type": "code",
   "execution_count": 34,
   "metadata": {},
   "outputs": [
    {
     "name": "stdout",
     "output_type": "stream",
     "text": [
      "logistic regression  f1 score:  0.8284573048953394\n",
      "logistic regression  accuracy:  0.8202247191011236\n",
      "label 1 recall:  0.7368421052631579 , precision:  0.56\n",
      "label 0 recall:  0.8428571428571429 , precision:  0.921875\n",
      "random forest  f1 score:  0.8696062694740817\n",
      "random forest  accuracy:  0.8651685393258427\n",
      "label 1 recall:  0.7894736842105263 , precision:  0.6521739130434783\n",
      "label 0 recall:  0.8857142857142857 , precision:  0.9393939393939394\n",
      "GBT  f1 score:  0.7785310590120316\n",
      "GBT  accuracy:  0.7640449438202247\n",
      "label 1 recall:  0.6842105263157895 , precision:  0.4642857142857143\n",
      "label 0 recall:  0.7857142857142857 , precision:  0.9016393442622951\n"
     ]
    }
   ],
   "source": [
    "lr_model3,rf_model3,gbts_model3=three_modelcomparison(stratified_train2,validation)"
   ]
  },
  {
   "cell_type": "markdown",
   "metadata": {},
   "source": [
    "## PCA 76 components"
   ]
  },
  {
   "cell_type": "code",
   "execution_count": 13,
   "metadata": {},
   "outputs": [
    {
     "name": "stdout",
     "output_type": "stream",
     "text": [
      "+-----+-----+\n",
      "|label|count|\n",
      "+-----+-----+\n",
      "|  1.0|   99|\n",
      "|  0.0|  349|\n",
      "+-----+-----+\n",
      "\n",
      "+-----+-----+\n",
      "|label|count|\n",
      "+-----+-----+\n",
      "|  1.0|  150|\n",
      "|  0.0|  566|\n",
      "+-----+-----+\n",
      "\n",
      "+-----+-----+\n",
      "|label|count|\n",
      "+-----+-----+\n",
      "|  1.0|   80|\n",
      "|  0.0|   82|\n",
      "+-----+-----+\n",
      "\n",
      "+-----+-----+\n",
      "|label|count|\n",
      "+-----+-----+\n",
      "|  1.0|  150|\n",
      "|  0.0|  156|\n",
      "+-----+-----+\n",
      "\n"
     ]
    }
   ],
   "source": [
    "data_churn = data76.select(data76.Churn_Num.alias(\"label\"), data76.pcaFeatures.alias(\"features\"))\n",
    "data_churn.select('label').groupby('label').count().show()\n",
    "\n",
    "train, validation = data_churn.randomSplit([0.8, 0.2], seed=110)\n",
    "\n",
    "# method 1, Augmentation\n",
    "oversampled_train=train.sample(True, 2.0, 110)\n",
    "oversampled_train.select('label').groupby('label').count().show()\n",
    "# method 2, under sample the popular class\n",
    "stratified_train = train.sampleBy('label', fractions={0: 0.3, 1: 1.0}).cache()\n",
    "stratified_train.select('label').groupby('label').count().show()\n",
    "# method 3,Augmentation then under sample the popular class\n",
    "stratified_train2 = oversampled_train.sampleBy('label', fractions={0: 0.3, 1: 1.0}).cache()\n",
    "stratified_train2.select('label').groupby('label').count().show()"
   ]
  },
  {
   "cell_type": "code",
   "execution_count": 36,
   "metadata": {},
   "outputs": [
    {
     "name": "stdout",
     "output_type": "stream",
     "text": [
      "logistic regression  f1 score:  0.8724040004938881\n",
      "logistic regression  accuracy:  0.8764044943820225\n",
      "label 1 recall:  0.631578947368421 , precision:  0.75\n",
      "label 0 recall:  0.9428571428571428 , precision:  0.9041095890410958\n",
      "random forest  f1 score:  0.8294984470295134\n",
      "random forest  accuracy:  0.8539325842696629\n",
      "label 1 recall:  0.3684210526315789 , precision:  0.875\n",
      "label 0 recall:  0.9857142857142858 , precision:  0.8518518518518519\n",
      "GBT  f1 score:  0.857677235839036\n",
      "GBT  accuracy:  0.8539325842696629\n",
      "label 1 recall:  0.7368421052631579 , precision:  0.6363636363636364\n",
      "label 0 recall:  0.8857142857142857 , precision:  0.9253731343283582\n"
     ]
    }
   ],
   "source": [
    "lr76_model1,rf76_model1,gbts76_model1=three_modelcomparison(oversampled_train,validation)"
   ]
  },
  {
   "cell_type": "code",
   "execution_count": 37,
   "metadata": {},
   "outputs": [
    {
     "name": "stdout",
     "output_type": "stream",
     "text": [
      "logistic regression  f1 score:  0.8013772532791532\n",
      "logistic regression  accuracy:  0.7865168539325843\n",
      "label 1 recall:  0.7894736842105263 , precision:  0.5\n",
      "label 0 recall:  0.7857142857142857 , precision:  0.9322033898305084\n",
      "random forest  f1 score:  0.7820412071756067\n",
      "random forest  accuracy:  0.7640449438202247\n",
      "label 1 recall:  0.7894736842105263 , precision:  0.46875\n",
      "label 0 recall:  0.7571428571428571 , precision:  0.9298245614035088\n",
      "GBT  f1 score:  0.8304096164379505\n",
      "GBT  accuracy:  0.8202247191011236\n",
      "label 1 recall:  0.7894736842105263 , precision:  0.5555555555555556\n",
      "label 0 recall:  0.8285714285714286 , precision:  0.9354838709677419\n"
     ]
    }
   ],
   "source": [
    "lr76_model2,rf76_model2,gbts76_model2=three_modelcomparison(stratified_train,validation)"
   ]
  },
  {
   "cell_type": "code",
   "execution_count": 14,
   "metadata": {},
   "outputs": [
    {
     "name": "stdout",
     "output_type": "stream",
     "text": [
      "logistic regression  f1 score:  0.8381383735446971\n",
      "logistic regression  accuracy:  0.8314606741573034\n",
      "label 1 recall:  0.7368421052631579 , precision:  0.5833333333333334\n",
      "label 0 recall:  0.8571428571428571 , precision:  0.9230769230769231\n",
      "random forest  f1 score:  0.8524766698326345\n",
      "random forest  accuracy:  0.8539325842696629\n",
      "label 1 recall:  0.631578947368421 , precision:  0.6666666666666666\n",
      "label 0 recall:  0.9142857142857143 , precision:  0.9014084507042254\n",
      "GBT  f1 score:  0.7880120205474384\n",
      "GBT  accuracy:  0.7752808988764045\n",
      "label 1 recall:  0.6842105263157895 , precision:  0.48148148148148145\n",
      "label 0 recall:  0.8 , precision:  0.9032258064516129\n"
     ]
    }
   ],
   "source": [
    "lr76_model3,rf76_model3,gbts76_model3=three_modelcomparison(stratified_train2,validation)"
   ]
  },
  {
   "cell_type": "code",
   "execution_count": null,
   "metadata": {},
   "outputs": [],
   "source": []
  }
 ],
 "metadata": {
  "kernelspec": {
   "display_name": "Python 3",
   "language": "python",
   "name": "python3"
  },
  "language_info": {
   "codemirror_mode": {
    "name": "ipython",
    "version": 3
   },
   "file_extension": ".py",
   "mimetype": "text/x-python",
   "name": "python",
   "nbconvert_exporter": "python",
   "pygments_lexer": "ipython3",
   "version": "3.7.0"
  }
 },
 "nbformat": 4,
 "nbformat_minor": 2
}
