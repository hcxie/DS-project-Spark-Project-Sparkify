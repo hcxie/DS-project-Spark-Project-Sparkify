{
 "cells": [
  {
   "cell_type": "code",
   "execution_count": 1,
   "metadata": {},
   "outputs": [],
   "source": [
    "from pyspark import SparkConf\n",
    "from pyspark.sql import SparkSession\n",
    "from pyspark.sql.functions import avg, col, concat, desc, explode, lit, min, max, split, udf, isnull\n",
    "from pyspark.ml.feature import OneHotEncoderEstimator\n",
    "from pyspark.ml.feature import CountVectorizer, IDF, Normalizer, PCA, RegexTokenizer, StandardScaler, StopWordsRemover, StringIndexer, VectorAssembler\n",
    "import datetime\n",
    "import seaborn as sns\n",
    "import pandas as pd\n",
    "import numpy as np\n",
    "import matplotlib.pyplot as plt\n",
    "from pyspark.ml.classification import LogisticRegression, RandomForestClassifier, GBTClassifier, DecisionTreeClassifier, NaiveBayes\n",
    "from pyspark.ml.evaluation import MulticlassClassificationEvaluator\n",
    "from pyspark.mllib.evaluation import MulticlassMetrics\n",
    "from pyspark.ml.tuning import CrossValidator, ParamGridBuilder"
   ]
  },
  {
   "cell_type": "code",
   "execution_count": 2,
   "metadata": {},
   "outputs": [],
   "source": [
    "spark = SparkSession \\\n",
    "    .builder \\\n",
    "    .appName(\"Sparkify\") \\\n",
    "    .getOrCreate()"
   ]
  },
  {
   "cell_type": "code",
   "execution_count": 13,
   "metadata": {},
   "outputs": [],
   "source": [
    "df= spark.read.csv('feature_df.csv', header=True)"
   ]
  },
  {
   "cell_type": "code",
   "execution_count": 14,
   "metadata": {},
   "outputs": [],
   "source": [
    "df=df.drop('cat_gender','cat_level','cat_method','cat_location_state','cat_user_agent')"
   ]
  },
  {
   "cell_type": "code",
   "execution_count": 15,
   "metadata": {},
   "outputs": [
    {
     "data": {
      "text/plain": [
       "DataFrame[userId: string, count_per_activetime_Submit_Downgrade: string, count_per_activetime_Thumbs_Down: string, count_per_activetime_Home: string, count_per_activetime_Downgrade: string, count_per_activetime_Roll_Advert: string, count_per_activetime_Logout: string, count_per_activetime_Save_Settings: string, count_per_activetime_About: string, count_per_activetime_Settings: string, count_per_activetime_Add_to_Playlist: string, count_per_activetime_Add_Friend: string, count_per_activetime_NextSong: string, count_per_activetime_Thumbs_Up: string, count_per_activetime_Help: string, count_per_activetime_Upgrade: string, count_per_activetime_Error: string, count_per_activetime_Submit_Upgrade: string, weely_page_std_Home: string, weely_page_std_Add_to_Playlist: string, weely_page_std_NextSong: string, weely_page_std_Thumbs_Up: string, daily_page_std_Home: string, daily_page_std_Logout: string, daily_page_std_Add_to_Playlist: string, daily_page_std_NextSong: string, daily_page_std_Thumbs_Up: string, interaction_timelength_Thumbs_Down: string, interaction_timelength_Home: string, interaction_timelength_Roll_Advert: string, interaction_timelength_Logout: string, interaction_timelength_Settings: string, interaction_timelength_Add_to_Playlist: string, interaction_timelength_Add_Friend: string, interaction_timelength_NextSong: string, interaction_timelength_Thumbs_Up: string, interaction_timelength_Help: string, num_uni_songs_per_time: string, num_uni_artists_per_time: string, num_uni_sessions_per_time: string, avg(Thumbs_Down_interaction_per_session): string, avg(Home_interaction_per_session): string, avg(Roll_Advert_interaction_per_session): string, avg(Logout_interaction_per_session): string, avg(Settings_interaction_per_session): string, avg(Add_to_Playlist_interaction_per_session): string, avg(Add_Friend_interaction_per_session): string, avg(NextSong_interaction_per_session): string, avg(Thumbs_Up_interaction_per_session): string, avg(Help_interaction_per_session): string, max(Thumbs_Down_interaction_per_session): string, max(Home_interaction_per_session): string, max(Roll_Advert_interaction_per_session): string, max(Logout_interaction_per_session): string, max(Settings_interaction_per_session): string, max(Add_to_Playlist_interaction_per_session): string, max(Add_Friend_interaction_per_session): string, max(NextSong_interaction_per_session): string, max(Thumbs_Up_interaction_per_session): string, max(Help_interaction_per_session): string, min(Thumbs_Down_interaction_per_session): string, min(Home_interaction_per_session): string, min(Roll_Advert_interaction_per_session): string, min(Logout_interaction_per_session): string, min(Settings_interaction_per_session): string, min(Add_to_Playlist_interaction_per_session): string, min(Add_Friend_interaction_per_session): string, min(NextSong_interaction_per_session): string, min(Thumbs_Up_interaction_per_session): string, min(Help_interaction_per_session): string, avg(sessiontime): string, max(sessiontime): string, min(sessiontime): string, avg_unique_songs_per_session: string, max_unique_songs_per_session_x: string, max_unique_songs_per_session_y: string, Churn: string]"
      ]
     },
     "execution_count": 15,
     "metadata": {},
     "output_type": "execute_result"
    }
   ],
   "source": [
    "df"
   ]
  },
  {
   "cell_type": "markdown",
   "metadata": {},
   "source": [
    "# Modeling"
   ]
  },
  {
   "cell_type": "markdown",
   "metadata": {},
   "source": [
    "### Numerical features encoding"
   ]
  },
  {
   "cell_type": "code",
   "execution_count": 16,
   "metadata": {},
   "outputs": [],
   "source": [
    "# convert all string type numerical values to float\n",
    "num_features_list = df.columns[1:]\n",
    "for f in num_features_list:\n",
    "    f_name = f + \"_Num\"\n",
    "    df = df.withColumn(f_name, df[f].cast(\"float\"))\n",
    "    df = df.drop(f)"
   ]
  },
  {
   "cell_type": "code",
   "execution_count": 17,
   "metadata": {},
   "outputs": [
    {
     "data": {
      "text/plain": [
       "DataFrame[userId: string, count_per_activetime_Submit_Downgrade_Num: float, count_per_activetime_Thumbs_Down_Num: float, count_per_activetime_Home_Num: float, count_per_activetime_Downgrade_Num: float, count_per_activetime_Roll_Advert_Num: float, count_per_activetime_Logout_Num: float, count_per_activetime_Save_Settings_Num: float, count_per_activetime_About_Num: float, count_per_activetime_Settings_Num: float, count_per_activetime_Add_to_Playlist_Num: float, count_per_activetime_Add_Friend_Num: float, count_per_activetime_NextSong_Num: float, count_per_activetime_Thumbs_Up_Num: float, count_per_activetime_Help_Num: float, count_per_activetime_Upgrade_Num: float, count_per_activetime_Error_Num: float, count_per_activetime_Submit_Upgrade_Num: float, weely_page_std_Home_Num: float, weely_page_std_Add_to_Playlist_Num: float, weely_page_std_NextSong_Num: float, weely_page_std_Thumbs_Up_Num: float, daily_page_std_Home_Num: float, daily_page_std_Logout_Num: float, daily_page_std_Add_to_Playlist_Num: float, daily_page_std_NextSong_Num: float, daily_page_std_Thumbs_Up_Num: float, interaction_timelength_Thumbs_Down_Num: float, interaction_timelength_Home_Num: float, interaction_timelength_Roll_Advert_Num: float, interaction_timelength_Logout_Num: float, interaction_timelength_Settings_Num: float, interaction_timelength_Add_to_Playlist_Num: float, interaction_timelength_Add_Friend_Num: float, interaction_timelength_NextSong_Num: float, interaction_timelength_Thumbs_Up_Num: float, interaction_timelength_Help_Num: float, num_uni_songs_per_time_Num: float, num_uni_artists_per_time_Num: float, num_uni_sessions_per_time_Num: float, avg(Thumbs_Down_interaction_per_session)_Num: float, avg(Home_interaction_per_session)_Num: float, avg(Roll_Advert_interaction_per_session)_Num: float, avg(Logout_interaction_per_session)_Num: float, avg(Settings_interaction_per_session)_Num: float, avg(Add_to_Playlist_interaction_per_session)_Num: float, avg(Add_Friend_interaction_per_session)_Num: float, avg(NextSong_interaction_per_session)_Num: float, avg(Thumbs_Up_interaction_per_session)_Num: float, avg(Help_interaction_per_session)_Num: float, max(Thumbs_Down_interaction_per_session)_Num: float, max(Home_interaction_per_session)_Num: float, max(Roll_Advert_interaction_per_session)_Num: float, max(Logout_interaction_per_session)_Num: float, max(Settings_interaction_per_session)_Num: float, max(Add_to_Playlist_interaction_per_session)_Num: float, max(Add_Friend_interaction_per_session)_Num: float, max(NextSong_interaction_per_session)_Num: float, max(Thumbs_Up_interaction_per_session)_Num: float, max(Help_interaction_per_session)_Num: float, min(Thumbs_Down_interaction_per_session)_Num: float, min(Home_interaction_per_session)_Num: float, min(Roll_Advert_interaction_per_session)_Num: float, min(Logout_interaction_per_session)_Num: float, min(Settings_interaction_per_session)_Num: float, min(Add_to_Playlist_interaction_per_session)_Num: float, min(Add_Friend_interaction_per_session)_Num: float, min(NextSong_interaction_per_session)_Num: float, min(Thumbs_Up_interaction_per_session)_Num: float, min(Help_interaction_per_session)_Num: float, avg(sessiontime)_Num: float, max(sessiontime)_Num: float, min(sessiontime)_Num: float, avg_unique_songs_per_session_Num: float, max_unique_songs_per_session_x_Num: float, max_unique_songs_per_session_y_Num: float, Churn_Num: float]"
      ]
     },
     "execution_count": 17,
     "metadata": {},
     "output_type": "execute_result"
    }
   ],
   "source": [
    "df"
   ]
  },
  {
   "cell_type": "markdown",
   "metadata": {},
   "source": [
    "### Vector Assembler"
   ]
  },
  {
   "cell_type": "code",
   "execution_count": 18,
   "metadata": {},
   "outputs": [],
   "source": [
    "assembler = VectorAssembler(inputCols=df.columns[1:-2], outputCol=\"Features\")\n",
    "data = assembler.transform(df)"
   ]
  },
  {
   "cell_type": "markdown",
   "metadata": {},
   "source": [
    "### Standard scaler"
   ]
  },
  {
   "cell_type": "code",
   "execution_count": 19,
   "metadata": {},
   "outputs": [],
   "source": [
    "scaler = StandardScaler(inputCol=\"Features\", outputCol=\"StdFeatures\", withStd=True)\n",
    "scalerModel = scaler.fit(data)\n",
    "data = scalerModel.transform(data)"
   ]
  },
  {
   "cell_type": "markdown",
   "metadata": {},
   "source": [
    "### PCA"
   ]
  },
  {
   "cell_type": "code",
   "execution_count": 20,
   "metadata": {},
   "outputs": [
    {
     "data": {
      "text/plain": [
       "DataFrame[userId: string, count_per_activetime_Submit_Downgrade_Num: float, count_per_activetime_Thumbs_Down_Num: float, count_per_activetime_Home_Num: float, count_per_activetime_Downgrade_Num: float, count_per_activetime_Roll_Advert_Num: float, count_per_activetime_Logout_Num: float, count_per_activetime_Save_Settings_Num: float, count_per_activetime_About_Num: float, count_per_activetime_Settings_Num: float, count_per_activetime_Add_to_Playlist_Num: float, count_per_activetime_Add_Friend_Num: float, count_per_activetime_NextSong_Num: float, count_per_activetime_Thumbs_Up_Num: float, count_per_activetime_Help_Num: float, count_per_activetime_Upgrade_Num: float, count_per_activetime_Error_Num: float, count_per_activetime_Submit_Upgrade_Num: float, weely_page_std_Home_Num: float, weely_page_std_Add_to_Playlist_Num: float, weely_page_std_NextSong_Num: float, weely_page_std_Thumbs_Up_Num: float, daily_page_std_Home_Num: float, daily_page_std_Logout_Num: float, daily_page_std_Add_to_Playlist_Num: float, daily_page_std_NextSong_Num: float, daily_page_std_Thumbs_Up_Num: float, interaction_timelength_Thumbs_Down_Num: float, interaction_timelength_Home_Num: float, interaction_timelength_Roll_Advert_Num: float, interaction_timelength_Logout_Num: float, interaction_timelength_Settings_Num: float, interaction_timelength_Add_to_Playlist_Num: float, interaction_timelength_Add_Friend_Num: float, interaction_timelength_NextSong_Num: float, interaction_timelength_Thumbs_Up_Num: float, interaction_timelength_Help_Num: float, num_uni_songs_per_time_Num: float, num_uni_artists_per_time_Num: float, num_uni_sessions_per_time_Num: float, avg(Thumbs_Down_interaction_per_session)_Num: float, avg(Home_interaction_per_session)_Num: float, avg(Roll_Advert_interaction_per_session)_Num: float, avg(Logout_interaction_per_session)_Num: float, avg(Settings_interaction_per_session)_Num: float, avg(Add_to_Playlist_interaction_per_session)_Num: float, avg(Add_Friend_interaction_per_session)_Num: float, avg(NextSong_interaction_per_session)_Num: float, avg(Thumbs_Up_interaction_per_session)_Num: float, avg(Help_interaction_per_session)_Num: float, max(Thumbs_Down_interaction_per_session)_Num: float, max(Home_interaction_per_session)_Num: float, max(Roll_Advert_interaction_per_session)_Num: float, max(Logout_interaction_per_session)_Num: float, max(Settings_interaction_per_session)_Num: float, max(Add_to_Playlist_interaction_per_session)_Num: float, max(Add_Friend_interaction_per_session)_Num: float, max(NextSong_interaction_per_session)_Num: float, max(Thumbs_Up_interaction_per_session)_Num: float, max(Help_interaction_per_session)_Num: float, min(Thumbs_Down_interaction_per_session)_Num: float, min(Home_interaction_per_session)_Num: float, min(Roll_Advert_interaction_per_session)_Num: float, min(Logout_interaction_per_session)_Num: float, min(Settings_interaction_per_session)_Num: float, min(Add_to_Playlist_interaction_per_session)_Num: float, min(Add_Friend_interaction_per_session)_Num: float, min(NextSong_interaction_per_session)_Num: float, min(Thumbs_Up_interaction_per_session)_Num: float, min(Help_interaction_per_session)_Num: float, avg(sessiontime)_Num: float, max(sessiontime)_Num: float, min(sessiontime)_Num: float, avg_unique_songs_per_session_Num: float, max_unique_songs_per_session_x_Num: float, max_unique_songs_per_session_y_Num: float, Churn_Num: float, Features: vector, StdFeatures: vector]"
      ]
     },
     "execution_count": 20,
     "metadata": {},
     "output_type": "execute_result"
    }
   ],
   "source": [
    "data"
   ]
  },
  {
   "cell_type": "code",
   "execution_count": 22,
   "metadata": {},
   "outputs": [
    {
     "data": {
      "text/plain": [
       "[<matplotlib.lines.Line2D at 0x1a1d9dd6710>]"
      ]
     },
     "execution_count": 22,
     "metadata": {},
     "output_type": "execute_result"
    },
    {
     "data": {
      "image/png": "[encoded data removed]",
      "text/plain": [
       "<Figure size 720x432 with 1 Axes>"
      ]
     },
     "metadata": {
      "needs_background": "light"
     },
     "output_type": "display_data"
    }
   ],
   "source": [
    "pca = PCA(k=70, inputCol=\"StdFeatures\", outputCol=\"pcaFeatures\")\n",
    "model = pca.fit(data)\n",
    "\n",
    "ind=np.arange(70)\n",
    "val=np.array(model.explainedVariance)\n",
    "cumvals=np.cumsum(val)\n",
    "plt.figure(figsize=(10, 6))\n",
    "ax = plt.subplot(111)\n",
    "ax.bar(ind, val)\n",
    "ax.plot(ind,cumvals)"
   ]
  },
  {
   "cell_type": "code",
   "execution_count": 23,
   "metadata": {},
   "outputs": [
    {
     "name": "stdout",
     "output_type": "stream",
     "text": [
      "20\n"
     ]
    }
   ],
   "source": [
    "k=len(val[val>0.01])\n",
    "print(k)"
   ]
  },
  {
   "cell_type": "code",
   "execution_count": 24,
   "metadata": {},
   "outputs": [
    {
     "name": "stdout",
     "output_type": "stream",
     "text": [
      "30\n"
     ]
    }
   ],
   "source": [
    "k=len(val[val>0.005])\n",
    "print(k)"
   ]
  },
  {
   "cell_type": "code",
   "execution_count": 25,
   "metadata": {},
   "outputs": [],
   "source": [
    "pca17 = PCA(k=20, inputCol=\"StdFeatures\", outputCol=\"pcaFeatures\")\n",
    "model17 = pca17.fit(data)\n",
    "data17 = model17.transform(data)"
   ]
  },
  {
   "cell_type": "code",
   "execution_count": 26,
   "metadata": {},
   "outputs": [],
   "source": [
    "pca76 = PCA(k=30, inputCol=\"StdFeatures\", outputCol=\"pcaFeatures\")\n",
    "model76 = pca76.fit(data)\n",
    "data76 = model76.transform(data)"
   ]
  },
  {
   "cell_type": "markdown",
   "metadata": {},
   "source": [
    "## PCA 17 components"
   ]
  },
  {
   "cell_type": "markdown",
   "metadata": {},
   "source": [
    "### split the data"
   ]
  },
  {
   "cell_type": "code",
   "execution_count": 27,
   "metadata": {},
   "outputs": [
    {
     "name": "stdout",
     "output_type": "stream",
     "text": [
      "+-----+-----+\n",
      "|label|count|\n",
      "+-----+-----+\n",
      "|  1.0|   99|\n",
      "|  0.0|  349|\n",
      "+-----+-----+\n",
      "\n"
     ]
    }
   ],
   "source": [
    "data_churn = data17.select(data17.Churn_Num.alias(\"label\"), data17.pcaFeatures.alias(\"features\"))\n",
    "data_churn.select('label').groupby('label').count().show()"
   ]
  },
  {
   "cell_type": "code",
   "execution_count": 28,
   "metadata": {},
   "outputs": [],
   "source": [
    "train, validation = data_churn.randomSplit([0.8, 0.2], seed=110)"
   ]
  },
  {
   "cell_type": "markdown",
   "metadata": {},
   "source": [
    "###  handle unbalanced data"
   ]
  },
  {
   "cell_type": "code",
   "execution_count": 29,
   "metadata": {},
   "outputs": [
    {
     "name": "stdout",
     "output_type": "stream",
     "text": [
      "+-----+-----+\n",
      "|label|count|\n",
      "+-----+-----+\n",
      "|  1.0|  150|\n",
      "|  0.0|  566|\n",
      "+-----+-----+\n",
      "\n",
      "+-----+-----+\n",
      "|label|count|\n",
      "+-----+-----+\n",
      "|  1.0|   80|\n",
      "|  0.0|   89|\n",
      "+-----+-----+\n",
      "\n",
      "+-----+-----+\n",
      "|label|count|\n",
      "+-----+-----+\n",
      "|  1.0|  150|\n",
      "|  0.0|  173|\n",
      "+-----+-----+\n",
      "\n"
     ]
    }
   ],
   "source": [
    "# method 1, Augmentation\n",
    "oversampled_train=train.sample(True, 2.0, 110)\n",
    "oversampled_train.select('label').groupby('label').count().show()\n",
    "# method 2, under sample the popular class\n",
    "stratified_train = train.sampleBy('label', fractions={0: 0.3, 1: 1.0}).cache()\n",
    "stratified_train.select('label').groupby('label').count().show()\n",
    "# method 3,Augmentation then under sample the popular class\n",
    "stratified_train2 = oversampled_train.sampleBy('label', fractions={0: 0.3, 1: 1.0}).cache()\n",
    "stratified_train2.select('label').groupby('label').count().show()"
   ]
  },
  {
   "cell_type": "markdown",
   "metadata": {},
   "source": [
    "### Model training and cross validation"
   ]
  },
  {
   "cell_type": "code",
   "execution_count": 30,
   "metadata": {},
   "outputs": [],
   "source": [
    "# define the evaluation metrics\n",
    "def evaluate_result(results,model_name):\n",
    "    \"\"\"\n",
    "    This function print out the f1 score, accuracy, recall and precision from prediction result \n",
    "    input: results - a pyspark data frame containing the predicted result\n",
    "           model_name - a string that contains the model's name\n",
    "    output: None\n",
    "    \"\"\"\n",
    "    print(model_name,\" f1 score: \", MulticlassClassificationEvaluator(metricName=\"f1\").evaluate(results))\n",
    "    print(model_name,\" accuracy: \", MulticlassClassificationEvaluator(metricName=\"accuracy\").evaluate(results))\n",
    "    rdd=results.select('label','prediction').rdd.map(lambda line: (line[1], line[0]))\n",
    "    metrics = MulticlassMetrics(rdd)\n",
    "    print(\"label 1 recall: \", metrics.recall(1),\", precision: \",metrics.precision(1))\n",
    "    print(\"label 0 recall: \", metrics.recall(0),\", precision: \",metrics.precision(0))\n",
    "    pass"
   ]
  },
  {
   "cell_type": "code",
   "execution_count": 31,
   "metadata": {},
   "outputs": [],
   "source": [
    "def three_modelcomparison(train,validation):\n",
    "    \"\"\"\n",
    "    This function will trained a logistic regreession,a  random forest and a gradient boost tree using training data and evaluate model's performance using validation data.\n",
    "    input: train - training data set\n",
    "           validation - validation dataset\n",
    "    output: cvModel_lr - best trained logistic regression model\n",
    "            cvModel_rf - best trained random forest model\n",
    "            cvModel_gbts - best trained gradient boost tree model\n",
    "    \n",
    "    \"\"\"\n",
    "    lr =  LogisticRegression(featuresCol = 'features', labelCol = 'label')\n",
    "    paramGrid = ParamGridBuilder() \\\n",
    "        .addGrid(lr.elasticNetParam,[0.0, 0.1, 0.2]) \\\n",
    "        .addGrid(lr.regParam,[0.0, 0.1, 0.2, 0.3]) \\\n",
    "        .addGrid(lr.maxIter,[5, 10, 15, 20, 25]) \\\n",
    "        .build()\n",
    "\n",
    "    crossval_lr = CrossValidator(estimator=lr,\n",
    "                              estimatorParamMaps=paramGrid,\n",
    "                              evaluator=MulticlassClassificationEvaluator(metricName=\"f1\"),\n",
    "                              numFolds=10)\n",
    "    cvModel_lr = crossval_lr.fit(train)\n",
    "    lr_avgMetrics=cvModel_lr.avgMetrics\n",
    "    results_lr = cvModel_lr.transform(validation)\n",
    "    evaluate_result(results_lr,\"logistic regression\")\n",
    "    #--------------------------------------------------------\n",
    "    rf = RandomForestClassifier(featuresCol = 'features', labelCol = 'label',)\n",
    "    paramGrid = ParamGridBuilder() \\\n",
    "        .addGrid(rf.impurity,['entropy','gini']) \\\n",
    "        .addGrid(rf.maxDepth,[10, 15, 20, 25]) \\\n",
    "        .addGrid(rf.numTrees,[20, 30, 40]) \\\n",
    "        .build()\n",
    "    crossval_rf = CrossValidator(estimator=rf,\n",
    "                              estimatorParamMaps=paramGrid,\n",
    "                              evaluator=MulticlassClassificationEvaluator(metricName=\"f1\"),\n",
    "                              numFolds=10)\n",
    "    cvModel_rf= crossval_rf.fit(train)\n",
    "    rf_avgMetrics = cvModel_rf.avgMetrics\n",
    "    results_rf = cvModel_rf.transform(validation)\n",
    "    evaluate_result(results_rf,\"random forest\")\n",
    "    #-----------------------------------------------------------\n",
    "    gbts = GBTClassifier()\n",
    "    paramGrid = ParamGridBuilder() \\\n",
    "        .addGrid(gbts.maxIter,[20, 30, 40]) \\\n",
    "        .addGrid(gbts.maxDepth,[2, 4, 6, 8]) \\\n",
    "        .build()\n",
    "    crossval_gbts = CrossValidator(estimator=gbts,\n",
    "                              estimatorParamMaps=paramGrid,\n",
    "                              evaluator=MulticlassClassificationEvaluator(metricName=\"f1\"),\n",
    "                              numFolds=10)\n",
    "    cvModel_gbts = crossval_gbts.fit(train)\n",
    "    gbts_avgMetrics = cvModel_gbts.avgMetrics\n",
    "    results_gbts = cvModel_gbts.transform(validation)\n",
    "    evaluate_result(results_gbts,\"GBT\")\n",
    "    return cvModel_lr,cvModel_rf,cvModel_gbts"
   ]
  },
  {
   "cell_type": "code",
   "execution_count": 32,
   "metadata": {},
   "outputs": [
    {
     "name": "stdout",
     "output_type": "stream",
     "text": [
      "logistic regression  f1 score:  0.869172155495286\n",
      "logistic regression  accuracy:  0.8764044943820225\n",
      "label 1 recall:  0.5789473684210527 , precision:  0.7857142857142857\n",
      "label 0 recall:  0.9571428571428572 , precision:  0.8933333333333333\n",
      "random forest  f1 score:  0.7948006168759638\n",
      "random forest  accuracy:  0.8314606741573034\n",
      "label 1 recall:  0.2631578947368421 , precision:  0.8333333333333334\n",
      "label 0 recall:  0.9857142857142858 , precision:  0.8313253012048193\n",
      "GBT  f1 score:  0.8164969844032987\n",
      "GBT  accuracy:  0.8202247191011236\n",
      "label 1 recall:  0.5263157894736842 , precision:  0.5882352941176471\n",
      "label 0 recall:  0.9 , precision:  0.875\n"
     ]
    }
   ],
   "source": [
    "lr_model1,rf_model1,gbts_model1=three_modelcomparison(oversampled_train,validation)"
   ]
  },
  {
   "cell_type": "code",
   "execution_count": 33,
   "metadata": {},
   "outputs": [
    {
     "name": "stdout",
     "output_type": "stream",
     "text": [
      "logistic regression  f1 score:  0.8330151781772508\n",
      "logistic regression  accuracy:  0.8314606741573034\n",
      "label 1 recall:  0.631578947368421 , precision:  0.6\n",
      "label 0 recall:  0.8857142857142857 , precision:  0.8985507246376812\n",
      "random forest  f1 score:  0.8110414866032843\n",
      "random forest  accuracy:  0.797752808988764\n",
      "label 1 recall:  0.7894736842105263 , precision:  0.5172413793103449\n",
      "label 0 recall:  0.8 , precision:  0.9333333333333333\n",
      "GBT  f1 score:  0.762637269450922\n",
      "GBT  accuracy:  0.7415730337078652\n",
      "label 1 recall:  0.7894736842105263 , precision:  0.4411764705882353\n",
      "label 0 recall:  0.7285714285714285 , precision:  0.9272727272727272\n"
     ]
    }
   ],
   "source": [
    "lr_model2,rf_model2,gbts_model2=three_modelcomparison(stratified_train,validation)"
   ]
  },
  {
   "cell_type": "code",
   "execution_count": 34,
   "metadata": {},
   "outputs": [
    {
     "name": "stdout",
     "output_type": "stream",
     "text": [
      "logistic regression  f1 score:  0.8284573048953394\n",
      "logistic regression  accuracy:  0.8202247191011236\n",
      "label 1 recall:  0.7368421052631579 , precision:  0.56\n",
      "label 0 recall:  0.8428571428571429 , precision:  0.921875\n",
      "random forest  f1 score:  0.8696062694740817\n",
      "random forest  accuracy:  0.8651685393258427\n",
      "label 1 recall:  0.7894736842105263 , precision:  0.6521739130434783\n",
      "label 0 recall:  0.8857142857142857 , precision:  0.9393939393939394\n",
      "GBT  f1 score:  0.7785310590120316\n",
      "GBT  accuracy:  0.7640449438202247\n",
      "label 1 recall:  0.6842105263157895 , precision:  0.4642857142857143\n",
      "label 0 recall:  0.7857142857142857 , precision:  0.9016393442622951\n"
     ]
    }
   ],
   "source": [
    "lr_model3,rf_model3,gbts_model3=three_modelcomparison(stratified_train2,validation)"
   ]
  },
  {
   "cell_type": "markdown",
   "metadata": {},
   "source": [
    "## PCA 76 components"
   ]
  },
  {
   "cell_type": "code",
   "execution_count": 35,
   "metadata": {},
   "outputs": [
    {
     "name": "stdout",
     "output_type": "stream",
     "text": [
      "+-----+-----+\n",
      "|label|count|\n",
      "+-----+-----+\n",
      "|  1.0|   99|\n",
      "|  0.0|  349|\n",
      "+-----+-----+\n",
      "\n",
      "+-----+-----+\n",
      "|label|count|\n",
      "+-----+-----+\n",
      "|  1.0|  150|\n",
      "|  0.0|  566|\n",
      "+-----+-----+\n",
      "\n",
      "+-----+-----+\n",
      "|label|count|\n",
      "+-----+-----+\n",
      "|  1.0|   80|\n",
      "|  0.0|   80|\n",
      "+-----+-----+\n",
      "\n",
      "+-----+-----+\n",
      "|label|count|\n",
      "+-----+-----+\n",
      "|  1.0|  150|\n",
      "|  0.0|  171|\n",
      "+-----+-----+\n",
      "\n"
     ]
    }
   ],
   "source": [
    "data_churn = data76.select(data76.Churn_Num.alias(\"label\"), data76.pcaFeatures.alias(\"features\"))\n",
    "data_churn.select('label').groupby('label').count().show()\n",
    "\n",
    "train, validation = data_churn.randomSplit([0.8, 0.2], seed=110)\n",
    "\n",
    "# method 1, Augmentation\n",
    "oversampled_train=train.sample(True, 2.0, 110)\n",
    "oversampled_train.select('label').groupby('label').count().show()\n",
    "# method 2, under sample the popular class\n",
    "stratified_train = train.sampleBy('label', fractions={0: 0.3, 1: 1.0}).cache()\n",
    "stratified_train.select('label').groupby('label').count().show()\n",
    "# method 3,Augmentation then under sample the popular class\n",
    "stratified_train2 = oversampled_train.sampleBy('label', fractions={0: 0.3, 1: 1.0}).cache()\n",
    "stratified_train2.select('label').groupby('label').count().show()"
   ]
  },
  {
   "cell_type": "code",
   "execution_count": 36,
   "metadata": {},
   "outputs": [
    {
     "name": "stdout",
     "output_type": "stream",
     "text": [
      "logistic regression  f1 score:  0.8724040004938881\n",
      "logistic regression  accuracy:  0.8764044943820225\n",
      "label 1 recall:  0.631578947368421 , precision:  0.75\n",
      "label 0 recall:  0.9428571428571428 , precision:  0.9041095890410958\n",
      "random forest  f1 score:  0.8294984470295134\n",
      "random forest  accuracy:  0.8539325842696629\n",
      "label 1 recall:  0.3684210526315789 , precision:  0.875\n",
      "label 0 recall:  0.9857142857142858 , precision:  0.8518518518518519\n",
      "GBT  f1 score:  0.857677235839036\n",
      "GBT  accuracy:  0.8539325842696629\n",
      "label 1 recall:  0.7368421052631579 , precision:  0.6363636363636364\n",
      "label 0 recall:  0.8857142857142857 , precision:  0.9253731343283582\n"
     ]
    }
   ],
   "source": [
    "lr76_model1,rf76_model1,gbts76_model1=three_modelcomparison(oversampled_train,validation)"
   ]
  },
  {
   "cell_type": "code",
   "execution_count": 37,
   "metadata": {},
   "outputs": [
    {
     "name": "stdout",
     "output_type": "stream",
     "text": [
      "logistic regression  f1 score:  0.8013772532791532\n",
      "logistic regression  accuracy:  0.7865168539325843\n",
      "label 1 recall:  0.7894736842105263 , precision:  0.5\n",
      "label 0 recall:  0.7857142857142857 , precision:  0.9322033898305084\n",
      "random forest  f1 score:  0.7820412071756067\n",
      "random forest  accuracy:  0.7640449438202247\n",
      "label 1 recall:  0.7894736842105263 , precision:  0.46875\n",
      "label 0 recall:  0.7571428571428571 , precision:  0.9298245614035088\n",
      "GBT  f1 score:  0.8304096164379505\n",
      "GBT  accuracy:  0.8202247191011236\n",
      "label 1 recall:  0.7894736842105263 , precision:  0.5555555555555556\n",
      "label 0 recall:  0.8285714285714286 , precision:  0.9354838709677419\n"
     ]
    }
   ],
   "source": [
    "lr76_model2,rf76_model2,gbts76_model2=three_modelcomparison(stratified_train,validation)"
   ]
  },
  {
   "cell_type": "code",
   "execution_count": 38,
   "metadata": {},
   "outputs": [
    {
     "name": "stdout",
     "output_type": "stream",
     "text": [
      "logistic regression  f1 score:  0.8070144680072568\n",
      "logistic regression  accuracy:  0.797752808988764\n",
      "label 1 recall:  0.6842105263157895 , precision:  0.52\n",
      "label 0 recall:  0.8285714285714286 , precision:  0.90625\n",
      "random forest  f1 score:  0.8651685393258427\n",
      "random forest  accuracy:  0.8651685393258427\n",
      "label 1 recall:  0.6842105263157895 , precision:  0.6842105263157895\n",
      "label 0 recall:  0.9142857142857143 , precision:  0.9142857142857143\n"
     ]
    },
    {
     "ename": "Py4JJavaError",
     "evalue": "An error occurred while calling o1317769.evaluate.\n: org.apache.spark.SparkException: Job aborted due to stage failure: Task 0 in stage 457647.0 failed 1 times, most recent failure: Lost task 0.0 in stage 457647.0 (TID 459175, localhost, executor driver): java.io.FileNotFoundException: File file:/G:/operation d/DS-project-Spark-Project-Sparkify/feature_df.csv does not exist\nIt is possible the underlying files have been updated. You can explicitly invalidate the cache in Spark by running 'REFRESH TABLE tableName' command in SQL or by recreating the Dataset/DataFrame involved.\r\n\tat org.apache.spark.sql.execution.datasources.FileScanRDD$$anon$1.org$apache$spark$sql$execution$datasources$FileScanRDD$$anon$$readCurrentFile(FileScanRDD.scala:127)\r\n\tat org.apache.spark.sql.execution.datasources.FileScanRDD$$anon$1.nextIterator(FileScanRDD.scala:177)\r\n\tat org.apache.spark.sql.execution.datasources.FileScanRDD$$anon$1.hasNext(FileScanRDD.scala:101)\r\n\tat org.apache.spark.sql.catalyst.expressions.GeneratedClass$GeneratedIteratorForCodegenStage1.sort_addToSorter_0$(Unknown Source)\r\n\tat org.apache.spark.sql.catalyst.expressions.GeneratedClass$GeneratedIteratorForCodegenStage1.processNext(Unknown Source)\r\n\tat org.apache.spark.sql.execution.BufferedRowIterator.hasNext(BufferedRowIterator.java:43)\r\n\tat org.apache.spark.sql.execution.WholeStageCodegenExec$$anonfun$13$$anon$1.hasNext(WholeStageCodegenExec.scala:636)\r\n\tat scala.collection.Iterator$$anon$11.hasNext(Iterator.scala:409)\r\n\tat scala.collection.Iterator$$anon$11.hasNext(Iterator.scala:409)\r\n\tat scala.collection.Iterator$$anon$11.hasNext(Iterator.scala:409)\r\n\tat scala.collection.Iterator$$anon$11.hasNext(Iterator.scala:409)\r\n\tat scala.collection.Iterator$$anon$11.hasNext(Iterator.scala:409)\r\n\tat scala.collection.Iterator$$anon$11.hasNext(Iterator.scala:409)\r\n\tat org.apache.spark.util.collection.ExternalSorter.insertAll(ExternalSorter.scala:191)\r\n\tat org.apache.spark.shuffle.sort.SortShuffleWriter.write(SortShuffleWriter.scala:62)\r\n\tat org.apache.spark.scheduler.ShuffleMapTask.runTask(ShuffleMapTask.scala:99)\r\n\tat org.apache.spark.scheduler.ShuffleMapTask.runTask(ShuffleMapTask.scala:55)\r\n\tat org.apache.spark.scheduler.Task.run(Task.scala:121)\r\n\tat org.apache.spark.executor.Executor$TaskRunner$$anonfun$10.apply(Executor.scala:403)\r\n\tat org.apache.spark.util.Utils$.tryWithSafeFinally(Utils.scala:1360)\r\n\tat org.apache.spark.executor.Executor$TaskRunner.run(Executor.scala:409)\r\n\tat java.util.concurrent.ThreadPoolExecutor.runWorker(ThreadPoolExecutor.java:1142)\r\n\tat java.util.concurrent.ThreadPoolExecutor$Worker.run(ThreadPoolExecutor.java:617)\r\n\tat java.lang.Thread.run(Thread.java:745)\r\n\nDriver stacktrace:\r\n\tat org.apache.spark.scheduler.DAGScheduler.org$apache$spark$scheduler$DAGScheduler$$failJobAndIndependentStages(DAGScheduler.scala:1889)\r\n\tat org.apache.spark.scheduler.DAGScheduler$$anonfun$abortStage$1.apply(DAGScheduler.scala:1877)\r\n\tat org.apache.spark.scheduler.DAGScheduler$$anonfun$abortStage$1.apply(DAGScheduler.scala:1876)\r\n\tat scala.collection.mutable.ResizableArray$class.foreach(ResizableArray.scala:59)\r\n\tat scala.collection.mutable.ArrayBuffer.foreach(ArrayBuffer.scala:48)\r\n\tat org.apache.spark.scheduler.DAGScheduler.abortStage(DAGScheduler.scala:1876)\r\n\tat org.apache.spark.scheduler.DAGScheduler$$anonfun$handleTaskSetFailed$1.apply(DAGScheduler.scala:926)\r\n\tat org.apache.spark.scheduler.DAGScheduler$$anonfun$handleTaskSetFailed$1.apply(DAGScheduler.scala:926)\r\n\tat scala.Option.foreach(Option.scala:257)\r\n\tat org.apache.spark.scheduler.DAGScheduler.handleTaskSetFailed(DAGScheduler.scala:926)\r\n\tat org.apache.spark.scheduler.DAGSchedulerEventProcessLoop.doOnReceive(DAGScheduler.scala:2110)\r\n\tat org.apache.spark.scheduler.DAGSchedulerEventProcessLoop.onReceive(DAGScheduler.scala:2059)\r\n\tat org.apache.spark.scheduler.DAGSchedulerEventProcessLoop.onReceive(DAGScheduler.scala:2048)\r\n\tat org.apache.spark.util.EventLoop$$anon$1.run(EventLoop.scala:49)\r\n\tat org.apache.spark.scheduler.DAGScheduler.runJob(DAGScheduler.scala:737)\r\n\tat org.apache.spark.SparkContext.runJob(SparkContext.scala:2061)\r\n\tat org.apache.spark.SparkContext.runJob(SparkContext.scala:2082)\r\n\tat org.apache.spark.SparkContext.runJob(SparkContext.scala:2101)\r\n\tat org.apache.spark.SparkContext.runJob(SparkContext.scala:2126)\r\n\tat org.apache.spark.rdd.RDD$$anonfun$collect$1.apply(RDD.scala:945)\r\n\tat org.apache.spark.rdd.RDDOperationScope$.withScope(RDDOperationScope.scala:151)\r\n\tat org.apache.spark.rdd.RDDOperationScope$.withScope(RDDOperationScope.scala:112)\r\n\tat org.apache.spark.rdd.RDD.withScope(RDD.scala:363)\r\n\tat org.apache.spark.rdd.RDD.collect(RDD.scala:944)\r\n\tat org.apache.spark.rdd.PairRDDFunctions$$anonfun$countByKey$1.apply(PairRDDFunctions.scala:370)\r\n\tat org.apache.spark.rdd.PairRDDFunctions$$anonfun$countByKey$1.apply(PairRDDFunctions.scala:370)\r\n\tat org.apache.spark.rdd.RDDOperationScope$.withScope(RDDOperationScope.scala:151)\r\n\tat org.apache.spark.rdd.RDDOperationScope$.withScope(RDDOperationScope.scala:112)\r\n\tat org.apache.spark.rdd.RDD.withScope(RDD.scala:363)\r\n\tat org.apache.spark.rdd.PairRDDFunctions.countByKey(PairRDDFunctions.scala:369)\r\n\tat org.apache.spark.rdd.RDD$$anonfun$countByValue$1.apply(RDD.scala:1214)\r\n\tat org.apache.spark.rdd.RDD$$anonfun$countByValue$1.apply(RDD.scala:1214)\r\n\tat org.apache.spark.rdd.RDDOperationScope$.withScope(RDDOperationScope.scala:151)\r\n\tat org.apache.spark.rdd.RDDOperationScope$.withScope(RDDOperationScope.scala:112)\r\n\tat org.apache.spark.rdd.RDD.withScope(RDD.scala:363)\r\n\tat org.apache.spark.rdd.RDD.countByValue(RDD.scala:1213)\r\n\tat org.apache.spark.mllib.evaluation.MulticlassMetrics.labelCountByClass$lzycompute(MulticlassMetrics.scala:42)\r\n\tat org.apache.spark.mllib.evaluation.MulticlassMetrics.labelCountByClass(MulticlassMetrics.scala:42)\r\n\tat org.apache.spark.mllib.evaluation.MulticlassMetrics.weightedFMeasure$lzycompute(MulticlassMetrics.scala:215)\r\n\tat org.apache.spark.mllib.evaluation.MulticlassMetrics.weightedFMeasure(MulticlassMetrics.scala:215)\r\n\tat org.apache.spark.ml.evaluation.MulticlassClassificationEvaluator.evaluate(MulticlassClassificationEvaluator.scala:84)\r\n\tat sun.reflect.GeneratedMethodAccessor128.invoke(Unknown Source)\r\n\tat sun.reflect.DelegatingMethodAccessorImpl.invoke(DelegatingMethodAccessorImpl.java:43)\r\n\tat java.lang.reflect.Method.invoke(Method.java:497)\r\n\tat py4j.reflection.MethodInvoker.invoke(MethodInvoker.java:244)\r\n\tat py4j.reflection.ReflectionEngine.invoke(ReflectionEngine.java:357)\r\n\tat py4j.Gateway.invoke(Gateway.java:282)\r\n\tat py4j.commands.AbstractCommand.invokeMethod(AbstractCommand.java:132)\r\n\tat py4j.commands.CallCommand.execute(CallCommand.java:79)\r\n\tat py4j.GatewayConnection.run(GatewayConnection.java:238)\r\n\tat java.lang.Thread.run(Thread.java:745)\r\nCaused by: java.io.FileNotFoundException: File file:/G:/operation d/DS-project-Spark-Project-Sparkify/feature_df.csv does not exist\nIt is possible the underlying files have been updated. You can explicitly invalidate the cache in Spark by running 'REFRESH TABLE tableName' command in SQL or by recreating the Dataset/DataFrame involved.\r\n\tat org.apache.spark.sql.execution.datasources.FileScanRDD$$anon$1.org$apache$spark$sql$execution$datasources$FileScanRDD$$anon$$readCurrentFile(FileScanRDD.scala:127)\r\n\tat org.apache.spark.sql.execution.datasources.FileScanRDD$$anon$1.nextIterator(FileScanRDD.scala:177)\r\n\tat org.apache.spark.sql.execution.datasources.FileScanRDD$$anon$1.hasNext(FileScanRDD.scala:101)\r\n\tat org.apache.spark.sql.catalyst.expressions.GeneratedClass$GeneratedIteratorForCodegenStage1.sort_addToSorter_0$(Unknown Source)\r\n\tat org.apache.spark.sql.catalyst.expressions.GeneratedClass$GeneratedIteratorForCodegenStage1.processNext(Unknown Source)\r\n\tat org.apache.spark.sql.execution.BufferedRowIterator.hasNext(BufferedRowIterator.java:43)\r\n\tat org.apache.spark.sql.execution.WholeStageCodegenExec$$anonfun$13$$anon$1.hasNext(WholeStageCodegenExec.scala:636)\r\n\tat scala.collection.Iterator$$anon$11.hasNext(Iterator.scala:409)\r\n\tat scala.collection.Iterator$$anon$11.hasNext(Iterator.scala:409)\r\n\tat scala.collection.Iterator$$anon$11.hasNext(Iterator.scala:409)\r\n\tat scala.collection.Iterator$$anon$11.hasNext(Iterator.scala:409)\r\n\tat scala.collection.Iterator$$anon$11.hasNext(Iterator.scala:409)\r\n\tat scala.collection.Iterator$$anon$11.hasNext(Iterator.scala:409)\r\n\tat org.apache.spark.util.collection.ExternalSorter.insertAll(ExternalSorter.scala:191)\r\n\tat org.apache.spark.shuffle.sort.SortShuffleWriter.write(SortShuffleWriter.scala:62)\r\n\tat org.apache.spark.scheduler.ShuffleMapTask.runTask(ShuffleMapTask.scala:99)\r\n\tat org.apache.spark.scheduler.ShuffleMapTask.runTask(ShuffleMapTask.scala:55)\r\n\tat org.apache.spark.scheduler.Task.run(Task.scala:121)\r\n\tat org.apache.spark.executor.Executor$TaskRunner$$anonfun$10.apply(Executor.scala:403)\r\n\tat org.apache.spark.util.Utils$.tryWithSafeFinally(Utils.scala:1360)\r\n\tat org.apache.spark.executor.Executor$TaskRunner.run(Executor.scala:409)\r\n\tat java.util.concurrent.ThreadPoolExecutor.runWorker(ThreadPoolExecutor.java:1142)\r\n\tat java.util.concurrent.ThreadPoolExecutor$Worker.run(ThreadPoolExecutor.java:617)\r\n\t... 1 more\r\n",
     "output_type": "error",
     "traceback": [
      "\u001b[1;31m---------------------------------------------------------------------------\u001b[0m",
      "\u001b[1;31mPy4JJavaError\u001b[0m                             Traceback (most recent call last)",
      "\u001b[1;32m<ipython-input-38-111c39ce1573>\u001b[0m in \u001b[0;36m<module>\u001b[1;34m()\u001b[0m\n\u001b[1;32m----> 1\u001b[1;33m \u001b[0mlr76_model3\u001b[0m\u001b[1;33m,\u001b[0m\u001b[0mrf76_model3\u001b[0m\u001b[1;33m,\u001b[0m\u001b[0mgbts76_model3\u001b[0m\u001b[1;33m=\u001b[0m\u001b[0mthree_modelcomparison\u001b[0m\u001b[1;33m(\u001b[0m\u001b[0mstratified_train2\u001b[0m\u001b[1;33m,\u001b[0m\u001b[0mvalidation\u001b[0m\u001b[1;33m)\u001b[0m\u001b[1;33m\u001b[0m\u001b[0m\n\u001b[0m",
      "\u001b[1;32m<ipython-input-31-9f90ed1b7aac>\u001b[0m in \u001b[0;36mthree_modelcomparison\u001b[1;34m(train, validation)\u001b[0m\n\u001b[0;32m     32\u001b[0m     \u001b[0mgbts_avgMetrics\u001b[0m \u001b[1;33m=\u001b[0m \u001b[0mcvModel_gbts\u001b[0m\u001b[1;33m.\u001b[0m\u001b[0mavgMetrics\u001b[0m\u001b[1;33m\u001b[0m\u001b[0m\n\u001b[0;32m     33\u001b[0m     \u001b[0mresults_gbts\u001b[0m \u001b[1;33m=\u001b[0m \u001b[0mcvModel_gbts\u001b[0m\u001b[1;33m.\u001b[0m\u001b[0mtransform\u001b[0m\u001b[1;33m(\u001b[0m\u001b[0mvalidation\u001b[0m\u001b[1;33m)\u001b[0m\u001b[1;33m\u001b[0m\u001b[0m\n\u001b[1;32m---> 34\u001b[1;33m     \u001b[0mevaluate_result\u001b[0m\u001b[1;33m(\u001b[0m\u001b[0mresults_gbts\u001b[0m\u001b[1;33m,\u001b[0m\u001b[1;34m\"GBT\"\u001b[0m\u001b[1;33m)\u001b[0m\u001b[1;33m\u001b[0m\u001b[0m\n\u001b[0m\u001b[0;32m     35\u001b[0m     \u001b[1;32mreturn\u001b[0m \u001b[0mcvModel_lr\u001b[0m\u001b[1;33m,\u001b[0m\u001b[0mcvModel_rf\u001b[0m\u001b[1;33m,\u001b[0m\u001b[0mcvModel_gbts\u001b[0m\u001b[1;33m\u001b[0m\u001b[0m\n",
      "\u001b[1;32m<ipython-input-30-d8b2a524d5c8>\u001b[0m in \u001b[0;36mevaluate_result\u001b[1;34m(results, model_name)\u001b[0m\n\u001b[0;32m      1\u001b[0m \u001b[1;31m# define the evaluation metrics\u001b[0m\u001b[1;33m\u001b[0m\u001b[1;33m\u001b[0m\u001b[0m\n\u001b[0;32m      2\u001b[0m \u001b[1;32mdef\u001b[0m \u001b[0mevaluate_result\u001b[0m\u001b[1;33m(\u001b[0m\u001b[0mresults\u001b[0m\u001b[1;33m,\u001b[0m\u001b[0mmodel_name\u001b[0m\u001b[1;33m)\u001b[0m\u001b[1;33m:\u001b[0m\u001b[1;33m\u001b[0m\u001b[0m\n\u001b[1;32m----> 3\u001b[1;33m     \u001b[0mprint\u001b[0m\u001b[1;33m(\u001b[0m\u001b[0mmodel_name\u001b[0m\u001b[1;33m,\u001b[0m\u001b[1;34m\" f1 score: \"\u001b[0m\u001b[1;33m,\u001b[0m \u001b[0mMulticlassClassificationEvaluator\u001b[0m\u001b[1;33m(\u001b[0m\u001b[0mmetricName\u001b[0m\u001b[1;33m=\u001b[0m\u001b[1;34m\"f1\"\u001b[0m\u001b[1;33m)\u001b[0m\u001b[1;33m.\u001b[0m\u001b[0mevaluate\u001b[0m\u001b[1;33m(\u001b[0m\u001b[0mresults\u001b[0m\u001b[1;33m)\u001b[0m\u001b[1;33m)\u001b[0m\u001b[1;33m\u001b[0m\u001b[0m\n\u001b[0m\u001b[0;32m      4\u001b[0m     \u001b[0mprint\u001b[0m\u001b[1;33m(\u001b[0m\u001b[0mmodel_name\u001b[0m\u001b[1;33m,\u001b[0m\u001b[1;34m\" accuracy: \"\u001b[0m\u001b[1;33m,\u001b[0m \u001b[0mMulticlassClassificationEvaluator\u001b[0m\u001b[1;33m(\u001b[0m\u001b[0mmetricName\u001b[0m\u001b[1;33m=\u001b[0m\u001b[1;34m\"accuracy\"\u001b[0m\u001b[1;33m)\u001b[0m\u001b[1;33m.\u001b[0m\u001b[0mevaluate\u001b[0m\u001b[1;33m(\u001b[0m\u001b[0mresults\u001b[0m\u001b[1;33m)\u001b[0m\u001b[1;33m)\u001b[0m\u001b[1;33m\u001b[0m\u001b[0m\n\u001b[0;32m      5\u001b[0m     \u001b[0mrdd\u001b[0m\u001b[1;33m=\u001b[0m\u001b[0mresults\u001b[0m\u001b[1;33m.\u001b[0m\u001b[0mselect\u001b[0m\u001b[1;33m(\u001b[0m\u001b[1;34m'label'\u001b[0m\u001b[1;33m,\u001b[0m\u001b[1;34m'prediction'\u001b[0m\u001b[1;33m)\u001b[0m\u001b[1;33m.\u001b[0m\u001b[0mrdd\u001b[0m\u001b[1;33m.\u001b[0m\u001b[0mmap\u001b[0m\u001b[1;33m(\u001b[0m\u001b[1;32mlambda\u001b[0m \u001b[0mline\u001b[0m\u001b[1;33m:\u001b[0m \u001b[1;33m(\u001b[0m\u001b[0mline\u001b[0m\u001b[1;33m[\u001b[0m\u001b[1;36m1\u001b[0m\u001b[1;33m]\u001b[0m\u001b[1;33m,\u001b[0m \u001b[0mline\u001b[0m\u001b[1;33m[\u001b[0m\u001b[1;36m0\u001b[0m\u001b[1;33m]\u001b[0m\u001b[1;33m)\u001b[0m\u001b[1;33m)\u001b[0m\u001b[1;33m\u001b[0m\u001b[0m\n",
      "\u001b[1;32mE:\\Users\\xbxb\\Anaconda3\\lib\\site-packages\\pyspark\\ml\\evaluation.py\u001b[0m in \u001b[0;36mevaluate\u001b[1;34m(self, dataset, params)\u001b[0m\n\u001b[0;32m     69\u001b[0m                 \u001b[1;32mreturn\u001b[0m \u001b[0mself\u001b[0m\u001b[1;33m.\u001b[0m\u001b[0mcopy\u001b[0m\u001b[1;33m(\u001b[0m\u001b[0mparams\u001b[0m\u001b[1;33m)\u001b[0m\u001b[1;33m.\u001b[0m\u001b[0m_evaluate\u001b[0m\u001b[1;33m(\u001b[0m\u001b[0mdataset\u001b[0m\u001b[1;33m)\u001b[0m\u001b[1;33m\u001b[0m\u001b[0m\n\u001b[0;32m     70\u001b[0m             \u001b[1;32melse\u001b[0m\u001b[1;33m:\u001b[0m\u001b[1;33m\u001b[0m\u001b[0m\n\u001b[1;32m---> 71\u001b[1;33m                 \u001b[1;32mreturn\u001b[0m \u001b[0mself\u001b[0m\u001b[1;33m.\u001b[0m\u001b[0m_evaluate\u001b[0m\u001b[1;33m(\u001b[0m\u001b[0mdataset\u001b[0m\u001b[1;33m)\u001b[0m\u001b[1;33m\u001b[0m\u001b[0m\n\u001b[0m\u001b[0;32m     72\u001b[0m         \u001b[1;32melse\u001b[0m\u001b[1;33m:\u001b[0m\u001b[1;33m\u001b[0m\u001b[0m\n\u001b[0;32m     73\u001b[0m             \u001b[1;32mraise\u001b[0m \u001b[0mValueError\u001b[0m\u001b[1;33m(\u001b[0m\u001b[1;34m\"Params must be a param map but got %s.\"\u001b[0m \u001b[1;33m%\u001b[0m \u001b[0mtype\u001b[0m\u001b[1;33m(\u001b[0m\u001b[0mparams\u001b[0m\u001b[1;33m)\u001b[0m\u001b[1;33m)\u001b[0m\u001b[1;33m\u001b[0m\u001b[0m\n",
      "\u001b[1;32mE:\\Users\\xbxb\\Anaconda3\\lib\\site-packages\\pyspark\\ml\\evaluation.py\u001b[0m in \u001b[0;36m_evaluate\u001b[1;34m(self, dataset)\u001b[0m\n\u001b[0;32m     99\u001b[0m         \"\"\"\n\u001b[0;32m    100\u001b[0m         \u001b[0mself\u001b[0m\u001b[1;33m.\u001b[0m\u001b[0m_transfer_params_to_java\u001b[0m\u001b[1;33m(\u001b[0m\u001b[1;33m)\u001b[0m\u001b[1;33m\u001b[0m\u001b[0m\n\u001b[1;32m--> 101\u001b[1;33m         \u001b[1;32mreturn\u001b[0m \u001b[0mself\u001b[0m\u001b[1;33m.\u001b[0m\u001b[0m_java_obj\u001b[0m\u001b[1;33m.\u001b[0m\u001b[0mevaluate\u001b[0m\u001b[1;33m(\u001b[0m\u001b[0mdataset\u001b[0m\u001b[1;33m.\u001b[0m\u001b[0m_jdf\u001b[0m\u001b[1;33m)\u001b[0m\u001b[1;33m\u001b[0m\u001b[0m\n\u001b[0m\u001b[0;32m    102\u001b[0m \u001b[1;33m\u001b[0m\u001b[0m\n\u001b[0;32m    103\u001b[0m     \u001b[1;32mdef\u001b[0m \u001b[0misLargerBetter\u001b[0m\u001b[1;33m(\u001b[0m\u001b[0mself\u001b[0m\u001b[1;33m)\u001b[0m\u001b[1;33m:\u001b[0m\u001b[1;33m\u001b[0m\u001b[0m\n",
      "\u001b[1;32mE:\\Users\\xbxb\\Anaconda3\\lib\\site-packages\\py4j\\java_gateway.py\u001b[0m in \u001b[0;36m__call__\u001b[1;34m(self, *args)\u001b[0m\n\u001b[0;32m   1255\u001b[0m         \u001b[0manswer\u001b[0m \u001b[1;33m=\u001b[0m \u001b[0mself\u001b[0m\u001b[1;33m.\u001b[0m\u001b[0mgateway_client\u001b[0m\u001b[1;33m.\u001b[0m\u001b[0msend_command\u001b[0m\u001b[1;33m(\u001b[0m\u001b[0mcommand\u001b[0m\u001b[1;33m)\u001b[0m\u001b[1;33m\u001b[0m\u001b[0m\n\u001b[0;32m   1256\u001b[0m         return_value = get_return_value(\n\u001b[1;32m-> 1257\u001b[1;33m             answer, self.gateway_client, self.target_id, self.name)\n\u001b[0m\u001b[0;32m   1258\u001b[0m \u001b[1;33m\u001b[0m\u001b[0m\n\u001b[0;32m   1259\u001b[0m         \u001b[1;32mfor\u001b[0m \u001b[0mtemp_arg\u001b[0m \u001b[1;32min\u001b[0m \u001b[0mtemp_args\u001b[0m\u001b[1;33m:\u001b[0m\u001b[1;33m\u001b[0m\u001b[0m\n",
      "\u001b[1;32mE:\\Users\\xbxb\\Anaconda3\\lib\\site-packages\\pyspark\\sql\\utils.py\u001b[0m in \u001b[0;36mdeco\u001b[1;34m(*a, **kw)\u001b[0m\n\u001b[0;32m     61\u001b[0m     \u001b[1;32mdef\u001b[0m \u001b[0mdeco\u001b[0m\u001b[1;33m(\u001b[0m\u001b[1;33m*\u001b[0m\u001b[0ma\u001b[0m\u001b[1;33m,\u001b[0m \u001b[1;33m**\u001b[0m\u001b[0mkw\u001b[0m\u001b[1;33m)\u001b[0m\u001b[1;33m:\u001b[0m\u001b[1;33m\u001b[0m\u001b[0m\n\u001b[0;32m     62\u001b[0m         \u001b[1;32mtry\u001b[0m\u001b[1;33m:\u001b[0m\u001b[1;33m\u001b[0m\u001b[0m\n\u001b[1;32m---> 63\u001b[1;33m             \u001b[1;32mreturn\u001b[0m \u001b[0mf\u001b[0m\u001b[1;33m(\u001b[0m\u001b[1;33m*\u001b[0m\u001b[0ma\u001b[0m\u001b[1;33m,\u001b[0m \u001b[1;33m**\u001b[0m\u001b[0mkw\u001b[0m\u001b[1;33m)\u001b[0m\u001b[1;33m\u001b[0m\u001b[0m\n\u001b[0m\u001b[0;32m     64\u001b[0m         \u001b[1;32mexcept\u001b[0m \u001b[0mpy4j\u001b[0m\u001b[1;33m.\u001b[0m\u001b[0mprotocol\u001b[0m\u001b[1;33m.\u001b[0m\u001b[0mPy4JJavaError\u001b[0m \u001b[1;32mas\u001b[0m \u001b[0me\u001b[0m\u001b[1;33m:\u001b[0m\u001b[1;33m\u001b[0m\u001b[0m\n\u001b[0;32m     65\u001b[0m             \u001b[0ms\u001b[0m \u001b[1;33m=\u001b[0m \u001b[0me\u001b[0m\u001b[1;33m.\u001b[0m\u001b[0mjava_exception\u001b[0m\u001b[1;33m.\u001b[0m\u001b[0mtoString\u001b[0m\u001b[1;33m(\u001b[0m\u001b[1;33m)\u001b[0m\u001b[1;33m\u001b[0m\u001b[0m\n",
      "\u001b[1;32mE:\\Users\\xbxb\\Anaconda3\\lib\\site-packages\\py4j\\protocol.py\u001b[0m in \u001b[0;36mget_return_value\u001b[1;34m(answer, gateway_client, target_id, name)\u001b[0m\n\u001b[0;32m    326\u001b[0m                 raise Py4JJavaError(\n\u001b[0;32m    327\u001b[0m                     \u001b[1;34m\"An error occurred while calling {0}{1}{2}.\\n\"\u001b[0m\u001b[1;33m.\u001b[0m\u001b[1;33m\u001b[0m\u001b[0m\n\u001b[1;32m--> 328\u001b[1;33m                     format(target_id, \".\", name), value)\n\u001b[0m\u001b[0;32m    329\u001b[0m             \u001b[1;32melse\u001b[0m\u001b[1;33m:\u001b[0m\u001b[1;33m\u001b[0m\u001b[0m\n\u001b[0;32m    330\u001b[0m                 raise Py4JError(\n",
      "\u001b[1;31mPy4JJavaError\u001b[0m: An error occurred while calling o1317769.evaluate.\n: org.apache.spark.SparkException: Job aborted due to stage failure: Task 0 in stage 457647.0 failed 1 times, most recent failure: Lost task 0.0 in stage 457647.0 (TID 459175, localhost, executor driver): java.io.FileNotFoundException: File file:/G:/operation d/DS-project-Spark-Project-Sparkify/feature_df.csv does not exist\nIt is possible the underlying files have been updated. You can explicitly invalidate the cache in Spark by running 'REFRESH TABLE tableName' command in SQL or by recreating the Dataset/DataFrame involved.\r\n\tat org.apache.spark.sql.execution.datasources.FileScanRDD$$anon$1.org$apache$spark$sql$execution$datasources$FileScanRDD$$anon$$readCurrentFile(FileScanRDD.scala:127)\r\n\tat org.apache.spark.sql.execution.datasources.FileScanRDD$$anon$1.nextIterator(FileScanRDD.scala:177)\r\n\tat org.apache.spark.sql.execution.datasources.FileScanRDD$$anon$1.hasNext(FileScanRDD.scala:101)\r\n\tat org.apache.spark.sql.catalyst.expressions.GeneratedClass$GeneratedIteratorForCodegenStage1.sort_addToSorter_0$(Unknown Source)\r\n\tat org.apache.spark.sql.catalyst.expressions.GeneratedClass$GeneratedIteratorForCodegenStage1.processNext(Unknown Source)\r\n\tat org.apache.spark.sql.execution.BufferedRowIterator.hasNext(BufferedRowIterator.java:43)\r\n\tat org.apache.spark.sql.execution.WholeStageCodegenExec$$anonfun$13$$anon$1.hasNext(WholeStageCodegenExec.scala:636)\r\n\tat scala.collection.Iterator$$anon$11.hasNext(Iterator.scala:409)\r\n\tat scala.collection.Iterator$$anon$11.hasNext(Iterator.scala:409)\r\n\tat scala.collection.Iterator$$anon$11.hasNext(Iterator.scala:409)\r\n\tat scala.collection.Iterator$$anon$11.hasNext(Iterator.scala:409)\r\n\tat scala.collection.Iterator$$anon$11.hasNext(Iterator.scala:409)\r\n\tat scala.collection.Iterator$$anon$11.hasNext(Iterator.scala:409)\r\n\tat org.apache.spark.util.collection.ExternalSorter.insertAll(ExternalSorter.scala:191)\r\n\tat org.apache.spark.shuffle.sort.SortShuffleWriter.write(SortShuffleWriter.scala:62)\r\n\tat org.apache.spark.scheduler.ShuffleMapTask.runTask(ShuffleMapTask.scala:99)\r\n\tat org.apache.spark.scheduler.ShuffleMapTask.runTask(ShuffleMapTask.scala:55)\r\n\tat org.apache.spark.scheduler.Task.run(Task.scala:121)\r\n\tat org.apache.spark.executor.Executor$TaskRunner$$anonfun$10.apply(Executor.scala:403)\r\n\tat org.apache.spark.util.Utils$.tryWithSafeFinally(Utils.scala:1360)\r\n\tat org.apache.spark.executor.Executor$TaskRunner.run(Executor.scala:409)\r\n\tat java.util.concurrent.ThreadPoolExecutor.runWorker(ThreadPoolExecutor.java:1142)\r\n\tat java.util.concurrent.ThreadPoolExecutor$Worker.run(ThreadPoolExecutor.java:617)\r\n\tat java.lang.Thread.run(Thread.java:745)\r\n\nDriver stacktrace:\r\n\tat org.apache.spark.scheduler.DAGScheduler.org$apache$spark$scheduler$DAGScheduler$$failJobAndIndependentStages(DAGScheduler.scala:1889)\r\n\tat org.apache.spark.scheduler.DAGScheduler$$anonfun$abortStage$1.apply(DAGScheduler.scala:1877)\r\n\tat org.apache.spark.scheduler.DAGScheduler$$anonfun$abortStage$1.apply(DAGScheduler.scala:1876)\r\n\tat scala.collection.mutable.ResizableArray$class.foreach(ResizableArray.scala:59)\r\n\tat scala.collection.mutable.ArrayBuffer.foreach(ArrayBuffer.scala:48)\r\n\tat org.apache.spark.scheduler.DAGScheduler.abortStage(DAGScheduler.scala:1876)\r\n\tat org.apache.spark.scheduler.DAGScheduler$$anonfun$handleTaskSetFailed$1.apply(DAGScheduler.scala:926)\r\n\tat org.apache.spark.scheduler.DAGScheduler$$anonfun$handleTaskSetFailed$1.apply(DAGScheduler.scala:926)\r\n\tat scala.Option.foreach(Option.scala:257)\r\n\tat org.apache.spark.scheduler.DAGScheduler.handleTaskSetFailed(DAGScheduler.scala:926)\r\n\tat org.apache.spark.scheduler.DAGSchedulerEventProcessLoop.doOnReceive(DAGScheduler.scala:2110)\r\n\tat org.apache.spark.scheduler.DAGSchedulerEventProcessLoop.onReceive(DAGScheduler.scala:2059)\r\n\tat org.apache.spark.scheduler.DAGSchedulerEventProcessLoop.onReceive(DAGScheduler.scala:2048)\r\n\tat org.apache.spark.util.EventLoop$$anon$1.run(EventLoop.scala:49)\r\n\tat org.apache.spark.scheduler.DAGScheduler.runJob(DAGScheduler.scala:737)\r\n\tat org.apache.spark.SparkContext.runJob(SparkContext.scala:2061)\r\n\tat org.apache.spark.SparkContext.runJob(SparkContext.scala:2082)\r\n\tat org.apache.spark.SparkContext.runJob(SparkContext.scala:2101)\r\n\tat org.apache.spark.SparkContext.runJob(SparkContext.scala:2126)\r\n\tat org.apache.spark.rdd.RDD$$anonfun$collect$1.apply(RDD.scala:945)\r\n\tat org.apache.spark.rdd.RDDOperationScope$.withScope(RDDOperationScope.scala:151)\r\n\tat org.apache.spark.rdd.RDDOperationScope$.withScope(RDDOperationScope.scala:112)\r\n\tat org.apache.spark.rdd.RDD.withScope(RDD.scala:363)\r\n\tat org.apache.spark.rdd.RDD.collect(RDD.scala:944)\r\n\tat org.apache.spark.rdd.PairRDDFunctions$$anonfun$countByKey$1.apply(PairRDDFunctions.scala:370)\r\n\tat org.apache.spark.rdd.PairRDDFunctions$$anonfun$countByKey$1.apply(PairRDDFunctions.scala:370)\r\n\tat org.apache.spark.rdd.RDDOperationScope$.withScope(RDDOperationScope.scala:151)\r\n\tat org.apache.spark.rdd.RDDOperationScope$.withScope(RDDOperationScope.scala:112)\r\n\tat org.apache.spark.rdd.RDD.withScope(RDD.scala:363)\r\n\tat org.apache.spark.rdd.PairRDDFunctions.countByKey(PairRDDFunctions.scala:369)\r\n\tat org.apache.spark.rdd.RDD$$anonfun$countByValue$1.apply(RDD.scala:1214)\r\n\tat org.apache.spark.rdd.RDD$$anonfun$countByValue$1.apply(RDD.scala:1214)\r\n\tat org.apache.spark.rdd.RDDOperationScope$.withScope(RDDOperationScope.scala:151)\r\n\tat org.apache.spark.rdd.RDDOperationScope$.withScope(RDDOperationScope.scala:112)\r\n\tat org.apache.spark.rdd.RDD.withScope(RDD.scala:363)\r\n\tat org.apache.spark.rdd.RDD.countByValue(RDD.scala:1213)\r\n\tat org.apache.spark.mllib.evaluation.MulticlassMetrics.labelCountByClass$lzycompute(MulticlassMetrics.scala:42)\r\n\tat org.apache.spark.mllib.evaluation.MulticlassMetrics.labelCountByClass(MulticlassMetrics.scala:42)\r\n\tat org.apache.spark.mllib.evaluation.MulticlassMetrics.weightedFMeasure$lzycompute(MulticlassMetrics.scala:215)\r\n\tat org.apache.spark.mllib.evaluation.MulticlassMetrics.weightedFMeasure(MulticlassMetrics.scala:215)\r\n\tat org.apache.spark.ml.evaluation.MulticlassClassificationEvaluator.evaluate(MulticlassClassificationEvaluator.scala:84)\r\n\tat sun.reflect.GeneratedMethodAccessor128.invoke(Unknown Source)\r\n\tat sun.reflect.DelegatingMethodAccessorImpl.invoke(DelegatingMethodAccessorImpl.java:43)\r\n\tat java.lang.reflect.Method.invoke(Method.java:497)\r\n\tat py4j.reflection.MethodInvoker.invoke(MethodInvoker.java:244)\r\n\tat py4j.reflection.ReflectionEngine.invoke(ReflectionEngine.java:357)\r\n\tat py4j.Gateway.invoke(Gateway.java:282)\r\n\tat py4j.commands.AbstractCommand.invokeMethod(AbstractCommand.java:132)\r\n\tat py4j.commands.CallCommand.execute(CallCommand.java:79)\r\n\tat py4j.GatewayConnection.run(GatewayConnection.java:238)\r\n\tat java.lang.Thread.run(Thread.java:745)\r\nCaused by: java.io.FileNotFoundException: File file:/G:/operation d/DS-project-Spark-Project-Sparkify/feature_df.csv does not exist\nIt is possible the underlying files have been updated. You can explicitly invalidate the cache in Spark by running 'REFRESH TABLE tableName' command in SQL or by recreating the Dataset/DataFrame involved.\r\n\tat org.apache.spark.sql.execution.datasources.FileScanRDD$$anon$1.org$apache$spark$sql$execution$datasources$FileScanRDD$$anon$$readCurrentFile(FileScanRDD.scala:127)\r\n\tat org.apache.spark.sql.execution.datasources.FileScanRDD$$anon$1.nextIterator(FileScanRDD.scala:177)\r\n\tat org.apache.spark.sql.execution.datasources.FileScanRDD$$anon$1.hasNext(FileScanRDD.scala:101)\r\n\tat org.apache.spark.sql.catalyst.expressions.GeneratedClass$GeneratedIteratorForCodegenStage1.sort_addToSorter_0$(Unknown Source)\r\n\tat org.apache.spark.sql.catalyst.expressions.GeneratedClass$GeneratedIteratorForCodegenStage1.processNext(Unknown Source)\r\n\tat org.apache.spark.sql.execution.BufferedRowIterator.hasNext(BufferedRowIterator.java:43)\r\n\tat org.apache.spark.sql.execution.WholeStageCodegenExec$$anonfun$13$$anon$1.hasNext(WholeStageCodegenExec.scala:636)\r\n\tat scala.collection.Iterator$$anon$11.hasNext(Iterator.scala:409)\r\n\tat scala.collection.Iterator$$anon$11.hasNext(Iterator.scala:409)\r\n\tat scala.collection.Iterator$$anon$11.hasNext(Iterator.scala:409)\r\n\tat scala.collection.Iterator$$anon$11.hasNext(Iterator.scala:409)\r\n\tat scala.collection.Iterator$$anon$11.hasNext(Iterator.scala:409)\r\n\tat scala.collection.Iterator$$anon$11.hasNext(Iterator.scala:409)\r\n\tat org.apache.spark.util.collection.ExternalSorter.insertAll(ExternalSorter.scala:191)\r\n\tat org.apache.spark.shuffle.sort.SortShuffleWriter.write(SortShuffleWriter.scala:62)\r\n\tat org.apache.spark.scheduler.ShuffleMapTask.runTask(ShuffleMapTask.scala:99)\r\n\tat org.apache.spark.scheduler.ShuffleMapTask.runTask(ShuffleMapTask.scala:55)\r\n\tat org.apache.spark.scheduler.Task.run(Task.scala:121)\r\n\tat org.apache.spark.executor.Executor$TaskRunner$$anonfun$10.apply(Executor.scala:403)\r\n\tat org.apache.spark.util.Utils$.tryWithSafeFinally(Utils.scala:1360)\r\n\tat org.apache.spark.executor.Executor$TaskRunner.run(Executor.scala:409)\r\n\tat java.util.concurrent.ThreadPoolExecutor.runWorker(ThreadPoolExecutor.java:1142)\r\n\tat java.util.concurrent.ThreadPoolExecutor$Worker.run(ThreadPoolExecutor.java:617)\r\n\t... 1 more\r\n"
     ]
    }
   ],
   "source": [
    "lr76_model3,rf76_model3,gbts76_model3=three_modelcomparison(stratified_train2,validation)"
   ]
  },
  {
   "cell_type": "code",
   "execution_count": null,
   "metadata": {},
   "outputs": [],
   "source": []
  }
 ],
 "metadata": {
  "kernelspec": {
   "display_name": "Python 3",
   "language": "python",
   "name": "python3"
  },
  "language_info": {
   "codemirror_mode": {
    "name": "ipython",
    "version": 3
   },
   "file_extension": ".py",
   "mimetype": "text/x-python",
   "name": "python",
   "nbconvert_exporter": "python",
   "pygments_lexer": "ipython3",
   "version": "3.7.0"
  }
 },
 "nbformat": 4,
 "nbformat_minor": 2
}
