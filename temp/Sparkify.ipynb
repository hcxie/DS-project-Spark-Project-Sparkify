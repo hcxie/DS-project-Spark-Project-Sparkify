{
 "cells": [
  {
   "cell_type": "markdown",
   "metadata": {},
   "source": [
    "# Sparkify Project Workspace\n",
    "This workspace contains a tiny subset (128MB) of the full dataset available (12GB). Feel free to use this workspace to build your project, or to explore a smaller subset with Spark before deploying your cluster on the cloud. Instructions for setting up your Spark cluster is included in the last lesson of the Extracurricular Spark Course content.\n",
    "\n",
    "You can follow the steps below to guide your data analysis and model building portion of this project."
   ]
  },
  {
   "cell_type": "code",
   "execution_count": 153,
   "metadata": {},
   "outputs": [],
   "source": [
    "# import libraries\n",
    "import pyspark\n",
    "from pyspark import SparkConf\n",
    "from pyspark.sql import SparkSession\n",
    "from pyspark.sql.functions import avg, col, concat, desc, explode, lit, min, max, split, udf, isnull\n",
    "from pyspark.ml.feature import OneHotEncoderEstimator\n",
    "from pyspark.ml.feature import CountVectorizer, IDF, Normalizer, PCA, RegexTokenizer, StandardScaler, StopWordsRemover, StringIndexer, VectorAssembler\n",
    "import datetime\n",
    "import seaborn as sns\n",
    "import pandas as pd\n",
    "import numpy as np\n",
    "import matplotlib.pyplot as plt\n",
    "from pyspark.ml.classification import LogisticRegression, RandomForestClassifier, GBTClassifier, DecisionTreeClassifier, NaiveBayes\n",
    "from pyspark.ml.evaluation import BinaryClassificationEvaluator\n",
    "from pyspark.ml.tuning import CrossValidator, ParamGridBuilder\n"
   ]
  },
  {
   "cell_type": "code",
   "execution_count": 8,
   "metadata": {},
   "outputs": [],
   "source": [
    "# create a Spark session\n",
    "spark = SparkSession \\\n",
    "    .builder \\\n",
    "    .appName(\"sparkify SQL\") \\\n",
    "    .getOrCreate()"
   ]
  },
  {
   "cell_type": "markdown",
   "metadata": {},
   "source": [
    "# Load and Clean Dataset\n",
    "In this workspace, the mini-dataset file is `mini_sparkify_event_data.json`. Load and clean the dataset, checking for invalid or missing data - for example, records without userids or sessionids. "
   ]
  },
  {
   "cell_type": "code",
   "execution_count": 3,
   "metadata": {},
   "outputs": [],
   "source": [
    "path = \"mini_sparkify_event_data.json\"\n",
    "spark_df = spark.read.json(path)"
   ]
  },
  {
   "cell_type": "code",
   "execution_count": 4,
   "metadata": {},
   "outputs": [
    {
     "data": {
      "text/plain": [
       "286500"
      ]
     },
     "execution_count": 4,
     "metadata": {},
     "output_type": "execute_result"
    }
   ],
   "source": [
    "spark_df.count()"
   ]
  },
  {
   "cell_type": "code",
   "execution_count": 5,
   "metadata": {},
   "outputs": [],
   "source": [
    "spark_df.createOrReplaceTempView(\"spark_df_table\")"
   ]
  },
  {
   "cell_type": "markdown",
   "metadata": {},
   "source": [
    "check if userID or sessionID is null"
   ]
  },
  {
   "cell_type": "code",
   "execution_count": 6,
   "metadata": {},
   "outputs": [
    {
     "name": "stdout",
     "output_type": "stream",
     "text": [
      "+------+----+---------+------+-------------+--------+------+-----+--------+------+----+------------+---------+----+------+---+---------+------+\n",
      "|artist|auth|firstName|gender|itemInSession|lastName|length|level|location|method|page|registration|sessionId|song|status| ts|userAgent|userId|\n",
      "+------+----+---------+------+-------------+--------+------+-----+--------+------+----+------------+---------+----+------+---+---------+------+\n",
      "+------+----+---------+------+-------------+--------+------+-----+--------+------+----+------------+---------+----+------+---+---------+------+\n",
      "\n"
     ]
    }
   ],
   "source": [
    "spark.sql('''\n",
    "            SELECT *\n",
    "            FROM spark_df_table\n",
    "            WHERE userID is NULL OR sessionId is NULL\n",
    "          '''\n",
    "         ).show()"
   ]
  },
  {
   "cell_type": "markdown",
   "metadata": {},
   "source": [
    "check if userID and sessionID is empty"
   ]
  },
  {
   "cell_type": "code",
   "execution_count": 7,
   "metadata": {
    "scrolled": true
   },
   "outputs": [
    {
     "name": "stdout",
     "output_type": "stream",
     "text": [
      "+------+----------+---------+------+-------------+--------+------+-----+--------+------+-----+------------+---------+----+------+-------------+---------+------+\n",
      "|artist|      auth|firstName|gender|itemInSession|lastName|length|level|location|method| page|registration|sessionId|song|status|           ts|userAgent|userId|\n",
      "+------+----------+---------+------+-------------+--------+------+-----+--------+------+-----+------------+---------+----+------+-------------+---------+------+\n",
      "|  null|Logged Out|     null|  null|          100|    null|  null| free|    null|   GET| Home|        null|        8|null|   200|1538355745000|     null|      |\n",
      "|  null|Logged Out|     null|  null|          101|    null|  null| free|    null|   GET| Help|        null|        8|null|   200|1538355807000|     null|      |\n",
      "|  null|Logged Out|     null|  null|          102|    null|  null| free|    null|   GET| Home|        null|        8|null|   200|1538355841000|     null|      |\n",
      "|  null|Logged Out|     null|  null|          103|    null|  null| free|    null|   PUT|Login|        null|        8|null|   307|1538355842000|     null|      |\n",
      "|  null|Logged Out|     null|  null|            2|    null|  null| free|    null|   GET| Home|        null|      240|null|   200|1538356678000|     null|      |\n",
      "|  null|Logged Out|     null|  null|            3|    null|  null| free|    null|   PUT|Login|        null|      240|null|   307|1538356679000|     null|      |\n",
      "|  null|Logged Out|     null|  null|            0|    null|  null| free|    null|   PUT|Login|        null|      100|null|   307|1538358102000|     null|      |\n",
      "|  null|Logged Out|     null|  null|            0|    null|  null| free|    null|   PUT|Login|        null|      241|null|   307|1538360117000|     null|      |\n",
      "|  null|Logged Out|     null|  null|           14|    null|  null| free|    null|   GET| Home|        null|      187|null|   200|1538361527000|     null|      |\n",
      "|  null|Logged Out|     null|  null|           15|    null|  null| free|    null|   PUT|Login|        null|      187|null|   307|1538361528000|     null|      |\n",
      "|  null|Logged Out|     null|  null|           21|    null|  null| free|    null|   GET| Home|        null|      187|null|   200|1538362007000|     null|      |\n",
      "|  null|Logged Out|     null|  null|           22|    null|  null| free|    null|   GET| Home|        null|      187|null|   200|1538362095000|     null|      |\n",
      "|  null|Logged Out|     null|  null|           23|    null|  null| free|    null|   PUT|Login|        null|      187|null|   307|1538362096000|     null|      |\n",
      "|  null|Logged Out|     null|  null|            0|    null|  null| free|    null|   GET| Home|        null|       27|null|   200|1538363488000|     null|      |\n",
      "|  null|Logged Out|     null|  null|            1|    null|  null| free|    null|   GET|About|        null|       27|null|   200|1538363494000|     null|      |\n",
      "|  null|Logged Out|     null|  null|            2|    null|  null| free|    null|   GET| Home|        null|       27|null|   200|1538363503000|     null|      |\n",
      "|  null|Logged Out|     null|  null|           38|    null|  null| free|    null|   GET| Home|        null|      187|null|   200|1538364254000|     null|      |\n",
      "|  null|Logged Out|     null|  null|           39|    null|  null| free|    null|   PUT|Login|        null|      187|null|   307|1538364255000|     null|      |\n",
      "|  null|Logged Out|     null|  null|            0|    null|  null| free|    null|   GET| Home|        null|      257|null|   200|1538364750000|     null|      |\n",
      "|  null|Logged Out|     null|  null|           47|    null|  null| free|    null|   GET| Home|        null|      100|null|   200|1538370681000|     null|      |\n",
      "+------+----------+---------+------+-------------+--------+------+-----+--------+------+-----+------------+---------+----+------+-------------+---------+------+\n",
      "only showing top 20 rows\n",
      "\n"
     ]
    }
   ],
   "source": [
    "spark.sql('''\n",
    "            SELECT *\n",
    "            FROM spark_df_table\n",
    "            WHERE userID = \"\" OR sessionId = \"\"\n",
    "          '''\n",
    "         ).show()"
   ]
  },
  {
   "cell_type": "code",
   "execution_count": 8,
   "metadata": {},
   "outputs": [],
   "source": [
    "spark_df_clean=spark_df.filter(spark_df[\"userId\"]!=\"\")"
   ]
  },
  {
   "cell_type": "code",
   "execution_count": 9,
   "metadata": {},
   "outputs": [
    {
     "data": {
      "text/plain": [
       "286500"
      ]
     },
     "execution_count": 9,
     "metadata": {},
     "output_type": "execute_result"
    }
   ],
   "source": [
    "spark_df.count()"
   ]
  },
  {
   "cell_type": "code",
   "execution_count": 10,
   "metadata": {},
   "outputs": [
    {
     "data": {
      "text/plain": [
       "278154"
      ]
     },
     "execution_count": 10,
     "metadata": {},
     "output_type": "execute_result"
    }
   ],
   "source": [
    "spark_df_clean.count()"
   ]
  },
  {
   "cell_type": "code",
   "execution_count": 11,
   "metadata": {},
   "outputs": [],
   "source": [
    "spark_df_clean=spark_df_clean.dropna(how=\"any\",subset=[\"userId\",'sessionId'])"
   ]
  },
  {
   "cell_type": "code",
   "execution_count": 12,
   "metadata": {},
   "outputs": [
    {
     "data": {
      "text/plain": [
       "278154"
      ]
     },
     "execution_count": 12,
     "metadata": {},
     "output_type": "execute_result"
    }
   ],
   "source": [
    "spark_df_clean.count()"
   ]
  },
  {
   "cell_type": "markdown",
   "metadata": {},
   "source": [
    "# Exploratory Data Analysis\n",
    "When you're working with the full dataset, perform EDA by loading a small subset of the data and doing basic manipulations within Spark. In this workspace, you are already provided a small subset of data you can explore.\n",
    "\n",
    "### Define Churn\n",
    "\n",
    "Once you've done some preliminary analysis, create a column `Churn` to use as the label for your model. I suggest using the `Cancellation Confirmation` events to define your churn, which happen for both paid and free users. As a bonus task, you can also look into the `Downgrade` events.\n",
    "\n",
    "### Explore Data\n",
    "Once you've defined churn, perform some exploratory data analysis to observe the behavior for users who stayed vs users who churned. You can start by exploring aggregates on these two groups of users, observing how much of a specific action they experienced per a certain time unit or number of songs played."
   ]
  },
  {
   "cell_type": "markdown",
   "metadata": {},
   "source": [
    "#### Add churn \n",
    "create an addition columns named churn. If the value in this column is 1, then this user cancelled his/her service eventually."
   ]
  },
  {
   "cell_type": "code",
   "execution_count": 13,
   "metadata": {},
   "outputs": [
    {
     "name": "stdout",
     "output_type": "stream",
     "text": [
      "+--------------------+\n",
      "|                page|\n",
      "+--------------------+\n",
      "|              Cancel|\n",
      "|    Submit Downgrade|\n",
      "|         Thumbs Down|\n",
      "|                Home|\n",
      "|           Downgrade|\n",
      "|         Roll Advert|\n",
      "|              Logout|\n",
      "|       Save Settings|\n",
      "|Cancellation Conf...|\n",
      "|               About|\n",
      "|            Settings|\n",
      "|     Add to Playlist|\n",
      "|          Add Friend|\n",
      "|            NextSong|\n",
      "|           Thumbs Up|\n",
      "|                Help|\n",
      "|             Upgrade|\n",
      "|               Error|\n",
      "|      Submit Upgrade|\n",
      "+--------------------+\n",
      "\n"
     ]
    }
   ],
   "source": [
    "spark_df_clean.select('page').dropDuplicates().show()"
   ]
  },
  {
   "cell_type": "code",
   "execution_count": 14,
   "metadata": {},
   "outputs": [],
   "source": [
    "get_cancel=udf(lambda x:1 if x=='Cancellation Confirmation' else 0)"
   ]
  },
  {
   "cell_type": "code",
   "execution_count": 15,
   "metadata": {},
   "outputs": [],
   "source": [
    "spark_df_clean=spark_df_clean.withColumn(\"Churn\",get_cancel(spark_df_clean['page']))"
   ]
  },
  {
   "cell_type": "code",
   "execution_count": 16,
   "metadata": {},
   "outputs": [
    {
     "name": "stdout",
     "output_type": "stream",
     "text": [
      "+------+---------+---------+------+-------------+--------+------+-----+------------------+------+--------------------+-------------+---------+----+------+-------------+--------------------+------+-----+\n",
      "|artist|     auth|firstName|gender|itemInSession|lastName|length|level|          location|method|                page| registration|sessionId|song|status|           ts|           userAgent|userId|Churn|\n",
      "+------+---------+---------+------+-------------+--------+------+-----+------------------+------+--------------------+-------------+---------+----+------+-------------+--------------------+------+-----+\n",
      "|  null|Cancelled|   Adriel|     M|          104| Mendoza|  null| paid|Kansas City, MO-KS|   GET|Cancellation Conf...|1535623466000|      514|null|   200|1538943990000|\"Mozilla/5.0 (Mac...|    18|    1|\n",
      "+------+---------+---------+------+-------------+--------+------+-----+------------------+------+--------------------+-------------+---------+----+------+-------------+--------------------+------+-----+\n",
      "only showing top 1 row\n",
      "\n"
     ]
    }
   ],
   "source": [
    "spark_df_clean.filter(spark_df_clean[\"Churn\"]==1).show(1)"
   ]
  },
  {
   "cell_type": "code",
   "execution_count": 17,
   "metadata": {},
   "outputs": [
    {
     "name": "stdout",
     "output_type": "stream",
     "text": [
      "+-----+\n",
      "|Churn|\n",
      "+-----+\n",
      "|    0|\n",
      "|    1|\n",
      "+-----+\n",
      "\n"
     ]
    }
   ],
   "source": [
    "spark_df_clean.select('Churn').dropDuplicates().show()"
   ]
  },
  {
   "cell_type": "markdown",
   "metadata": {},
   "source": [
    "right now, only the rows with page value = cancel confirmation have churn value = 1, I need to assign 1 to churn columns for all rows that belongs to the user who canceled the service"
   ]
  },
  {
   "cell_type": "code",
   "execution_count": 18,
   "metadata": {},
   "outputs": [],
   "source": [
    "churnlist=spark_df_clean.filter(spark_df_clean[\"Churn\"]==1).select('userId').dropDuplicates().collect()\n",
    "# add .collect() otherwise if will store it as a dataframe not a list"
   ]
  },
  {
   "cell_type": "code",
   "execution_count": 19,
   "metadata": {},
   "outputs": [],
   "source": [
    "churn_list=[x['userId'] for x in churnlist]"
   ]
  },
  {
   "cell_type": "code",
   "execution_count": 20,
   "metadata": {},
   "outputs": [],
   "source": [
    "assign_churn=udf(lambda x:1 if x in churn_list else 0)"
   ]
  },
  {
   "cell_type": "code",
   "execution_count": 21,
   "metadata": {},
   "outputs": [],
   "source": [
    "spark_df_clean=spark_df_clean.withColumn(\"Churn\",assign_churn(spark_df_clean['userId']))"
   ]
  },
  {
   "cell_type": "code",
   "execution_count": 22,
   "metadata": {},
   "outputs": [
    {
     "name": "stdout",
     "output_type": "stream",
     "text": [
      "+-----+\n",
      "|Churn|\n",
      "+-----+\n",
      "|    1|\n",
      "|    1|\n",
      "+-----+\n",
      "only showing top 2 rows\n",
      "\n"
     ]
    }
   ],
   "source": [
    "spark_df_clean.filter(spark_df_clean[\"userId\"]==18).select('Churn').show(2)"
   ]
  },
  {
   "cell_type": "markdown",
   "metadata": {},
   "source": [
    "#### Add downgrade columns"
   ]
  },
  {
   "cell_type": "code",
   "execution_count": 23,
   "metadata": {},
   "outputs": [],
   "source": [
    "get_downgrade=udf(lambda x:1 if x=='Downgrade' else 0)"
   ]
  },
  {
   "cell_type": "code",
   "execution_count": 24,
   "metadata": {},
   "outputs": [],
   "source": [
    "spark_df_clean=spark_df_clean.withColumn(\"Downgrade\",get_cancel(spark_df_clean['page']))"
   ]
  },
  {
   "cell_type": "code",
   "execution_count": 25,
   "metadata": {},
   "outputs": [
    {
     "name": "stdout",
     "output_type": "stream",
     "text": [
      "+--------------+---------+---------+------+-------------+--------+---------+-----+---------------+------+--------+-------------+---------+---------+------+-------------+--------------------+------+-----+---------+\n",
      "|        artist|     auth|firstName|gender|itemInSession|lastName|   length|level|       location|method|    page| registration|sessionId|     song|status|           ts|           userAgent|userId|Churn|Downgrade|\n",
      "+--------------+---------+---------+------+-------------+--------+---------+-----+---------------+------+--------+-------------+---------+---------+------+-------------+--------------------+------+-----+---------+\n",
      "|Martha Tilston|Logged In|    Colin|     M|           50| Freeman|277.89016| paid|Bakersfield, CA|   PUT|NextSong|1538173362000|       29|Rockpools|   200|1538352117000|Mozilla/5.0 (Wind...|    30|    0|        0|\n",
      "+--------------+---------+---------+------+-------------+--------+---------+-----+---------------+------+--------+-------------+---------+---------+------+-------------+--------------------+------+-----+---------+\n",
      "only showing top 1 row\n",
      "\n"
     ]
    }
   ],
   "source": [
    "spark_df_clean.show(1)"
   ]
  },
  {
   "cell_type": "code",
   "execution_count": 26,
   "metadata": {},
   "outputs": [],
   "source": [
    "downgradelist=spark_df_clean.filter(spark_df_clean[\"Downgrade\"]==1).select('userId').dropDuplicates().collect()\n",
    "downgrade_list=[x['userId'] for x in downgradelist]\n",
    "assign_downgrade=udf(lambda x:1 if x in downgrade_list else 0)\n",
    "spark_df_clean=spark_df_clean.withColumn(\"Downgrade\",assign_downgrade(spark_df_clean['userId']))"
   ]
  },
  {
   "cell_type": "code",
   "execution_count": 27,
   "metadata": {},
   "outputs": [
    {
     "name": "stdout",
     "output_type": "stream",
     "text": [
      "+------+\n",
      "|userId|\n",
      "+------+\n",
      "|   125|\n",
      "|    51|\n",
      "+------+\n",
      "only showing top 2 rows\n",
      "\n"
     ]
    }
   ],
   "source": [
    "spark_df_clean.filter(spark_df_clean[\"Downgrade\"]==1).select('userId').dropDuplicates().show(2)"
   ]
  },
  {
   "cell_type": "code",
   "execution_count": 28,
   "metadata": {},
   "outputs": [
    {
     "name": "stdout",
     "output_type": "stream",
     "text": [
      "+---------+\n",
      "|Downgrade|\n",
      "+---------+\n",
      "|        1|\n",
      "|        1|\n",
      "+---------+\n",
      "only showing top 2 rows\n",
      "\n"
     ]
    }
   ],
   "source": [
    "spark_df_clean.filter(spark_df_clean[\"userId\"]==125).select('Downgrade').show(2)"
   ]
  },
  {
   "cell_type": "markdown",
   "metadata": {},
   "source": [
    "#### Convert ts to real time"
   ]
  },
  {
   "cell_type": "code",
   "execution_count": 29,
   "metadata": {},
   "outputs": [],
   "source": [
    "gen_time = udf(lambda x: datetime.datetime.fromtimestamp(x / 1000.0).strftime(\"%Y-%m-%d %H:%M:%S\"))\n",
    "spark_df_clean = spark_df_clean.withColumn(\"time\", gen_time(spark_df_clean['ts']))"
   ]
  },
  {
   "cell_type": "code",
   "execution_count": 30,
   "metadata": {},
   "outputs": [
    {
     "name": "stdout",
     "output_type": "stream",
     "text": [
      "+--------------+---------+---------+------+-------------+--------+---------+-----+---------------+------+--------+-------------+---------+---------+------+-------------+--------------------+------+-----+---------+-------------------+\n",
      "|        artist|     auth|firstName|gender|itemInSession|lastName|   length|level|       location|method|    page| registration|sessionId|     song|status|           ts|           userAgent|userId|Churn|Downgrade|               time|\n",
      "+--------------+---------+---------+------+-------------+--------+---------+-----+---------------+------+--------+-------------+---------+---------+------+-------------+--------------------+------+-----+---------+-------------------+\n",
      "|Martha Tilston|Logged In|    Colin|     M|           50| Freeman|277.89016| paid|Bakersfield, CA|   PUT|NextSong|1538173362000|       29|Rockpools|   200|1538352117000|Mozilla/5.0 (Wind...|    30|    0|        0|2018-09-30 20:01:57|\n",
      "+--------------+---------+---------+------+-------------+--------+---------+-----+---------------+------+--------+-------------+---------+---------+------+-------------+--------------------+------+-----+---------+-------------------+\n",
      "only showing top 1 row\n",
      "\n"
     ]
    }
   ],
   "source": [
    "spark_df_clean.show(1)"
   ]
  },
  {
   "cell_type": "code",
   "execution_count": 31,
   "metadata": {},
   "outputs": [],
   "source": [
    "gen_hour = udf(lambda x: datetime.datetime.fromtimestamp(x / 1000.0).hour)\n",
    "spark_df_clean = spark_df_clean.withColumn(\"hour\", gen_hour(spark_df_clean['ts']))\n",
    "\n",
    "gen_weekday = udf(lambda x: datetime.datetime.fromtimestamp(x / 1000.0).strftime(\"%w\"))\n",
    "spark_df_clean = spark_df_clean.withColumn(\"weekday\", gen_weekday(spark_df_clean['ts']))\n",
    "\n",
    "gen_day = udf(lambda x: datetime.datetime.fromtimestamp(x / 1000.0).day)\n",
    "spark_df_clean = spark_df_clean.withColumn(\"day\", gen_day(spark_df_clean['ts']))"
   ]
  },
  {
   "cell_type": "markdown",
   "metadata": {},
   "source": [
    "#### Convert location to state"
   ]
  },
  {
   "cell_type": "code",
   "execution_count": 32,
   "metadata": {},
   "outputs": [],
   "source": [
    "get_state=udf(lambda x:x[-2:])\n",
    "spark_df_clean = spark_df_clean.withColumn(\"location_state\", get_state(spark_df_clean['location']))"
   ]
  },
  {
   "cell_type": "code",
   "execution_count": 33,
   "metadata": {},
   "outputs": [
    {
     "name": "stdout",
     "output_type": "stream",
     "text": [
      "+--------------+---------+---------+------+-------------+--------+---------+-----+---------------+------+--------+-------------+---------+---------+------+-------------+--------------------+------+-----+---------+-------------------+----+-------+---+--------------+\n",
      "|        artist|     auth|firstName|gender|itemInSession|lastName|   length|level|       location|method|    page| registration|sessionId|     song|status|           ts|           userAgent|userId|Churn|Downgrade|               time|hour|weekday|day|location_state|\n",
      "+--------------+---------+---------+------+-------------+--------+---------+-----+---------------+------+--------+-------------+---------+---------+------+-------------+--------------------+------+-----+---------+-------------------+----+-------+---+--------------+\n",
      "|Martha Tilston|Logged In|    Colin|     M|           50| Freeman|277.89016| paid|Bakersfield, CA|   PUT|NextSong|1538173362000|       29|Rockpools|   200|1538352117000|Mozilla/5.0 (Wind...|    30|    0|        0|2018-09-30 20:01:57|  20|      0| 30|            CA|\n",
      "+--------------+---------+---------+------+-------------+--------+---------+-----+---------------+------+--------+-------------+---------+---------+------+-------------+--------------------+------+-----+---------+-------------------+----+-------+---+--------------+\n",
      "only showing top 1 row\n",
      "\n"
     ]
    }
   ],
   "source": [
    "spark_df_clean.show(1)"
   ]
  },
  {
   "cell_type": "markdown",
   "metadata": {},
   "source": [
    "#### simplify userAgent\n",
    "This will show the system that user used for sparkify"
   ]
  },
  {
   "cell_type": "code",
   "execution_count": 34,
   "metadata": {},
   "outputs": [
    {
     "data": {
      "text/plain": [
       "[Row(userAgent='\"Mozilla/5.0 (Macintosh; Intel Mac OS X 10_8_5) AppleWebKit/537.36 (KHTML, like Gecko) Chrome/36.0.1985.143 Safari/537.36\"'),\n",
       " Row(userAgent='\"Mozilla/5.0 (Windows NT 5.1) AppleWebKit/537.36 (KHTML, like Gecko) Chrome/36.0.1985.143 Safari/537.36\"'),\n",
       " Row(userAgent='Mozilla/5.0 (X11; Ubuntu; Linux i686; rv:31.0) Gecko/20100101 Firefox/31.0'),\n",
       " Row(userAgent='\"Mozilla/5.0 (Macintosh; Intel Mac OS X 10_9_4) AppleWebKit/537.36 (KHTML, like Gecko) Chrome/36.0.1985.125 Safari/537.36\"'),\n",
       " Row(userAgent='\"Mozilla/5.0 (Macintosh; Intel Mac OS X 10_9_4) AppleWebKit/537.36 (KHTML, like Gecko) Chrome/35.0.1916.153 Safari/537.36\"'),\n",
       " Row(userAgent='Mozilla/5.0 (Macintosh; Intel Mac OS X 10.7; rv:31.0) Gecko/20100101 Firefox/31.0'),\n",
       " Row(userAgent='Mozilla/5.0 (Windows NT 6.1; WOW64; rv:30.0) Gecko/20100101 Firefox/30.0'),\n",
       " Row(userAgent='Mozilla/5.0 (Windows NT 6.3; WOW64; rv:31.0) Gecko/20100101 Firefox/31.0'),\n",
       " Row(userAgent='Mozilla/5.0 (compatible; MSIE 9.0; Windows NT 6.1; WOW64; Trident/5.0)'),\n",
       " Row(userAgent='\"Mozilla/5.0 (Windows NT 6.3; WOW64) AppleWebKit/537.36 (KHTML, like Gecko) Chrome/36.0.1985.143 Safari/537.36\"'),\n",
       " Row(userAgent='Mozilla/5.0 (Macintosh; Intel Mac OS X 10.9; rv:31.0) Gecko/20100101 Firefox/31.0'),\n",
       " Row(userAgent='\"Mozilla/5.0 (Windows NT 5.1) AppleWebKit/537.36 (KHTML, like Gecko) Chrome/36.0.1985.125 Safari/537.36\"'),\n",
       " Row(userAgent='\"Mozilla/5.0 (iPhone; CPU iPhone OS 7_1_1 like Mac OS X) AppleWebKit/537.51.2 (KHTML, like Gecko) Version/7.0 Mobile/11D201 Safari/9537.53\"'),\n",
       " Row(userAgent='\"Mozilla/5.0 (Windows NT 6.1; WOW64) AppleWebKit/537.36 (KHTML, like Gecko) Chrome/36.0.1985.125 Safari/537.36\"'),\n",
       " Row(userAgent='Mozilla/5.0 (Windows NT 6.1; WOW64; rv:31.0) Gecko/20100101 Firefox/31.0'),\n",
       " Row(userAgent='Mozilla/5.0 (compatible; MSIE 9.0; Windows NT 6.1; Trident/5.0)'),\n",
       " Row(userAgent='Mozilla/5.0 (compatible; MSIE 10.0; Windows NT 6.1; WOW64; Trident/6.0)'),\n",
       " Row(userAgent='\"Mozilla/5.0 (Macintosh; Intel Mac OS X 10_8_5) AppleWebKit/537.36 (KHTML, like Gecko) Chrome/37.0.2062.94 Safari/537.36\"'),\n",
       " Row(userAgent='\"Mozilla/5.0 (Macintosh; Intel Mac OS X 10_9_2) AppleWebKit/537.75.14 (KHTML, like Gecko) Version/7.0.3 Safari/537.75.14\"'),\n",
       " Row(userAgent='\"Mozilla/5.0 (Windows NT 6.1; WOW64) AppleWebKit/537.36 (KHTML, like Gecko) Chrome/37.0.2062.103 Safari/537.36\"'),\n",
       " Row(userAgent='\"Mozilla/5.0 (Windows NT 6.2; WOW64) AppleWebKit/537.36 (KHTML, like Gecko) Chrome/36.0.1985.125 Safari/537.36\"'),\n",
       " Row(userAgent='\"Mozilla/5.0 (iPad; CPU OS 7_1_2 like Mac OS X) AppleWebKit/537.51.2 (KHTML, like Gecko) Version/7.0 Mobile/11D257 Safari/9537.53\"'),\n",
       " Row(userAgent='\"Mozilla/5.0 (Macintosh; Intel Mac OS X 10_6_8) AppleWebKit/537.36 (KHTML, like Gecko) Chrome/36.0.1985.143 Safari/537.36\"'),\n",
       " Row(userAgent='Mozilla/5.0 (Windows NT 6.0; rv:31.0) Gecko/20100101 Firefox/31.0'),\n",
       " Row(userAgent='\"Mozilla/5.0 (Macintosh; Intel Mac OS X 10_9_4) AppleWebKit/537.36 (KHTML, like Gecko) Chrome/36.0.1985.143 Safari/537.36\"'),\n",
       " Row(userAgent='\"Mozilla/5.0 (Macintosh; Intel Mac OS X 10_7_5) AppleWebKit/537.36 (KHTML, like Gecko) Chrome/36.0.1985.125 Safari/537.36\"'),\n",
       " Row(userAgent='\"Mozilla/5.0 (Windows NT 6.1) AppleWebKit/537.36 (KHTML, like Gecko) Chrome/36.0.1985.125 Safari/537.36\"'),\n",
       " Row(userAgent='\"Mozilla/5.0 (Windows NT 6.2; WOW64) AppleWebKit/537.36 (KHTML, like Gecko) Chrome/36.0.1985.143 Safari/537.36\"'),\n",
       " Row(userAgent='Mozilla/5.0 (Macintosh; Intel Mac OS X 10.6; rv:31.0) Gecko/20100101 Firefox/31.0'),\n",
       " Row(userAgent='\"Mozilla/5.0 (Macintosh; Intel Mac OS X 10_9_3) AppleWebKit/537.76.4 (KHTML, like Gecko) Version/7.0.4 Safari/537.76.4\"'),\n",
       " Row(userAgent='Mozilla/5.0 (X11; Linux x86_64; rv:31.0) Gecko/20100101 Firefox/31.0'),\n",
       " Row(userAgent='\"Mozilla/5.0 (Macintosh; Intel Mac OS X 10_9_4) AppleWebKit/537.78.2 (KHTML, like Gecko) Version/7.0.6 Safari/537.78.2\"'),\n",
       " Row(userAgent='\"Mozilla/5.0 (Macintosh; Intel Mac OS X 10_7_5) AppleWebKit/537.77.4 (KHTML, like Gecko) Version/6.1.5 Safari/537.77.4\"'),\n",
       " Row(userAgent='\"Mozilla/5.0 (Macintosh; Intel Mac OS X 10_10) AppleWebKit/600.1.8 (KHTML, like Gecko) Version/8.0 Safari/600.1.8\"'),\n",
       " Row(userAgent='\"Mozilla/5.0 (Windows NT 6.1; WOW64) AppleWebKit/537.36 (KHTML, like Gecko) Chrome/35.0.1916.153 Safari/537.36\"'),\n",
       " Row(userAgent='\"Mozilla/5.0 (X11; Linux x86_64) AppleWebKit/537.36 (KHTML, like Gecko) Chrome/36.0.1985.143 Safari/537.36\"'),\n",
       " Row(userAgent='\"Mozilla/5.0 (Windows NT 6.1) AppleWebKit/537.36 (KHTML, like Gecko) Chrome/36.0.1985.143 Safari/537.36\"'),\n",
       " Row(userAgent='Mozilla/5.0 (X11; Ubuntu; Linux x86_64; rv:31.0) Gecko/20100101 Firefox/31.0'),\n",
       " Row(userAgent='\"Mozilla/5.0 (iPad; CPU OS 7_1_1 like Mac OS X) AppleWebKit/537.51.2 (KHTML, like Gecko) Version/7.0 Mobile/11D201 Safari/9537.53\"'),\n",
       " Row(userAgent='\"Mozilla/5.0 (Macintosh; Intel Mac OS X 10_10) AppleWebKit/600.1.3 (KHTML, like Gecko) Version/8.0 Safari/600.1.3\"'),\n",
       " Row(userAgent='Mozilla/5.0 (Windows NT 6.2; WOW64; rv:31.0) Gecko/20100101 Firefox/31.0'),\n",
       " Row(userAgent='\"Mozilla/5.0 (Macintosh; Intel Mac OS X 10_9_4) AppleWebKit/537.77.4 (KHTML, like Gecko) Version/7.0.5 Safari/537.77.4\"'),\n",
       " Row(userAgent='\"Mozilla/5.0 (Windows NT 6.3; WOW64) AppleWebKit/537.36 (KHTML, like Gecko) Chrome/36.0.1985.125 Safari/537.36\"'),\n",
       " Row(userAgent='Mozilla/5.0 (Windows NT 6.1; WOW64; rv:24.0) Gecko/20100101 Firefox/24.0'),\n",
       " Row(userAgent='Mozilla/5.0 (Windows NT 6.1; WOW64; rv:32.0) Gecko/20100101 Firefox/32.0'),\n",
       " Row(userAgent='\"Mozilla/5.0 (Macintosh; Intel Mac OS X 10_9_2) AppleWebKit/537.74.9 (KHTML, like Gecko) Version/7.0.2 Safari/537.74.9\"'),\n",
       " Row(userAgent='\"Mozilla/5.0 (iPhone; CPU iPhone OS 7_1_2 like Mac OS X) AppleWebKit/537.51.2 (KHTML, like Gecko) Version/7.0 Mobile/11D257 Safari/9537.53\"'),\n",
       " Row(userAgent='\"Mozilla/5.0 (X11; Linux x86_64) AppleWebKit/537.36 (KHTML, like Gecko) Chrome/36.0.1985.125 Safari/537.36\"'),\n",
       " Row(userAgent='\"Mozilla/5.0 (Macintosh; Intel Mac OS X 10_9_2) AppleWebKit/537.36 (KHTML, like Gecko) Chrome/36.0.1985.125 Safari/537.36\"'),\n",
       " Row(userAgent='\"Mozilla/5.0 (Windows NT 6.1; WOW64) AppleWebKit/537.36 (KHTML, like Gecko) Chrome/37.0.2062.94 Safari/537.36\"'),\n",
       " Row(userAgent='\"Mozilla/5.0 (Macintosh; Intel Mac OS X 10_9_4) AppleWebKit/537.36 (KHTML, like Gecko) Chrome/37.0.2062.94 Safari/537.36\"'),\n",
       " Row(userAgent='\"Mozilla/5.0 (iPhone; CPU iPhone OS 7_1 like Mac OS X) AppleWebKit/537.51.2 (KHTML, like Gecko) Version/7.0 Mobile/11D167 Safari/9537.53\"'),\n",
       " Row(userAgent='\"Mozilla/5.0 (Windows NT 6.1; WOW64) AppleWebKit/537.36 (KHTML, like Gecko) Chrome/36.0.1985.143 Safari/537.36\"'),\n",
       " Row(userAgent='Mozilla/5.0 (Macintosh; Intel Mac OS X 10.8; rv:31.0) Gecko/20100101 Firefox/31.0'),\n",
       " Row(userAgent='Mozilla/5.0 (Windows NT 6.1; WOW64; Trident/7.0; rv:11.0) like Gecko'),\n",
       " Row(userAgent='Mozilla/5.0 (Windows NT 6.1; rv:31.0) Gecko/20100101 Firefox/31.0')]"
      ]
     },
     "execution_count": 34,
     "metadata": {},
     "output_type": "execute_result"
    }
   ],
   "source": [
    "spark_df_clean.select('userAgent').dropDuplicates().collect()"
   ]
  },
  {
   "cell_type": "code",
   "execution_count": 35,
   "metadata": {},
   "outputs": [],
   "source": [
    "simp_useragent=udf(lambda x:\"\".join(x[x.index('(')+1:x.index(')')]))"
   ]
  },
  {
   "cell_type": "code",
   "execution_count": 36,
   "metadata": {},
   "outputs": [],
   "source": [
    "spark_df_clean= spark_df_clean.withColumn(\"sim_user_agent\", simp_useragent(spark_df_clean['userAgent']))"
   ]
  },
  {
   "cell_type": "code",
   "execution_count": 37,
   "metadata": {},
   "outputs": [
    {
     "name": "stdout",
     "output_type": "stream",
     "text": [
      "+--------------+---------+---------+------+-------------+--------+---------+-----+---------------+------+--------+-------------+---------+---------+------+-------------+--------------------+------+-----+---------+-------------------+----+-------+---+--------------+--------------------+\n",
      "|        artist|     auth|firstName|gender|itemInSession|lastName|   length|level|       location|method|    page| registration|sessionId|     song|status|           ts|           userAgent|userId|Churn|Downgrade|               time|hour|weekday|day|location_state|      sim_user_agent|\n",
      "+--------------+---------+---------+------+-------------+--------+---------+-----+---------------+------+--------+-------------+---------+---------+------+-------------+--------------------+------+-----+---------+-------------------+----+-------+---+--------------+--------------------+\n",
      "|Martha Tilston|Logged In|    Colin|     M|           50| Freeman|277.89016| paid|Bakersfield, CA|   PUT|NextSong|1538173362000|       29|Rockpools|   200|1538352117000|Mozilla/5.0 (Wind...|    30|    0|        0|2018-09-30 20:01:57|  20|      0| 30|            CA|Windows NT 6.1; W...|\n",
      "+--------------+---------+---------+------+-------------+--------+---------+-----+---------------+------+--------+-------------+---------+---------+------+-------------+--------------------+------+-----+---------+-------------------+----+-------+---+--------------+--------------------+\n",
      "only showing top 1 row\n",
      "\n"
     ]
    }
   ],
   "source": [
    "spark_df_clean.show(1)"
   ]
  },
  {
   "cell_type": "markdown",
   "metadata": {},
   "source": [
    "There are several features that I am interested to explore: gender,location(state),level,method,userAgent(simplified)"
   ]
  },
  {
   "cell_type": "code",
   "execution_count": 38,
   "metadata": {},
   "outputs": [
    {
     "name": "stdout",
     "output_type": "stream",
     "text": [
      "+------+\n",
      "|gender|\n",
      "+------+\n",
      "|     F|\n",
      "|     M|\n",
      "+------+\n",
      "\n"
     ]
    }
   ],
   "source": [
    "spark_df_clean.select('gender').dropDuplicates().show()"
   ]
  },
  {
   "cell_type": "code",
   "execution_count": 39,
   "metadata": {},
   "outputs": [
    {
     "name": "stdout",
     "output_type": "stream",
     "text": [
      "+-----+\n",
      "|level|\n",
      "+-----+\n",
      "| free|\n",
      "| paid|\n",
      "+-----+\n",
      "\n"
     ]
    }
   ],
   "source": [
    "spark_df_clean.select('level').dropDuplicates().show()"
   ]
  },
  {
   "cell_type": "code",
   "execution_count": 40,
   "metadata": {},
   "outputs": [
    {
     "name": "stdout",
     "output_type": "stream",
     "text": [
      "+------+\n",
      "|method|\n",
      "+------+\n",
      "|   PUT|\n",
      "|   GET|\n",
      "+------+\n",
      "\n"
     ]
    }
   ],
   "source": [
    "spark_df_clean.select('method').dropDuplicates().show()"
   ]
  },
  {
   "cell_type": "code",
   "execution_count": 41,
   "metadata": {},
   "outputs": [
    {
     "name": "stdout",
     "output_type": "stream",
     "text": [
      "+--------------+\n",
      "|location_state|\n",
      "+--------------+\n",
      "|            AZ|\n",
      "|            SC|\n",
      "|            LA|\n",
      "|            NJ|\n",
      "|            OR|\n",
      "|            VA|\n",
      "|            KY|\n",
      "|            NH|\n",
      "|            MI|\n",
      "|            NV|\n",
      "|            WI|\n",
      "|            ID|\n",
      "|            CA|\n",
      "|            CT|\n",
      "|            MT|\n",
      "|            NC|\n",
      "|            MD|\n",
      "|            MO|\n",
      "|            IL|\n",
      "|            WA|\n",
      "+--------------+\n",
      "only showing top 20 rows\n",
      "\n"
     ]
    }
   ],
   "source": [
    "spark_df_clean.select('location_state').dropDuplicates().show()"
   ]
  },
  {
   "cell_type": "code",
   "execution_count": 42,
   "metadata": {},
   "outputs": [
    {
     "data": {
      "text/plain": [
       "[Row(sim_user_agent='iPad; CPU OS 7_1_2 like Mac OS X'),\n",
       " Row(sim_user_agent='Macintosh; Intel Mac OS X 10_8_5'),\n",
       " Row(sim_user_agent='Macintosh; Intel Mac OS X 10.9; rv:31.0'),\n",
       " Row(sim_user_agent='iPad; CPU OS 7_1_1 like Mac OS X'),\n",
       " Row(sim_user_agent='Windows NT 6.2; WOW64; rv:31.0'),\n",
       " Row(sim_user_agent='Windows NT 6.1; WOW64'),\n",
       " Row(sim_user_agent='Macintosh; Intel Mac OS X 10_9_4'),\n",
       " Row(sim_user_agent='Windows NT 6.1; rv:31.0'),\n",
       " Row(sim_user_agent='X11; Ubuntu; Linux i686; rv:31.0'),\n",
       " Row(sim_user_agent='Windows NT 5.1'),\n",
       " Row(sim_user_agent='Macintosh; Intel Mac OS X 10_9_3'),\n",
       " Row(sim_user_agent='compatible; MSIE 9.0; Windows NT 6.1; Trident/5.0'),\n",
       " Row(sim_user_agent='X11; Linux x86_64'),\n",
       " Row(sim_user_agent='iPhone; CPU iPhone OS 7_1_2 like Mac OS X'),\n",
       " Row(sim_user_agent='Windows NT 6.2; WOW64'),\n",
       " Row(sim_user_agent='Windows NT 6.1; WOW64; rv:30.0'),\n",
       " Row(sim_user_agent='Macintosh; Intel Mac OS X 10.7; rv:31.0'),\n",
       " Row(sim_user_agent='Windows NT 6.3; WOW64; rv:31.0'),\n",
       " Row(sim_user_agent='Macintosh; Intel Mac OS X 10_9_2'),\n",
       " Row(sim_user_agent='Windows NT 6.1; WOW64; rv:32.0'),\n",
       " Row(sim_user_agent='Macintosh; Intel Mac OS X 10_6_8'),\n",
       " Row(sim_user_agent='Windows NT 6.3; WOW64'),\n",
       " Row(sim_user_agent='Windows NT 6.1'),\n",
       " Row(sim_user_agent='Windows NT 6.1; WOW64; rv:24.0'),\n",
       " Row(sim_user_agent='iPhone; CPU iPhone OS 7_1 like Mac OS X'),\n",
       " Row(sim_user_agent='X11; Ubuntu; Linux x86_64; rv:31.0'),\n",
       " Row(sim_user_agent='iPhone; CPU iPhone OS 7_1_1 like Mac OS X'),\n",
       " Row(sim_user_agent='compatible; MSIE 10.0; Windows NT 6.1; WOW64; Trident/6.0'),\n",
       " Row(sim_user_agent='Macintosh; Intel Mac OS X 10_7_5'),\n",
       " Row(sim_user_agent='X11; Linux x86_64; rv:31.0'),\n",
       " Row(sim_user_agent='Macintosh; Intel Mac OS X 10.8; rv:31.0'),\n",
       " Row(sim_user_agent='Windows NT 6.1; WOW64; rv:31.0'),\n",
       " Row(sim_user_agent='Macintosh; Intel Mac OS X 10_10'),\n",
       " Row(sim_user_agent='Windows NT 6.1; WOW64; Trident/7.0; rv:11.0'),\n",
       " Row(sim_user_agent='compatible; MSIE 9.0; Windows NT 6.1; WOW64; Trident/5.0'),\n",
       " Row(sim_user_agent='Windows NT 6.0; rv:31.0'),\n",
       " Row(sim_user_agent='Macintosh; Intel Mac OS X 10.6; rv:31.0')]"
      ]
     },
     "execution_count": 42,
     "metadata": {},
     "output_type": "execute_result"
    }
   ],
   "source": [
    "spark_df_clean.select('sim_user_agent').dropDuplicates().collect()"
   ]
  },
  {
   "cell_type": "markdown",
   "metadata": {},
   "source": [
    "### Cancellation service - data exploration"
   ]
  },
  {
   "cell_type": "markdown",
   "metadata": {},
   "source": [
    "#### Gender distribution between churn user and normal user"
   ]
  },
  {
   "cell_type": "code",
   "execution_count": 43,
   "metadata": {},
   "outputs": [],
   "source": [
    "df_gender=spark_df_clean.dropDuplicates([\"userId\"]).groupby([\"Churn\", \"gender\"]).count().sort(\"Churn\").toPandas()"
   ]
  },
  {
   "cell_type": "code",
   "execution_count": 44,
   "metadata": {},
   "outputs": [
    {
     "data": {
      "text/html": [
       "<div>\n",
       "<style scoped>\n",
       "    .dataframe tbody tr th:only-of-type {\n",
       "        vertical-align: middle;\n",
       "    }\n",
       "\n",
       "    .dataframe tbody tr th {\n",
       "        vertical-align: top;\n",
       "    }\n",
       "\n",
       "    .dataframe thead th {\n",
       "        text-align: right;\n",
       "    }\n",
       "</style>\n",
       "<table border=\"1\" class=\"dataframe\">\n",
       "  <thead>\n",
       "    <tr style=\"text-align: right;\">\n",
       "      <th></th>\n",
       "      <th>Churn</th>\n",
       "      <th>gender</th>\n",
       "      <th>count</th>\n",
       "    </tr>\n",
       "  </thead>\n",
       "  <tbody>\n",
       "    <tr>\n",
       "      <th>0</th>\n",
       "      <td>0</td>\n",
       "      <td>M</td>\n",
       "      <td>89</td>\n",
       "    </tr>\n",
       "    <tr>\n",
       "      <th>1</th>\n",
       "      <td>0</td>\n",
       "      <td>F</td>\n",
       "      <td>84</td>\n",
       "    </tr>\n",
       "    <tr>\n",
       "      <th>2</th>\n",
       "      <td>1</td>\n",
       "      <td>M</td>\n",
       "      <td>32</td>\n",
       "    </tr>\n",
       "    <tr>\n",
       "      <th>3</th>\n",
       "      <td>1</td>\n",
       "      <td>F</td>\n",
       "      <td>20</td>\n",
       "    </tr>\n",
       "  </tbody>\n",
       "</table>\n",
       "</div>"
      ],
      "text/plain": [
       "  Churn gender  count\n",
       "0     0      M     89\n",
       "1     0      F     84\n",
       "2     1      M     32\n",
       "3     1      F     20"
      ]
     },
     "execution_count": 44,
     "metadata": {},
     "output_type": "execute_result"
    }
   ],
   "source": [
    "df_gender"
   ]
  },
  {
   "cell_type": "code",
   "execution_count": 45,
   "metadata": {},
   "outputs": [
    {
     "data": {
      "text/plain": [
       "<matplotlib.axes._subplots.AxesSubplot at 0x1a760f9ef98>"
      ]
     },
     "execution_count": 45,
     "metadata": {},
     "output_type": "execute_result"
    },
    {
     "data": {
      "image/png": "[encoded data removed]",
      "text/plain": [
       "<Figure size 432x288 with 1 Axes>"
      ]
     },
     "metadata": {
      "needs_background": "light"
     },
     "output_type": "display_data"
    }
   ],
   "source": [
    "sns.barplot(x='Churn', y='count', hue='gender', data=df_gender)"
   ]
  },
  {
   "cell_type": "markdown",
   "metadata": {},
   "source": [
    "#### level distribution between churn user and normal user"
   ]
  },
  {
   "cell_type": "code",
   "execution_count": 46,
   "metadata": {},
   "outputs": [
    {
     "data": {
      "text/plain": [
       "<matplotlib.axes._subplots.AxesSubplot at 0x1a7630844a8>"
      ]
     },
     "execution_count": 46,
     "metadata": {},
     "output_type": "execute_result"
    },
    {
     "data": {
      "image/png": "[encoded data removed]",
      "text/plain": [
       "<Figure size 432x288 with 1 Axes>"
      ]
     },
     "metadata": {
      "needs_background": "light"
     },
     "output_type": "display_data"
    }
   ],
   "source": [
    "df_level=spark_df_clean.dropDuplicates([\"userId\"]).groupby([\"Churn\", \"level\"]).count().sort(\"Churn\").toPandas()\n",
    "sns.barplot(x='Churn', y='count', hue='level', data=df_level)"
   ]
  },
  {
   "cell_type": "markdown",
   "metadata": {},
   "source": [
    "#### method distribution between churn user and normal user"
   ]
  },
  {
   "cell_type": "code",
   "execution_count": 47,
   "metadata": {},
   "outputs": [
    {
     "data": {
      "text/plain": [
       "<matplotlib.axes._subplots.AxesSubplot at 0x1a7630f67f0>"
      ]
     },
     "execution_count": 47,
     "metadata": {},
     "output_type": "execute_result"
    },
    {
     "data": {
      "image/png": "[encoded data removed]",
      "text/plain": [
       "<Figure size 432x288 with 1 Axes>"
      ]
     },
     "metadata": {
      "needs_background": "light"
     },
     "output_type": "display_data"
    }
   ],
   "source": [
    "df_method=spark_df_clean.dropDuplicates([\"userId\"]).groupby([\"Churn\", \"method\"]).count().sort(\"Churn\").toPandas()\n",
    "sns.barplot(x='Churn', y='count', hue='method', data=df_method)"
   ]
  },
  {
   "cell_type": "markdown",
   "metadata": {},
   "source": [
    "#### location(state) distribution between churn and normal user"
   ]
  },
  {
   "cell_type": "code",
   "execution_count": 48,
   "metadata": {},
   "outputs": [
    {
     "data": {
      "text/plain": [
       "<matplotlib.axes._subplots.AxesSubplot at 0x1a76311b278>"
      ]
     },
     "execution_count": 48,
     "metadata": {},
     "output_type": "execute_result"
    },
    {
     "data": {
      "image/png": "[encoded data removed]",
      "text/plain": [
       "<Figure size 1440x720 with 1 Axes>"
      ]
     },
     "metadata": {
      "needs_background": "light"
     },
     "output_type": "display_data"
    }
   ],
   "source": [
    "plt.figure(figsize=(20,10))\n",
    "df_state=spark_df_clean.dropDuplicates([\"userId\"]).groupby([\"Churn\", \"location_state\"]).count().sort(\"Churn\").toPandas()\n",
    "sns.barplot(x='location_state', y='count', hue='Churn', data=df_state)\n"
   ]
  },
  {
   "cell_type": "markdown",
   "metadata": {},
   "source": [
    "#### page distribution between churn user and normal user"
   ]
  },
  {
   "cell_type": "code",
   "execution_count": 49,
   "metadata": {},
   "outputs": [],
   "source": [
    "df_page=spark_df_clean.groupby([\"Churn\", \"page\"]).count().sort(\"Churn\").toPandas()"
   ]
  },
  {
   "cell_type": "code",
   "execution_count": 50,
   "metadata": {},
   "outputs": [],
   "source": [
    "df_page=df_page[(df_page['page']!=\"NextSong\")&(df_page['page']!=\"Cancellation Confirmation\")&(df_page['page']!=\"Cancel\")]"
   ]
  },
  {
   "cell_type": "code",
   "execution_count": 51,
   "metadata": {},
   "outputs": [
    {
     "data": {
      "text/plain": [
       "array(['Submit Upgrade', 'Upgrade', 'Error', 'Add Friend', 'Thumbs Up',\n",
       "       'Save Settings', 'Logout', 'Submit Downgrade', 'Add to Playlist',\n",
       "       'Help', 'Downgrade', 'Thumbs Down', 'Home', 'About', 'Settings',\n",
       "       'Roll Advert'], dtype=object)"
      ]
     },
     "execution_count": 51,
     "metadata": {},
     "output_type": "execute_result"
    }
   ],
   "source": [
    "df_page['page'].unique()"
   ]
  },
  {
   "cell_type": "code",
   "execution_count": 52,
   "metadata": {},
   "outputs": [
    {
     "data": {
      "text/plain": [
       "<matplotlib.axes._subplots.AxesSubplot at 0x1a763146d68>"
      ]
     },
     "execution_count": 52,
     "metadata": {},
     "output_type": "execute_result"
    },
    {
     "data": {
      "image/png": "[encoded data removed]",
      "text/plain": [
       "<Figure size 1440x720 with 1 Axes>"
      ]
     },
     "metadata": {
      "needs_background": "light"
     },
     "output_type": "display_data"
    }
   ],
   "source": [
    "plt.figure(figsize=(20,10))\n",
    "sns.barplot(x='count', y='page', hue='Churn', data=df_page)"
   ]
  },
  {
   "cell_type": "markdown",
   "metadata": {},
   "source": [
    "session statistic for churn user and normal user"
   ]
  },
  {
   "cell_type": "code",
   "execution_count": 53,
   "metadata": {},
   "outputs": [],
   "source": [
    "df_sessionid=spark_df_clean.groupby(\"sessionId\", \"Churn\").count().sort(\"sessionId\",'count').toPandas()"
   ]
  },
  {
   "cell_type": "code",
   "execution_count": 54,
   "metadata": {},
   "outputs": [
    {
     "data": {
      "text/html": [
       "<div>\n",
       "<style scoped>\n",
       "    .dataframe tbody tr th:only-of-type {\n",
       "        vertical-align: middle;\n",
       "    }\n",
       "\n",
       "    .dataframe tbody tr th {\n",
       "        vertical-align: top;\n",
       "    }\n",
       "\n",
       "    .dataframe thead th {\n",
       "        text-align: right;\n",
       "    }\n",
       "</style>\n",
       "<table border=\"1\" class=\"dataframe\">\n",
       "  <thead>\n",
       "    <tr style=\"text-align: right;\">\n",
       "      <th></th>\n",
       "      <th>sessionId</th>\n",
       "      <th>Churn</th>\n",
       "      <th>count</th>\n",
       "    </tr>\n",
       "  </thead>\n",
       "  <tbody>\n",
       "    <tr>\n",
       "      <th>0</th>\n",
       "      <td>1</td>\n",
       "      <td>1</td>\n",
       "      <td>252</td>\n",
       "    </tr>\n",
       "    <tr>\n",
       "      <th>1</th>\n",
       "      <td>1</td>\n",
       "      <td>0</td>\n",
       "      <td>428</td>\n",
       "    </tr>\n",
       "    <tr>\n",
       "      <th>2</th>\n",
       "      <td>2</td>\n",
       "      <td>0</td>\n",
       "      <td>7</td>\n",
       "    </tr>\n",
       "    <tr>\n",
       "      <th>3</th>\n",
       "      <td>3</td>\n",
       "      <td>1</td>\n",
       "      <td>2</td>\n",
       "    </tr>\n",
       "    <tr>\n",
       "      <th>4</th>\n",
       "      <td>3</td>\n",
       "      <td>0</td>\n",
       "      <td>35</td>\n",
       "    </tr>\n",
       "  </tbody>\n",
       "</table>\n",
       "</div>"
      ],
      "text/plain": [
       "   sessionId Churn  count\n",
       "0          1     1    252\n",
       "1          1     0    428\n",
       "2          2     0      7\n",
       "3          3     1      2\n",
       "4          3     0     35"
      ]
     },
     "execution_count": 54,
     "metadata": {},
     "output_type": "execute_result"
    }
   ],
   "source": [
    "df_sessionid.head()"
   ]
  },
  {
   "cell_type": "code",
   "execution_count": 55,
   "metadata": {},
   "outputs": [],
   "source": [
    "df_sessionid_churn=df_sessionid[df_sessionid['Churn']=='1']"
   ]
  },
  {
   "cell_type": "code",
   "execution_count": 56,
   "metadata": {},
   "outputs": [],
   "source": [
    "temp_col=list(df_sessionid_churn.columns)\n",
    "temp_col[2]='count_churn'\n",
    "df_sessionid_churn.columns=temp_col"
   ]
  },
  {
   "cell_type": "code",
   "execution_count": 57,
   "metadata": {},
   "outputs": [
    {
     "data": {
      "text/html": [
       "<div>\n",
       "<style scoped>\n",
       "    .dataframe tbody tr th:only-of-type {\n",
       "        vertical-align: middle;\n",
       "    }\n",
       "\n",
       "    .dataframe tbody tr th {\n",
       "        vertical-align: top;\n",
       "    }\n",
       "\n",
       "    .dataframe thead th {\n",
       "        text-align: right;\n",
       "    }\n",
       "</style>\n",
       "<table border=\"1\" class=\"dataframe\">\n",
       "  <thead>\n",
       "    <tr style=\"text-align: right;\">\n",
       "      <th></th>\n",
       "      <th>sessionId</th>\n",
       "      <th>Churn</th>\n",
       "      <th>count_churn</th>\n",
       "    </tr>\n",
       "  </thead>\n",
       "  <tbody>\n",
       "    <tr>\n",
       "      <th>0</th>\n",
       "      <td>1</td>\n",
       "      <td>1</td>\n",
       "      <td>252</td>\n",
       "    </tr>\n",
       "  </tbody>\n",
       "</table>\n",
       "</div>"
      ],
      "text/plain": [
       "   sessionId Churn  count_churn\n",
       "0          1     1          252"
      ]
     },
     "execution_count": 57,
     "metadata": {},
     "output_type": "execute_result"
    }
   ],
   "source": [
    "df_sessionid_churn.head(1)"
   ]
  },
  {
   "cell_type": "code",
   "execution_count": 58,
   "metadata": {},
   "outputs": [],
   "source": [
    "df_sessionid_normal=df_sessionid[df_sessionid['Churn']=='0']\n",
    "temp_col=list(df_sessionid_normal)\n",
    "temp_col[2]='count_normal'\n",
    "df_sessionid_normal.columns=temp_col"
   ]
  },
  {
   "cell_type": "code",
   "execution_count": 59,
   "metadata": {},
   "outputs": [
    {
     "data": {
      "text/html": [
       "<div>\n",
       "<style scoped>\n",
       "    .dataframe tbody tr th:only-of-type {\n",
       "        vertical-align: middle;\n",
       "    }\n",
       "\n",
       "    .dataframe tbody tr th {\n",
       "        vertical-align: top;\n",
       "    }\n",
       "\n",
       "    .dataframe thead th {\n",
       "        text-align: right;\n",
       "    }\n",
       "</style>\n",
       "<table border=\"1\" class=\"dataframe\">\n",
       "  <thead>\n",
       "    <tr style=\"text-align: right;\">\n",
       "      <th></th>\n",
       "      <th>sessionId</th>\n",
       "      <th>Churn</th>\n",
       "      <th>count_normal</th>\n",
       "    </tr>\n",
       "  </thead>\n",
       "  <tbody>\n",
       "    <tr>\n",
       "      <th>1</th>\n",
       "      <td>1</td>\n",
       "      <td>0</td>\n",
       "      <td>428</td>\n",
       "    </tr>\n",
       "  </tbody>\n",
       "</table>\n",
       "</div>"
      ],
      "text/plain": [
       "   sessionId Churn  count_normal\n",
       "1          1     0           428"
      ]
     },
     "execution_count": 59,
     "metadata": {},
     "output_type": "execute_result"
    }
   ],
   "source": [
    "df_sessionid_normal.head(1)"
   ]
  },
  {
   "cell_type": "code",
   "execution_count": 60,
   "metadata": {},
   "outputs": [],
   "source": [
    "df_sessionid_count=pd.merge(df_sessionid_normal, df_sessionid_churn, on='sessionId',how=\"outer\").fillna(0)"
   ]
  },
  {
   "cell_type": "code",
   "execution_count": 61,
   "metadata": {},
   "outputs": [],
   "source": [
    "df_sessionid_count=df_sessionid_count[['sessionId','count_normal','count_churn']]"
   ]
  },
  {
   "cell_type": "code",
   "execution_count": 62,
   "metadata": {},
   "outputs": [],
   "source": [
    "df_sessionid_count['churn_per']=df_sessionid_count['count_churn']/(df_sessionid_count['count_normal']+df_sessionid_count['count_churn'])"
   ]
  },
  {
   "cell_type": "code",
   "execution_count": 63,
   "metadata": {},
   "outputs": [
    {
     "data": {
      "text/html": [
       "<div>\n",
       "<style scoped>\n",
       "    .dataframe tbody tr th:only-of-type {\n",
       "        vertical-align: middle;\n",
       "    }\n",
       "\n",
       "    .dataframe tbody tr th {\n",
       "        vertical-align: top;\n",
       "    }\n",
       "\n",
       "    .dataframe thead th {\n",
       "        text-align: right;\n",
       "    }\n",
       "</style>\n",
       "<table border=\"1\" class=\"dataframe\">\n",
       "  <thead>\n",
       "    <tr style=\"text-align: right;\">\n",
       "      <th></th>\n",
       "      <th>sessionId</th>\n",
       "      <th>count_normal</th>\n",
       "      <th>count_churn</th>\n",
       "      <th>churn_per</th>\n",
       "    </tr>\n",
       "  </thead>\n",
       "  <tbody>\n",
       "    <tr>\n",
       "      <th>2311</th>\n",
       "      <td>2003</td>\n",
       "      <td>0.0</td>\n",
       "      <td>109.0</td>\n",
       "      <td>1.0</td>\n",
       "    </tr>\n",
       "    <tr>\n",
       "      <th>2237</th>\n",
       "      <td>1111</td>\n",
       "      <td>0.0</td>\n",
       "      <td>1.0</td>\n",
       "      <td>1.0</td>\n",
       "    </tr>\n",
       "  </tbody>\n",
       "</table>\n",
       "</div>"
      ],
      "text/plain": [
       "      sessionId  count_normal  count_churn  churn_per\n",
       "2311       2003           0.0        109.0        1.0\n",
       "2237       1111           0.0          1.0        1.0"
      ]
     },
     "execution_count": 63,
     "metadata": {},
     "output_type": "execute_result"
    }
   ],
   "source": [
    "df_sessionid_count.sort_values('churn_per',ascending=False).head(2)"
   ]
  },
  {
   "cell_type": "markdown",
   "metadata": {},
   "source": [
    "df_seesionid_count show that the percentage of churn users in each session"
   ]
  },
  {
   "cell_type": "markdown",
   "metadata": {},
   "source": [
    "Time(hours in a day, days in a week, days in a month) distribution for churn user and normal user"
   ]
  },
  {
   "cell_type": "code",
   "execution_count": 64,
   "metadata": {},
   "outputs": [],
   "source": [
    "df_hour=spark_df_clean.filter(spark_df_clean['page']=='NextSong').groupby([\"Churn\", \"hour\"]).count().sort(\"Churn\").toPandas()"
   ]
  },
  {
   "cell_type": "code",
   "execution_count": 65,
   "metadata": {},
   "outputs": [
    {
     "data": {
      "text/plain": [
       "<matplotlib.axes._subplots.AxesSubplot at 0x1a763aed4e0>"
      ]
     },
     "execution_count": 65,
     "metadata": {},
     "output_type": "execute_result"
    },
    {
     "data": {
      "image/png": "[encoded data removed]",
      "text/plain": [
       "<Figure size 432x288 with 1 Axes>"
      ]
     },
     "metadata": {
      "needs_background": "light"
     },
     "output_type": "display_data"
    }
   ],
   "source": [
    "sns.barplot(x='hour', y='count', hue='Churn', data=df_hour)"
   ]
  },
  {
   "cell_type": "code",
   "execution_count": 66,
   "metadata": {},
   "outputs": [
    {
     "data": {
      "text/plain": [
       "<matplotlib.axes._subplots.AxesSubplot at 0x1a763c385f8>"
      ]
     },
     "execution_count": 66,
     "metadata": {},
     "output_type": "execute_result"
    },
    {
     "data": {
      "image/png": "[encoded data removed]",
      "text/plain": [
       "<Figure size 432x288 with 1 Axes>"
      ]
     },
     "metadata": {
      "needs_background": "light"
     },
     "output_type": "display_data"
    }
   ],
   "source": [
    "df_weekday=spark_df_clean.filter(spark_df_clean['page']=='NextSong').groupby([\"Churn\", \"weekday\"]).count().sort(\"Churn\").toPandas()\n",
    "sns.barplot(x='weekday', y='count', hue='Churn', data=df_weekday)"
   ]
  },
  {
   "cell_type": "code",
   "execution_count": 67,
   "metadata": {},
   "outputs": [],
   "source": [
    "df_day=spark_df_clean.filter(spark_df_clean['page']=='NextSong').groupby([\"Churn\", \"day\"]).count().sort(\"day\").toPandas()"
   ]
  },
  {
   "cell_type": "code",
   "execution_count": 68,
   "metadata": {},
   "outputs": [],
   "source": [
    "df_day['day']=pd.to_numeric(df_day['day'])"
   ]
  },
  {
   "cell_type": "code",
   "execution_count": 69,
   "metadata": {},
   "outputs": [],
   "source": [
    "df_day=df_day.sort_values('day')"
   ]
  },
  {
   "cell_type": "code",
   "execution_count": 70,
   "metadata": {},
   "outputs": [
    {
     "data": {
      "text/plain": [
       "<matplotlib.axes._subplots.AxesSubplot at 0x1a763cda160>"
      ]
     },
     "execution_count": 70,
     "metadata": {},
     "output_type": "execute_result"
    },
    {
     "data": {
      "image/png": "[encoded data removed]",
      "text/plain": [
       "<Figure size 432x288 with 1 Axes>"
      ]
     },
     "metadata": {
      "needs_background": "light"
     },
     "output_type": "display_data"
    }
   ],
   "source": [
    "sns.barplot(x='day', y='count', hue='Churn', data=df_day)"
   ]
  },
  {
   "cell_type": "markdown",
   "metadata": {},
   "source": [
    "# Feature Engineering\n",
    "Once you've familiarized yourself with the data, build out the features you find promising to train your model on. To work with the full dataset, you can follow the following steps.\n",
    "- Write a script to extract the necessary features from the smaller subset of data\n",
    "- Ensure that your script is scalable, using the best practices discussed in Lesson 3\n",
    "- Try your script on the full data set, debugging your script if necessary\n",
    "\n",
    "If you are working in the classroom workspace, you can just extract features based on the small subset of data contained here. Be sure to transfer over this work to the larger dataset when you work on your Spark cluster."
   ]
  },
  {
   "cell_type": "markdown",
   "metadata": {},
   "source": [
    "#### Get user ID"
   ]
  },
  {
   "cell_type": "code",
   "execution_count": 71,
   "metadata": {},
   "outputs": [],
   "source": [
    "user_list=spark_df_clean.select('userId').dropDuplicates().sort('userId').toPandas()['userId']"
   ]
  },
  {
   "cell_type": "code",
   "execution_count": 72,
   "metadata": {},
   "outputs": [],
   "source": [
    "user_list=list(user_list)"
   ]
  },
  {
   "cell_type": "markdown",
   "metadata": {},
   "source": [
    "#### Create feature dataframe"
   ]
  },
  {
   "cell_type": "code",
   "execution_count": 73,
   "metadata": {},
   "outputs": [],
   "source": [
    "feature_index=np.arange(0,len(user_list))"
   ]
  },
  {
   "cell_type": "code",
   "execution_count": 74,
   "metadata": {},
   "outputs": [],
   "source": [
    "feature_df=pd.DataFrame(index=feature_index)"
   ]
  },
  {
   "cell_type": "code",
   "execution_count": 75,
   "metadata": {},
   "outputs": [],
   "source": [
    "feature_df['userid']=user_list"
   ]
  },
  {
   "cell_type": "markdown",
   "metadata": {},
   "source": [
    "#### Add gender"
   ]
  },
  {
   "cell_type": "code",
   "execution_count": 76,
   "metadata": {},
   "outputs": [],
   "source": [
    "feature_df['gender']=spark_df_clean.select('userId','gender').dropDuplicates().sort('userId').toPandas()['gender']"
   ]
  },
  {
   "cell_type": "markdown",
   "metadata": {},
   "source": [
    "#### Add level"
   ]
  },
  {
   "cell_type": "code",
   "execution_count": 77,
   "metadata": {},
   "outputs": [],
   "source": [
    "feature_df['level']=spark_df_clean.select('userId','level').dropDuplicates().sort('userId').toPandas()['level']"
   ]
  },
  {
   "cell_type": "markdown",
   "metadata": {},
   "source": [
    "#### Add method"
   ]
  },
  {
   "cell_type": "code",
   "execution_count": 78,
   "metadata": {},
   "outputs": [],
   "source": [
    "feature_df['method']=spark_df_clean.select('userId','method').dropDuplicates().sort('userId').toPandas()['method']"
   ]
  },
  {
   "cell_type": "markdown",
   "metadata": {},
   "source": [
    "#### Add location_state"
   ]
  },
  {
   "cell_type": "code",
   "execution_count": 79,
   "metadata": {},
   "outputs": [],
   "source": [
    "feature_df['location_state']=spark_df_clean.select('userId','location_state').dropDuplicates().sort('userId').toPandas()['location_state']"
   ]
  },
  {
   "cell_type": "markdown",
   "metadata": {},
   "source": [
    "#### Add user_agent"
   ]
  },
  {
   "cell_type": "code",
   "execution_count": 80,
   "metadata": {},
   "outputs": [],
   "source": [
    "feature_df['user_agent']=spark_df_clean.select('userId','sim_user_agent').dropDuplicates().sort('userId').toPandas()['sim_user_agent']"
   ]
  },
  {
   "cell_type": "markdown",
   "metadata": {},
   "source": [
    "#### Add page features"
   ]
  },
  {
   "cell_type": "markdown",
   "metadata": {},
   "source": [
    "get page feature's name: page_feature_names"
   ]
  },
  {
   "cell_type": "code",
   "execution_count": 81,
   "metadata": {},
   "outputs": [],
   "source": [
    "page_feature_names=list(spark_df_clean.select('page').dropDuplicates().toPandas()['page'])"
   ]
  },
  {
   "cell_type": "markdown",
   "metadata": {},
   "source": [
    "create a dataframe to show the page feature count for each user :page_feature_count"
   ]
  },
  {
   "cell_type": "code",
   "execution_count": 82,
   "metadata": {},
   "outputs": [],
   "source": [
    "page_feature_count=spark_df_clean.select('userId','page').groupby(['userId','page']).count().sort('userId').toPandas()"
   ]
  },
  {
   "cell_type": "code",
   "execution_count": 83,
   "metadata": {},
   "outputs": [
    {
     "data": {
      "text/html": [
       "<div>\n",
       "<style scoped>\n",
       "    .dataframe tbody tr th:only-of-type {\n",
       "        vertical-align: middle;\n",
       "    }\n",
       "\n",
       "    .dataframe tbody tr th {\n",
       "        vertical-align: top;\n",
       "    }\n",
       "\n",
       "    .dataframe thead th {\n",
       "        text-align: right;\n",
       "    }\n",
       "</style>\n",
       "<table border=\"1\" class=\"dataframe\">\n",
       "  <thead>\n",
       "    <tr style=\"text-align: right;\">\n",
       "      <th></th>\n",
       "      <th>userId</th>\n",
       "      <th>page</th>\n",
       "      <th>count</th>\n",
       "    </tr>\n",
       "  </thead>\n",
       "  <tbody>\n",
       "    <tr>\n",
       "      <th>0</th>\n",
       "      <td>10</td>\n",
       "      <td>Logout</td>\n",
       "      <td>11</td>\n",
       "    </tr>\n",
       "    <tr>\n",
       "      <th>1</th>\n",
       "      <td>10</td>\n",
       "      <td>NextSong</td>\n",
       "      <td>673</td>\n",
       "    </tr>\n",
       "  </tbody>\n",
       "</table>\n",
       "</div>"
      ],
      "text/plain": [
       "  userId      page  count\n",
       "0     10    Logout     11\n",
       "1     10  NextSong    673"
      ]
     },
     "execution_count": 83,
     "metadata": {},
     "output_type": "execute_result"
    }
   ],
   "source": [
    "page_feature_count.head(2)"
   ]
  },
  {
   "cell_type": "markdown",
   "metadata": {},
   "source": [
    "extend page feature count to a dataframe, each column is one feature, the value is the count"
   ]
  },
  {
   "cell_type": "code",
   "execution_count": 84,
   "metadata": {},
   "outputs": [],
   "source": [
    "page_feature_array=np.zeros((len(user_list),len(page_feature_names)))"
   ]
  },
  {
   "cell_type": "code",
   "execution_count": 85,
   "metadata": {},
   "outputs": [],
   "source": [
    "for i in user_list:\n",
    "    index_i=user_list.index(i)\n",
    "    temp_user_page=list(page_feature_count[page_feature_count['userId']==i]['page'])\n",
    "    for j in page_feature_names:\n",
    "        \n",
    "        if j in temp_user_page:\n",
    "            \n",
    "            index_j=page_feature_names.index(j)\n",
    "            page_feature_array[index_i,index_j]=page_feature_count[(page_feature_count['userId']==i)&(page_feature_count['page']==j)]['count'].values[0]\n",
    "        \n",
    "        "
   ]
  },
  {
   "cell_type": "code",
   "execution_count": 86,
   "metadata": {},
   "outputs": [],
   "source": [
    "page_feature_df=pd.DataFrame(page_feature_array,columns=page_feature_names)"
   ]
  },
  {
   "cell_type": "code",
   "execution_count": 87,
   "metadata": {},
   "outputs": [],
   "source": [
    "feature_df=pd.concat([feature_df,page_feature_df],axis=1)"
   ]
  },
  {
   "cell_type": "markdown",
   "metadata": {},
   "source": [
    "#### Add numbers of days after registration"
   ]
  },
  {
   "cell_type": "code",
   "execution_count": 88,
   "metadata": {},
   "outputs": [],
   "source": [
    "user_max_time = spark_df_clean.groupby(\"userId\").max(\"ts\").sort(\"userId\").select('max(ts)').collect()"
   ]
  },
  {
   "cell_type": "code",
   "execution_count": 89,
   "metadata": {},
   "outputs": [],
   "source": [
    "user_reg_time = spark_df_clean.select(\"userId\", \"registration\").dropDuplicates().sort(\"userId\").select('registration').collect()"
   ]
  },
  {
   "cell_type": "code",
   "execution_count": 90,
   "metadata": {},
   "outputs": [],
   "source": [
    "number_of_days=(np.array(user_max_time)-np.array(user_reg_time))/(60*60*24*1000)"
   ]
  },
  {
   "cell_type": "code",
   "execution_count": 91,
   "metadata": {},
   "outputs": [],
   "source": [
    "feature_df['number of days']=number_of_days"
   ]
  },
  {
   "cell_type": "code",
   "execution_count": 92,
   "metadata": {},
   "outputs": [
    {
     "data": {
      "text/html": [
       "<div>\n",
       "<style scoped>\n",
       "    .dataframe tbody tr th:only-of-type {\n",
       "        vertical-align: middle;\n",
       "    }\n",
       "\n",
       "    .dataframe tbody tr th {\n",
       "        vertical-align: top;\n",
       "    }\n",
       "\n",
       "    .dataframe thead th {\n",
       "        text-align: right;\n",
       "    }\n",
       "</style>\n",
       "<table border=\"1\" class=\"dataframe\">\n",
       "  <thead>\n",
       "    <tr style=\"text-align: right;\">\n",
       "      <th></th>\n",
       "      <th>userid</th>\n",
       "      <th>gender</th>\n",
       "      <th>level</th>\n",
       "      <th>method</th>\n",
       "      <th>location_state</th>\n",
       "      <th>user_agent</th>\n",
       "      <th>Cancel</th>\n",
       "      <th>Submit Downgrade</th>\n",
       "      <th>Thumbs Down</th>\n",
       "      <th>Home</th>\n",
       "      <th>...</th>\n",
       "      <th>Settings</th>\n",
       "      <th>Add to Playlist</th>\n",
       "      <th>Add Friend</th>\n",
       "      <th>NextSong</th>\n",
       "      <th>Thumbs Up</th>\n",
       "      <th>Help</th>\n",
       "      <th>Upgrade</th>\n",
       "      <th>Error</th>\n",
       "      <th>Submit Upgrade</th>\n",
       "      <th>number of days</th>\n",
       "    </tr>\n",
       "  </thead>\n",
       "  <tbody>\n",
       "    <tr>\n",
       "      <th>0</th>\n",
       "      <td>10</td>\n",
       "      <td>M</td>\n",
       "      <td>paid</td>\n",
       "      <td>GET</td>\n",
       "      <td>MS</td>\n",
       "      <td>Macintosh; Intel Mac OS X 10_9_4</td>\n",
       "      <td>0.0</td>\n",
       "      <td>0.0</td>\n",
       "      <td>4.0</td>\n",
       "      <td>30.0</td>\n",
       "      <td>...</td>\n",
       "      <td>7.0</td>\n",
       "      <td>9.0</td>\n",
       "      <td>12.0</td>\n",
       "      <td>673.0</td>\n",
       "      <td>37.0</td>\n",
       "      <td>1.0</td>\n",
       "      <td>0.0</td>\n",
       "      <td>0.0</td>\n",
       "      <td>0.0</td>\n",
       "      <td>51.762650</td>\n",
       "    </tr>\n",
       "    <tr>\n",
       "      <th>1</th>\n",
       "      <td>100</td>\n",
       "      <td>M</td>\n",
       "      <td>paid</td>\n",
       "      <td>PUT</td>\n",
       "      <td>TX</td>\n",
       "      <td>Windows NT 6.1; WOW64; rv:30.0</td>\n",
       "      <td>0.0</td>\n",
       "      <td>1.0</td>\n",
       "      <td>27.0</td>\n",
       "      <td>105.0</td>\n",
       "      <td>...</td>\n",
       "      <td>11.0</td>\n",
       "      <td>61.0</td>\n",
       "      <td>49.0</td>\n",
       "      <td>2682.0</td>\n",
       "      <td>148.0</td>\n",
       "      <td>18.0</td>\n",
       "      <td>1.0</td>\n",
       "      <td>3.0</td>\n",
       "      <td>1.0</td>\n",
       "      <td>64.873773</td>\n",
       "    </tr>\n",
       "  </tbody>\n",
       "</table>\n",
       "<p>2 rows × 26 columns</p>\n",
       "</div>"
      ],
      "text/plain": [
       "  userid gender level method location_state                        user_agent  \\\n",
       "0     10      M  paid    GET             MS  Macintosh; Intel Mac OS X 10_9_4   \n",
       "1    100      M  paid    PUT             TX    Windows NT 6.1; WOW64; rv:30.0   \n",
       "\n",
       "   Cancel  Submit Downgrade  Thumbs Down   Home       ...        Settings  \\\n",
       "0     0.0               0.0          4.0   30.0       ...             7.0   \n",
       "1     0.0               1.0         27.0  105.0       ...            11.0   \n",
       "\n",
       "   Add to Playlist  Add Friend  NextSong  Thumbs Up  Help  Upgrade  Error  \\\n",
       "0              9.0        12.0     673.0       37.0   1.0      0.0    0.0   \n",
       "1             61.0        49.0    2682.0      148.0  18.0      1.0    3.0   \n",
       "\n",
       "   Submit Upgrade  number of days  \n",
       "0             0.0       51.762650  \n",
       "1             1.0       64.873773  \n",
       "\n",
       "[2 rows x 26 columns]"
      ]
     },
     "execution_count": 92,
     "metadata": {},
     "output_type": "execute_result"
    }
   ],
   "source": [
    "feature_df.head(2)"
   ]
  },
  {
   "cell_type": "markdown",
   "metadata": {},
   "source": [
    "#### add session time feature"
   ]
  },
  {
   "cell_type": "markdown",
   "metadata": {},
   "source": [
    "count how many session per user"
   ]
  },
  {
   "cell_type": "code",
   "execution_count": 93,
   "metadata": {},
   "outputs": [],
   "source": [
    "sessiontime_sparkdf=spark_df_clean.groupby(\"userId\",'sessionId').agg(((max(spark_df_clean['ts'])-min(spark_df_clean['ts']))/1000/60).alias('sessiontime')).sort('userId','sessionId')"
   ]
  },
  {
   "cell_type": "code",
   "execution_count": 94,
   "metadata": {},
   "outputs": [
    {
     "name": "stdout",
     "output_type": "stream",
     "text": [
      "+------+-----+\n",
      "|userId|count|\n",
      "+------+-----+\n",
      "|    10|    6|\n",
      "|   100|   35|\n",
      "+------+-----+\n",
      "only showing top 2 rows\n",
      "\n"
     ]
    }
   ],
   "source": [
    "sessiontime_sparkdf.groupby(\"userId\").count().sort('userId').show(2)"
   ]
  },
  {
   "cell_type": "code",
   "execution_count": 95,
   "metadata": {},
   "outputs": [],
   "source": [
    "feature_df['session_count']=np.array(sessiontime_sparkdf.groupby(\"userId\").count().sort('userId').select('count').collect())"
   ]
  },
  {
   "cell_type": "markdown",
   "metadata": {},
   "source": [
    "count max session time per user"
   ]
  },
  {
   "cell_type": "code",
   "execution_count": 96,
   "metadata": {},
   "outputs": [
    {
     "name": "stdout",
     "output_type": "stream",
     "text": [
      "+------+------------------+\n",
      "|userId|  max(sessiontime)|\n",
      "+------+------------------+\n",
      "|    10|1547.9166666666667|\n",
      "|   100|1019.5833333333334|\n",
      "+------+------------------+\n",
      "only showing top 2 rows\n",
      "\n"
     ]
    }
   ],
   "source": [
    "sessiontime_sparkdf.groupby(\"userId\").max('sessiontime').sort('userId').show(2)"
   ]
  },
  {
   "cell_type": "code",
   "execution_count": 97,
   "metadata": {},
   "outputs": [],
   "source": [
    "feature_df['max_sessiontime']=np.array(sessiontime_sparkdf.groupby(\"userId\").max('sessiontime').sort('userId').select('max(sessiontime)').collect())"
   ]
  },
  {
   "cell_type": "markdown",
   "metadata": {},
   "source": [
    "count min session time per user"
   ]
  },
  {
   "cell_type": "code",
   "execution_count": 98,
   "metadata": {},
   "outputs": [
    {
     "name": "stdout",
     "output_type": "stream",
     "text": [
      "+------+-----------------+\n",
      "|userId| min(sessiontime)|\n",
      "+------+-----------------+\n",
      "|    10|91.41666666666667|\n",
      "|   100|              0.0|\n",
      "+------+-----------------+\n",
      "only showing top 2 rows\n",
      "\n"
     ]
    }
   ],
   "source": [
    "sessiontime_sparkdf.groupby(\"userId\").min('sessiontime').sort('userId').show(2)"
   ]
  },
  {
   "cell_type": "code",
   "execution_count": 99,
   "metadata": {},
   "outputs": [],
   "source": [
    "feature_df['min_sessiontime']=np.array(sessiontime_sparkdf.groupby(\"userId\").min('sessiontime').sort('userId').select('min(sessiontime)').collect())"
   ]
  },
  {
   "cell_type": "markdown",
   "metadata": {},
   "source": [
    "count avg session time per user"
   ]
  },
  {
   "cell_type": "code",
   "execution_count": 100,
   "metadata": {},
   "outputs": [
    {
     "name": "stdout",
     "output_type": "stream",
     "text": [
      "+------+------------------+\n",
      "|userId|  avg(sessiontime)|\n",
      "+------+------------------+\n",
      "|    10|459.74722222222226|\n",
      "|   100| 316.5190476190476|\n",
      "+------+------------------+\n",
      "only showing top 2 rows\n",
      "\n"
     ]
    }
   ],
   "source": [
    "sessiontime_sparkdf.groupby(\"userId\").avg('sessiontime').sort('userId').show(2)"
   ]
  },
  {
   "cell_type": "code",
   "execution_count": 101,
   "metadata": {},
   "outputs": [],
   "source": [
    "feature_df['avg_sessiontime']=np.array(sessiontime_sparkdf.groupby(\"userId\").avg('sessiontime').sort('userId').select('avg(sessiontime)').collect())"
   ]
  },
  {
   "cell_type": "code",
   "execution_count": null,
   "metadata": {},
   "outputs": [],
   "source": []
  },
  {
   "cell_type": "code",
   "execution_count": null,
   "metadata": {},
   "outputs": [],
   "source": []
  },
  {
   "cell_type": "markdown",
   "metadata": {},
   "source": [
    "#### add song feature"
   ]
  },
  {
   "cell_type": "code",
   "execution_count": 102,
   "metadata": {},
   "outputs": [
    {
     "name": "stdout",
     "output_type": "stream",
     "text": [
      "+------+----+---------+------+-------------+--------+------+-----+--------+------+----+------------+---------+----+------+---+---------+------+\n",
      "|artist|auth|firstName|gender|itemInSession|lastName|length|level|location|method|page|registration|sessionId|song|status| ts|userAgent|userId|\n",
      "+------+----+---------+------+-------------+--------+------+-----+--------+------+----+------------+---------+----+------+---+---------+------+\n",
      "+------+----+---------+------+-------------+--------+------+-----+--------+------+----+------------+---------+----+------+---+---------+------+\n",
      "\n"
     ]
    }
   ],
   "source": [
    "spark.sql('''\n",
    "            SELECT *\n",
    "            FROM spark_df_table\n",
    "            WHERE (song IS NULL OR artist IS NULL) AND page = 'NextSong'\n",
    "          '''\n",
    "         ).show()"
   ]
  },
  {
   "cell_type": "markdown",
   "metadata": {},
   "source": [
    "in the raw data, if page is not NextSong, than the artist and song value will be null. So if we want count the number of song feature for each user or session, we need to select rows with page value = NextSong"
   ]
  },
  {
   "cell_type": "code",
   "execution_count": 103,
   "metadata": {},
   "outputs": [],
   "source": [
    "song_sparkdf=spark_df_clean.filter(spark_df_clean['page']==\"NextSong\").groupby(\"userId\",'sessionId').count().sort('userId','sessionId')"
   ]
  },
  {
   "cell_type": "code",
   "execution_count": 104,
   "metadata": {},
   "outputs": [
    {
     "name": "stdout",
     "output_type": "stream",
     "text": [
      "+------+---------+-----+\n",
      "|userId|sessionId|count|\n",
      "+------+---------+-----+\n",
      "|    10|        9|   57|\n",
      "|    10|      595|  381|\n",
      "+------+---------+-----+\n",
      "only showing top 2 rows\n",
      "\n"
     ]
    }
   ],
   "source": [
    "song_sparkdf.show(2)"
   ]
  },
  {
   "cell_type": "markdown",
   "metadata": {},
   "source": [
    "add max number of songs per session"
   ]
  },
  {
   "cell_type": "code",
   "execution_count": 105,
   "metadata": {},
   "outputs": [],
   "source": [
    "feature_df['max_session_songs']=np.array(song_sparkdf.groupby(\"userId\").max('count').sort('userId').select('max(count)').collect())"
   ]
  },
  {
   "cell_type": "markdown",
   "metadata": {},
   "source": [
    "add min number of songs per session"
   ]
  },
  {
   "cell_type": "code",
   "execution_count": 106,
   "metadata": {},
   "outputs": [],
   "source": [
    "feature_df['min_session_songs']=np.array(song_sparkdf.groupby(\"userId\").min('count').sort('userId').select('min(count)').collect())"
   ]
  },
  {
   "cell_type": "markdown",
   "metadata": {},
   "source": [
    "add avg number of songs per session"
   ]
  },
  {
   "cell_type": "code",
   "execution_count": 107,
   "metadata": {},
   "outputs": [],
   "source": [
    "feature_df['avg_session_songs']=np.array(song_sparkdf.groupby(\"userId\").avg('count').sort('userId').select('avg(count)').collect())"
   ]
  },
  {
   "cell_type": "code",
   "execution_count": null,
   "metadata": {},
   "outputs": [],
   "source": []
  },
  {
   "cell_type": "markdown",
   "metadata": {},
   "source": [
    "#### add different and repeat song play feature"
   ]
  },
  {
   "cell_type": "code",
   "execution_count": 108,
   "metadata": {},
   "outputs": [],
   "source": [
    "song_featuredf2=spark_df_clean.filter(spark_df_clean['page']==\"NextSong\").groupby(\"userId\",'song').count().sort(\"userId\")"
   ]
  },
  {
   "cell_type": "code",
   "execution_count": 109,
   "metadata": {},
   "outputs": [
    {
     "name": "stdout",
     "output_type": "stream",
     "text": [
      "+------+-------------------+-----+\n",
      "|userId|               song|count|\n",
      "+------+-------------------+-----+\n",
      "|    10| Theme From Respect|    1|\n",
      "|    10|      Fun And Games|    1|\n",
      "|    10|    Don't Answer Me|    1|\n",
      "|    10|The Long Way Around|    1|\n",
      "|    10|            Finally|    1|\n",
      "+------+-------------------+-----+\n",
      "only showing top 5 rows\n",
      "\n"
     ]
    }
   ],
   "source": [
    "song_featuredf2.show(5)"
   ]
  },
  {
   "cell_type": "markdown",
   "metadata": {},
   "source": [
    "add different songs per user player "
   ]
  },
  {
   "cell_type": "code",
   "execution_count": 110,
   "metadata": {},
   "outputs": [],
   "source": [
    "diff_song_per_user=np.array(song_featuredf2.groupby(\"userId\").count().select('count').collect())"
   ]
  },
  {
   "cell_type": "code",
   "execution_count": 111,
   "metadata": {},
   "outputs": [],
   "source": [
    "feature_df['diff_song_per_user']=diff_song_per_user"
   ]
  },
  {
   "cell_type": "markdown",
   "metadata": {},
   "source": [
    "add most played song times for each user"
   ]
  },
  {
   "cell_type": "code",
   "execution_count": 112,
   "metadata": {},
   "outputs": [
    {
     "name": "stdout",
     "output_type": "stream",
     "text": [
      "+------+----------+\n",
      "|userId|max(count)|\n",
      "+------+----------+\n",
      "|    10|         4|\n",
      "|   100|        17|\n",
      "+------+----------+\n",
      "only showing top 2 rows\n",
      "\n"
     ]
    }
   ],
   "source": [
    "song_featuredf2.groupby(\"userId\").max('count').show(2)"
   ]
  },
  {
   "cell_type": "code",
   "execution_count": 113,
   "metadata": {},
   "outputs": [],
   "source": [
    "feature_df['most_played_song_number']=np.array(song_featuredf2.groupby(\"userId\").max('count').select('max(count)').collect())"
   ]
  },
  {
   "cell_type": "markdown",
   "metadata": {},
   "source": [
    "#### add artist feature"
   ]
  },
  {
   "cell_type": "markdown",
   "metadata": {},
   "source": [
    "The number of different artists the user has played"
   ]
  },
  {
   "cell_type": "code",
   "execution_count": 114,
   "metadata": {},
   "outputs": [],
   "source": [
    "feature_df['artist_number']=np.array(spark_df_clean.filter(spark_df_clean['page']==\"NextSong\").groupby(\"userId\",'artist').count().sort(\"userId\").groupby(\"userId\").count().select('count').collect())"
   ]
  },
  {
   "cell_type": "code",
   "execution_count": 115,
   "metadata": {},
   "outputs": [
    {
     "data": {
      "text/html": [
       "<div>\n",
       "<style scoped>\n",
       "    .dataframe tbody tr th:only-of-type {\n",
       "        vertical-align: middle;\n",
       "    }\n",
       "\n",
       "    .dataframe tbody tr th {\n",
       "        vertical-align: top;\n",
       "    }\n",
       "\n",
       "    .dataframe thead th {\n",
       "        text-align: right;\n",
       "    }\n",
       "</style>\n",
       "<table border=\"1\" class=\"dataframe\">\n",
       "  <thead>\n",
       "    <tr style=\"text-align: right;\">\n",
       "      <th></th>\n",
       "      <th>userid</th>\n",
       "      <th>gender</th>\n",
       "      <th>level</th>\n",
       "      <th>method</th>\n",
       "      <th>location_state</th>\n",
       "      <th>user_agent</th>\n",
       "      <th>Cancel</th>\n",
       "      <th>Submit Downgrade</th>\n",
       "      <th>Thumbs Down</th>\n",
       "      <th>Home</th>\n",
       "      <th>...</th>\n",
       "      <th>session_count</th>\n",
       "      <th>max_sessiontime</th>\n",
       "      <th>min_sessiontime</th>\n",
       "      <th>avg_sessiontime</th>\n",
       "      <th>max_session_songs</th>\n",
       "      <th>min_session_songs</th>\n",
       "      <th>avg_session_songs</th>\n",
       "      <th>diff_song_per_user</th>\n",
       "      <th>most_played_song_number</th>\n",
       "      <th>artist_number</th>\n",
       "    </tr>\n",
       "  </thead>\n",
       "  <tbody>\n",
       "    <tr>\n",
       "      <th>0</th>\n",
       "      <td>10</td>\n",
       "      <td>M</td>\n",
       "      <td>paid</td>\n",
       "      <td>GET</td>\n",
       "      <td>MS</td>\n",
       "      <td>Macintosh; Intel Mac OS X 10_9_4</td>\n",
       "      <td>0.0</td>\n",
       "      <td>0.0</td>\n",
       "      <td>4.0</td>\n",
       "      <td>30.0</td>\n",
       "      <td>...</td>\n",
       "      <td>6</td>\n",
       "      <td>1547.916667</td>\n",
       "      <td>91.416667</td>\n",
       "      <td>459.747222</td>\n",
       "      <td>381</td>\n",
       "      <td>21</td>\n",
       "      <td>112.166667</td>\n",
       "      <td>629</td>\n",
       "      <td>4</td>\n",
       "      <td>565</td>\n",
       "    </tr>\n",
       "    <tr>\n",
       "      <th>1</th>\n",
       "      <td>100</td>\n",
       "      <td>M</td>\n",
       "      <td>paid</td>\n",
       "      <td>PUT</td>\n",
       "      <td>TX</td>\n",
       "      <td>Windows NT 6.1; WOW64; rv:30.0</td>\n",
       "      <td>0.0</td>\n",
       "      <td>1.0</td>\n",
       "      <td>27.0</td>\n",
       "      <td>105.0</td>\n",
       "      <td>...</td>\n",
       "      <td>35</td>\n",
       "      <td>1019.583333</td>\n",
       "      <td>0.000000</td>\n",
       "      <td>316.519048</td>\n",
       "      <td>256</td>\n",
       "      <td>2</td>\n",
       "      <td>78.882353</td>\n",
       "      <td>2302</td>\n",
       "      <td>17</td>\n",
       "      <td>1705</td>\n",
       "    </tr>\n",
       "    <tr>\n",
       "      <th>2</th>\n",
       "      <td>100001</td>\n",
       "      <td>F</td>\n",
       "      <td>free</td>\n",
       "      <td>GET</td>\n",
       "      <td>FL</td>\n",
       "      <td>Macintosh; Intel Mac OS X 10_6_8</td>\n",
       "      <td>1.0</td>\n",
       "      <td>0.0</td>\n",
       "      <td>2.0</td>\n",
       "      <td>11.0</td>\n",
       "      <td>...</td>\n",
       "      <td>4</td>\n",
       "      <td>215.283333</td>\n",
       "      <td>63.000000</td>\n",
       "      <td>148.158333</td>\n",
       "      <td>53</td>\n",
       "      <td>12</td>\n",
       "      <td>33.250000</td>\n",
       "      <td>129</td>\n",
       "      <td>3</td>\n",
       "      <td>125</td>\n",
       "    </tr>\n",
       "    <tr>\n",
       "      <th>3</th>\n",
       "      <td>100002</td>\n",
       "      <td>F</td>\n",
       "      <td>free</td>\n",
       "      <td>PUT</td>\n",
       "      <td>CA</td>\n",
       "      <td>Windows NT 6.1; WOW64; rv:32.0</td>\n",
       "      <td>0.0</td>\n",
       "      <td>0.0</td>\n",
       "      <td>0.0</td>\n",
       "      <td>6.0</td>\n",
       "      <td>...</td>\n",
       "      <td>4</td>\n",
       "      <td>730.466667</td>\n",
       "      <td>0.000000</td>\n",
       "      <td>201.183333</td>\n",
       "      <td>175</td>\n",
       "      <td>1</td>\n",
       "      <td>48.750000</td>\n",
       "      <td>193</td>\n",
       "      <td>2</td>\n",
       "      <td>184</td>\n",
       "    </tr>\n",
       "    <tr>\n",
       "      <th>4</th>\n",
       "      <td>100003</td>\n",
       "      <td>F</td>\n",
       "      <td>paid</td>\n",
       "      <td>PUT</td>\n",
       "      <td>FL</td>\n",
       "      <td>Windows NT 6.1; WOW64; rv:31.0</td>\n",
       "      <td>1.0</td>\n",
       "      <td>0.0</td>\n",
       "      <td>0.0</td>\n",
       "      <td>7.0</td>\n",
       "      <td>...</td>\n",
       "      <td>2</td>\n",
       "      <td>195.016667</td>\n",
       "      <td>3.216667</td>\n",
       "      <td>99.116667</td>\n",
       "      <td>49</td>\n",
       "      <td>2</td>\n",
       "      <td>25.500000</td>\n",
       "      <td>51</td>\n",
       "      <td>1</td>\n",
       "      <td>50</td>\n",
       "    </tr>\n",
       "  </tbody>\n",
       "</table>\n",
       "<p>5 rows × 36 columns</p>\n",
       "</div>"
      ],
      "text/plain": [
       "   userid gender level method location_state  \\\n",
       "0      10      M  paid    GET             MS   \n",
       "1     100      M  paid    PUT             TX   \n",
       "2  100001      F  free    GET             FL   \n",
       "3  100002      F  free    PUT             CA   \n",
       "4  100003      F  paid    PUT             FL   \n",
       "\n",
       "                         user_agent  Cancel  Submit Downgrade  Thumbs Down  \\\n",
       "0  Macintosh; Intel Mac OS X 10_9_4     0.0               0.0          4.0   \n",
       "1    Windows NT 6.1; WOW64; rv:30.0     0.0               1.0         27.0   \n",
       "2  Macintosh; Intel Mac OS X 10_6_8     1.0               0.0          2.0   \n",
       "3    Windows NT 6.1; WOW64; rv:32.0     0.0               0.0          0.0   \n",
       "4    Windows NT 6.1; WOW64; rv:31.0     1.0               0.0          0.0   \n",
       "\n",
       "    Home      ...        session_count  max_sessiontime  min_sessiontime  \\\n",
       "0   30.0      ...                    6      1547.916667        91.416667   \n",
       "1  105.0      ...                   35      1019.583333         0.000000   \n",
       "2   11.0      ...                    4       215.283333        63.000000   \n",
       "3    6.0      ...                    4       730.466667         0.000000   \n",
       "4    7.0      ...                    2       195.016667         3.216667   \n",
       "\n",
       "   avg_sessiontime  max_session_songs  min_session_songs  avg_session_songs  \\\n",
       "0       459.747222                381                 21         112.166667   \n",
       "1       316.519048                256                  2          78.882353   \n",
       "2       148.158333                 53                 12          33.250000   \n",
       "3       201.183333                175                  1          48.750000   \n",
       "4        99.116667                 49                  2          25.500000   \n",
       "\n",
       "   diff_song_per_user  most_played_song_number  artist_number  \n",
       "0                 629                        4            565  \n",
       "1                2302                       17           1705  \n",
       "2                 129                        3            125  \n",
       "3                 193                        2            184  \n",
       "4                  51                        1             50  \n",
       "\n",
       "[5 rows x 36 columns]"
      ]
     },
     "execution_count": 115,
     "metadata": {},
     "output_type": "execute_result"
    }
   ],
   "source": [
    "feature_df.head()"
   ]
  },
  {
   "cell_type": "markdown",
   "metadata": {},
   "source": [
    "#### Add churn and downgrade"
   ]
  },
  {
   "cell_type": "code",
   "execution_count": 116,
   "metadata": {},
   "outputs": [],
   "source": [
    "feature_df['churn']=np.array(spark_df_clean.dropDuplicates(['userId']).sort('userId').select('Churn').collect())"
   ]
  },
  {
   "cell_type": "code",
   "execution_count": 117,
   "metadata": {},
   "outputs": [],
   "source": [
    "feature_df['downgrade']=np.array(spark_df_clean.dropDuplicates(['userId']).sort('userId').select('downgrade').collect())"
   ]
  },
  {
   "cell_type": "code",
   "execution_count": 126,
   "metadata": {},
   "outputs": [],
   "source": [
    "feature_df.drop(['Cancel', 'Submit Downgrade', 'Downgrade','Cancellation Confirmation'], axis=1,inplace=True)"
   ]
  },
  {
   "cell_type": "code",
   "execution_count": 128,
   "metadata": {},
   "outputs": [],
   "source": [
    "feature_df.to_csv('feature_df.csv',index=False)"
   ]
  },
  {
   "cell_type": "code",
   "execution_count": null,
   "metadata": {},
   "outputs": [],
   "source": []
  },
  {
   "cell_type": "code",
   "execution_count": 37,
   "metadata": {},
   "outputs": [],
   "source": [
    "feature_df=pd.read_csv('feature_df.csv')"
   ]
  },
  {
   "cell_type": "code",
   "execution_count": 38,
   "metadata": {},
   "outputs": [
    {
     "data": {
      "text/html": [
       "<div>\n",
       "<style scoped>\n",
       "    .dataframe tbody tr th:only-of-type {\n",
       "        vertical-align: middle;\n",
       "    }\n",
       "\n",
       "    .dataframe tbody tr th {\n",
       "        vertical-align: top;\n",
       "    }\n",
       "\n",
       "    .dataframe thead th {\n",
       "        text-align: right;\n",
       "    }\n",
       "</style>\n",
       "<table border=\"1\" class=\"dataframe\">\n",
       "  <thead>\n",
       "    <tr style=\"text-align: right;\">\n",
       "      <th></th>\n",
       "      <th>userid</th>\n",
       "      <th>gender</th>\n",
       "      <th>level</th>\n",
       "      <th>method</th>\n",
       "      <th>location_state</th>\n",
       "      <th>user_agent</th>\n",
       "      <th>Thumbs Down</th>\n",
       "      <th>Home</th>\n",
       "      <th>Roll Advert</th>\n",
       "      <th>Logout</th>\n",
       "      <th>...</th>\n",
       "      <th>min_sessiontime</th>\n",
       "      <th>avg_sessiontime</th>\n",
       "      <th>max_session_songs</th>\n",
       "      <th>min_session_songs</th>\n",
       "      <th>avg_session_songs</th>\n",
       "      <th>diff_song_per_user</th>\n",
       "      <th>most_played_song_number</th>\n",
       "      <th>artist_number</th>\n",
       "      <th>churn</th>\n",
       "      <th>downgrade</th>\n",
       "    </tr>\n",
       "  </thead>\n",
       "  <tbody>\n",
       "    <tr>\n",
       "      <th>0</th>\n",
       "      <td>10</td>\n",
       "      <td>M</td>\n",
       "      <td>paid</td>\n",
       "      <td>GET</td>\n",
       "      <td>MS</td>\n",
       "      <td>Macintosh; Intel Mac OS X 10_9_4</td>\n",
       "      <td>4.0</td>\n",
       "      <td>30.0</td>\n",
       "      <td>1.0</td>\n",
       "      <td>11.0</td>\n",
       "      <td>...</td>\n",
       "      <td>91.416667</td>\n",
       "      <td>459.747222</td>\n",
       "      <td>381</td>\n",
       "      <td>21</td>\n",
       "      <td>112.166667</td>\n",
       "      <td>629</td>\n",
       "      <td>4</td>\n",
       "      <td>565</td>\n",
       "      <td>0</td>\n",
       "      <td>0</td>\n",
       "    </tr>\n",
       "    <tr>\n",
       "      <th>1</th>\n",
       "      <td>100</td>\n",
       "      <td>M</td>\n",
       "      <td>paid</td>\n",
       "      <td>PUT</td>\n",
       "      <td>TX</td>\n",
       "      <td>Windows NT 6.1; WOW64; rv:30.0</td>\n",
       "      <td>27.0</td>\n",
       "      <td>105.0</td>\n",
       "      <td>25.0</td>\n",
       "      <td>35.0</td>\n",
       "      <td>...</td>\n",
       "      <td>0.000000</td>\n",
       "      <td>316.519048</td>\n",
       "      <td>256</td>\n",
       "      <td>2</td>\n",
       "      <td>78.882353</td>\n",
       "      <td>2302</td>\n",
       "      <td>17</td>\n",
       "      <td>1705</td>\n",
       "      <td>0</td>\n",
       "      <td>0</td>\n",
       "    </tr>\n",
       "    <tr>\n",
       "      <th>2</th>\n",
       "      <td>100001</td>\n",
       "      <td>F</td>\n",
       "      <td>free</td>\n",
       "      <td>GET</td>\n",
       "      <td>FL</td>\n",
       "      <td>Macintosh; Intel Mac OS X 10_6_8</td>\n",
       "      <td>2.0</td>\n",
       "      <td>11.0</td>\n",
       "      <td>14.0</td>\n",
       "      <td>7.0</td>\n",
       "      <td>...</td>\n",
       "      <td>63.000000</td>\n",
       "      <td>148.158333</td>\n",
       "      <td>53</td>\n",
       "      <td>12</td>\n",
       "      <td>33.250000</td>\n",
       "      <td>129</td>\n",
       "      <td>3</td>\n",
       "      <td>125</td>\n",
       "      <td>1</td>\n",
       "      <td>1</td>\n",
       "    </tr>\n",
       "    <tr>\n",
       "      <th>3</th>\n",
       "      <td>100002</td>\n",
       "      <td>F</td>\n",
       "      <td>free</td>\n",
       "      <td>PUT</td>\n",
       "      <td>CA</td>\n",
       "      <td>Windows NT 6.1; WOW64; rv:32.0</td>\n",
       "      <td>0.0</td>\n",
       "      <td>6.0</td>\n",
       "      <td>3.0</td>\n",
       "      <td>1.0</td>\n",
       "      <td>...</td>\n",
       "      <td>0.000000</td>\n",
       "      <td>201.183333</td>\n",
       "      <td>175</td>\n",
       "      <td>1</td>\n",
       "      <td>48.750000</td>\n",
       "      <td>193</td>\n",
       "      <td>2</td>\n",
       "      <td>184</td>\n",
       "      <td>0</td>\n",
       "      <td>0</td>\n",
       "    </tr>\n",
       "    <tr>\n",
       "      <th>4</th>\n",
       "      <td>100003</td>\n",
       "      <td>F</td>\n",
       "      <td>paid</td>\n",
       "      <td>PUT</td>\n",
       "      <td>FL</td>\n",
       "      <td>Windows NT 6.1; WOW64; rv:31.0</td>\n",
       "      <td>0.0</td>\n",
       "      <td>7.0</td>\n",
       "      <td>9.0</td>\n",
       "      <td>3.0</td>\n",
       "      <td>...</td>\n",
       "      <td>3.216667</td>\n",
       "      <td>99.116667</td>\n",
       "      <td>49</td>\n",
       "      <td>2</td>\n",
       "      <td>25.500000</td>\n",
       "      <td>51</td>\n",
       "      <td>1</td>\n",
       "      <td>50</td>\n",
       "      <td>1</td>\n",
       "      <td>1</td>\n",
       "    </tr>\n",
       "  </tbody>\n",
       "</table>\n",
       "<p>5 rows × 34 columns</p>\n",
       "</div>"
      ],
      "text/plain": [
       "   userid gender level method location_state  \\\n",
       "0      10      M  paid    GET             MS   \n",
       "1     100      M  paid    PUT             TX   \n",
       "2  100001      F  free    GET             FL   \n",
       "3  100002      F  free    PUT             CA   \n",
       "4  100003      F  paid    PUT             FL   \n",
       "\n",
       "                         user_agent  Thumbs Down   Home  Roll Advert  Logout  \\\n",
       "0  Macintosh; Intel Mac OS X 10_9_4          4.0   30.0          1.0    11.0   \n",
       "1    Windows NT 6.1; WOW64; rv:30.0         27.0  105.0         25.0    35.0   \n",
       "2  Macintosh; Intel Mac OS X 10_6_8          2.0   11.0         14.0     7.0   \n",
       "3    Windows NT 6.1; WOW64; rv:32.0          0.0    6.0          3.0     1.0   \n",
       "4    Windows NT 6.1; WOW64; rv:31.0          0.0    7.0          9.0     3.0   \n",
       "\n",
       "     ...      min_sessiontime  avg_sessiontime  max_session_songs  \\\n",
       "0    ...            91.416667       459.747222                381   \n",
       "1    ...             0.000000       316.519048                256   \n",
       "2    ...            63.000000       148.158333                 53   \n",
       "3    ...             0.000000       201.183333                175   \n",
       "4    ...             3.216667        99.116667                 49   \n",
       "\n",
       "   min_session_songs  avg_session_songs  diff_song_per_user  \\\n",
       "0                 21         112.166667                 629   \n",
       "1                  2          78.882353                2302   \n",
       "2                 12          33.250000                 129   \n",
       "3                  1          48.750000                 193   \n",
       "4                  2          25.500000                  51   \n",
       "\n",
       "   most_played_song_number  artist_number  churn  downgrade  \n",
       "0                        4            565      0          0  \n",
       "1                       17           1705      0          0  \n",
       "2                        3            125      1          1  \n",
       "3                        2            184      0          0  \n",
       "4                        1             50      1          1  \n",
       "\n",
       "[5 rows x 34 columns]"
      ]
     },
     "execution_count": 38,
     "metadata": {},
     "output_type": "execute_result"
    }
   ],
   "source": [
    "feature_df.head()"
   ]
  },
  {
   "cell_type": "markdown",
   "metadata": {},
   "source": [
    "It seems that, in this subset of data, the user who donwgrade the service also cancel the service"
   ]
  },
  {
   "cell_type": "code",
   "execution_count": 83,
   "metadata": {},
   "outputs": [
    {
     "data": {
      "text/plain": [
       "0"
      ]
     },
     "execution_count": 83,
     "metadata": {},
     "output_type": "execute_result"
    }
   ],
   "source": [
    "(feature_df['churn']-feature_df['downgrade']).sum()"
   ]
  },
  {
   "cell_type": "code",
   "execution_count": null,
   "metadata": {},
   "outputs": [],
   "source": []
  },
  {
   "cell_type": "markdown",
   "metadata": {},
   "source": [
    "## Cat feature Encoding"
   ]
  },
  {
   "cell_type": "code",
   "execution_count": 39,
   "metadata": {},
   "outputs": [],
   "source": [
    "df= spark.read.csv('feature_df.csv', header=True)\n"
   ]
  },
  {
   "cell_type": "code",
   "execution_count": 40,
   "metadata": {},
   "outputs": [],
   "source": [
    "df_cat=df.select(\"gender\",\"level\",\"method\",\"location_state\",\"user_agent\")"
   ]
  },
  {
   "cell_type": "code",
   "execution_count": 41,
   "metadata": {},
   "outputs": [],
   "source": [
    "stringIndexer = StringIndexer(inputCol=\"gender\", outputCol=\"gender_index\")\n",
    "model = stringIndexer.fit(df)\n",
    "df = model.transform(df)"
   ]
  },
  {
   "cell_type": "code",
   "execution_count": 42,
   "metadata": {},
   "outputs": [],
   "source": [
    "stringIndexer = StringIndexer(inputCol=\"level\", outputCol=\"level_index\")\n",
    "model = stringIndexer.fit(df)\n",
    "df = model.transform(df)"
   ]
  },
  {
   "cell_type": "code",
   "execution_count": 43,
   "metadata": {},
   "outputs": [],
   "source": [
    "stringIndexer = StringIndexer(inputCol=\"location_state\", outputCol=\"location_state_index\")\n",
    "model = stringIndexer.fit(df)\n",
    "df = model.transform(df)"
   ]
  },
  {
   "cell_type": "code",
   "execution_count": 44,
   "metadata": {},
   "outputs": [],
   "source": [
    "stringIndexer = StringIndexer(inputCol=\"user_agent\", outputCol=\"user_agent_index\")\n",
    "model = stringIndexer.fit(df)\n",
    "df = model.transform(df)"
   ]
  },
  {
   "cell_type": "code",
   "execution_count": 45,
   "metadata": {},
   "outputs": [],
   "source": [
    "encoder = OneHotEncoderEstimator(inputCols=[\"gender_index\",\"level_index\",\"location_state_index\",\"user_agent_index\"],\n",
    "                                outputCols=[\"gender_var\",\"level_var\",\"location_state_var\",\"user_agent_var\"])\n",
    "model = encoder.fit(df)\n",
    "df = model.transform(df)\n"
   ]
  },
  {
   "cell_type": "code",
   "execution_count": 46,
   "metadata": {},
   "outputs": [],
   "source": [
    "df=df.drop(\"gender\",\"level\",\"method\",\"location_state\",\"user_agent\",\"gender_index\",\"level_index\",\"location_state_index\",\"user_agent_index\")"
   ]
  },
  {
   "cell_type": "code",
   "execution_count": null,
   "metadata": {},
   "outputs": [],
   "source": []
  },
  {
   "cell_type": "code",
   "execution_count": null,
   "metadata": {},
   "outputs": [],
   "source": []
  },
  {
   "cell_type": "markdown",
   "metadata": {},
   "source": [
    "## Encode numerical features\n",
    "Need to convert all string type numerical value to float"
   ]
  },
  {
   "cell_type": "code",
   "execution_count": 47,
   "metadata": {},
   "outputs": [],
   "source": [
    "num_features_list = df.columns[1:-4]"
   ]
  },
  {
   "cell_type": "code",
   "execution_count": 48,
   "metadata": {},
   "outputs": [],
   "source": [
    "\n",
    "for f in num_features_list:\n",
    "    f_name = f + \"_Num\"\n",
    "    df = df.withColumn(f_name, df[f].cast(\"float\"))\n",
    "    df = df.drop(f)"
   ]
  },
  {
   "cell_type": "code",
   "execution_count": 49,
   "metadata": {},
   "outputs": [
    {
     "name": "stdout",
     "output_type": "stream",
     "text": [
      "+------+-------------+---------+------------------+--------------+---------------+--------+---------------+----------+-----------------+---------+------------+-------------------+--------------+------------+-------------+--------+-----------+---------+------------------+------------------+-----------------+-------------------+-------------------+-------------------+---------------------+---------------------+---------------------+----------------------+---------------------------+-----------------+---------+-------------+\n",
      "|userid|   gender_var|level_var|location_state_var|user_agent_var|Thumbs Down_Num|Home_Num|Roll Advert_Num|Logout_Num|Save Settings_Num|About_Num|Settings_Num|Add to Playlist_Num|Add Friend_Num|NextSong_Num|Thumbs Up_Num|Help_Num|Upgrade_Num|Error_Num|Submit Upgrade_Num|number of days_Num|session_count_Num|max_sessiontime_Num|min_sessiontime_Num|avg_sessiontime_Num|max_session_songs_Num|min_session_songs_Num|avg_session_songs_Num|diff_song_per_user_Num|most_played_song_number_Num|artist_number_Num|churn_Num|downgrade_Num|\n",
      "+------+-------------+---------+------------------+--------------+---------------+--------+---------------+----------+-----------------+---------+------------+-------------------+--------------+------------+-------------+--------+-----------+---------+------------------+------------------+-----------------+-------------------+-------------------+-------------------+---------------------+---------------------+---------------------+----------------------+---------------------------+-----------------+---------+-------------+\n",
      "|    10|(1,[0],[1.0])|(1,[],[])|   (38,[25],[1.0])|(36,[0],[1.0])|            4.0|    30.0|            1.0|      11.0|              1.0|      2.0|         7.0|                9.0|          12.0|       673.0|         37.0|     1.0|        0.0|      0.0|               0.0|          51.76265|              6.0|          1547.9166|          91.416664|          459.74722|                381.0|                 21.0|           112.166664|                 629.0|                        4.0|            565.0|      0.0|          0.0|\n",
      "+------+-------------+---------+------------------+--------------+---------------+--------+---------------+----------+-----------------+---------+------------+-------------------+--------------+------------+-------------+--------+-----------+---------+------------------+------------------+-----------------+-------------------+-------------------+-------------------+---------------------+---------------------+---------------------+----------------------+---------------------------+-----------------+---------+-------------+\n",
      "only showing top 1 row\n",
      "\n"
     ]
    }
   ],
   "source": [
    "df.show(1)"
   ]
  },
  {
   "cell_type": "markdown",
   "metadata": {},
   "source": [
    "# Modeling\n",
    "Split the full dataset into train, test, and validation sets. Test out several of the machine learning methods you learned. Evaluate the accuracy of the various models, tuning parameters as necessary. Determine your winning model based on test accuracy and report results on the validation set. Since the churned users are a fairly small subset, I suggest using F1 score as the metric to optimize."
   ]
  },
  {
   "cell_type": "markdown",
   "metadata": {},
   "source": [
    "### Vector Assembler"
   ]
  },
  {
   "cell_type": "code",
   "execution_count": 50,
   "metadata": {},
   "outputs": [],
   "source": [
    "assembler = VectorAssembler(inputCols=df.columns[1:-2], outputCol=\"Features\")\n",
    "data = assembler.transform(df)"
   ]
  },
  {
   "cell_type": "code",
   "execution_count": 51,
   "metadata": {},
   "outputs": [
    {
     "name": "stdout",
     "output_type": "stream",
     "text": [
      "+------+-------------+-------------+------------------+---------------+---------------+--------+---------------+----------+-----------------+---------+------------+-------------------+--------------+------------+-------------+--------+-----------+---------+------------------+------------------+-----------------+-------------------+-------------------+-------------------+---------------------+---------------------+---------------------+----------------------+---------------------------+-----------------+---------+-------------+--------------------+\n",
      "|userid|   gender_var|    level_var|location_state_var| user_agent_var|Thumbs Down_Num|Home_Num|Roll Advert_Num|Logout_Num|Save Settings_Num|About_Num|Settings_Num|Add to Playlist_Num|Add Friend_Num|NextSong_Num|Thumbs Up_Num|Help_Num|Upgrade_Num|Error_Num|Submit Upgrade_Num|number of days_Num|session_count_Num|max_sessiontime_Num|min_sessiontime_Num|avg_sessiontime_Num|max_session_songs_Num|min_session_songs_Num|avg_session_songs_Num|diff_song_per_user_Num|most_played_song_number_Num|artist_number_Num|churn_Num|downgrade_Num|            Features|\n",
      "+------+-------------+-------------+------------------+---------------+---------------+--------+---------------+----------+-----------------+---------+------------+-------------------+--------------+------------+-------------+--------+-----------+---------+------------------+------------------+-----------------+-------------------+-------------------+-------------------+---------------------+---------------------+---------------------+----------------------+---------------------------+-----------------+---------+-------------+--------------------+\n",
      "|    10|(1,[0],[1.0])|    (1,[],[])|   (38,[25],[1.0])| (36,[0],[1.0])|            4.0|    30.0|            1.0|      11.0|              1.0|      2.0|         7.0|                9.0|          12.0|       673.0|         37.0|     1.0|        0.0|      0.0|               0.0|          51.76265|              6.0|          1547.9166|          91.416664|          459.74722|                381.0|                 21.0|           112.166664|                 629.0|                        4.0|            565.0|      0.0|          0.0|(102,[0,27,40,76,...|\n",
      "|   100|(1,[0],[1.0])|    (1,[],[])|    (38,[2],[1.0])|(36,[35],[1.0])|           27.0|   105.0|           25.0|      35.0|              5.0|     12.0|        11.0|               61.0|          49.0|      2682.0|        148.0|    18.0|        1.0|      3.0|               1.0|          64.87377|             35.0|          1019.5833|                0.0|          316.51904|                256.0|                  2.0|            78.882355|                2302.0|                       17.0|           1705.0|      0.0|          0.0|(102,[0,4,75,76,7...|\n",
      "|100001|    (1,[],[])|(1,[0],[1.0])|    (38,[3],[1.0])|(36,[30],[1.0])|            2.0|    11.0|           14.0|       7.0|              0.0|      0.0|         1.0|                3.0|           2.0|       133.0|          8.0|     1.0|        2.0|      1.0|               0.0|          44.80022|              4.0|          215.28334|               63.0|          148.15834|                 53.0|                 12.0|                33.25|                 129.0|                        3.0|            125.0|      1.0|          1.0|(102,[1,5,70,76,7...|\n",
      "|100002|    (1,[],[])|(1,[0],[1.0])|    (38,[0],[1.0])|(36,[19],[1.0])|            0.0|     6.0|            3.0|       1.0|              0.0|      0.0|         0.0|                5.0|           1.0|       195.0|          5.0|     0.0|        0.0|      0.0|               0.0|         160.47208|              4.0|           730.4667|                0.0|          201.18333|                175.0|                  1.0|                48.75|                 193.0|                        2.0|            184.0|      0.0|          0.0|(102,[1,2,59,77,7...|\n",
      "|100003|    (1,[],[])|    (1,[],[])|    (38,[3],[1.0])| (36,[2],[1.0])|            0.0|     7.0|            9.0|       3.0|              0.0|      0.0|         0.0|                2.0|           0.0|        51.0|          3.0|     1.0|        0.0|      0.0|               0.0|         22.748114|              2.0|          195.01666|          3.2166667|           99.11667|                 49.0|                  2.0|                 25.5|                  51.0|                        1.0|             50.0|      1.0|          1.0|(102,[5,42,77,78,...|\n",
      "|100004|    (1,[],[])|(1,[0],[1.0])|   (38,[17],[1.0])|(36,[31],[1.0])|           11.0|    66.0|           86.0|      19.0|              2.0|      0.0|        11.0|               23.0|          19.0|       942.0|         35.0|     6.0|        8.0|      2.0|               3.0|         172.44008|             21.0|           940.2167|                0.0|          185.98651|                218.0|                  1.0|                 47.1|                 881.0|                        7.0|            733.0|      0.0|          0.0|(102,[1,19,71,76,...|\n",
      "|100005|(1,[0],[1.0])|    (1,[],[])|   (38,[32],[1.0])| (36,[0],[1.0])|            3.0|    15.0|           18.0|       3.0|              0.0|      0.0|         2.0|                3.0|           3.0|       154.0|          7.0|     2.0|        4.0|      0.0|               0.0|          85.19559|              5.0|          209.21666|                0.0|          120.18667|                 51.0|                 19.0|                 38.5|                 153.0|                        2.0|            149.0|      1.0|          1.0|(102,[0,34,40,76,...|\n",
      "|100006|    (1,[],[])|(1,[0],[1.0])|   (38,[16],[1.0])| (36,[3],[1.0])|            2.0|     2.0|            3.0|       1.0|              0.0|      0.0|         1.0|                1.0|           4.0|        26.0|          2.0|     0.0|        0.0|      0.0|               0.0|          9.127164|              1.0|          93.433334|          93.433334|          93.433334|                 26.0|                 26.0|                 26.0|                  26.0|                        1.0|             26.0|      1.0|          1.0|(102,[1,18,43,76,...|\n",
      "|100007|    (1,[],[])|(1,[0],[1.0])|   (38,[30],[1.0])| (36,[3],[1.0])|            6.0|    20.0|            5.0|       5.0|              1.0|      0.0|         3.0|                9.0|          17.0|       423.0|         19.0|     3.0|        0.0|      0.0|               0.0|         115.38762|              9.0|          675.63336|                8.9|          189.41112|                163.0|                  4.0|                 47.0|                 408.0|                        4.0|            357.0|      1.0|          1.0|(102,[1,32,43,76,...|\n",
      "|100008|    (1,[],[])|(1,[0],[1.0])|    (38,[0],[1.0])|(36,[22],[1.0])|            6.0|    24.0|           20.0|       7.0|              0.0|      3.0|         3.0|               30.0|          17.0|       772.0|         37.0|     6.0|        4.0|      0.0|               0.0|          68.22856|              6.0|             2024.4|              57.05|           528.2528|                491.0|                 16.0|            128.66667|                 723.0|                        5.0|            623.0|      0.0|          0.0|(102,[1,2,62,76,7...|\n",
      "|100009|(1,[0],[1.0])|    (1,[],[])|    (38,[0],[1.0])| (36,[1],[1.0])|            8.0|    23.0|           42.0|      13.0|              1.0|      1.0|         4.0|               12.0|           7.0|       518.0|         23.0|     6.0|        4.0|      0.0|               1.0|         37.438274|             10.0|           666.3333|           4.516667|          211.96167|                165.0|                  2.0|                 51.8|                 501.0|                        3.0|            442.0|      1.0|          1.0|(102,[0,2,41,76,7...|\n",
      "|100010|    (1,[],[])|    (1,[],[])|   (38,[10],[1.0])| (36,[5],[1.0])|            5.0|    11.0|           52.0|       5.0|              0.0|      1.0|         0.0|                7.0|           4.0|       275.0|         17.0|     2.0|        2.0|      0.0|               0.0|         55.643658|              7.0|              323.0|              22.55|          154.48334|                 80.0|                  7.0|            39.285713|                 269.0|                        2.0|            252.0|      0.0|          0.0|(102,[12,45,76,77...|\n",
      "|100011|(1,[0],[1.0])|(1,[0],[1.0])|   (38,[34],[1.0])| (36,[2],[1.0])|            1.0|     4.0|            2.0|       0.0|              0.0|      0.0|         1.0|                2.0|           0.0|        11.0|          0.0|     0.0|        0.0|      0.0|               0.0|          5.165116|              1.0|          44.383335|          44.383335|          44.383335|                 11.0|                 11.0|                 11.0|                  11.0|                        1.0|             11.0|      1.0|          1.0|(102,[0,1,36,42,7...|\n",
      "|100012|(1,[0],[1.0])|    (1,[],[])|    (38,[4],[1.0])| (36,[0],[1.0])|            9.0|    27.0|           38.0|       6.0|              0.0|      1.0|         0.0|               12.0|           2.0|       476.0|         18.0|     2.0|        1.0|      0.0|               1.0|         43.052616|              7.0|           729.4167|                0.0|           271.4381|                180.0|                 12.0|            79.333336|                 453.0|                        3.0|            397.0|      1.0|          1.0|(102,[0,6,40,76,7...|\n",
      "|100013|    (1,[],[])|(1,[0],[1.0])|   (38,[23],[1.0])| (36,[8],[1.0])|           15.0|    53.0|           39.0|      13.0|              3.0|      2.0|         7.0|               31.0|          28.0|      1131.0|         39.0|     9.0|        4.0|      2.0|               1.0|         44.178738|             14.0|          858.81665|                0.0|           329.9988|                209.0|                  4.0|                 87.0|                1041.0|                        7.0|            826.0|      1.0|          1.0|(102,[1,25,48,76,...|\n",
      "|100014|(1,[0],[1.0])|(1,[0],[1.0])|    (38,[1],[1.0])| (36,[1],[1.0])|            3.0|     7.0|            2.0|       3.0|              0.0|      0.0|         1.0|                7.0|           6.0|       257.0|         17.0|     2.0|        0.0|      0.0|               0.0|         85.083405|              6.0|             281.75|               3.45|          184.81389|                 70.0|                  2.0|            42.833332|                 248.0|                        4.0|            233.0|      1.0|          1.0|(102,[0,1,3,41,76...|\n",
      "|100015|    (1,[],[])|(1,[0],[1.0])|    (38,[6],[1.0])| (36,[0],[1.0])|            8.0|    47.0|           69.0|      18.0|              1.0|      4.0|         7.0|               22.0|          14.0|       800.0|         35.0|     6.0|        8.0|      1.0|               2.0|          67.87921|             12.0|          570.93335|          1.4833333|          278.59445|                136.0|                  1.0|            66.666664|                 755.0|                        5.0|            627.0|      1.0|          1.0|(102,[1,8,40,76,7...|\n",
      "|100016|(1,[0],[1.0])|    (1,[],[])|    (38,[5],[1.0])| (36,[7],[1.0])|            5.0|    21.0|           16.0|       9.0|              0.0|      1.0|         1.0|                6.0|          13.0|       530.0|         25.0|     3.0|        0.0|      1.0|               0.0|         75.015335|              8.0|          1049.4833|               53.1|          265.40417|                261.0|                 14.0|                66.25|                 493.0|                        6.0|            431.0|      0.0|          0.0|(102,[0,7,47,76,7...|\n",
      "|100017|(1,[0],[1.0])|(1,[0],[1.0])|   (38,[14],[1.0])| (36,[5],[1.0])|            1.0|     3.0|           14.0|       0.0|              0.0|      0.0|         0.0|                1.0|           0.0|        52.0|          2.0|     0.0|        0.0|      0.0|               0.0|          78.88441|              1.0|          199.26666|          199.26666|          199.26666|                 52.0|                 52.0|                 52.0|                  51.0|                        2.0|             51.0|      1.0|          1.0|(102,[0,1,16,45,7...|\n",
      "|100018|(1,[0],[1.0])|(1,[0],[1.0])|    (38,[2],[1.0])|(36,[15],[1.0])|            9.0|    43.0|           80.0|      17.0|              3.0|      1.0|         9.0|               31.0|          23.0|      1002.0|         46.0|     7.0|        4.0|      0.0|               2.0|         110.71212|             21.0|           940.1667|        0.033333335|           193.1873|                221.0|                  1.0|                 50.1|                 942.0|                        6.0|            780.0|      0.0|          0.0|(102,[0,1,4,55,76...|\n",
      "+------+-------------+-------------+------------------+---------------+---------------+--------+---------------+----------+-----------------+---------+------------+-------------------+--------------+------------+-------------+--------+-----------+---------+------------------+------------------+-----------------+-------------------+-------------------+-------------------+---------------------+---------------------+---------------------+----------------------+---------------------------+-----------------+---------+-------------+--------------------+\n",
      "only showing top 20 rows\n",
      "\n"
     ]
    }
   ],
   "source": [
    "data.show()"
   ]
  },
  {
   "cell_type": "markdown",
   "metadata": {},
   "source": [
    "### Standard scaler"
   ]
  },
  {
   "cell_type": "code",
   "execution_count": 52,
   "metadata": {},
   "outputs": [],
   "source": [
    "scaler = StandardScaler(inputCol=\"Features\", outputCol=\"StdFeatures\", withStd=True)\n",
    "scalerModel = scaler.fit(data)\n",
    "data = scalerModel.transform(data)"
   ]
  },
  {
   "cell_type": "markdown",
   "metadata": {},
   "source": [
    "### PCA"
   ]
  },
  {
   "cell_type": "code",
   "execution_count": 57,
   "metadata": {},
   "outputs": [
    {
     "data": {
      "text/plain": [
       "[<matplotlib.lines.Line2D at 0x22828488278>]"
      ]
     },
     "execution_count": 57,
     "metadata": {},
     "output_type": "execute_result"
    },
    {
     "data": {
      "image/png": "[encoded data removed]",
      "text/plain": [
       "<Figure size 720x432 with 1 Axes>"
      ]
     },
     "metadata": {
      "needs_background": "light"
     },
     "output_type": "display_data"
    }
   ],
   "source": [
    "pca = PCA(k=100, inputCol=\"StdFeatures\", outputCol=\"pcaFeatures\")\n",
    "model = pca.fit(data)\n",
    "\n",
    "ind=np.arange(100)\n",
    "val=np.array(model.explainedVariance)\n",
    "cumvals=np.cumsum(val)\n",
    "plt.figure(figsize=(10, 6))\n",
    "ax = plt.subplot(111)\n",
    "ax.bar(ind, val)\n",
    "ax.plot(ind,cumvals)"
   ]
  },
  {
   "cell_type": "markdown",
   "metadata": {},
   "source": [
    "use 0.01 as threshold, any components that are less than 0.01 variance will not be used"
   ]
  },
  {
   "cell_type": "code",
   "execution_count": 63,
   "metadata": {},
   "outputs": [],
   "source": [
    "k=len(val[val>0.01])"
   ]
  },
  {
   "cell_type": "code",
   "execution_count": 64,
   "metadata": {},
   "outputs": [
    {
     "name": "stdout",
     "output_type": "stream",
     "text": [
      "41\n"
     ]
    }
   ],
   "source": [
    "print(k)"
   ]
  },
  {
   "cell_type": "code",
   "execution_count": 65,
   "metadata": {},
   "outputs": [],
   "source": [
    "pca = PCA(k=41, inputCol=\"StdFeatures\", outputCol=\"pcaFeatures\")\n",
    "model = pca.fit(data)\n",
    "data = model.transform(data)"
   ]
  },
  {
   "cell_type": "markdown",
   "metadata": {},
   "source": [
    "## Prepare training and testing data"
   ]
  },
  {
   "cell_type": "code",
   "execution_count": 67,
   "metadata": {},
   "outputs": [],
   "source": [
    "data_churn = data.select(data.churn_Num.alias(\"label\"), data.pcaFeatures.alias(\"features\"))\n",
    "data_down=data.select(data.downgrade_Num.alias(\"label\"), data.pcaFeatures.alias(\"features\"))"
   ]
  },
  {
   "cell_type": "markdown",
   "metadata": {},
   "source": [
    "In this notebook, I will focus on churn user, since in this data subset, there is not difference between donwgrade user and churn user"
   ]
  },
  {
   "cell_type": "code",
   "execution_count": 70,
   "metadata": {},
   "outputs": [
    {
     "name": "stdout",
     "output_type": "stream",
     "text": [
      "+-----+-----+\n",
      "|label|count|\n",
      "+-----+-----+\n",
      "|  1.0|   52|\n",
      "|  0.0|  173|\n",
      "+-----+-----+\n",
      "\n"
     ]
    }
   ],
   "source": [
    "data_churn.select('label').groupby('label').count().show()"
   ]
  },
  {
   "cell_type": "code",
   "execution_count": 155,
   "metadata": {},
   "outputs": [],
   "source": [
    "train, validation = data_churn.randomSplit([0.7, 0.3], seed=110)"
   ]
  },
  {
   "cell_type": "code",
   "execution_count": 156,
   "metadata": {},
   "outputs": [
    {
     "name": "stdout",
     "output_type": "stream",
     "text": [
      "+-----+-----+\n",
      "|label|count|\n",
      "+-----+-----+\n",
      "|  1.0|   38|\n",
      "|  0.0|  115|\n",
      "+-----+-----+\n",
      "\n"
     ]
    }
   ],
   "source": [
    "train.select('label').groupby('label').count().show()"
   ]
  },
  {
   "cell_type": "markdown",
   "metadata": {},
   "source": [
    "#### compenstate unbalanced data"
   ]
  },
  {
   "cell_type": "code",
   "execution_count": 157,
   "metadata": {},
   "outputs": [],
   "source": [
    "labelcount_df=train.select('label').groupby('label').count().toPandas()"
   ]
  },
  {
   "cell_type": "code",
   "execution_count": 158,
   "metadata": {},
   "outputs": [],
   "source": [
    "label1_count=int(labelcount_df[labelcount_df['label']==1]['count'].values)"
   ]
  },
  {
   "cell_type": "code",
   "execution_count": 159,
   "metadata": {},
   "outputs": [],
   "source": [
    "label0_count=int(labelcount_df[labelcount_df['label']==0]['count'].values)"
   ]
  },
  {
   "cell_type": "code",
   "execution_count": 160,
   "metadata": {},
   "outputs": [],
   "source": [
    "stratified_train = train.sampleBy('label', fractions={0: label1_count/label0_count, 1: 1.0}).cache()"
   ]
  },
  {
   "cell_type": "code",
   "execution_count": 161,
   "metadata": {},
   "outputs": [
    {
     "name": "stdout",
     "output_type": "stream",
     "text": [
      "+-----+-----+\n",
      "|label|count|\n",
      "+-----+-----+\n",
      "|  1.0|   38|\n",
      "|  0.0|   37|\n",
      "+-----+-----+\n",
      "\n"
     ]
    }
   ],
   "source": [
    "stratified_train.select('label').groupby('label').count().show()"
   ]
  },
  {
   "cell_type": "code",
   "execution_count": 162,
   "metadata": {},
   "outputs": [
    {
     "name": "stdout",
     "output_type": "stream",
     "text": [
      "+-----+--------------------+\n",
      "|label|            features|\n",
      "+-----+--------------------+\n",
      "|  0.0|[0.13910696016942...|\n",
      "+-----+--------------------+\n",
      "only showing top 1 row\n",
      "\n"
     ]
    }
   ],
   "source": [
    "stratified_train.show(1)"
   ]
  },
  {
   "cell_type": "markdown",
   "metadata": {},
   "source": [
    "## Modeling"
   ]
  },
  {
   "cell_type": "markdown",
   "metadata": {},
   "source": [
    "### Logistic regression"
   ]
  },
  {
   "cell_type": "code",
   "execution_count": 187,
   "metadata": {},
   "outputs": [],
   "source": [
    "lr =  LogisticRegression(featuresCol = 'features', labelCol = 'label')\n",
    "paramGrid = ParamGridBuilder() \\\n",
    "    .addGrid(lr.elasticNetParam,[0.0, 0.1, 0.2]) \\\n",
    "    .addGrid(lr.regParam,[0.0, 0.1, 0.2, 0.3]) \\\n",
    "    .addGrid(lr.maxIter,[5, 10, 15]) \\\n",
    "    .build()\n",
    "\n",
    "crossval_lr = CrossValidator(estimator=lr,\n",
    "                          estimatorParamMaps=paramGrid,\n",
    "                          evaluator=MulticlassClassificationEvaluator(),\n",
    "                          numFolds=3)\n",
    "cvModel_lr = crossval_lr.fit(stratified_train)\n",
    "lr_avgMetrics=cvModel_lr.avgMetrics"
   ]
  },
  {
   "cell_type": "code",
   "execution_count": 188,
   "metadata": {},
   "outputs": [],
   "source": [
    "results_lr = cvModel_lr.transform(validation)"
   ]
  },
  {
   "cell_type": "code",
   "execution_count": 189,
   "metadata": {},
   "outputs": [
    {
     "data": {
      "text/plain": [
       "0.5677339901477831"
      ]
     },
     "execution_count": 189,
     "metadata": {},
     "output_type": "execute_result"
    }
   ],
   "source": [
    "BinaryClassificationEvaluator().evaluate(results_lr)"
   ]
  },
  {
   "cell_type": "code",
   "execution_count": 190,
   "metadata": {},
   "outputs": [
    {
     "data": {
      "text/plain": [
       "{Param(parent='LogisticRegression_7ee5f3816d1e', name='aggregationDepth', doc='suggested depth for treeAggregate (>= 2)'): 2,\n",
       " Param(parent='LogisticRegression_7ee5f3816d1e', name='elasticNetParam', doc='the ElasticNet mixing parameter, in range [0, 1]. For alpha = 0, the penalty is an L2 penalty. For alpha = 1, it is an L1 penalty'): 0.0,\n",
       " Param(parent='LogisticRegression_7ee5f3816d1e', name='family', doc='The name of family which is a description of the label distribution to be used in the model. Supported options: auto, binomial, multinomial.'): 'auto',\n",
       " Param(parent='LogisticRegression_7ee5f3816d1e', name='featuresCol', doc='features column name'): 'features',\n",
       " Param(parent='LogisticRegression_7ee5f3816d1e', name='fitIntercept', doc='whether to fit an intercept term'): True,\n",
       " Param(parent='LogisticRegression_7ee5f3816d1e', name='labelCol', doc='label column name'): 'label',\n",
       " Param(parent='LogisticRegression_7ee5f3816d1e', name='maxIter', doc='maximum number of iterations (>= 0)'): 10,\n",
       " Param(parent='LogisticRegression_7ee5f3816d1e', name='predictionCol', doc='prediction column name'): 'prediction',\n",
       " Param(parent='LogisticRegression_7ee5f3816d1e', name='probabilityCol', doc='Column name for predicted class conditional probabilities. Note: Not all models output well-calibrated probability estimates! These probabilities should be treated as confidences, not precise probabilities'): 'probability',\n",
       " Param(parent='LogisticRegression_7ee5f3816d1e', name='rawPredictionCol', doc='raw prediction (a.k.a. confidence) column name'): 'rawPrediction',\n",
       " Param(parent='LogisticRegression_7ee5f3816d1e', name='regParam', doc='regularization parameter (>= 0)'): 0.1,\n",
       " Param(parent='LogisticRegression_7ee5f3816d1e', name='standardization', doc='whether to standardize the training features before fitting the model'): True,\n",
       " Param(parent='LogisticRegression_7ee5f3816d1e', name='threshold', doc='threshold in binary classification prediction, in range [0, 1]'): 0.5,\n",
       " Param(parent='LogisticRegression_7ee5f3816d1e', name='tol', doc='the convergence tolerance for iterative algorithms (>= 0)'): 1e-06}"
      ]
     },
     "execution_count": 190,
     "metadata": {},
     "output_type": "execute_result"
    }
   ],
   "source": [
    "cvModel_lr.bestModel.extractParamMap()"
   ]
  },
  {
   "cell_type": "markdown",
   "metadata": {},
   "source": [
    "### random forest"
   ]
  },
  {
   "cell_type": "code",
   "execution_count": 191,
   "metadata": {},
   "outputs": [],
   "source": [
    "rf = RandomForestClassifier(featuresCol = 'features', labelCol = 'label')\n",
    "paramGrid = ParamGridBuilder() \\\n",
    "    .addGrid(rf.impurity,['entropy']) \\\n",
    "    .addGrid(rf.maxDepth,[5, 10, 20]) \\\n",
    "    .addGrid(rf.numTrees,[5, 10, 20]) \\\n",
    "    .build()\n",
    "crossval_rf = CrossValidator(estimator=rf,\n",
    "                          estimatorParamMaps=paramGrid,\n",
    "                          evaluator=MulticlassClassificationEvaluator(),\n",
    "                          numFolds=3)\n"
   ]
  },
  {
   "cell_type": "code",
   "execution_count": 192,
   "metadata": {},
   "outputs": [],
   "source": [
    "cvModel_rf= crossval_rf.fit(stratified_train)\n",
    "rf_avgMetrics = cvModel_rf.avgMetrics"
   ]
  },
  {
   "cell_type": "code",
   "execution_count": 193,
   "metadata": {},
   "outputs": [],
   "source": [
    "results_rf = cvModel_rf.transform(validation)"
   ]
  },
  {
   "cell_type": "code",
   "execution_count": 194,
   "metadata": {},
   "outputs": [
    {
     "data": {
      "text/plain": [
       "0.5948275862068966"
      ]
     },
     "execution_count": 194,
     "metadata": {},
     "output_type": "execute_result"
    }
   ],
   "source": [
    "BinaryClassificationEvaluator().evaluate(results_rf)"
   ]
  },
  {
   "cell_type": "code",
   "execution_count": 197,
   "metadata": {},
   "outputs": [
    {
     "name": "stdout",
     "output_type": "stream",
     "text": [
      "+-----+--------------------+-------------+-----------+----------+\n",
      "|label|            features|rawPrediction|probability|prediction|\n",
      "+-----+--------------------+-------------+-----------+----------+\n",
      "|  0.0|[0.19573316090964...|    [7.0,3.0]|  [0.7,0.3]|       0.0|\n",
      "|  0.0|[0.22557032056080...|    [4.0,6.0]|  [0.4,0.6]|       1.0|\n",
      "|  0.0|[0.23364802835202...|    [5.0,5.0]|  [0.5,0.5]|       0.0|\n",
      "|  0.0|[0.26539734766386...|    [3.0,7.0]|  [0.3,0.7]|       1.0|\n",
      "|  0.0|[0.31598235080808...|    [6.0,4.0]|  [0.6,0.4]|       0.0|\n",
      "|  0.0|[0.41871753030215...|    [5.0,5.0]|  [0.5,0.5]|       0.0|\n",
      "|  0.0|[0.53548454929185...|    [2.0,8.0]|  [0.2,0.8]|       1.0|\n",
      "|  0.0|[0.54729126350359...|    [4.0,6.0]|  [0.4,0.6]|       1.0|\n",
      "|  0.0|[0.68203217082430...|    [1.0,9.0]|  [0.1,0.9]|       1.0|\n",
      "|  0.0|[0.71403561033228...|    [5.0,5.0]|  [0.5,0.5]|       0.0|\n",
      "|  0.0|[0.88972861434289...|    [5.0,5.0]|  [0.5,0.5]|       0.0|\n",
      "|  0.0|[0.90484639519635...|    [6.0,4.0]|  [0.6,0.4]|       0.0|\n",
      "|  0.0|[1.30645196491433...|    [5.0,5.0]|  [0.5,0.5]|       0.0|\n",
      "|  0.0|[1.48943212301770...|    [5.0,5.0]|  [0.5,0.5]|       0.0|\n",
      "|  0.0|[1.54153358091305...|    [5.0,5.0]|  [0.5,0.5]|       0.0|\n",
      "|  0.0|[1.60097559015483...|    [4.0,6.0]|  [0.4,0.6]|       1.0|\n",
      "|  0.0|[1.73323971049576...|    [7.0,3.0]|  [0.7,0.3]|       0.0|\n",
      "|  0.0|[2.03661719756239...|    [2.0,8.0]|  [0.2,0.8]|       1.0|\n",
      "|  0.0|[2.08975580616282...|    [3.0,7.0]|  [0.3,0.7]|       1.0|\n",
      "|  0.0|[2.17550790131370...|    [5.0,5.0]|  [0.5,0.5]|       0.0|\n",
      "+-----+--------------------+-------------+-----------+----------+\n",
      "only showing top 20 rows\n",
      "\n"
     ]
    }
   ],
   "source": [
    "results_rf.show()"
   ]
  },
  {
   "cell_type": "code",
   "execution_count": 195,
   "metadata": {},
   "outputs": [
    {
     "data": {
      "text/plain": [
       "{Param(parent='RandomForestClassifier_d1e7ed7d5b57', name='cacheNodeIds', doc='If false, the algorithm will pass trees to executors to match instances with nodes. If true, the algorithm will cache node IDs for each instance. Caching can speed up training of deeper trees.'): False,\n",
       " Param(parent='RandomForestClassifier_d1e7ed7d5b57', name='checkpointInterval', doc='set checkpoint interval (>= 1) or disable checkpoint (-1). E.g. 10 means that the cache will get checkpointed every 10 iterations. Note: this setting will be ignored if the checkpoint directory is not set in the SparkContext'): 10,\n",
       " Param(parent='RandomForestClassifier_d1e7ed7d5b57', name='featureSubsetStrategy', doc='The number of features to consider for splits at each tree node. Supported options: auto, all, onethird, sqrt, log2, (0.0-1.0], [1-n].'): 'auto',\n",
       " Param(parent='RandomForestClassifier_d1e7ed7d5b57', name='featuresCol', doc='features column name'): 'features',\n",
       " Param(parent='RandomForestClassifier_d1e7ed7d5b57', name='impurity', doc='Criterion used for information gain calculation (case-insensitive). Supported options: entropy, gini'): 'entropy',\n",
       " Param(parent='RandomForestClassifier_d1e7ed7d5b57', name='labelCol', doc='label column name'): 'label',\n",
       " Param(parent='RandomForestClassifier_d1e7ed7d5b57', name='maxBins', doc='Max number of bins for discretizing continuous features.  Must be >=2 and >= number of categories for any categorical feature.'): 32,\n",
       " Param(parent='RandomForestClassifier_d1e7ed7d5b57', name='maxDepth', doc='Maximum depth of the tree. (>= 0) E.g., depth 0 means 1 leaf node; depth 1 means 1 internal node + 2 leaf nodes.'): 10,\n",
       " Param(parent='RandomForestClassifier_d1e7ed7d5b57', name='maxMemoryInMB', doc='Maximum memory in MB allocated to histogram aggregation.'): 256,\n",
       " Param(parent='RandomForestClassifier_d1e7ed7d5b57', name='minInfoGain', doc='Minimum information gain for a split to be considered at a tree node.'): 0.0,\n",
       " Param(parent='RandomForestClassifier_d1e7ed7d5b57', name='minInstancesPerNode', doc='Minimum number of instances each child must have after split.  If a split causes the left or right child to have fewer than minInstancesPerNode, the split will be discarded as invalid. Should be >= 1.'): 1,\n",
       " Param(parent='RandomForestClassifier_d1e7ed7d5b57', name='numTrees', doc='Number of trees to train (>= 1)'): 10,\n",
       " Param(parent='RandomForestClassifier_d1e7ed7d5b57', name='predictionCol', doc='prediction column name'): 'prediction',\n",
       " Param(parent='RandomForestClassifier_d1e7ed7d5b57', name='probabilityCol', doc='Column name for predicted class conditional probabilities. Note: Not all models output well-calibrated probability estimates! These probabilities should be treated as confidences, not precise probabilities'): 'probability',\n",
       " Param(parent='RandomForestClassifier_d1e7ed7d5b57', name='rawPredictionCol', doc='raw prediction (a.k.a. confidence) column name'): 'rawPrediction',\n",
       " Param(parent='RandomForestClassifier_d1e7ed7d5b57', name='seed', doc='random seed'): -6563426044115393007,\n",
       " Param(parent='RandomForestClassifier_d1e7ed7d5b57', name='subsamplingRate', doc='Fraction of the training data used for learning each decision tree, in range (0, 1].'): 1.0}"
      ]
     },
     "execution_count": 195,
     "metadata": {},
     "output_type": "execute_result"
    }
   ],
   "source": [
    "cvModel_rf.bestModel.extractParamMap()"
   ]
  },
  {
   "cell_type": "code",
   "execution_count": 170,
   "metadata": {},
   "outputs": [],
   "source": [
    "gbts = GBTClassifier()\n",
    "paramGrid = ParamGridBuilder() \\\n",
    "    .addGrid(gbts.maxIter,[3, 10, 20]) \\\n",
    "    .addGrid(gbts.maxDepth,[2, 4, 6, 8]) \\\n",
    "    .build()\n",
    "crossval_gbts = CrossValidator(estimator=gbts,\n",
    "                          estimatorParamMaps=paramGrid,\n",
    "                          evaluator=MulticlassClassificationEvaluator(),\n",
    "                          numFolds=3)\n",
    "cvModel_gbts = crossval_gbts.fit(stratified_train)\n",
    "gbts_avgMetrics = cvModel_gbts.avgMetrics"
   ]
  },
  {
   "cell_type": "code",
   "execution_count": 171,
   "metadata": {},
   "outputs": [
    {
     "data": {
      "text/plain": [
       "0.5277093596059114"
      ]
     },
     "execution_count": 171,
     "metadata": {},
     "output_type": "execute_result"
    }
   ],
   "source": [
    "results_gbts = cvModel_gbts.transform(validation)\n",
    "BinaryClassificationEvaluator().evaluate(results_gbts)"
   ]
  },
  {
   "cell_type": "code",
   "execution_count": 196,
   "metadata": {},
   "outputs": [
    {
     "data": {
      "text/plain": [
       "{Param(parent='GBTClassifier_a27448c13229', name='cacheNodeIds', doc='If false, the algorithm will pass trees to executors to match instances with nodes. If true, the algorithm will cache node IDs for each instance. Caching can speed up training of deeper trees.'): False,\n",
       " Param(parent='GBTClassifier_a27448c13229', name='checkpointInterval', doc='set checkpoint interval (>= 1) or disable checkpoint (-1). E.g. 10 means that the cache will get checkpointed every 10 iterations. Note: this setting will be ignored if the checkpoint directory is not set in the SparkContext'): 10,\n",
       " Param(parent='GBTClassifier_a27448c13229', name='featureSubsetStrategy', doc='The number of features to consider for splits at each tree node. Supported options: auto, all, onethird, sqrt, log2, (0.0-1.0], [1-n].'): 'all',\n",
       " Param(parent='GBTClassifier_a27448c13229', name='featuresCol', doc='features column name'): 'features',\n",
       " Param(parent='GBTClassifier_a27448c13229', name='labelCol', doc='label column name'): 'label',\n",
       " Param(parent='GBTClassifier_a27448c13229', name='lossType', doc='Loss function which GBT tries to minimize (case-insensitive). Supported options: logistic'): 'logistic',\n",
       " Param(parent='GBTClassifier_a27448c13229', name='maxBins', doc='Max number of bins for discretizing continuous features.  Must be >=2 and >= number of categories for any categorical feature.'): 32,\n",
       " Param(parent='GBTClassifier_a27448c13229', name='maxDepth', doc='Maximum depth of the tree. (>= 0) E.g., depth 0 means 1 leaf node; depth 1 means 1 internal node + 2 leaf nodes.'): 4,\n",
       " Param(parent='GBTClassifier_a27448c13229', name='maxIter', doc='maximum number of iterations (>= 0)'): 3,\n",
       " Param(parent='GBTClassifier_a27448c13229', name='maxMemoryInMB', doc='Maximum memory in MB allocated to histogram aggregation.'): 256,\n",
       " Param(parent='GBTClassifier_a27448c13229', name='minInfoGain', doc='Minimum information gain for a split to be considered at a tree node.'): 0.0,\n",
       " Param(parent='GBTClassifier_a27448c13229', name='minInstancesPerNode', doc='Minimum number of instances each child must have after split.  If a split causes the left or right child to have fewer than minInstancesPerNode, the split will be discarded as invalid. Should be >= 1.'): 1,\n",
       " Param(parent='GBTClassifier_a27448c13229', name='predictionCol', doc='prediction column name'): 'prediction',\n",
       " Param(parent='GBTClassifier_a27448c13229', name='seed', doc='random seed'): -7696972560398923536,\n",
       " Param(parent='GBTClassifier_a27448c13229', name='stepSize', doc='Step size (a.k.a. learning rate) in interval (0, 1] for shrinking the contribution of each estimator.'): 0.1,\n",
       " Param(parent='GBTClassifier_a27448c13229', name='subsamplingRate', doc='Fraction of the training data used for learning each decision tree, in range (0, 1].'): 1.0}"
      ]
     },
     "execution_count": 196,
     "metadata": {},
     "output_type": "execute_result"
    }
   ],
   "source": [
    "cvModel_gbts.bestModel.extractParamMap()"
   ]
  },
  {
   "cell_type": "markdown",
   "metadata": {},
   "source": [
    "# Final Steps\n",
    "Clean up your code, adding comments and renaming variables to make the code easier to read and maintain. Refer to the Spark Project Overview page and Data Scientist Capstone Project Rubric to make sure you are including all components of the capstone project and meet all expectations. Remember, this includes thorough documentation in a README file in a Github repository, as well as a web app or blog post."
   ]
  },
  {
   "cell_type": "code",
   "execution_count": null,
   "metadata": {},
   "outputs": [],
   "source": []
  }
 ],
 "metadata": {
  "kernelspec": {
   "display_name": "Python 3",
   "language": "python",
   "name": "python3"
  },
  "language_info": {
   "codemirror_mode": {
    "name": "ipython",
    "version": 3
   },
   "file_extension": ".py",
   "mimetype": "text/x-python",
   "name": "python",
   "nbconvert_exporter": "python",
   "pygments_lexer": "ipython3",
   "version": "3.7.0"
  }
 },
 "nbformat": 4,
 "nbformat_minor": 2
}
