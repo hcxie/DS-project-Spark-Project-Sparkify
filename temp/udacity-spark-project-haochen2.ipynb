{
 "cells": [
  {
   "cell_type": "code",
   "execution_count": 88,
   "metadata": {},
   "outputs": [],
   "source": [
    "from pyspark import SparkConf\n",
    "from pyspark.sql import SparkSession\n",
    "from pyspark.sql.functions import avg, col, concat, desc, explode, lit, min, max, split, udf, isnull\n",
    "from pyspark.ml.feature import OneHotEncoderEstimator\n",
    "from pyspark.ml.feature import CountVectorizer, IDF, Normalizer, PCA, RegexTokenizer, StandardScaler, StopWordsRemover, StringIndexer, VectorAssembler\n",
    "import datetime\n",
    "import seaborn as sns\n",
    "import pandas as pd\n",
    "import numpy as np\n",
    "import matplotlib.pyplot as plt\n",
    "from pyspark.ml.classification import LogisticRegression, RandomForestClassifier, GBTClassifier, DecisionTreeClassifier, NaiveBayes\n",
    "from pyspark.ml.evaluation import MulticlassClassificationEvaluator\n",
    "from pyspark.mllib.evaluation import MulticlassMetrics\n",
    "from pyspark.ml.tuning import CrossValidator, ParamGridBuilder"
   ]
  },
  {
   "cell_type": "code",
   "execution_count": 48,
   "metadata": {},
   "outputs": [],
   "source": [
    "from pyspark.mllib.evaluation import BinaryClassificationMetrics"
   ]
  },
  {
   "cell_type": "code",
   "execution_count": 2,
   "metadata": {},
   "outputs": [],
   "source": [
    "spark = SparkSession \\\n",
    "    .builder \\\n",
    "    .appName(\"Sparkify\") \\\n",
    "    .getOrCreate()\n",
    "path = \"medium-sparkify-event-data.json\"\n",
    "spark_df = spark.read.json(path)\n",
    "\n"
   ]
  },
  {
   "cell_type": "code",
   "execution_count": 3,
   "metadata": {},
   "outputs": [
    {
     "name": "stdout",
     "output_type": "stream",
     "text": [
      "+-----------------+---------+---------+------+-------------+--------+---------+-----+--------------------+------+--------+-------------+---------+------------------+------+-------------+--------------------+------+\n",
      "|           artist|     auth|firstName|gender|itemInSession|lastName|   length|level|            location|method|    page| registration|sessionId|              song|status|           ts|           userAgent|userId|\n",
      "+-----------------+---------+---------+------+-------------+--------+---------+-----+--------------------+------+--------+-------------+---------+------------------+------+-------------+--------------------+------+\n",
      "|    Martin Orford|Logged In|   Joseph|     M|           20| Morales|597.55057| free|  Corpus Christi, TX|   PUT|NextSong|1532063507000|      292|     Grand Designs|   200|1538352011000|\"Mozilla/5.0 (Mac...|   293|\n",
      "|John Brown's Body|Logged In|   Sawyer|     M|           74|  Larson|380.21179| free|Houston-The Woodl...|   PUT|NextSong|1538069638000|       97|             Bulls|   200|1538352025000|\"Mozilla/5.0 (Mac...|    98|\n",
      "|          Afroman|Logged In| Maverick|     M|          184|Santiago|202.37016| paid|Orlando-Kissimmee...|   PUT|NextSong|1535953455000|      178|Because I Got High|   200|1538352118000|\"Mozilla/5.0 (Mac...|   179|\n",
      "|             null|Logged In| Maverick|     M|          185|Santiago|     null| paid|Orlando-Kissimmee...|   PUT|  Logout|1535953455000|      178|              null|   307|1538352119000|\"Mozilla/5.0 (Mac...|   179|\n",
      "|       Lily Allen|Logged In|   Gianna|     F|           22|  Campos|194.53342| paid|          Mobile, AL|   PUT|NextSong|1535931018000|      245|Smile (Radio Edit)|   200|1538352124000|Mozilla/5.0 (Wind...|   246|\n",
      "+-----------------+---------+---------+------+-------------+--------+---------+-----+--------------------+------+--------+-------------+---------+------------------+------+-------------+--------------------+------+\n",
      "only showing top 5 rows\n",
      "\n"
     ]
    }
   ],
   "source": [
    "spark_df.show(5)"
   ]
  },
  {
   "cell_type": "markdown",
   "metadata": {},
   "source": [
    "## Clean and Transformation"
   ]
  },
  {
   "cell_type": "code",
   "execution_count": 4,
   "metadata": {},
   "outputs": [],
   "source": [
    "# remove empyt user ID and sessionID\n",
    "spark_df_clean=spark_df.filter(spark_df[\"userId\"]!=\"\")\n",
    "spark_df_clean=spark_df_clean.dropna(how=\"any\",subset=[\"userId\",'sessionId'])"
   ]
  },
  {
   "cell_type": "code",
   "execution_count": 5,
   "metadata": {},
   "outputs": [],
   "source": [
    "# convert ts to real time\n",
    "gen_time = udf(lambda x: datetime.datetime.fromtimestamp(x / 1000.0).strftime(\"%Y-%m-%d %H:%M:%S\"))\n",
    "spark_df_clean = spark_df_clean.withColumn(\"time\", gen_time(spark_df_clean['ts']))"
   ]
  },
  {
   "cell_type": "code",
   "execution_count": 6,
   "metadata": {},
   "outputs": [],
   "source": [
    "# get hour, weekday and day\n",
    "gen_hour = udf(lambda x: datetime.datetime.fromtimestamp(x / 1000.0).hour)\n",
    "spark_df_clean = spark_df_clean.withColumn(\"hour\", gen_hour(spark_df_clean['ts']))\n",
    "\n",
    "gen_weekday = udf(lambda x: datetime.datetime.fromtimestamp(x / 1000.0).strftime(\"%w\"))\n",
    "spark_df_clean = spark_df_clean.withColumn(\"weekday\", gen_weekday(spark_df_clean['ts']))\n",
    "\n",
    "gen_day = udf(lambda x: datetime.datetime.fromtimestamp(x / 1000.0).day)\n",
    "spark_df_clean = spark_df_clean.withColumn(\"day\", gen_day(spark_df_clean['ts']))"
   ]
  },
  {
   "cell_type": "code",
   "execution_count": 7,
   "metadata": {},
   "outputs": [],
   "source": [
    "# convert location to state\n",
    "# the location column contains the city name and the state name. This cell is used to remove the city and only keep the state name\n",
    "get_state=udf(lambda x:x[-2:])\n",
    "spark_df_clean = spark_df_clean.withColumn(\"location_state\", get_state(spark_df_clean['location']))"
   ]
  },
  {
   "cell_type": "code",
   "execution_count": 8,
   "metadata": {},
   "outputs": [],
   "source": [
    "# simplify userAgent\n",
    "# userAgent contains the system and software info of each customer. To simplify userAgent, I only kept the system info. for example, Macintosh, or Windows NT\n",
    "simp_useragent=udf(lambda x:\"\".join(x[x.index('(')+1:x.index(')')]))\n",
    "spark_df_clean= spark_df_clean.withColumn(\"sim_user_agent\", simp_useragent(spark_df_clean['userAgent']))"
   ]
  },
  {
   "cell_type": "code",
   "execution_count": 9,
   "metadata": {},
   "outputs": [],
   "source": [
    "# create a churn column, if a customer has cancel confirmation in his/her page column, the churn value will be 1 in all rows of this customer.\n",
    "get_cancel=udf(lambda x:1 if x=='Cancellation Confirmation' else 0)\n",
    "spark_df_clean=spark_df_clean.withColumn(\"Churn\",get_cancel(spark_df_clean['page']))\n",
    "\n",
    "churnlist=spark_df_clean.filter(spark_df_clean[\"Churn\"]==1).select('userId').dropDuplicates().collect()\n",
    "churn_list=[x['userId'] for x in churnlist]\n",
    "assign_churn=udf(lambda x:1 if x in churn_list else 0)\n",
    "spark_df_clean=spark_df_clean.withColumn(\"Churn\",assign_churn(spark_df_clean['userId']))"
   ]
  },
  {
   "cell_type": "code",
   "execution_count": 10,
   "metadata": {},
   "outputs": [],
   "source": [
    "# create a downgrade column, if a customer has cancel confirmation in his/her page column, the churn value will be 1 in all rows of this customer.\n",
    "get_downgrade=udf(lambda x:1 if x=='Downgrade' else 0)\n",
    "spark_df_clean=spark_df_clean.withColumn(\"Downgrade\",get_cancel(spark_df_clean['page']))\n",
    "\n",
    "downgradelist=spark_df_clean.filter(spark_df_clean[\"Downgrade\"]==1).select('userId').dropDuplicates().collect()\n",
    "downgrade_list=[x['userId'] for x in downgradelist]\n",
    "assign_downgrade=udf(lambda x:1 if x in downgrade_list else 0)\n",
    "spark_df_clean=spark_df_clean.withColumn(\"Downgrade\",assign_downgrade(spark_df_clean['userId']))"
   ]
  },
  {
   "cell_type": "markdown",
   "metadata": {},
   "source": [
    "## Data Exploration-Stage 1"
   ]
  },
  {
   "cell_type": "markdown",
   "metadata": {},
   "source": [
    "#### Gender distribution between churn user and normal user"
   ]
  },
  {
   "cell_type": "code",
   "execution_count": 11,
   "metadata": {},
   "outputs": [
    {
     "data": {
      "text/plain": [
       "<matplotlib.axes._subplots.AxesSubplot at 0x1b938cc4be0>"
      ]
     },
     "execution_count": 11,
     "metadata": {},
     "output_type": "execute_result"
    },
    {
     "data": {
      "image/png": "[encoded data removed]",
      "text/plain": [
       "<Figure size 432x288 with 1 Axes>"
      ]
     },
     "metadata": {
      "needs_background": "light"
     },
     "output_type": "display_data"
    }
   ],
   "source": [
    "df_gender=spark_df_clean.dropDuplicates([\"userId\"]).groupby([\"Churn\", \"gender\"]).count().sort(\"Churn\").toPandas()\n",
    "sns.barplot(x='Churn', y='count', hue='gender', data=df_gender)"
   ]
  },
  {
   "cell_type": "markdown",
   "metadata": {},
   "source": [
    "The data is imbalanced. We have more normal user than Churn user. We probably need to pay attention when creating the model"
   ]
  },
  {
   "cell_type": "markdown",
   "metadata": {},
   "source": [
    "#### level distribution between churn user and normal user"
   ]
  },
  {
   "cell_type": "code",
   "execution_count": 12,
   "metadata": {},
   "outputs": [
    {
     "data": {
      "text/plain": [
       "<matplotlib.axes._subplots.AxesSubplot at 0x1b93bdde4a8>"
      ]
     },
     "execution_count": 12,
     "metadata": {},
     "output_type": "execute_result"
    },
    {
     "data": {
      "image/png": "[encoded data removed]",
      "text/plain": [
       "<Figure size 432x288 with 1 Axes>"
      ]
     },
     "metadata": {
      "needs_background": "light"
     },
     "output_type": "display_data"
    }
   ],
   "source": [
    "df_level=spark_df_clean.dropDuplicates([\"userId\"]).groupby([\"Churn\", \"level\"]).count().sort(\"Churn\").toPandas()\n",
    "sns.barplot(x='Churn', y='count', hue='level', data=df_level)"
   ]
  },
  {
   "cell_type": "markdown",
   "metadata": {},
   "source": [
    "#### method distribution between churn user and normal user"
   ]
  },
  {
   "cell_type": "code",
   "execution_count": 13,
   "metadata": {},
   "outputs": [
    {
     "data": {
      "text/plain": [
       "<matplotlib.axes._subplots.AxesSubplot at 0x1b93be55400>"
      ]
     },
     "execution_count": 13,
     "metadata": {},
     "output_type": "execute_result"
    },
    {
     "data": {
      "image/png": "[encoded data removed]",
      "text/plain": [
       "<Figure size 432x288 with 1 Axes>"
      ]
     },
     "metadata": {
      "needs_background": "light"
     },
     "output_type": "display_data"
    }
   ],
   "source": [
    "df_method=spark_df_clean.dropDuplicates([\"userId\"]).groupby([\"Churn\", \"method\"]).count().sort(\"Churn\").toPandas()\n",
    "sns.barplot(x='Churn', y='count', hue='method', data=df_method)"
   ]
  },
  {
   "cell_type": "markdown",
   "metadata": {},
   "source": [
    "#### location(state) distribution between churn and normal user"
   ]
  },
  {
   "cell_type": "code",
   "execution_count": 14,
   "metadata": {},
   "outputs": [
    {
     "data": {
      "text/plain": [
       "<matplotlib.axes._subplots.AxesSubplot at 0x1b938cc49e8>"
      ]
     },
     "execution_count": 14,
     "metadata": {},
     "output_type": "execute_result"
    },
    {
     "data": {
      "image/png": "[encoded data removed]",
      "text/plain": [
       "<Figure size 1440x720 with 1 Axes>"
      ]
     },
     "metadata": {
      "needs_background": "light"
     },
     "output_type": "display_data"
    }
   ],
   "source": [
    "plt.figure(figsize=(20,10))\n",
    "df_state=spark_df_clean.dropDuplicates([\"userId\"]).groupby([\"Churn\", \"location_state\"]).count().sort(\"Churn\").toPandas()\n",
    "sns.barplot(x='location_state', y='count', hue='Churn', data=df_state)"
   ]
  },
  {
   "cell_type": "markdown",
   "metadata": {},
   "source": [
    "#### page distribution between churn user and normal user"
   ]
  },
  {
   "cell_type": "code",
   "execution_count": 15,
   "metadata": {},
   "outputs": [
    {
     "data": {
      "text/plain": [
       "<matplotlib.axes._subplots.AxesSubplot at 0x1b93c566c18>"
      ]
     },
     "execution_count": 15,
     "metadata": {},
     "output_type": "execute_result"
    },
    {
     "data": {
      "image/png": "[encoded data removed]",
      "text/plain": [
       "<Figure size 1440x720 with 1 Axes>"
      ]
     },
     "metadata": {
      "needs_background": "light"
     },
     "output_type": "display_data"
    }
   ],
   "source": [
    "df_page=spark_df_clean.groupby([\"Churn\", \"page\"]).count().sort(\"Churn\").toPandas()\n",
    "df_page=df_page[(df_page['page']!=\"Cancellation Confirmation\")&(df_page['page']!=\"Cancel\")]\n",
    "plt.figure(figsize=(20,10))\n",
    "sns.barplot(x='count', y='page', hue='Churn', data=df_page)"
   ]
  },
  {
   "cell_type": "markdown",
   "metadata": {},
   "source": [
    "#### Time(hours in a day, days in a week, days in a month) distribution for churn user and normal user"
   ]
  },
  {
   "cell_type": "code",
   "execution_count": 16,
   "metadata": {},
   "outputs": [
    {
     "data": {
      "text/plain": [
       "<matplotlib.axes._subplots.AxesSubplot at 0x1b93c1abe48>"
      ]
     },
     "execution_count": 16,
     "metadata": {},
     "output_type": "execute_result"
    },
    {
     "data": {
      "image/png": "[encoded data removed]",
      "text/plain": [
       "<Figure size 432x288 with 1 Axes>"
      ]
     },
     "metadata": {
      "needs_background": "light"
     },
     "output_type": "display_data"
    }
   ],
   "source": [
    "df_hour=spark_df_clean.filter(spark_df_clean['page']=='NextSong').groupby([\"Churn\", \"hour\"]).count().sort(\"Churn\").toPandas()\n",
    "sns.barplot(x='hour', y='count', hue='Churn', data=df_hour)"
   ]
  },
  {
   "cell_type": "code",
   "execution_count": 17,
   "metadata": {},
   "outputs": [
    {
     "data": {
      "text/plain": [
       "<matplotlib.axes._subplots.AxesSubplot at 0x1b93c9837b8>"
      ]
     },
     "execution_count": 17,
     "metadata": {},
     "output_type": "execute_result"
    },
    {
     "data": {
      "image/png": "[encoded data removed]",
      "text/plain": [
       "<Figure size 432x288 with 1 Axes>"
      ]
     },
     "metadata": {
      "needs_background": "light"
     },
     "output_type": "display_data"
    }
   ],
   "source": [
    "df_weekday=spark_df_clean.filter(spark_df_clean['page']=='NextSong').groupby([\"Churn\", \"weekday\"]).count().sort(\"Churn\").toPandas()\n",
    "sns.barplot(x='weekday', y='count', hue='Churn', data=df_weekday)"
   ]
  },
  {
   "cell_type": "code",
   "execution_count": 18,
   "metadata": {},
   "outputs": [
    {
     "data": {
      "text/plain": [
       "<matplotlib.axes._subplots.AxesSubplot at 0x1b93ca36a20>"
      ]
     },
     "execution_count": 18,
     "metadata": {},
     "output_type": "execute_result"
    },
    {
     "data": {
      "image/png": "[encoded data removed]",
      "text/plain": [
       "<Figure size 432x288 with 1 Axes>"
      ]
     },
     "metadata": {
      "needs_background": "light"
     },
     "output_type": "display_data"
    }
   ],
   "source": [
    "df_day=spark_df_clean.filter(spark_df_clean['page']=='NextSong').groupby([\"Churn\", \"day\"]).count().sort(\"day\").toPandas()\n",
    "df_day['day']=pd.to_numeric(df_day['day'])\n",
    "df_day=df_day.sort_values('day')\n",
    "sns.barplot(x='day', y='count', hue='Churn', data=df_day)"
   ]
  },
  {
   "cell_type": "markdown",
   "metadata": {},
   "source": [
    "based on the plots above, it seems that the original features in the data did not provide much insight between churn user and normal user. Therefore, I may need to create some new features from the current features to dig out more insight."
   ]
  },
  {
   "cell_type": "markdown",
   "metadata": {},
   "source": [
    "## Feature Engineering"
   ]
  },
  {
   "cell_type": "code",
   "execution_count": 19,
   "metadata": {},
   "outputs": [],
   "source": [
    "# get user ID\n",
    "user_list=spark_df_clean.select('userId').dropDuplicates().sort('userId').toPandas()['userId']\n",
    "user_list=list(user_list)"
   ]
  },
  {
   "cell_type": "code",
   "execution_count": 20,
   "metadata": {},
   "outputs": [],
   "source": [
    "#create feature dataframe\n",
    "feature_index=np.arange(0,len(user_list))\n",
    "feature_df=pd.DataFrame(index=feature_index)\n",
    "feature_df['userId']=user_list"
   ]
  },
  {
   "cell_type": "code",
   "execution_count": 21,
   "metadata": {},
   "outputs": [],
   "source": [
    "# add gender\n",
    "feature_df['gender']=spark_df_clean.select('userId','gender').dropDuplicates().sort('userId').toPandas()['gender']"
   ]
  },
  {
   "cell_type": "code",
   "execution_count": 22,
   "metadata": {},
   "outputs": [],
   "source": [
    "# Add level\n",
    "feature_df['level']=spark_df_clean.select('userId','level').dropDuplicates().sort('userId').toPandas()['level']"
   ]
  },
  {
   "cell_type": "code",
   "execution_count": 23,
   "metadata": {},
   "outputs": [],
   "source": [
    "# Add method\n",
    "feature_df['method']=spark_df_clean.select('userId','method').dropDuplicates().sort('userId').toPandas()['method']"
   ]
  },
  {
   "cell_type": "code",
   "execution_count": 24,
   "metadata": {},
   "outputs": [],
   "source": [
    "# Add location_state\n",
    "feature_df['location_state']=spark_df_clean.select('userId','location_state').dropDuplicates().sort('userId').toPandas()['location_state']"
   ]
  },
  {
   "cell_type": "code",
   "execution_count": 25,
   "metadata": {},
   "outputs": [],
   "source": [
    "# Add user_agent\n",
    "feature_df['user_agent']=spark_df_clean.select('userId','sim_user_agent').dropDuplicates().sort('userId').toPandas()['sim_user_agent']"
   ]
  },
  {
   "cell_type": "code",
   "execution_count": 26,
   "metadata": {},
   "outputs": [],
   "source": [
    "# page\n",
    "# first create a data frame to that contains the user ID\n",
    "temp_df_feature=spark_df_clean.select('userId').dropDuplicates().sort('userId').toPandas()"
   ]
  },
  {
   "cell_type": "code",
   "execution_count": 27,
   "metadata": {},
   "outputs": [],
   "source": [
    "# page\n",
    "# get page list and cout usage of total page\n",
    "# everytime a user click an option in page feature, a record will be generated. So all we need to do is to count how many records are there for each user\n",
    "page_list = [(row['page']) for row in spark_df_clean.select(\"page\").dropDuplicates().collect()]\n",
    "page_view_total_count=spark_df_clean.groupby(\"userId\").count().sort('userId').toPandas()"
   ]
  },
  {
   "cell_type": "code",
   "execution_count": 28,
   "metadata": {},
   "outputs": [],
   "source": [
    "removelist=['Cancel','Submit Downgrade','Downgrade','Cancellation Confirmation']\n",
    "for i in removelist:\n",
    "    page_list.remove(i)"
   ]
  },
  {
   "cell_type": "code",
   "execution_count": 29,
   "metadata": {},
   "outputs": [
    {
     "data": {
      "text/plain": [
       "['Thumbs Down',\n",
       " 'Home',\n",
       " 'Roll Advert',\n",
       " 'Logout',\n",
       " 'Save Settings',\n",
       " 'About',\n",
       " 'Settings',\n",
       " 'Add to Playlist',\n",
       " 'Add Friend',\n",
       " 'NextSong',\n",
       " 'Thumbs Up',\n",
       " 'Help',\n",
       " 'Upgrade',\n",
       " 'Error',\n",
       " 'Submit Upgrade']"
      ]
     },
     "execution_count": 29,
     "metadata": {},
     "output_type": "execute_result"
    }
   ],
   "source": [
    "page_list"
   ]
  },
  {
   "cell_type": "code",
   "execution_count": 30,
   "metadata": {},
   "outputs": [],
   "source": [
    "def features_merge(df1, df2):\n",
    "    \"\"\"\n",
    "    This function is used to merge the feature using left join\n",
    "    input: two data frame to be merged\n",
    "    output: merged dataframe\n",
    "    \"\"\"\n",
    "    result=pd.merge(df1,df2,on='userId',how='left')\n",
    "    return result"
   ]
  },
  {
   "cell_type": "code",
   "execution_count": 31,
   "metadata": {},
   "outputs": [],
   "source": [
    "temp_df_feature=features_merge(temp_df_feature,page_view_total_count)"
   ]
  },
  {
   "cell_type": "code",
   "execution_count": 32,
   "metadata": {},
   "outputs": [],
   "source": [
    "# create features relative to page\n",
    "# first I need to extract how many times each page feature was used for each user. And the total time interval between the user first click this feature and last click on this feature"
   ]
  },
  {
   "cell_type": "code",
   "execution_count": 33,
   "metadata": {},
   "outputs": [],
   "source": [
    "for page in page_list:\n",
    "    \n",
    "    col_name = \"count_\" + page.replace(\" \", \"_\")\n",
    "    col_name_2=\"totalts_\" + page.replace(\" \", \"\")\n",
    "    temp_page_count=spark_df_clean.filter(spark_df_clean['page']==page).groupby(\"userId\").count().sort('userId').toPandas()   \n",
    "    temp_page_mints=spark_df_clean.filter(spark_df_clean['page']==page).groupby(\"userId\").min('ts').sort('userId').toPandas()['min(ts)']\n",
    "    temp_page_maxts=spark_df_clean.filter(spark_df_clean['page']==page).groupby(\"userId\").max('ts').sort('userId').toPandas()['max(ts)']\n",
    "    temp_page_count[col_name]=temp_page_count['count']\n",
    "    temp_page_count.drop(columns=['count'],inplace=True)\n",
    "    temp_page_count[col_name_2]=temp_page_maxts-temp_page_mints\n",
    "    \n",
    "    temp_df_feature=features_merge(temp_df_feature,temp_page_count)\n",
    "    "
   ]
  },
  {
   "cell_type": "code",
   "execution_count": 34,
   "metadata": {},
   "outputs": [],
   "source": [
    "# next, I want to get the percentage of each page feature interaction in total page features interaction and the frequency of each page feature usage"
   ]
  },
  {
   "cell_type": "code",
   "execution_count": null,
   "metadata": {},
   "outputs": [],
   "source": [
    "# -----------------------------------------------------------------"
   ]
  },
  {
   "cell_type": "code",
   "execution_count": null,
   "metadata": {},
   "outputs": [],
   "source": [
    "#checkpoint"
   ]
  },
  {
   "cell_type": "code",
   "execution_count": null,
   "metadata": {},
   "outputs": [],
   "source": [
    "temp_df_feature.to_csv('temp_df_feature.csv',index=False)"
   ]
  },
  {
   "cell_type": "code",
   "execution_count": null,
   "metadata": {},
   "outputs": [],
   "source": [
    "feature_df.to_csv('feature_df.csv',index=False)"
   ]
  },
  {
   "cell_type": "code",
   "execution_count": null,
   "metadata": {},
   "outputs": [],
   "source": [
    "# relaod checkpoint"
   ]
  },
  {
   "cell_type": "code",
   "execution_count": null,
   "metadata": {},
   "outputs": [],
   "source": [
    "temp_df_feature=pd.read_csv('temp_df_feature.csv')\n",
    "feature_df=pd.read_csv('feature_df.csv')\n",
    "page_list=['Thumbs Down','Home','Roll Advert','Logout','Save Settings','About','Settings','Add to Playlist','Add Friend','NextSong','Thumbs Up','Help','Upgrade','Error','Submit Upgrade']"
   ]
  },
  {
   "cell_type": "code",
   "execution_count": null,
   "metadata": {},
   "outputs": [],
   "source": [
    "# -----------------------------------------------------------------"
   ]
  },
  {
   "cell_type": "code",
   "execution_count": 35,
   "metadata": {},
   "outputs": [],
   "source": [
    "\n",
    "for page in page_list:\n",
    "    col_name = \"count_\" + page.replace(\" \", \"_\")\n",
    "    col_name_2=\"totalts_\" + page.replace(\" \", \"\")\n",
    "    col_name_3=\"percentage_\" + page.replace(\" \", \"_\")\n",
    "    col_name_4=\"freq_\" + page.replace(\" \", \"_\")\n",
    "    temp_df_feature[col_name_3]=np.array(temp_df_feature[col_name])/(np.array(temp_df_feature['count'])+1)\n",
    "    temp_df_feature[col_name_4]=np.array(temp_df_feature[col_name])/(np.array(temp_df_feature[col_name_2])/1000/60/60+1)   # convert the unit to times/hour\n",
    "    temp_df_feature.drop(columns=[col_name,col_name_2],inplace=True)\n",
    "\n",
    "temp_df_feature.drop(columns=['count'],inplace=True)"
   ]
  },
  {
   "cell_type": "code",
   "execution_count": 36,
   "metadata": {},
   "outputs": [
    {
     "data": {
      "text/html": [
       "<div>\n",
       "<style scoped>\n",
       "    .dataframe tbody tr th:only-of-type {\n",
       "        vertical-align: middle;\n",
       "    }\n",
       "\n",
       "    .dataframe tbody tr th {\n",
       "        vertical-align: top;\n",
       "    }\n",
       "\n",
       "    .dataframe thead th {\n",
       "        text-align: right;\n",
       "    }\n",
       "</style>\n",
       "<table border=\"1\" class=\"dataframe\">\n",
       "  <thead>\n",
       "    <tr style=\"text-align: right;\">\n",
       "      <th></th>\n",
       "      <th>userId</th>\n",
       "      <th>percentage_Thumbs_Down</th>\n",
       "      <th>freq_Thumbs_Down</th>\n",
       "      <th>percentage_Home</th>\n",
       "      <th>freq_Home</th>\n",
       "      <th>percentage_Roll_Advert</th>\n",
       "      <th>freq_Roll_Advert</th>\n",
       "      <th>percentage_Logout</th>\n",
       "      <th>freq_Logout</th>\n",
       "      <th>percentage_Save_Settings</th>\n",
       "      <th>...</th>\n",
       "      <th>percentage_Thumbs_Up</th>\n",
       "      <th>freq_Thumbs_Up</th>\n",
       "      <th>percentage_Help</th>\n",
       "      <th>freq_Help</th>\n",
       "      <th>percentage_Upgrade</th>\n",
       "      <th>freq_Upgrade</th>\n",
       "      <th>percentage_Error</th>\n",
       "      <th>freq_Error</th>\n",
       "      <th>percentage_Submit_Upgrade</th>\n",
       "      <th>freq_Submit_Upgrade</th>\n",
       "    </tr>\n",
       "  </thead>\n",
       "  <tbody>\n",
       "    <tr>\n",
       "      <th>0</th>\n",
       "      <td>10</td>\n",
       "      <td>0.002358</td>\n",
       "      <td>1.000000</td>\n",
       "      <td>0.035377</td>\n",
       "      <td>0.616988</td>\n",
       "      <td>NaN</td>\n",
       "      <td>NaN</td>\n",
       "      <td>0.009434</td>\n",
       "      <td>0.187254</td>\n",
       "      <td>NaN</td>\n",
       "      <td>...</td>\n",
       "      <td>0.040094</td>\n",
       "      <td>0.749807</td>\n",
       "      <td>0.007075</td>\n",
       "      <td>0.289358</td>\n",
       "      <td>NaN</td>\n",
       "      <td>NaN</td>\n",
       "      <td>0.002358</td>\n",
       "      <td>1.000000</td>\n",
       "      <td>NaN</td>\n",
       "      <td>NaN</td>\n",
       "    </tr>\n",
       "    <tr>\n",
       "      <th>1</th>\n",
       "      <td>100</td>\n",
       "      <td>0.009250</td>\n",
       "      <td>0.026585</td>\n",
       "      <td>0.033750</td>\n",
       "      <td>0.092597</td>\n",
       "      <td>0.002000</td>\n",
       "      <td>0.006201</td>\n",
       "      <td>0.009000</td>\n",
       "      <td>0.024734</td>\n",
       "      <td>0.000500</td>\n",
       "      <td>...</td>\n",
       "      <td>0.035750</td>\n",
       "      <td>0.100280</td>\n",
       "      <td>0.004250</td>\n",
       "      <td>0.012358</td>\n",
       "      <td>0.000250</td>\n",
       "      <td>1.000000</td>\n",
       "      <td>0.000750</td>\n",
       "      <td>0.011893</td>\n",
       "      <td>0.000250</td>\n",
       "      <td>1.0</td>\n",
       "    </tr>\n",
       "    <tr>\n",
       "      <th>2</th>\n",
       "      <td>100001</td>\n",
       "      <td>0.007407</td>\n",
       "      <td>1.000000</td>\n",
       "      <td>0.029630</td>\n",
       "      <td>0.132314</td>\n",
       "      <td>0.096296</td>\n",
       "      <td>0.400137</td>\n",
       "      <td>0.014815</td>\n",
       "      <td>0.092002</td>\n",
       "      <td>NaN</td>\n",
       "      <td>...</td>\n",
       "      <td>0.037037</td>\n",
       "      <td>0.166512</td>\n",
       "      <td>0.007407</td>\n",
       "      <td>1.000000</td>\n",
       "      <td>0.014815</td>\n",
       "      <td>0.066240</td>\n",
       "      <td>NaN</td>\n",
       "      <td>NaN</td>\n",
       "      <td>NaN</td>\n",
       "      <td>NaN</td>\n",
       "    </tr>\n",
       "    <tr>\n",
       "      <th>3</th>\n",
       "      <td>100002</td>\n",
       "      <td>0.011236</td>\n",
       "      <td>0.543683</td>\n",
       "      <td>0.067416</td>\n",
       "      <td>0.021210</td>\n",
       "      <td>0.028090</td>\n",
       "      <td>0.008837</td>\n",
       "      <td>0.016854</td>\n",
       "      <td>0.009889</td>\n",
       "      <td>NaN</td>\n",
       "      <td>...</td>\n",
       "      <td>0.044944</td>\n",
       "      <td>0.014177</td>\n",
       "      <td>0.011236</td>\n",
       "      <td>0.003546</td>\n",
       "      <td>0.005618</td>\n",
       "      <td>1.000000</td>\n",
       "      <td>NaN</td>\n",
       "      <td>NaN</td>\n",
       "      <td>0.005618</td>\n",
       "      <td>1.0</td>\n",
       "    </tr>\n",
       "    <tr>\n",
       "      <th>4</th>\n",
       "      <td>100003</td>\n",
       "      <td>0.012077</td>\n",
       "      <td>0.014103</td>\n",
       "      <td>0.037440</td>\n",
       "      <td>0.043613</td>\n",
       "      <td>0.049517</td>\n",
       "      <td>0.057554</td>\n",
       "      <td>0.014493</td>\n",
       "      <td>0.016964</td>\n",
       "      <td>0.001208</td>\n",
       "      <td>...</td>\n",
       "      <td>0.019324</td>\n",
       "      <td>0.023507</td>\n",
       "      <td>0.003623</td>\n",
       "      <td>0.007346</td>\n",
       "      <td>0.002415</td>\n",
       "      <td>0.006898</td>\n",
       "      <td>0.001208</td>\n",
       "      <td>1.000000</td>\n",
       "      <td>0.001208</td>\n",
       "      <td>1.0</td>\n",
       "    </tr>\n",
       "  </tbody>\n",
       "</table>\n",
       "<p>5 rows × 31 columns</p>\n",
       "</div>"
      ],
      "text/plain": [
       "   userId  percentage_Thumbs_Down  freq_Thumbs_Down  percentage_Home  \\\n",
       "0      10                0.002358          1.000000         0.035377   \n",
       "1     100                0.009250          0.026585         0.033750   \n",
       "2  100001                0.007407          1.000000         0.029630   \n",
       "3  100002                0.011236          0.543683         0.067416   \n",
       "4  100003                0.012077          0.014103         0.037440   \n",
       "\n",
       "   freq_Home  percentage_Roll_Advert  freq_Roll_Advert  percentage_Logout  \\\n",
       "0   0.616988                     NaN               NaN           0.009434   \n",
       "1   0.092597                0.002000          0.006201           0.009000   \n",
       "2   0.132314                0.096296          0.400137           0.014815   \n",
       "3   0.021210                0.028090          0.008837           0.016854   \n",
       "4   0.043613                0.049517          0.057554           0.014493   \n",
       "\n",
       "   freq_Logout  percentage_Save_Settings         ...           \\\n",
       "0     0.187254                       NaN         ...            \n",
       "1     0.024734                  0.000500         ...            \n",
       "2     0.092002                       NaN         ...            \n",
       "3     0.009889                       NaN         ...            \n",
       "4     0.016964                  0.001208         ...            \n",
       "\n",
       "   percentage_Thumbs_Up  freq_Thumbs_Up  percentage_Help  freq_Help  \\\n",
       "0              0.040094        0.749807         0.007075   0.289358   \n",
       "1              0.035750        0.100280         0.004250   0.012358   \n",
       "2              0.037037        0.166512         0.007407   1.000000   \n",
       "3              0.044944        0.014177         0.011236   0.003546   \n",
       "4              0.019324        0.023507         0.003623   0.007346   \n",
       "\n",
       "   percentage_Upgrade  freq_Upgrade  percentage_Error  freq_Error  \\\n",
       "0                 NaN           NaN          0.002358    1.000000   \n",
       "1            0.000250      1.000000          0.000750    0.011893   \n",
       "2            0.014815      0.066240               NaN         NaN   \n",
       "3            0.005618      1.000000               NaN         NaN   \n",
       "4            0.002415      0.006898          0.001208    1.000000   \n",
       "\n",
       "   percentage_Submit_Upgrade  freq_Submit_Upgrade  \n",
       "0                        NaN                  NaN  \n",
       "1                   0.000250                  1.0  \n",
       "2                        NaN                  NaN  \n",
       "3                   0.005618                  1.0  \n",
       "4                   0.001208                  1.0  \n",
       "\n",
       "[5 rows x 31 columns]"
      ]
     },
     "execution_count": 36,
     "metadata": {},
     "output_type": "execute_result"
    }
   ],
   "source": [
    "temp_df_feature.head()"
   ]
  },
  {
   "cell_type": "code",
   "execution_count": 37,
   "metadata": {},
   "outputs": [],
   "source": [
    "feature_df=features_merge(feature_df,temp_df_feature)"
   ]
  },
  {
   "cell_type": "code",
   "execution_count": 38,
   "metadata": {},
   "outputs": [],
   "source": [
    "# numbers of days after reigstration\n",
    "user_max_time = spark_df_clean.groupby(\"userId\").max(\"ts\").sort(\"userId\").select('max(ts)').collect()\n",
    "user_reg_time = spark_df_clean.select(\"userId\", \"registration\").dropDuplicates().sort(\"userId\").select('registration').collect()\n",
    "number_of_days=(np.array(user_max_time)-np.array(user_reg_time))/(60*60*24*1000)\n",
    "feature_df['number of days']=number_of_days"
   ]
  },
  {
   "cell_type": "code",
   "execution_count": 39,
   "metadata": {},
   "outputs": [],
   "source": [
    "# add feature about sessions\n",
    "# first create a dataframe that contains the total listening time of each session for each user\n",
    "sessiontime_sparkdf=spark_df_clean.groupby(\"userId\",'sessionId').agg(((max(spark_df_clean['ts'])-min(spark_df_clean['ts']))/1000/60).alias('sessiontime')).sort('userId','sessionId')"
   ]
  },
  {
   "cell_type": "code",
   "execution_count": 40,
   "metadata": {},
   "outputs": [],
   "source": [
    "# the number of session each user listened\n",
    "feature_df['session_count']=np.array(sessiontime_sparkdf.groupby(\"userId\").count().sort('userId').select('count').collect())"
   ]
  },
  {
   "cell_type": "code",
   "execution_count": 41,
   "metadata": {},
   "outputs": [],
   "source": [
    "#count the max session time per user\n",
    "feature_df['max_sessiontime']=np.array(sessiontime_sparkdf.groupby(\"userId\").max('sessiontime').sort('userId').select('max(sessiontime)').collect())"
   ]
  },
  {
   "cell_type": "code",
   "execution_count": 42,
   "metadata": {},
   "outputs": [],
   "source": [
    "#count the min session time per user\n",
    "feature_df['min_sessiontime']=np.array(sessiontime_sparkdf.groupby(\"userId\").min('sessiontime').sort('userId').select('min(sessiontime)').collect())"
   ]
  },
  {
   "cell_type": "code",
   "execution_count": 43,
   "metadata": {},
   "outputs": [],
   "source": [
    "# count the avg session time per user\n",
    "feature_df['avg_sessiontime']=np.array(sessiontime_sparkdf.groupby(\"userId\").avg('sessiontime').sort('userId').select('avg(sessiontime)').collect())"
   ]
  },
  {
   "cell_type": "code",
   "execution_count": 44,
   "metadata": {},
   "outputs": [
    {
     "name": "stdout",
     "output_type": "stream",
     "text": [
      "+------+----+---------+------+-------------+--------+------+-----+--------+------+----+------------+---------+----+------+---+---------+------+\n",
      "|artist|auth|firstName|gender|itemInSession|lastName|length|level|location|method|page|registration|sessionId|song|status| ts|userAgent|userId|\n",
      "+------+----+---------+------+-------------+--------+------+-----+--------+------+----+------------+---------+----+------+---+---------+------+\n",
      "+------+----+---------+------+-------------+--------+------+-----+--------+------+----+------------+---------+----+------+---+---------+------+\n",
      "\n"
     ]
    }
   ],
   "source": [
    "# add features relative to song\n",
    "spark_df.createOrReplaceTempView(\"spark_df_table\")\n",
    "spark.sql('''\n",
    "            SELECT *\n",
    "            FROM spark_df_table\n",
    "            WHERE (song IS NULL OR artist IS NULL) AND page = 'NextSong'\n",
    "          '''\n",
    "         ).show()"
   ]
  },
  {
   "cell_type": "markdown",
   "metadata": {},
   "source": [
    "in the raw data, if page is not NextSong, than the artist and song value will be null. So if we want count the number of song feature for each user or session, we need to select rows with page value = NextSong"
   ]
  },
  {
   "cell_type": "code",
   "execution_count": 45,
   "metadata": {},
   "outputs": [],
   "source": [
    "song_sparkdf=spark_df_clean.filter(spark_df_clean['page']==\"NextSong\").groupby(\"userId\",'sessionId').count().sort('userId','sessionId')\n",
    "# add max number of songs per session\n",
    "feature_df['max_session_songs']=np.array(song_sparkdf.groupby(\"userId\").max('count').sort('userId').select('max(count)').collect())\n",
    "# add min number of songs per session\n",
    "feature_df['min_session_songs']=np.array(song_sparkdf.groupby(\"userId\").min('count').sort('userId').select('min(count)').collect())\n",
    "# add avg number of songs per session\n",
    "feature_df['avg_session_songs']=np.array(song_sparkdf.groupby(\"userId\").avg('count').sort('userId').select('avg(count)').collect())\n",
    "# add total number of songs per user listened\n",
    "feature_df['total_songs']=np.array(song_sparkdf.groupby(\"userId\").sum('count').sort('userId').select('sum(count)').collect())"
   ]
  },
  {
   "cell_type": "code",
   "execution_count": 46,
   "metadata": {},
   "outputs": [],
   "source": [
    "# add number of unique song each user played\n",
    "song_featuredf2=spark_df_clean.filter(spark_df_clean['page']==\"NextSong\").groupby(\"userId\",'song').count().sort(\"userId\")\n",
    "feature_df['diff_song_per_user']=np.array(song_featuredf2.groupby(\"userId\").count().select('count').collect())"
   ]
  },
  {
   "cell_type": "code",
   "execution_count": 47,
   "metadata": {},
   "outputs": [],
   "source": [
    "# the play times of the most frequently played song\n",
    "feature_df['most_played_song_number']=np.array(song_featuredf2.groupby(\"userId\").max('count').select('max(count)').collect())"
   ]
  },
  {
   "cell_type": "code",
   "execution_count": 48,
   "metadata": {},
   "outputs": [],
   "source": [
    "# feature about artists\n",
    "# the number of different artists each user listened\n",
    "feature_df['artist_number']=np.array(spark_df_clean.filter(spark_df_clean['page']==\"NextSong\").groupby(\"userId\",'artist').count().sort(\"userId\").groupby(\"userId\").count().select('count').collect())"
   ]
  },
  {
   "cell_type": "code",
   "execution_count": 49,
   "metadata": {},
   "outputs": [],
   "source": [
    "# add churn and downgrade column\n",
    "feature_df['churn']=np.array(spark_df_clean.dropDuplicates(['userId']).sort('userId').select('Churn').collect())\n",
    "feature_df['downgrade']=np.array(spark_df_clean.dropDuplicates(['userId']).sort('userId').select('downgrade').collect())"
   ]
  },
  {
   "cell_type": "code",
   "execution_count": 50,
   "metadata": {},
   "outputs": [
    {
     "data": {
      "text/html": [
       "<div>\n",
       "<style scoped>\n",
       "    .dataframe tbody tr th:only-of-type {\n",
       "        vertical-align: middle;\n",
       "    }\n",
       "\n",
       "    .dataframe tbody tr th {\n",
       "        vertical-align: top;\n",
       "    }\n",
       "\n",
       "    .dataframe thead th {\n",
       "        text-align: right;\n",
       "    }\n",
       "</style>\n",
       "<table border=\"1\" class=\"dataframe\">\n",
       "  <thead>\n",
       "    <tr style=\"text-align: right;\">\n",
       "      <th></th>\n",
       "      <th>userId</th>\n",
       "      <th>gender</th>\n",
       "      <th>level</th>\n",
       "      <th>method</th>\n",
       "      <th>location_state</th>\n",
       "      <th>user_agent</th>\n",
       "      <th>percentage_Thumbs_Down</th>\n",
       "      <th>freq_Thumbs_Down</th>\n",
       "      <th>percentage_Home</th>\n",
       "      <th>freq_Home</th>\n",
       "      <th>...</th>\n",
       "      <th>avg_sessiontime</th>\n",
       "      <th>max_session_songs</th>\n",
       "      <th>min_session_songs</th>\n",
       "      <th>avg_session_songs</th>\n",
       "      <th>total_songs</th>\n",
       "      <th>diff_song_per_user</th>\n",
       "      <th>most_played_song_number</th>\n",
       "      <th>artist_number</th>\n",
       "      <th>churn</th>\n",
       "      <th>downgrade</th>\n",
       "    </tr>\n",
       "  </thead>\n",
       "  <tbody>\n",
       "    <tr>\n",
       "      <th>0</th>\n",
       "      <td>10</td>\n",
       "      <td>M</td>\n",
       "      <td>paid</td>\n",
       "      <td>GET</td>\n",
       "      <td>MS</td>\n",
       "      <td>Macintosh; Intel Mac OS X 10_9_4</td>\n",
       "      <td>0.002358</td>\n",
       "      <td>1.000000</td>\n",
       "      <td>0.035377</td>\n",
       "      <td>0.616988</td>\n",
       "      <td>...</td>\n",
       "      <td>1502.400000</td>\n",
       "      <td>360</td>\n",
       "      <td>360</td>\n",
       "      <td>360.000000</td>\n",
       "      <td>360</td>\n",
       "      <td>350</td>\n",
       "      <td>4</td>\n",
       "      <td>306</td>\n",
       "      <td>1</td>\n",
       "      <td>1</td>\n",
       "    </tr>\n",
       "    <tr>\n",
       "      <th>1</th>\n",
       "      <td>100</td>\n",
       "      <td>M</td>\n",
       "      <td>paid</td>\n",
       "      <td>PUT</td>\n",
       "      <td>TX</td>\n",
       "      <td>Windows NT 6.1; WOW64; rv:30.0</td>\n",
       "      <td>0.009250</td>\n",
       "      <td>0.026585</td>\n",
       "      <td>0.033750</td>\n",
       "      <td>0.092597</td>\n",
       "      <td>...</td>\n",
       "      <td>350.477778</td>\n",
       "      <td>405</td>\n",
       "      <td>1</td>\n",
       "      <td>86.717949</td>\n",
       "      <td>3382</td>\n",
       "      <td>2835</td>\n",
       "      <td>21</td>\n",
       "      <td>1963</td>\n",
       "      <td>0</td>\n",
       "      <td>0</td>\n",
       "    </tr>\n",
       "    <tr>\n",
       "      <th>2</th>\n",
       "      <td>100001</td>\n",
       "      <td>F</td>\n",
       "      <td>free</td>\n",
       "      <td>GET</td>\n",
       "      <td>FL</td>\n",
       "      <td>Macintosh; Intel Mac OS X 10_6_8</td>\n",
       "      <td>0.007407</td>\n",
       "      <td>1.000000</td>\n",
       "      <td>0.029630</td>\n",
       "      <td>0.132314</td>\n",
       "      <td>...</td>\n",
       "      <td>137.661111</td>\n",
       "      <td>47</td>\n",
       "      <td>10</td>\n",
       "      <td>32.000000</td>\n",
       "      <td>96</td>\n",
       "      <td>96</td>\n",
       "      <td>1</td>\n",
       "      <td>93</td>\n",
       "      <td>1</td>\n",
       "      <td>1</td>\n",
       "    </tr>\n",
       "    <tr>\n",
       "      <th>3</th>\n",
       "      <td>100002</td>\n",
       "      <td>F</td>\n",
       "      <td>free</td>\n",
       "      <td>PUT</td>\n",
       "      <td>CA</td>\n",
       "      <td>Windows NT 6.1; WOW64; rv:32.0</td>\n",
       "      <td>0.011236</td>\n",
       "      <td>0.543683</td>\n",
       "      <td>0.067416</td>\n",
       "      <td>0.021210</td>\n",
       "      <td>...</td>\n",
       "      <td>150.262500</td>\n",
       "      <td>73</td>\n",
       "      <td>14</td>\n",
       "      <td>34.250000</td>\n",
       "      <td>137</td>\n",
       "      <td>136</td>\n",
       "      <td>2</td>\n",
       "      <td>128</td>\n",
       "      <td>0</td>\n",
       "      <td>0</td>\n",
       "    </tr>\n",
       "    <tr>\n",
       "      <th>4</th>\n",
       "      <td>100003</td>\n",
       "      <td>F</td>\n",
       "      <td>paid</td>\n",
       "      <td>PUT</td>\n",
       "      <td>FL</td>\n",
       "      <td>Windows NT 6.1; WOW64; rv:31.0</td>\n",
       "      <td>0.012077</td>\n",
       "      <td>0.014103</td>\n",
       "      <td>0.037440</td>\n",
       "      <td>0.043613</td>\n",
       "      <td>...</td>\n",
       "      <td>296.927778</td>\n",
       "      <td>319</td>\n",
       "      <td>2</td>\n",
       "      <td>82.625000</td>\n",
       "      <td>661</td>\n",
       "      <td>625</td>\n",
       "      <td>4</td>\n",
       "      <td>545</td>\n",
       "      <td>1</td>\n",
       "      <td>1</td>\n",
       "    </tr>\n",
       "  </tbody>\n",
       "</table>\n",
       "<p>5 rows × 50 columns</p>\n",
       "</div>"
      ],
      "text/plain": [
       "   userId gender level method location_state  \\\n",
       "0      10      M  paid    GET             MS   \n",
       "1     100      M  paid    PUT             TX   \n",
       "2  100001      F  free    GET             FL   \n",
       "3  100002      F  free    PUT             CA   \n",
       "4  100003      F  paid    PUT             FL   \n",
       "\n",
       "                         user_agent  percentage_Thumbs_Down  freq_Thumbs_Down  \\\n",
       "0  Macintosh; Intel Mac OS X 10_9_4                0.002358          1.000000   \n",
       "1    Windows NT 6.1; WOW64; rv:30.0                0.009250          0.026585   \n",
       "2  Macintosh; Intel Mac OS X 10_6_8                0.007407          1.000000   \n",
       "3    Windows NT 6.1; WOW64; rv:32.0                0.011236          0.543683   \n",
       "4    Windows NT 6.1; WOW64; rv:31.0                0.012077          0.014103   \n",
       "\n",
       "   percentage_Home  freq_Home    ...      avg_sessiontime  max_session_songs  \\\n",
       "0         0.035377   0.616988    ...          1502.400000                360   \n",
       "1         0.033750   0.092597    ...           350.477778                405   \n",
       "2         0.029630   0.132314    ...           137.661111                 47   \n",
       "3         0.067416   0.021210    ...           150.262500                 73   \n",
       "4         0.037440   0.043613    ...           296.927778                319   \n",
       "\n",
       "   min_session_songs  avg_session_songs  total_songs  diff_song_per_user  \\\n",
       "0                360         360.000000          360                 350   \n",
       "1                  1          86.717949         3382                2835   \n",
       "2                 10          32.000000           96                  96   \n",
       "3                 14          34.250000          137                 136   \n",
       "4                  2          82.625000          661                 625   \n",
       "\n",
       "   most_played_song_number  artist_number  churn  downgrade  \n",
       "0                        4            306      1          1  \n",
       "1                       21           1963      0          0  \n",
       "2                        1             93      1          1  \n",
       "3                        2            128      0          0  \n",
       "4                        4            545      1          1  \n",
       "\n",
       "[5 rows x 50 columns]"
      ]
     },
     "execution_count": 50,
     "metadata": {},
     "output_type": "execute_result"
    }
   ],
   "source": [
    "feature_df.head()"
   ]
  },
  {
   "cell_type": "code",
   "execution_count": 51,
   "metadata": {},
   "outputs": [],
   "source": [
    "feature_df=feature_df.fillna(0)"
   ]
  },
  {
   "cell_type": "code",
   "execution_count": 52,
   "metadata": {},
   "outputs": [],
   "source": [
    "feature_df.to_csv('feature_df.csv',index=False)"
   ]
  },
  {
   "cell_type": "code",
   "execution_count": 53,
   "metadata": {},
   "outputs": [
    {
     "name": "stdout",
     "output_type": "stream",
     "text": [
      "Index(['userId', 'gender', 'level', 'method', 'location_state', 'user_agent',\n",
      "       'percentage_Thumbs_Down', 'freq_Thumbs_Down', 'percentage_Home',\n",
      "       'freq_Home', 'percentage_Roll_Advert', 'freq_Roll_Advert',\n",
      "       'percentage_Logout', 'freq_Logout', 'percentage_Save_Settings',\n",
      "       'freq_Save_Settings', 'percentage_About', 'freq_About',\n",
      "       'percentage_Settings', 'freq_Settings', 'percentage_Add_to_Playlist',\n",
      "       'freq_Add_to_Playlist', 'percentage_Add_Friend', 'freq_Add_Friend',\n",
      "       'percentage_NextSong', 'freq_NextSong', 'percentage_Thumbs_Up',\n",
      "       'freq_Thumbs_Up', 'percentage_Help', 'freq_Help', 'percentage_Upgrade',\n",
      "       'freq_Upgrade', 'percentage_Error', 'freq_Error',\n",
      "       'percentage_Submit_Upgrade', 'freq_Submit_Upgrade', 'number of days',\n",
      "       'session_count', 'max_sessiontime', 'min_sessiontime',\n",
      "       'avg_sessiontime', 'max_session_songs', 'min_session_songs',\n",
      "       'avg_session_songs', 'total_songs', 'diff_song_per_user',\n",
      "       'most_played_song_number', 'artist_number', 'churn', 'downgrade'],\n",
      "      dtype='object')\n"
     ]
    }
   ],
   "source": [
    "print(feature_df.columns)"
   ]
  },
  {
   "cell_type": "markdown",
   "metadata": {},
   "source": [
    "## Data exploration-Stage 2"
   ]
  },
  {
   "cell_type": "code",
   "execution_count": 54,
   "metadata": {},
   "outputs": [],
   "source": [
    "total_feature_name=list(feature_df.columns)"
   ]
  },
  {
   "cell_type": "code",
   "execution_count": 55,
   "metadata": {},
   "outputs": [
    {
     "data": {
      "text/plain": [
       "churn\n",
       "0    AxesSubplot(0.125,0.125;0.775x0.755)\n",
       "1    AxesSubplot(0.125,0.125;0.775x0.755)\n",
       "Name: most_played_song_number, dtype: object"
      ]
     },
     "execution_count": 55,
     "metadata": {},
     "output_type": "execute_result"
    },
    {
     "data": {
      "image/png": "[encoded data removed]",
      "text/plain": [
       "<Figure size 432x288 with 1 Axes>"
      ]
     },
     "metadata": {
      "needs_background": "light"
     },
     "output_type": "display_data"
    }
   ],
   "source": [
    "feature_df.groupby(['churn'])['most_played_song_number'].hist(bins=50)"
   ]
  },
  {
   "cell_type": "code",
   "execution_count": 56,
   "metadata": {},
   "outputs": [
    {
     "name": "stderr",
     "output_type": "stream",
     "text": [
      "E:\\Users\\xbxb\\Anaconda3\\lib\\site-packages\\matplotlib\\figure.py:98: MatplotlibDeprecationWarning: \n",
      "Adding an axes using the same arguments as a previous axes currently reuses the earlier instance.  In a future version, a new instance will always be created and returned.  Meanwhile, this warning can be suppressed, and the future behavior ensured, by passing a unique label to each axes instance.\n",
      "  \"Adding an axes using the same arguments as a previous axes \"\n",
      "E:\\Users\\xbxb\\Anaconda3\\lib\\site-packages\\matplotlib\\figure.py:98: MatplotlibDeprecationWarning: \n",
      "Adding an axes using the same arguments as a previous axes currently reuses the earlier instance.  In a future version, a new instance will always be created and returned.  Meanwhile, this warning can be suppressed, and the future behavior ensured, by passing a unique label to each axes instance.\n",
      "  \"Adding an axes using the same arguments as a previous axes \"\n",
      "E:\\Users\\xbxb\\Anaconda3\\lib\\site-packages\\matplotlib\\figure.py:98: MatplotlibDeprecationWarning: \n",
      "Adding an axes using the same arguments as a previous axes currently reuses the earlier instance.  In a future version, a new instance will always be created and returned.  Meanwhile, this warning can be suppressed, and the future behavior ensured, by passing a unique label to each axes instance.\n",
      "  \"Adding an axes using the same arguments as a previous axes \"\n",
      "E:\\Users\\xbxb\\Anaconda3\\lib\\site-packages\\matplotlib\\figure.py:98: MatplotlibDeprecationWarning: \n",
      "Adding an axes using the same arguments as a previous axes currently reuses the earlier instance.  In a future version, a new instance will always be created and returned.  Meanwhile, this warning can be suppressed, and the future behavior ensured, by passing a unique label to each axes instance.\n",
      "  \"Adding an axes using the same arguments as a previous axes \"\n",
      "E:\\Users\\xbxb\\Anaconda3\\lib\\site-packages\\matplotlib\\figure.py:98: MatplotlibDeprecationWarning: \n",
      "Adding an axes using the same arguments as a previous axes currently reuses the earlier instance.  In a future version, a new instance will always be created and returned.  Meanwhile, this warning can be suppressed, and the future behavior ensured, by passing a unique label to each axes instance.\n",
      "  \"Adding an axes using the same arguments as a previous axes \"\n",
      "E:\\Users\\xbxb\\Anaconda3\\lib\\site-packages\\matplotlib\\figure.py:98: MatplotlibDeprecationWarning: \n",
      "Adding an axes using the same arguments as a previous axes currently reuses the earlier instance.  In a future version, a new instance will always be created and returned.  Meanwhile, this warning can be suppressed, and the future behavior ensured, by passing a unique label to each axes instance.\n",
      "  \"Adding an axes using the same arguments as a previous axes \"\n",
      "E:\\Users\\xbxb\\Anaconda3\\lib\\site-packages\\matplotlib\\figure.py:98: MatplotlibDeprecationWarning: \n",
      "Adding an axes using the same arguments as a previous axes currently reuses the earlier instance.  In a future version, a new instance will always be created and returned.  Meanwhile, this warning can be suppressed, and the future behavior ensured, by passing a unique label to each axes instance.\n",
      "  \"Adding an axes using the same arguments as a previous axes \"\n",
      "E:\\Users\\xbxb\\Anaconda3\\lib\\site-packages\\matplotlib\\figure.py:98: MatplotlibDeprecationWarning: \n",
      "Adding an axes using the same arguments as a previous axes currently reuses the earlier instance.  In a future version, a new instance will always be created and returned.  Meanwhile, this warning can be suppressed, and the future behavior ensured, by passing a unique label to each axes instance.\n",
      "  \"Adding an axes using the same arguments as a previous axes \"\n",
      "E:\\Users\\xbxb\\Anaconda3\\lib\\site-packages\\matplotlib\\figure.py:98: MatplotlibDeprecationWarning: \n",
      "Adding an axes using the same arguments as a previous axes currently reuses the earlier instance.  In a future version, a new instance will always be created and returned.  Meanwhile, this warning can be suppressed, and the future behavior ensured, by passing a unique label to each axes instance.\n",
      "  \"Adding an axes using the same arguments as a previous axes \"\n",
      "E:\\Users\\xbxb\\Anaconda3\\lib\\site-packages\\matplotlib\\figure.py:98: MatplotlibDeprecationWarning: \n",
      "Adding an axes using the same arguments as a previous axes currently reuses the earlier instance.  In a future version, a new instance will always be created and returned.  Meanwhile, this warning can be suppressed, and the future behavior ensured, by passing a unique label to each axes instance.\n",
      "  \"Adding an axes using the same arguments as a previous axes \"\n",
      "E:\\Users\\xbxb\\Anaconda3\\lib\\site-packages\\matplotlib\\figure.py:98: MatplotlibDeprecationWarning: \n",
      "Adding an axes using the same arguments as a previous axes currently reuses the earlier instance.  In a future version, a new instance will always be created and returned.  Meanwhile, this warning can be suppressed, and the future behavior ensured, by passing a unique label to each axes instance.\n",
      "  \"Adding an axes using the same arguments as a previous axes \"\n",
      "E:\\Users\\xbxb\\Anaconda3\\lib\\site-packages\\matplotlib\\figure.py:98: MatplotlibDeprecationWarning: \n",
      "Adding an axes using the same arguments as a previous axes currently reuses the earlier instance.  In a future version, a new instance will always be created and returned.  Meanwhile, this warning can be suppressed, and the future behavior ensured, by passing a unique label to each axes instance.\n",
      "  \"Adding an axes using the same arguments as a previous axes \"\n",
      "E:\\Users\\xbxb\\Anaconda3\\lib\\site-packages\\matplotlib\\figure.py:98: MatplotlibDeprecationWarning: \n",
      "Adding an axes using the same arguments as a previous axes currently reuses the earlier instance.  In a future version, a new instance will always be created and returned.  Meanwhile, this warning can be suppressed, and the future behavior ensured, by passing a unique label to each axes instance.\n",
      "  \"Adding an axes using the same arguments as a previous axes \"\n",
      "E:\\Users\\xbxb\\Anaconda3\\lib\\site-packages\\matplotlib\\figure.py:98: MatplotlibDeprecationWarning: \n",
      "Adding an axes using the same arguments as a previous axes currently reuses the earlier instance.  In a future version, a new instance will always be created and returned.  Meanwhile, this warning can be suppressed, and the future behavior ensured, by passing a unique label to each axes instance.\n",
      "  \"Adding an axes using the same arguments as a previous axes \"\n",
      "E:\\Users\\xbxb\\Anaconda3\\lib\\site-packages\\matplotlib\\figure.py:98: MatplotlibDeprecationWarning: \n",
      "Adding an axes using the same arguments as a previous axes currently reuses the earlier instance.  In a future version, a new instance will always be created and returned.  Meanwhile, this warning can be suppressed, and the future behavior ensured, by passing a unique label to each axes instance.\n",
      "  \"Adding an axes using the same arguments as a previous axes \"\n"
     ]
    },
    {
     "data": {
      "image/png": "[encoded data removed]",
      "text/plain": [
       "<Figure size 432x288 with 1 Axes>"
      ]
     },
     "metadata": {
      "needs_background": "light"
     },
     "output_type": "display_data"
    },
    {
     "data": {
      "image/png": "[encoded data removed]",
      "text/plain": [
       "<Figure size 1440x720 with 15 Axes>"
      ]
     },
     "metadata": {
      "needs_background": "light"
     },
     "output_type": "display_data"
    }
   ],
   "source": [
    "plt.subplot(441)\n",
    "plt.figure(figsize=(20,10))\n",
    "count=1\n",
    "for i in total_feature_name:\n",
    "    if \"percentage\" in i:\n",
    "        feature_df.groupby(['churn'])[i].hist(bins=25,ax=plt.subplot(4, 4, count))\n",
    "        plt.subplot(4, 4, count).set_title(i)\n",
    "        count=count+1\n",
    "plt.tight_layout()"
   ]
  },
  {
   "cell_type": "code",
   "execution_count": 57,
   "metadata": {},
   "outputs": [
    {
     "name": "stderr",
     "output_type": "stream",
     "text": [
      "E:\\Users\\xbxb\\Anaconda3\\lib\\site-packages\\matplotlib\\figure.py:98: MatplotlibDeprecationWarning: \n",
      "Adding an axes using the same arguments as a previous axes currently reuses the earlier instance.  In a future version, a new instance will always be created and returned.  Meanwhile, this warning can be suppressed, and the future behavior ensured, by passing a unique label to each axes instance.\n",
      "  \"Adding an axes using the same arguments as a previous axes \"\n",
      "E:\\Users\\xbxb\\Anaconda3\\lib\\site-packages\\matplotlib\\figure.py:98: MatplotlibDeprecationWarning: \n",
      "Adding an axes using the same arguments as a previous axes currently reuses the earlier instance.  In a future version, a new instance will always be created and returned.  Meanwhile, this warning can be suppressed, and the future behavior ensured, by passing a unique label to each axes instance.\n",
      "  \"Adding an axes using the same arguments as a previous axes \"\n",
      "E:\\Users\\xbxb\\Anaconda3\\lib\\site-packages\\matplotlib\\figure.py:98: MatplotlibDeprecationWarning: \n",
      "Adding an axes using the same arguments as a previous axes currently reuses the earlier instance.  In a future version, a new instance will always be created and returned.  Meanwhile, this warning can be suppressed, and the future behavior ensured, by passing a unique label to each axes instance.\n",
      "  \"Adding an axes using the same arguments as a previous axes \"\n",
      "E:\\Users\\xbxb\\Anaconda3\\lib\\site-packages\\matplotlib\\figure.py:98: MatplotlibDeprecationWarning: \n",
      "Adding an axes using the same arguments as a previous axes currently reuses the earlier instance.  In a future version, a new instance will always be created and returned.  Meanwhile, this warning can be suppressed, and the future behavior ensured, by passing a unique label to each axes instance.\n",
      "  \"Adding an axes using the same arguments as a previous axes \"\n",
      "E:\\Users\\xbxb\\Anaconda3\\lib\\site-packages\\matplotlib\\figure.py:98: MatplotlibDeprecationWarning: \n",
      "Adding an axes using the same arguments as a previous axes currently reuses the earlier instance.  In a future version, a new instance will always be created and returned.  Meanwhile, this warning can be suppressed, and the future behavior ensured, by passing a unique label to each axes instance.\n",
      "  \"Adding an axes using the same arguments as a previous axes \"\n",
      "E:\\Users\\xbxb\\Anaconda3\\lib\\site-packages\\matplotlib\\figure.py:98: MatplotlibDeprecationWarning: \n",
      "Adding an axes using the same arguments as a previous axes currently reuses the earlier instance.  In a future version, a new instance will always be created and returned.  Meanwhile, this warning can be suppressed, and the future behavior ensured, by passing a unique label to each axes instance.\n",
      "  \"Adding an axes using the same arguments as a previous axes \"\n",
      "E:\\Users\\xbxb\\Anaconda3\\lib\\site-packages\\matplotlib\\figure.py:98: MatplotlibDeprecationWarning: \n",
      "Adding an axes using the same arguments as a previous axes currently reuses the earlier instance.  In a future version, a new instance will always be created and returned.  Meanwhile, this warning can be suppressed, and the future behavior ensured, by passing a unique label to each axes instance.\n",
      "  \"Adding an axes using the same arguments as a previous axes \"\n",
      "E:\\Users\\xbxb\\Anaconda3\\lib\\site-packages\\matplotlib\\figure.py:98: MatplotlibDeprecationWarning: \n",
      "Adding an axes using the same arguments as a previous axes currently reuses the earlier instance.  In a future version, a new instance will always be created and returned.  Meanwhile, this warning can be suppressed, and the future behavior ensured, by passing a unique label to each axes instance.\n",
      "  \"Adding an axes using the same arguments as a previous axes \"\n",
      "E:\\Users\\xbxb\\Anaconda3\\lib\\site-packages\\matplotlib\\figure.py:98: MatplotlibDeprecationWarning: \n",
      "Adding an axes using the same arguments as a previous axes currently reuses the earlier instance.  In a future version, a new instance will always be created and returned.  Meanwhile, this warning can be suppressed, and the future behavior ensured, by passing a unique label to each axes instance.\n",
      "  \"Adding an axes using the same arguments as a previous axes \"\n",
      "E:\\Users\\xbxb\\Anaconda3\\lib\\site-packages\\matplotlib\\figure.py:98: MatplotlibDeprecationWarning: \n",
      "Adding an axes using the same arguments as a previous axes currently reuses the earlier instance.  In a future version, a new instance will always be created and returned.  Meanwhile, this warning can be suppressed, and the future behavior ensured, by passing a unique label to each axes instance.\n",
      "  \"Adding an axes using the same arguments as a previous axes \"\n",
      "E:\\Users\\xbxb\\Anaconda3\\lib\\site-packages\\matplotlib\\figure.py:98: MatplotlibDeprecationWarning: \n",
      "Adding an axes using the same arguments as a previous axes currently reuses the earlier instance.  In a future version, a new instance will always be created and returned.  Meanwhile, this warning can be suppressed, and the future behavior ensured, by passing a unique label to each axes instance.\n",
      "  \"Adding an axes using the same arguments as a previous axes \"\n",
      "E:\\Users\\xbxb\\Anaconda3\\lib\\site-packages\\matplotlib\\figure.py:98: MatplotlibDeprecationWarning: \n",
      "Adding an axes using the same arguments as a previous axes currently reuses the earlier instance.  In a future version, a new instance will always be created and returned.  Meanwhile, this warning can be suppressed, and the future behavior ensured, by passing a unique label to each axes instance.\n",
      "  \"Adding an axes using the same arguments as a previous axes \"\n",
      "E:\\Users\\xbxb\\Anaconda3\\lib\\site-packages\\matplotlib\\figure.py:98: MatplotlibDeprecationWarning: \n",
      "Adding an axes using the same arguments as a previous axes currently reuses the earlier instance.  In a future version, a new instance will always be created and returned.  Meanwhile, this warning can be suppressed, and the future behavior ensured, by passing a unique label to each axes instance.\n",
      "  \"Adding an axes using the same arguments as a previous axes \"\n",
      "E:\\Users\\xbxb\\Anaconda3\\lib\\site-packages\\matplotlib\\figure.py:98: MatplotlibDeprecationWarning: \n",
      "Adding an axes using the same arguments as a previous axes currently reuses the earlier instance.  In a future version, a new instance will always be created and returned.  Meanwhile, this warning can be suppressed, and the future behavior ensured, by passing a unique label to each axes instance.\n",
      "  \"Adding an axes using the same arguments as a previous axes \"\n",
      "E:\\Users\\xbxb\\Anaconda3\\lib\\site-packages\\matplotlib\\figure.py:98: MatplotlibDeprecationWarning: \n",
      "Adding an axes using the same arguments as a previous axes currently reuses the earlier instance.  In a future version, a new instance will always be created and returned.  Meanwhile, this warning can be suppressed, and the future behavior ensured, by passing a unique label to each axes instance.\n",
      "  \"Adding an axes using the same arguments as a previous axes \"\n"
     ]
    },
    {
     "data": {
      "image/png": "[encoded data removed]",
      "text/plain": [
       "<Figure size 432x288 with 1 Axes>"
      ]
     },
     "metadata": {
      "needs_background": "light"
     },
     "output_type": "display_data"
    },
    {
     "data": {
      "image/png": "[encoded data removed]",
      "text/plain": [
       "<Figure size 1440x720 with 15 Axes>"
      ]
     },
     "metadata": {
      "needs_background": "light"
     },
     "output_type": "display_data"
    }
   ],
   "source": [
    "plt.subplot(441)\n",
    "plt.figure(figsize=(20,10))\n",
    "count=1\n",
    "for i in total_feature_name:\n",
    "    if \"freq\" in i:\n",
    "        feature_df.groupby(['churn'])[i].hist(bins=50,ax=plt.subplot(4, 4, count))\n",
    "        plt.subplot(4, 4, count).set_title(i)\n",
    "        count=count+1\n",
    "plt.tight_layout()"
   ]
  },
  {
   "cell_type": "code",
   "execution_count": 58,
   "metadata": {},
   "outputs": [
    {
     "name": "stderr",
     "output_type": "stream",
     "text": [
      "E:\\Users\\xbxb\\Anaconda3\\lib\\site-packages\\matplotlib\\figure.py:98: MatplotlibDeprecationWarning: \n",
      "Adding an axes using the same arguments as a previous axes currently reuses the earlier instance.  In a future version, a new instance will always be created and returned.  Meanwhile, this warning can be suppressed, and the future behavior ensured, by passing a unique label to each axes instance.\n",
      "  \"Adding an axes using the same arguments as a previous axes \"\n",
      "E:\\Users\\xbxb\\Anaconda3\\lib\\site-packages\\matplotlib\\figure.py:98: MatplotlibDeprecationWarning: \n",
      "Adding an axes using the same arguments as a previous axes currently reuses the earlier instance.  In a future version, a new instance will always be created and returned.  Meanwhile, this warning can be suppressed, and the future behavior ensured, by passing a unique label to each axes instance.\n",
      "  \"Adding an axes using the same arguments as a previous axes \"\n",
      "E:\\Users\\xbxb\\Anaconda3\\lib\\site-packages\\matplotlib\\figure.py:98: MatplotlibDeprecationWarning: \n",
      "Adding an axes using the same arguments as a previous axes currently reuses the earlier instance.  In a future version, a new instance will always be created and returned.  Meanwhile, this warning can be suppressed, and the future behavior ensured, by passing a unique label to each axes instance.\n",
      "  \"Adding an axes using the same arguments as a previous axes \"\n",
      "E:\\Users\\xbxb\\Anaconda3\\lib\\site-packages\\matplotlib\\figure.py:98: MatplotlibDeprecationWarning: \n",
      "Adding an axes using the same arguments as a previous axes currently reuses the earlier instance.  In a future version, a new instance will always be created and returned.  Meanwhile, this warning can be suppressed, and the future behavior ensured, by passing a unique label to each axes instance.\n",
      "  \"Adding an axes using the same arguments as a previous axes \"\n",
      "E:\\Users\\xbxb\\Anaconda3\\lib\\site-packages\\matplotlib\\figure.py:98: MatplotlibDeprecationWarning: \n",
      "Adding an axes using the same arguments as a previous axes currently reuses the earlier instance.  In a future version, a new instance will always be created and returned.  Meanwhile, this warning can be suppressed, and the future behavior ensured, by passing a unique label to each axes instance.\n",
      "  \"Adding an axes using the same arguments as a previous axes \"\n",
      "E:\\Users\\xbxb\\Anaconda3\\lib\\site-packages\\matplotlib\\figure.py:98: MatplotlibDeprecationWarning: \n",
      "Adding an axes using the same arguments as a previous axes currently reuses the earlier instance.  In a future version, a new instance will always be created and returned.  Meanwhile, this warning can be suppressed, and the future behavior ensured, by passing a unique label to each axes instance.\n",
      "  \"Adding an axes using the same arguments as a previous axes \"\n",
      "E:\\Users\\xbxb\\Anaconda3\\lib\\site-packages\\matplotlib\\figure.py:98: MatplotlibDeprecationWarning: \n",
      "Adding an axes using the same arguments as a previous axes currently reuses the earlier instance.  In a future version, a new instance will always be created and returned.  Meanwhile, this warning can be suppressed, and the future behavior ensured, by passing a unique label to each axes instance.\n",
      "  \"Adding an axes using the same arguments as a previous axes \"\n",
      "E:\\Users\\xbxb\\Anaconda3\\lib\\site-packages\\matplotlib\\figure.py:98: MatplotlibDeprecationWarning: \n",
      "Adding an axes using the same arguments as a previous axes currently reuses the earlier instance.  In a future version, a new instance will always be created and returned.  Meanwhile, this warning can be suppressed, and the future behavior ensured, by passing a unique label to each axes instance.\n",
      "  \"Adding an axes using the same arguments as a previous axes \"\n",
      "E:\\Users\\xbxb\\Anaconda3\\lib\\site-packages\\matplotlib\\figure.py:98: MatplotlibDeprecationWarning: \n",
      "Adding an axes using the same arguments as a previous axes currently reuses the earlier instance.  In a future version, a new instance will always be created and returned.  Meanwhile, this warning can be suppressed, and the future behavior ensured, by passing a unique label to each axes instance.\n",
      "  \"Adding an axes using the same arguments as a previous axes \"\n",
      "E:\\Users\\xbxb\\Anaconda3\\lib\\site-packages\\matplotlib\\figure.py:98: MatplotlibDeprecationWarning: \n",
      "Adding an axes using the same arguments as a previous axes currently reuses the earlier instance.  In a future version, a new instance will always be created and returned.  Meanwhile, this warning can be suppressed, and the future behavior ensured, by passing a unique label to each axes instance.\n",
      "  \"Adding an axes using the same arguments as a previous axes \"\n",
      "E:\\Users\\xbxb\\Anaconda3\\lib\\site-packages\\matplotlib\\figure.py:98: MatplotlibDeprecationWarning: \n",
      "Adding an axes using the same arguments as a previous axes currently reuses the earlier instance.  In a future version, a new instance will always be created and returned.  Meanwhile, this warning can be suppressed, and the future behavior ensured, by passing a unique label to each axes instance.\n",
      "  \"Adding an axes using the same arguments as a previous axes \"\n",
      "E:\\Users\\xbxb\\Anaconda3\\lib\\site-packages\\matplotlib\\figure.py:98: MatplotlibDeprecationWarning: \n",
      "Adding an axes using the same arguments as a previous axes currently reuses the earlier instance.  In a future version, a new instance will always be created and returned.  Meanwhile, this warning can be suppressed, and the future behavior ensured, by passing a unique label to each axes instance.\n",
      "  \"Adding an axes using the same arguments as a previous axes \"\n",
      "E:\\Users\\xbxb\\Anaconda3\\lib\\site-packages\\matplotlib\\figure.py:98: MatplotlibDeprecationWarning: \n",
      "Adding an axes using the same arguments as a previous axes currently reuses the earlier instance.  In a future version, a new instance will always be created and returned.  Meanwhile, this warning can be suppressed, and the future behavior ensured, by passing a unique label to each axes instance.\n",
      "  \"Adding an axes using the same arguments as a previous axes \"\n"
     ]
    },
    {
     "data": {
      "image/png": "[encoded data removed]",
      "text/plain": [
       "<Figure size 1440x720 with 12 Axes>"
      ]
     },
     "metadata": {
      "needs_background": "light"
     },
     "output_type": "display_data"
    }
   ],
   "source": [
    "plt.figure(figsize=(20,10))\n",
    "plt.subplot(441)\n",
    "\n",
    "count=1\n",
    "for i in total_feature_name:\n",
    "    if (\"freq\" not in i) and (\"percentage\" not in i) and (i not in ['userId','churn','downgrade','gender', 'level', 'method', 'location_state', 'user_agent']) :\n",
    "        feature_df.groupby(['churn'])[i].hist(bins=50,ax=plt.subplot(4, 4, count))\n",
    "        plt.subplot(4, 4, count).set_title(i)\n",
    "        count=count+1\n",
    "plt.tight_layout()"
   ]
  },
  {
   "cell_type": "code",
   "execution_count": null,
   "metadata": {},
   "outputs": [],
   "source": []
  },
  {
   "cell_type": "markdown",
   "metadata": {},
   "source": [
    "# Modeling"
   ]
  },
  {
   "cell_type": "code",
   "execution_count": 5,
   "metadata": {},
   "outputs": [],
   "source": [
    "df= spark.read.csv('feature_df.csv', header=True)"
   ]
  },
  {
   "cell_type": "markdown",
   "metadata": {},
   "source": [
    "### cat featuring encoding"
   ]
  },
  {
   "cell_type": "code",
   "execution_count": 8,
   "metadata": {},
   "outputs": [],
   "source": [
    "stringIndexer1 = StringIndexer(inputCol=\"gender\", outputCol=\"gender_index\")\n",
    "model1 = stringIndexer1.fit(df)\n",
    "df = model1.transform(df)"
   ]
  },
  {
   "cell_type": "code",
   "execution_count": 9,
   "metadata": {},
   "outputs": [],
   "source": [
    "stringIndexer2 = StringIndexer(inputCol=\"level\", outputCol=\"level_index\")\n",
    "model2 = stringIndexer2.fit(df)\n",
    "df = model2.transform(df)"
   ]
  },
  {
   "cell_type": "code",
   "execution_count": 10,
   "metadata": {},
   "outputs": [],
   "source": [
    "stringIndexer3 = StringIndexer(inputCol=\"location_state\", outputCol=\"location_state_index\")\n",
    "model3 = stringIndexer3.fit(df)\n",
    "df = model3.transform(df)"
   ]
  },
  {
   "cell_type": "code",
   "execution_count": 12,
   "metadata": {},
   "outputs": [],
   "source": [
    "stringIndexer4 = StringIndexer(inputCol=\"user_agent\", outputCol=\"user_agent_index\")\n",
    "model4 = stringIndexer4.fit(df)\n",
    "df = model4.transform(df)"
   ]
  },
  {
   "cell_type": "code",
   "execution_count": 13,
   "metadata": {},
   "outputs": [],
   "source": [
    "encoder = OneHotEncoderEstimator(inputCols=[\"gender_index\",\"level_index\",\"location_state_index\",\"user_agent_index\"],\n",
    "                                outputCols=[\"gender_var\",\"level_var\",\"location_state_var\",\"user_agent_var\"])\n",
    "model = encoder.fit(df)\n",
    "df = model.transform(df)"
   ]
  },
  {
   "cell_type": "code",
   "execution_count": 14,
   "metadata": {},
   "outputs": [],
   "source": [
    "df=df.drop(\"gender\",\"level\",\"method\",\"location_state\",\"user_agent\",\"gender_index\",\"level_index\",\"location_state_index\",\"user_agent_index\")"
   ]
  },
  {
   "cell_type": "markdown",
   "metadata": {},
   "source": [
    "### Numerical features encoding"
   ]
  },
  {
   "cell_type": "code",
   "execution_count": 16,
   "metadata": {},
   "outputs": [],
   "source": [
    "# convert all string type numerical values to float\n",
    "num_features_list = df.columns[1:-4]\n",
    "for f in num_features_list:\n",
    "    f_name = f + \"_Num\"\n",
    "    df = df.withColumn(f_name, df[f].cast(\"float\"))\n",
    "    df = df.drop(f)"
   ]
  },
  {
   "cell_type": "markdown",
   "metadata": {},
   "source": [
    "### Vector Assembler"
   ]
  },
  {
   "cell_type": "code",
   "execution_count": 17,
   "metadata": {},
   "outputs": [],
   "source": [
    "assembler = VectorAssembler(inputCols=df.columns[1:-2], outputCol=\"Features\")\n",
    "data = assembler.transform(df)"
   ]
  },
  {
   "cell_type": "markdown",
   "metadata": {},
   "source": [
    "### Standard scaler"
   ]
  },
  {
   "cell_type": "code",
   "execution_count": 18,
   "metadata": {},
   "outputs": [],
   "source": [
    "scaler = StandardScaler(inputCol=\"Features\", outputCol=\"StdFeatures\", withStd=True)\n",
    "scalerModel = scaler.fit(data)\n",
    "data = scalerModel.transform(data)"
   ]
  },
  {
   "cell_type": "markdown",
   "metadata": {},
   "source": [
    "### PCA"
   ]
  },
  {
   "cell_type": "code",
   "execution_count": 19,
   "metadata": {},
   "outputs": [
    {
     "data": {
      "text/plain": [
       "[<matplotlib.lines.Line2D at 0x1fe18365358>]"
      ]
     },
     "execution_count": 19,
     "metadata": {},
     "output_type": "execute_result"
    },
    {
     "data": {
      "image/png": "[encoded data removed]",
      "text/plain": [
       "<Figure size 720x432 with 1 Axes>"
      ]
     },
     "metadata": {
      "needs_background": "light"
     },
     "output_type": "display_data"
    }
   ],
   "source": [
    "pca = PCA(k=100, inputCol=\"StdFeatures\", outputCol=\"pcaFeatures\")\n",
    "model = pca.fit(data)\n",
    "\n",
    "ind=np.arange(100)\n",
    "val=np.array(model.explainedVariance)\n",
    "cumvals=np.cumsum(val)\n",
    "plt.figure(figsize=(10, 6))\n",
    "ax = plt.subplot(111)\n",
    "ax.bar(ind, val)\n",
    "ax.plot(ind,cumvals)"
   ]
  },
  {
   "cell_type": "markdown",
   "metadata": {},
   "source": [
    "use 0.005 as threshold, any components that are less than 0.005 variance will not be used"
   ]
  },
  {
   "cell_type": "code",
   "execution_count": 26,
   "metadata": {},
   "outputs": [],
   "source": [
    "k=len(val[val>0.005])"
   ]
  },
  {
   "cell_type": "code",
   "execution_count": 27,
   "metadata": {},
   "outputs": [
    {
     "name": "stdout",
     "output_type": "stream",
     "text": [
      "86\n"
     ]
    }
   ],
   "source": [
    "print(k)"
   ]
  },
  {
   "cell_type": "code",
   "execution_count": 28,
   "metadata": {},
   "outputs": [],
   "source": [
    "pca = PCA(k=86, inputCol=\"StdFeatures\", outputCol=\"pcaFeatures\")\n",
    "model = pca.fit(data)\n",
    "data = model.transform(data)"
   ]
  },
  {
   "cell_type": "markdown",
   "metadata": {},
   "source": [
    "### split the data"
   ]
  },
  {
   "cell_type": "code",
   "execution_count": 29,
   "metadata": {},
   "outputs": [],
   "source": [
    "data_churn = data.select(data.churn_Num.alias(\"label\"), data.pcaFeatures.alias(\"features\"))\n",
    "data_down=data.select(data.downgrade_Num.alias(\"label\"), data.pcaFeatures.alias(\"features\"))"
   ]
  },
  {
   "cell_type": "code",
   "execution_count": 30,
   "metadata": {},
   "outputs": [
    {
     "name": "stdout",
     "output_type": "stream",
     "text": [
      "+-----+-----+\n",
      "|label|count|\n",
      "+-----+-----+\n",
      "|  1.0|   99|\n",
      "|  0.0|  349|\n",
      "+-----+-----+\n",
      "\n"
     ]
    }
   ],
   "source": [
    "data_churn.select('label').groupby('label').count().show()"
   ]
  },
  {
   "cell_type": "markdown",
   "metadata": {},
   "source": [
    "Appearently, the data is imbalanced."
   ]
  },
  {
   "cell_type": "code",
   "execution_count": 31,
   "metadata": {},
   "outputs": [],
   "source": [
    "train, validation = data_churn.randomSplit([0.8, 0.2], seed=110)"
   ]
  },
  {
   "cell_type": "code",
   "execution_count": 32,
   "metadata": {},
   "outputs": [
    {
     "name": "stdout",
     "output_type": "stream",
     "text": [
      "+-----+-----+\n",
      "|label|count|\n",
      "+-----+-----+\n",
      "|  1.0|   80|\n",
      "|  0.0|  279|\n",
      "+-----+-----+\n",
      "\n"
     ]
    }
   ],
   "source": [
    "train.select('label').groupby('label').count().show()"
   ]
  },
  {
   "cell_type": "markdown",
   "metadata": {},
   "source": [
    "###  handle unbalanced data"
   ]
  },
  {
   "cell_type": "code",
   "execution_count": 119,
   "metadata": {},
   "outputs": [
    {
     "name": "stdout",
     "output_type": "stream",
     "text": [
      "+-----+-----+\n",
      "|label|count|\n",
      "+-----+-----+\n",
      "|  1.0|  150|\n",
      "|  0.0|  566|\n",
      "+-----+-----+\n",
      "\n"
     ]
    }
   ],
   "source": [
    "# method 1, Augmentation\n",
    "oversampled_train=train.sample(True, 2.0, 110)\n",
    "oversampled_train.select('label').groupby('label').count().show()"
   ]
  },
  {
   "cell_type": "code",
   "execution_count": 153,
   "metadata": {},
   "outputs": [
    {
     "name": "stdout",
     "output_type": "stream",
     "text": [
      "+-----+-----+\n",
      "|label|count|\n",
      "+-----+-----+\n",
      "|  1.0|   80|\n",
      "|  0.0|   86|\n",
      "+-----+-----+\n",
      "\n"
     ]
    }
   ],
   "source": [
    "# method 2, under sample the popular class\n",
    "stratified_train = train.sampleBy('label', fractions={0: 0.3, 1: 1.0}).cache()\n",
    "stratified_train.select('label').groupby('label').count().show()"
   ]
  },
  {
   "cell_type": "code",
   "execution_count": 154,
   "metadata": {},
   "outputs": [
    {
     "name": "stdout",
     "output_type": "stream",
     "text": [
      "+-----+-----+\n",
      "|label|count|\n",
      "+-----+-----+\n",
      "|  1.0|  150|\n",
      "|  0.0|  171|\n",
      "+-----+-----+\n",
      "\n"
     ]
    }
   ],
   "source": [
    "# method 3,Augmentation then under sample the popular class\n",
    "stratified_train2 = oversampled_train.sampleBy('label', fractions={0: 0.3, 1: 1.0}).cache()\n",
    "stratified_train2.select('label').groupby('label').count().show()"
   ]
  },
  {
   "cell_type": "markdown",
   "metadata": {},
   "source": [
    "### Model training and cross validation"
   ]
  },
  {
   "cell_type": "code",
   "execution_count": 155,
   "metadata": {},
   "outputs": [],
   "source": [
    "# define the evaluation metrics\n",
    "def evaluate_result(results,model_name):\n",
    "    print(model_name,\" f1 score: \", MulticlassClassificationEvaluator(metricName=\"f1\").evaluate(results))\n",
    "    print(model_name,\" accuracy: \", MulticlassClassificationEvaluator(metricName=\"accuracy\").evaluate(results))\n",
    "    rdd=results.select('label','prediction').rdd.map(lambda line: (line[1], line[0]))\n",
    "    metrics = MulticlassMetrics(rdd)\n",
    "    print(\"label 1 recall: \", metrics.recall(1),\", precision: \",metrics.precision(1))\n",
    "    print(\"label 0 recall: \", metrics.recall(0),\", precision: \",metrics.precision(0))\n",
    "    pass"
   ]
  },
  {
   "cell_type": "code",
   "execution_count": 156,
   "metadata": {},
   "outputs": [],
   "source": [
    "def three_modelcomparison(train,validation):\n",
    "    lr =  LogisticRegression(featuresCol = 'features', labelCol = 'label')\n",
    "    paramGrid = ParamGridBuilder() \\\n",
    "        .addGrid(lr.elasticNetParam,[0.0, 0.1, 0.2]) \\\n",
    "        .addGrid(lr.regParam,[0.0, 0.1, 0.2, 0.3]) \\\n",
    "        .addGrid(lr.maxIter,[5, 10, 15, 20, 25]) \\\n",
    "        .build()\n",
    "\n",
    "    crossval_lr = CrossValidator(estimator=lr,\n",
    "                              estimatorParamMaps=paramGrid,\n",
    "                              evaluator=MulticlassClassificationEvaluator(metricName=\"f1\"),\n",
    "                              numFolds=10)\n",
    "    cvModel_lr = crossval_lr.fit(train)\n",
    "    lr_avgMetrics=cvModel_lr.avgMetrics\n",
    "    results_lr = cvModel_lr.transform(validation)\n",
    "    evaluate_result(results_lr,\"logistic regression\")\n",
    "    #--------------------------------------------------------\n",
    "    rf = RandomForestClassifier(featuresCol = 'features', labelCol = 'label',)\n",
    "    paramGrid = ParamGridBuilder() \\\n",
    "        .addGrid(rf.impurity,['entropy','gini']) \\\n",
    "        .addGrid(rf.maxDepth,[10, 15, 20, 25]) \\\n",
    "        .addGrid(rf.numTrees,[20, 30, 40]) \\\n",
    "        .build()\n",
    "    crossval_rf = CrossValidator(estimator=rf,\n",
    "                              estimatorParamMaps=paramGrid,\n",
    "                              evaluator=MulticlassClassificationEvaluator(metricName=\"f1\"),\n",
    "                              numFolds=10)\n",
    "    cvModel_rf= crossval_rf.fit(train)\n",
    "    rf_avgMetrics = cvModel_rf.avgMetrics\n",
    "    results_rf = cvModel_rf.transform(validation)\n",
    "    evaluate_result(results_rf,\"random forest\")\n",
    "    #-----------------------------------------------------------\n",
    "    gbts = GBTClassifier()\n",
    "    paramGrid = ParamGridBuilder() \\\n",
    "        .addGrid(gbts.maxIter,[20, 30, 40]) \\\n",
    "        .addGrid(gbts.maxDepth,[2, 4, 6, 8]) \\\n",
    "        .build()\n",
    "    crossval_gbts = CrossValidator(estimator=gbts,\n",
    "                              estimatorParamMaps=paramGrid,\n",
    "                              evaluator=MulticlassClassificationEvaluator(metricName=\"f1\"),\n",
    "                              numFolds=10)\n",
    "    cvModel_gbts = crossval_gbts.fit(train)\n",
    "    gbts_avgMetrics = cvModel_gbts.avgMetrics\n",
    "    results_gbts = cvModel_gbts.transform(validation)\n",
    "    evaluate_result(results_gbts,\"GBT\")\n",
    "    return cvModel_lr,cvModel_rf,cvModel_gbts"
   ]
  },
  {
   "cell_type": "code",
   "execution_count": 157,
   "metadata": {},
   "outputs": [
    {
     "name": "stdout",
     "output_type": "stream",
     "text": [
      "logistic regression  f1 score:  0.7060645347162201\n",
      "logistic regression  accuracy:  0.6853932584269663\n",
      "label 1 recall:  0.5263157894736842 , precision:  0.3448275862068966\n",
      "label 0 recall:  0.7285714285714285 , precision:  0.85\n",
      "random forest  f1 score:  0.7345800267148581\n",
      "random forest  accuracy:  0.797752808988764\n",
      "label 1 recall:  0.10526315789473684 , precision:  0.6666666666666666\n",
      "label 0 recall:  0.9857142857142858 , precision:  0.8023255813953488\n",
      "GBT  f1 score:  0.7513918412794816\n",
      "GBT  accuracy:  0.7752808988764045\n",
      "label 1 recall:  0.2631578947368421 , precision:  0.45454545454545453\n",
      "label 0 recall:  0.9142857142857143 , precision:  0.8205128205128205\n"
     ]
    }
   ],
   "source": [
    "lr_model1,rf_model1,gbts_model1=three_modelcomparison(oversampled_train,validation)"
   ]
  },
  {
   "cell_type": "code",
   "execution_count": 158,
   "metadata": {},
   "outputs": [
    {
     "name": "stdout",
     "output_type": "stream",
     "text": [
      "logistic regression  f1 score:  0.6110680614748805\n",
      "logistic regression  accuracy:  0.5730337078651685\n",
      "label 1 recall:  0.5263157894736842 , precision:  0.2564102564102564\n",
      "label 0 recall:  0.5857142857142857 , precision:  0.82\n",
      "random forest  f1 score:  0.5701278574196048\n",
      "random forest  accuracy:  0.5280898876404494\n",
      "label 1 recall:  0.42105263157894735 , precision:  0.20512820512820512\n",
      "label 0 recall:  0.5571428571428572 , precision:  0.78\n",
      "GBT  f1 score:  0.6181556073775706\n",
      "GBT  accuracy:  0.5842696629213483\n",
      "label 1 recall:  0.42105263157894735 , precision:  0.23529411764705882\n",
      "label 0 recall:  0.6285714285714286 , precision:  0.8\n"
     ]
    }
   ],
   "source": [
    "lr_model2,rf_model2,gbts_model2=three_modelcomparison(stratified_train,validation)"
   ]
  },
  {
   "cell_type": "code",
   "execution_count": 159,
   "metadata": {},
   "outputs": [
    {
     "name": "stdout",
     "output_type": "stream",
     "text": [
      "logistic regression  f1 score:  0.7083988764044944\n",
      "logistic regression  accuracy:  0.6853932584269663\n",
      "label 1 recall:  0.5789473684210527 , precision:  0.3548387096774194\n",
      "label 0 recall:  0.7142857142857143 , precision:  0.8620689655172413\n",
      "random forest  f1 score:  0.7018075996553605\n",
      "random forest  accuracy:  0.7078651685393258\n",
      "label 1 recall:  0.2631578947368421 , precision:  0.29411764705882354\n",
      "label 0 recall:  0.8285714285714286 , precision:  0.8055555555555556\n",
      "GBT  f1 score:  0.6909258164136933\n",
      "GBT  accuracy:  0.6741573033707865\n",
      "label 1 recall:  0.42105263157894735 , precision:  0.3076923076923077\n",
      "label 0 recall:  0.7428571428571429 , precision:  0.8253968253968254\n"
     ]
    }
   ],
   "source": [
    "lr_model3,rf_model3,gbts_model3=three_modelcomparison(stratified_train2,validation)"
   ]
  },
  {
   "cell_type": "code",
   "execution_count": null,
   "metadata": {},
   "outputs": [],
   "source": []
  },
  {
   "cell_type": "code",
   "execution_count": null,
   "metadata": {},
   "outputs": [],
   "source": []
  },
  {
   "cell_type": "code",
   "execution_count": null,
   "metadata": {},
   "outputs": [],
   "source": []
  },
  {
   "cell_type": "code",
   "execution_count": null,
   "metadata": {},
   "outputs": [],
   "source": []
  },
  {
   "cell_type": "code",
   "execution_count": 81,
   "metadata": {},
   "outputs": [],
   "source": [
    "lr =  LogisticRegression(featuresCol = 'features', labelCol = 'label')\n",
    "paramGrid = ParamGridBuilder() \\\n",
    "    .addGrid(lr.elasticNetParam,[0.0, 0.1, 0.2]) \\\n",
    "    .addGrid(lr.regParam,[0.0, 0.1, 0.2, 0.3]) \\\n",
    "    .addGrid(lr.maxIter,[5, 10, 15]) \\\n",
    "    .build()\n",
    "\n",
    "crossval_lr = CrossValidator(estimator=lr,\n",
    "                          estimatorParamMaps=paramGrid,\n",
    "                          evaluator=MulticlassClassificationEvaluator(metricName=\"f1\"),\n",
    "                          numFolds=3)\n",
    "cvModel_lr = crossval_lr.fit(oversampled_train)\n",
    "lr_avgMetrics=cvModel_lr.avgMetrics"
   ]
  },
  {
   "cell_type": "code",
   "execution_count": 82,
   "metadata": {},
   "outputs": [],
   "source": [
    "results_lr = cvModel_lr.transform(validation)"
   ]
  },
  {
   "cell_type": "code",
   "execution_count": 103,
   "metadata": {},
   "outputs": [
    {
     "name": "stdout",
     "output_type": "stream",
     "text": [
      "logistic regression  f1 score:  0.6968389655313392\n",
      "logistic regression  accuracy:  0.6741573033707865\n",
      "label 1 recall:  0.5263157894736842 , precision:  0.3333333333333333\n",
      "label 0 recall:  0.7142857142857143 , precision:  0.847457627118644\n"
     ]
    }
   ],
   "source": [
    "evaluate_result(results_lr,\"logistic regression\")"
   ]
  },
  {
   "cell_type": "code",
   "execution_count": null,
   "metadata": {},
   "outputs": [],
   "source": []
  },
  {
   "cell_type": "code",
   "execution_count": 113,
   "metadata": {},
   "outputs": [],
   "source": [
    "rf = RandomForestClassifier(featuresCol = 'features', labelCol = 'label',)\n",
    "paramGrid = ParamGridBuilder() \\\n",
    "    .addGrid(rf.impurity,['entropy']) \\\n",
    "    .addGrid(rf.maxDepth,[5, 10, 15]) \\\n",
    "    .addGrid(rf.numTrees,[10, 20, 30]) \\\n",
    "    .build()\n",
    "crossval_rf = CrossValidator(estimator=rf,\n",
    "                          estimatorParamMaps=paramGrid,\n",
    "                          evaluator=MulticlassClassificationEvaluator(metricName=\"f1\"),\n",
    "                          numFolds=3)"
   ]
  },
  {
   "cell_type": "code",
   "execution_count": 114,
   "metadata": {},
   "outputs": [
    {
     "name": "stdout",
     "output_type": "stream",
     "text": [
      "random forest  f1 score:  0.6985202578123768\n",
      "random forest  accuracy:  0.7640449438202247\n",
      "label 1 recall:  0.05263157894736842 , precision:  0.25\n",
      "label 0 recall:  0.9571428571428572 , precision:  0.788235294117647\n"
     ]
    }
   ],
   "source": [
    "cvModel_rf= crossval_rf.fit(oversampled_train)\n",
    "rf_avgMetrics = cvModel_rf.avgMetrics\n",
    "results_rf = cvModel_rf.transform(validation)\n",
    "evaluate_result(results_rf,\"random forest\")"
   ]
  },
  {
   "cell_type": "code",
   "execution_count": 115,
   "metadata": {},
   "outputs": [
    {
     "data": {
      "text/plain": [
       "{Param(parent='RandomForestClassifier_93146d79ba89', name='cacheNodeIds', doc='If false, the algorithm will pass trees to executors to match instances with nodes. If true, the algorithm will cache node IDs for each instance. Caching can speed up training of deeper trees.'): False,\n",
       " Param(parent='RandomForestClassifier_93146d79ba89', name='checkpointInterval', doc='set checkpoint interval (>= 1) or disable checkpoint (-1). E.g. 10 means that the cache will get checkpointed every 10 iterations. Note: this setting will be ignored if the checkpoint directory is not set in the SparkContext'): 10,\n",
       " Param(parent='RandomForestClassifier_93146d79ba89', name='featureSubsetStrategy', doc='The number of features to consider for splits at each tree node. Supported options: auto, all, onethird, sqrt, log2, (0.0-1.0], [1-n].'): 'auto',\n",
       " Param(parent='RandomForestClassifier_93146d79ba89', name='featuresCol', doc='features column name'): 'features',\n",
       " Param(parent='RandomForestClassifier_93146d79ba89', name='impurity', doc='Criterion used for information gain calculation (case-insensitive). Supported options: entropy, gini'): 'entropy',\n",
       " Param(parent='RandomForestClassifier_93146d79ba89', name='labelCol', doc='label column name'): 'label',\n",
       " Param(parent='RandomForestClassifier_93146d79ba89', name='maxBins', doc='Max number of bins for discretizing continuous features.  Must be >=2 and >= number of categories for any categorical feature.'): 32,\n",
       " Param(parent='RandomForestClassifier_93146d79ba89', name='maxDepth', doc='Maximum depth of the tree. (>= 0) E.g., depth 0 means 1 leaf node; depth 1 means 1 internal node + 2 leaf nodes.'): 15,\n",
       " Param(parent='RandomForestClassifier_93146d79ba89', name='maxMemoryInMB', doc='Maximum memory in MB allocated to histogram aggregation.'): 256,\n",
       " Param(parent='RandomForestClassifier_93146d79ba89', name='minInfoGain', doc='Minimum information gain for a split to be considered at a tree node.'): 0.0,\n",
       " Param(parent='RandomForestClassifier_93146d79ba89', name='minInstancesPerNode', doc='Minimum number of instances each child must have after split.  If a split causes the left or right child to have fewer than minInstancesPerNode, the split will be discarded as invalid. Should be >= 1.'): 1,\n",
       " Param(parent='RandomForestClassifier_93146d79ba89', name='numTrees', doc='Number of trees to train (>= 1)'): 20,\n",
       " Param(parent='RandomForestClassifier_93146d79ba89', name='predictionCol', doc='prediction column name'): 'prediction',\n",
       " Param(parent='RandomForestClassifier_93146d79ba89', name='probabilityCol', doc='Column name for predicted class conditional probabilities. Note: Not all models output well-calibrated probability estimates! These probabilities should be treated as confidences, not precise probabilities'): 'probability',\n",
       " Param(parent='RandomForestClassifier_93146d79ba89', name='rawPredictionCol', doc='raw prediction (a.k.a. confidence) column name'): 'rawPrediction',\n",
       " Param(parent='RandomForestClassifier_93146d79ba89', name='seed', doc='random seed'): -4083522575290001974,\n",
       " Param(parent='RandomForestClassifier_93146d79ba89', name='subsamplingRate', doc='Fraction of the training data used for learning each decision tree, in range (0, 1].'): 1.0}"
      ]
     },
     "execution_count": 115,
     "metadata": {},
     "output_type": "execute_result"
    }
   ],
   "source": [
    "cvModel_rf.bestModel.extractParamMap()"
   ]
  },
  {
   "cell_type": "code",
   "execution_count": null,
   "metadata": {},
   "outputs": [],
   "source": []
  },
  {
   "cell_type": "code",
   "execution_count": 117,
   "metadata": {},
   "outputs": [
    {
     "name": "stdout",
     "output_type": "stream",
     "text": [
      "GBT  f1 score:  0.7598376364189521\n",
      "GBT  accuracy:  0.7865168539325843\n",
      "label 1 recall:  0.2631578947368421 , precision:  0.5\n",
      "label 0 recall:  0.9285714285714286 , precision:  0.8227848101265823\n"
     ]
    }
   ],
   "source": [
    "gbts = GBTClassifier()\n",
    "paramGrid = ParamGridBuilder() \\\n",
    "    .addGrid(gbts.maxIter,[3, 10, 20]) \\\n",
    "    .addGrid(gbts.maxDepth,[2, 4, 6, 8]) \\\n",
    "    .build()\n",
    "crossval_gbts = CrossValidator(estimator=gbts,\n",
    "                          estimatorParamMaps=paramGrid,\n",
    "                          evaluator=MulticlassClassificationEvaluator(metricName=\"f1\"),\n",
    "                          numFolds=3)\n",
    "cvModel_gbts = crossval_gbts.fit(oversampled_train)\n",
    "gbts_avgMetrics = cvModel_gbts.avgMetrics\n",
    "results_gbts = cvModel_gbts.transform(validation)\n",
    "evaluate_result(results_gbts,\"GBT\")"
   ]
  },
  {
   "cell_type": "code",
   "execution_count": null,
   "metadata": {},
   "outputs": [],
   "source": []
  }
 ],
 "metadata": {
  "kernelspec": {
   "display_name": "Python 3",
   "language": "python",
   "name": "python3"
  },
  "language_info": {
   "codemirror_mode": {
    "name": "ipython",
    "version": 3
   },
   "file_extension": ".py",
   "mimetype": "text/x-python",
   "name": "python",
   "nbconvert_exporter": "python",
   "pygments_lexer": "ipython3",
   "version": "3.7.0"
  }
 },
 "nbformat": 4,
 "nbformat_minor": 1
}
